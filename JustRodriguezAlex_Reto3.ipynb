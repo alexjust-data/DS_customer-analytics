{
 "cells": [
  {
   "cell_type": "markdown",
   "metadata": {},
   "source": [
    "### Importing Libraries"
   ]
  },
  {
   "cell_type": "code",
   "execution_count": 1,
   "metadata": {},
   "outputs": [],
   "source": [
    "import pandas as pd\n",
    "import numpy as np\n",
    "import matplotlib.pyplot as plt\n",
    "import seaborn as sns\n",
    "import warnings\n",
    "warnings.filterwarnings(\"ignore\")\n"
   ]
  },
  {
   "cell_type": "markdown",
   "metadata": {},
   "source": [
    "### Activity 1: Exploratory data analysis\n",
    "\n",
    "a) Explora el dataset. ¿Cuántas muestras tiene el dataset? ¿Tiene algún null? ¿Ves algo interesante a primera vista?"
   ]
  },
  {
   "cell_type": "code",
   "execution_count": 2,
   "metadata": {},
   "outputs": [
    {
     "data": {
      "text/html": [
       "<div>\n",
       "<style scoped>\n",
       "    .dataframe tbody tr th:only-of-type {\n",
       "        vertical-align: middle;\n",
       "    }\n",
       "\n",
       "    .dataframe tbody tr th {\n",
       "        vertical-align: top;\n",
       "    }\n",
       "\n",
       "    .dataframe thead th {\n",
       "        text-align: right;\n",
       "    }\n",
       "</style>\n",
       "<table border=\"1\" class=\"dataframe\">\n",
       "  <thead>\n",
       "    <tr style=\"text-align: right;\">\n",
       "      <th></th>\n",
       "      <th>0</th>\n",
       "      <th>1</th>\n",
       "      <th>2</th>\n",
       "      <th>3</th>\n",
       "      <th>4</th>\n",
       "    </tr>\n",
       "  </thead>\n",
       "  <tbody>\n",
       "    <tr>\n",
       "      <th>ClientID</th>\n",
       "      <td>4WKQSBB</td>\n",
       "      <td>CP5S02H</td>\n",
       "      <td>2YKDILJ</td>\n",
       "      <td>2S9E81J</td>\n",
       "      <td>BHDYVFT</td>\n",
       "    </tr>\n",
       "    <tr>\n",
       "      <th>JoinDate</th>\n",
       "      <td>1/2/2019</td>\n",
       "      <td>1/6/2019</td>\n",
       "      <td>1/6/2013</td>\n",
       "      <td>1/8/2019</td>\n",
       "      <td>1/8/2019</td>\n",
       "    </tr>\n",
       "    <tr>\n",
       "      <th>Gender</th>\n",
       "      <td>F</td>\n",
       "      <td>F</td>\n",
       "      <td>M</td>\n",
       "      <td>M</td>\n",
       "      <td>M</td>\n",
       "    </tr>\n",
       "    <tr>\n",
       "      <th>Married</th>\n",
       "      <td>M</td>\n",
       "      <td>M</td>\n",
       "      <td>U</td>\n",
       "      <td>M</td>\n",
       "      <td>M</td>\n",
       "    </tr>\n",
       "    <tr>\n",
       "      <th>Birth</th>\n",
       "      <td>1987</td>\n",
       "      <td>1981</td>\n",
       "      <td>1991</td>\n",
       "      <td>1990</td>\n",
       "      <td>1990</td>\n",
       "    </tr>\n",
       "    <tr>\n",
       "      <th>MarvelFavoriteCharacter</th>\n",
       "      <td>MJ</td>\n",
       "      <td>Spider-Man</td>\n",
       "      <td>Iron Man</td>\n",
       "      <td>MJ</td>\n",
       "      <td>Iron Man</td>\n",
       "    </tr>\n",
       "    <tr>\n",
       "      <th>Occupation</th>\n",
       "      <td>politicians</td>\n",
       "      <td>politicians</td>\n",
       "      <td>hotel/restaurant</td>\n",
       "      <td>shopkeepers</td>\n",
       "      <td>politicians</td>\n",
       "    </tr>\n",
       "    <tr>\n",
       "      <th>Iron Man</th>\n",
       "      <td>4</td>\n",
       "      <td>-1</td>\n",
       "      <td>10</td>\n",
       "      <td>10</td>\n",
       "      <td>10</td>\n",
       "    </tr>\n",
       "    <tr>\n",
       "      <th>The Incredible Hulk</th>\n",
       "      <td>2</td>\n",
       "      <td>9</td>\n",
       "      <td>-1</td>\n",
       "      <td>5</td>\n",
       "      <td>2</td>\n",
       "    </tr>\n",
       "    <tr>\n",
       "      <th>Iron Man 2</th>\n",
       "      <td>10</td>\n",
       "      <td>0</td>\n",
       "      <td>10</td>\n",
       "      <td>7</td>\n",
       "      <td>10</td>\n",
       "    </tr>\n",
       "    <tr>\n",
       "      <th>Thor</th>\n",
       "      <td>0</td>\n",
       "      <td>10</td>\n",
       "      <td>-1</td>\n",
       "      <td>-1</td>\n",
       "      <td>2</td>\n",
       "    </tr>\n",
       "    <tr>\n",
       "      <th>Captain America: The First Avenger</th>\n",
       "      <td>6</td>\n",
       "      <td>-1</td>\n",
       "      <td>-1</td>\n",
       "      <td>-1</td>\n",
       "      <td>4</td>\n",
       "    </tr>\n",
       "    <tr>\n",
       "      <th>The Avengers</th>\n",
       "      <td>0</td>\n",
       "      <td>-1</td>\n",
       "      <td>4</td>\n",
       "      <td>0</td>\n",
       "      <td>1</td>\n",
       "    </tr>\n",
       "    <tr>\n",
       "      <th>Iron Man 3</th>\n",
       "      <td>2</td>\n",
       "      <td>1</td>\n",
       "      <td>10</td>\n",
       "      <td>-1</td>\n",
       "      <td>10</td>\n",
       "    </tr>\n",
       "    <tr>\n",
       "      <th>Thor: The Dark World</th>\n",
       "      <td>9</td>\n",
       "      <td>10</td>\n",
       "      <td>-1</td>\n",
       "      <td>9</td>\n",
       "      <td>0</td>\n",
       "    </tr>\n",
       "    <tr>\n",
       "      <th>Captain America: The Winter Soldier</th>\n",
       "      <td>-1</td>\n",
       "      <td>10</td>\n",
       "      <td>-1</td>\n",
       "      <td>10</td>\n",
       "      <td>1</td>\n",
       "    </tr>\n",
       "    <tr>\n",
       "      <th>Guardians of Galaxy</th>\n",
       "      <td>6</td>\n",
       "      <td>2</td>\n",
       "      <td>4</td>\n",
       "      <td>6</td>\n",
       "      <td>2</td>\n",
       "    </tr>\n",
       "    <tr>\n",
       "      <th>Avengers: Age of Ultron</th>\n",
       "      <td>8</td>\n",
       "      <td>-1</td>\n",
       "      <td>1</td>\n",
       "      <td>2</td>\n",
       "      <td>-1</td>\n",
       "    </tr>\n",
       "    <tr>\n",
       "      <th>Ant-Man</th>\n",
       "      <td>-1</td>\n",
       "      <td>6</td>\n",
       "      <td>2</td>\n",
       "      <td>-1</td>\n",
       "      <td>5</td>\n",
       "    </tr>\n",
       "    <tr>\n",
       "      <th>Captain America: Civil War</th>\n",
       "      <td>4</td>\n",
       "      <td>9</td>\n",
       "      <td>3</td>\n",
       "      <td>3</td>\n",
       "      <td>8</td>\n",
       "    </tr>\n",
       "    <tr>\n",
       "      <th>Doctor Strange</th>\n",
       "      <td>3</td>\n",
       "      <td>0</td>\n",
       "      <td>0</td>\n",
       "      <td>2</td>\n",
       "      <td>3</td>\n",
       "    </tr>\n",
       "    <tr>\n",
       "      <th>Guardians of Galaxy 2</th>\n",
       "      <td>9</td>\n",
       "      <td>5</td>\n",
       "      <td>9</td>\n",
       "      <td>3</td>\n",
       "      <td>8</td>\n",
       "    </tr>\n",
       "    <tr>\n",
       "      <th>Spider-Man: Homecoming</th>\n",
       "      <td>10</td>\n",
       "      <td>10</td>\n",
       "      <td>-1</td>\n",
       "      <td>10</td>\n",
       "      <td>3</td>\n",
       "    </tr>\n",
       "    <tr>\n",
       "      <th>Thor: Ragnarok</th>\n",
       "      <td>2</td>\n",
       "      <td>1</td>\n",
       "      <td>-1</td>\n",
       "      <td>5</td>\n",
       "      <td>-1</td>\n",
       "    </tr>\n",
       "    <tr>\n",
       "      <th>Black Panther</th>\n",
       "      <td>4</td>\n",
       "      <td>9</td>\n",
       "      <td>9</td>\n",
       "      <td>0</td>\n",
       "      <td>-1</td>\n",
       "    </tr>\n",
       "    <tr>\n",
       "      <th>Avengers: Infinity War</th>\n",
       "      <td>8</td>\n",
       "      <td>4</td>\n",
       "      <td>2</td>\n",
       "      <td>9</td>\n",
       "      <td>8</td>\n",
       "    </tr>\n",
       "    <tr>\n",
       "      <th>Ant-Man and the Wasp</th>\n",
       "      <td>9</td>\n",
       "      <td>-1</td>\n",
       "      <td>7</td>\n",
       "      <td>4</td>\n",
       "      <td>-1</td>\n",
       "    </tr>\n",
       "    <tr>\n",
       "      <th>Captain Marvel</th>\n",
       "      <td>9</td>\n",
       "      <td>9</td>\n",
       "      <td>4</td>\n",
       "      <td>-1</td>\n",
       "      <td>8</td>\n",
       "    </tr>\n",
       "    <tr>\n",
       "      <th>Avengers: Endgame</th>\n",
       "      <td>-1</td>\n",
       "      <td>9</td>\n",
       "      <td>8</td>\n",
       "      <td>9</td>\n",
       "      <td>2</td>\n",
       "    </tr>\n",
       "    <tr>\n",
       "      <th>Spider-Man: Far From Home</th>\n",
       "      <td>10</td>\n",
       "      <td>10</td>\n",
       "      <td>6</td>\n",
       "      <td>10</td>\n",
       "      <td>2</td>\n",
       "    </tr>\n",
       "    <tr>\n",
       "      <th>Black Widow</th>\n",
       "      <td>8</td>\n",
       "      <td>9</td>\n",
       "      <td>-1</td>\n",
       "      <td>-1</td>\n",
       "      <td>4</td>\n",
       "    </tr>\n",
       "    <tr>\n",
       "      <th>Shang-Chi and the Legend of the Ten Rings</th>\n",
       "      <td>10</td>\n",
       "      <td>10</td>\n",
       "      <td>4</td>\n",
       "      <td>9</td>\n",
       "      <td>1</td>\n",
       "    </tr>\n",
       "    <tr>\n",
       "      <th>Eternals</th>\n",
       "      <td>1</td>\n",
       "      <td>1</td>\n",
       "      <td>-1</td>\n",
       "      <td>-1</td>\n",
       "      <td>9</td>\n",
       "    </tr>\n",
       "    <tr>\n",
       "      <th>Spider-Man: No Way Home</th>\n",
       "      <td>10</td>\n",
       "      <td>10</td>\n",
       "      <td>2</td>\n",
       "      <td>10</td>\n",
       "      <td>7</td>\n",
       "    </tr>\n",
       "  </tbody>\n",
       "</table>\n",
       "</div>"
      ],
      "text/plain": [
       "                                                     0            1  \\\n",
       "ClientID                                       4WKQSBB      CP5S02H   \n",
       "JoinDate                                      1/2/2019     1/6/2019   \n",
       "Gender                                               F            F   \n",
       "Married                                              M            M   \n",
       "Birth                                             1987         1981   \n",
       "MarvelFavoriteCharacter                             MJ   Spider-Man   \n",
       "Occupation                                 politicians  politicians   \n",
       "Iron Man                                             4           -1   \n",
       "The Incredible Hulk                                  2            9   \n",
       "Iron Man 2                                          10            0   \n",
       "Thor                                                 0           10   \n",
       "Captain America: The First Avenger                   6           -1   \n",
       "The Avengers                                         0           -1   \n",
       "Iron Man 3                                           2            1   \n",
       "Thor: The Dark World                                 9           10   \n",
       "Captain America: The Winter Soldier                 -1           10   \n",
       "Guardians of Galaxy                                  6            2   \n",
       "Avengers: Age of Ultron                              8           -1   \n",
       "Ant-Man                                             -1            6   \n",
       "Captain America: Civil War                           4            9   \n",
       "Doctor Strange                                       3            0   \n",
       "Guardians of Galaxy 2                                9            5   \n",
       "Spider-Man: Homecoming                              10           10   \n",
       "Thor: Ragnarok                                       2            1   \n",
       "Black Panther                                        4            9   \n",
       "Avengers: Infinity War                               8            4   \n",
       "Ant-Man and the Wasp                                 9           -1   \n",
       "Captain Marvel                                       9            9   \n",
       "Avengers: Endgame                                   -1            9   \n",
       "Spider-Man: Far From Home                           10           10   \n",
       "Black Widow                                          8            9   \n",
       "Shang-Chi and the Legend of the Ten Rings           10           10   \n",
       "Eternals                                             1            1   \n",
       "Spider-Man: No Way Home                             10           10   \n",
       "\n",
       "                                                          2            3  \\\n",
       "ClientID                                            2YKDILJ      2S9E81J   \n",
       "JoinDate                                           1/6/2013     1/8/2019   \n",
       "Gender                                                    M            M   \n",
       "Married                                                   U            M   \n",
       "Birth                                                  1991         1990   \n",
       "MarvelFavoriteCharacter                            Iron Man           MJ   \n",
       "Occupation                                 hotel/restaurant  shopkeepers   \n",
       "Iron Man                                                 10           10   \n",
       "The Incredible Hulk                                      -1            5   \n",
       "Iron Man 2                                               10            7   \n",
       "Thor                                                     -1           -1   \n",
       "Captain America: The First Avenger                       -1           -1   \n",
       "The Avengers                                              4            0   \n",
       "Iron Man 3                                               10           -1   \n",
       "Thor: The Dark World                                     -1            9   \n",
       "Captain America: The Winter Soldier                      -1           10   \n",
       "Guardians of Galaxy                                       4            6   \n",
       "Avengers: Age of Ultron                                   1            2   \n",
       "Ant-Man                                                   2           -1   \n",
       "Captain America: Civil War                                3            3   \n",
       "Doctor Strange                                            0            2   \n",
       "Guardians of Galaxy 2                                     9            3   \n",
       "Spider-Man: Homecoming                                   -1           10   \n",
       "Thor: Ragnarok                                           -1            5   \n",
       "Black Panther                                             9            0   \n",
       "Avengers: Infinity War                                    2            9   \n",
       "Ant-Man and the Wasp                                      7            4   \n",
       "Captain Marvel                                            4           -1   \n",
       "Avengers: Endgame                                         8            9   \n",
       "Spider-Man: Far From Home                                 6           10   \n",
       "Black Widow                                              -1           -1   \n",
       "Shang-Chi and the Legend of the Ten Rings                 4            9   \n",
       "Eternals                                                 -1           -1   \n",
       "Spider-Man: No Way Home                                   2           10   \n",
       "\n",
       "                                                     4  \n",
       "ClientID                                       BHDYVFT  \n",
       "JoinDate                                      1/8/2019  \n",
       "Gender                                               M  \n",
       "Married                                              M  \n",
       "Birth                                             1990  \n",
       "MarvelFavoriteCharacter                       Iron Man  \n",
       "Occupation                                 politicians  \n",
       "Iron Man                                            10  \n",
       "The Incredible Hulk                                  2  \n",
       "Iron Man 2                                          10  \n",
       "Thor                                                 2  \n",
       "Captain America: The First Avenger                   4  \n",
       "The Avengers                                         1  \n",
       "Iron Man 3                                          10  \n",
       "Thor: The Dark World                                 0  \n",
       "Captain America: The Winter Soldier                  1  \n",
       "Guardians of Galaxy                                  2  \n",
       "Avengers: Age of Ultron                             -1  \n",
       "Ant-Man                                              5  \n",
       "Captain America: Civil War                           8  \n",
       "Doctor Strange                                       3  \n",
       "Guardians of Galaxy 2                                8  \n",
       "Spider-Man: Homecoming                               3  \n",
       "Thor: Ragnarok                                      -1  \n",
       "Black Panther                                       -1  \n",
       "Avengers: Infinity War                               8  \n",
       "Ant-Man and the Wasp                                -1  \n",
       "Captain Marvel                                       8  \n",
       "Avengers: Endgame                                    2  \n",
       "Spider-Man: Far From Home                            2  \n",
       "Black Widow                                          4  \n",
       "Shang-Chi and the Legend of the Ten Rings            1  \n",
       "Eternals                                             9  \n",
       "Spider-Man: No Way Home                              7  "
      ]
     },
     "execution_count": 2,
     "metadata": {},
     "output_type": "execute_result"
    }
   ],
   "source": [
    "# Loading the dataset\n",
    "df = pd.read_csv('data/ADC_data_r3_2024.csv')\n",
    "df.head(5).T"
   ]
  },
  {
   "cell_type": "markdown",
   "metadata": {},
   "source": []
  },
  {
   "cell_type": "code",
   "execution_count": 3,
   "metadata": {},
   "outputs": [
    {
     "name": "stdout",
     "output_type": "stream",
     "text": [
      "Dimension of data (29128, 34)\n",
      "Number of samples: 29128\n",
      "Number of variables: 34 \n",
      "\n",
      "<class 'pandas.core.frame.DataFrame'>\n",
      "RangeIndex: 29128 entries, 0 to 29127\n",
      "Data columns (total 34 columns):\n",
      " #   Column                                     Non-Null Count  Dtype \n",
      "---  ------                                     --------------  ----- \n",
      " 0   ClientID                                   29128 non-null  object\n",
      " 1   JoinDate                                   29128 non-null  object\n",
      " 2   Gender                                     29128 non-null  object\n",
      " 3   Married                                    29128 non-null  object\n",
      " 4   Birth                                      29128 non-null  int64 \n",
      " 5   MarvelFavoriteCharacter                    29128 non-null  object\n",
      " 6   Occupation                                 29128 non-null  object\n",
      " 7   Iron Man                                   29128 non-null  int64 \n",
      " 8   The Incredible Hulk                        29128 non-null  int64 \n",
      " 9   Iron Man 2                                 29128 non-null  int64 \n",
      " 10  Thor                                       29128 non-null  int64 \n",
      " 11  Captain America: The First Avenger         29128 non-null  int64 \n",
      " 12  The Avengers                               29128 non-null  int64 \n",
      " 13  Iron Man 3                                 29128 non-null  int64 \n",
      " 14  Thor: The Dark World                       29128 non-null  int64 \n",
      " 15  Captain America: The Winter Soldier        29128 non-null  int64 \n",
      " 16  Guardians of Galaxy                        29128 non-null  int64 \n",
      " 17  Avengers: Age of Ultron                    29128 non-null  int64 \n",
      " 18  Ant-Man                                    29128 non-null  int64 \n",
      " 19  Captain America: Civil War                 29128 non-null  int64 \n",
      " 20  Doctor Strange                             29128 non-null  int64 \n",
      " 21  Guardians of Galaxy 2                      29128 non-null  int64 \n",
      " 22  Spider-Man: Homecoming                     29128 non-null  int64 \n",
      " 23  Thor: Ragnarok                             29128 non-null  int64 \n",
      " 24  Black Panther                              29128 non-null  int64 \n",
      " 25  Avengers: Infinity War                     29128 non-null  int64 \n",
      " 26  Ant-Man and the Wasp                       29128 non-null  int64 \n",
      " 27  Captain Marvel                             29128 non-null  int64 \n",
      " 28  Avengers: Endgame                          29128 non-null  int64 \n",
      " 29  Spider-Man: Far From Home                  29128 non-null  int64 \n",
      " 30  Black Widow                                29128 non-null  int64 \n",
      " 31  Shang-Chi and the Legend of the Ten Rings  29128 non-null  int64 \n",
      " 32  Eternals                                   29128 non-null  int64 \n",
      " 33  Spider-Man: No Way Home                    29128 non-null  int64 \n",
      "dtypes: int64(28), object(6)\n",
      "memory usage: 7.6+ MB\n"
     ]
    }
   ],
   "source": [
    "# 1a \n",
    "print(\"Dimension of data\", df.shape)\n",
    "print(\"Number of samples:\",len(df))\n",
    "print(\"Number of variables:\", len(df.dtypes), \"\\n\")\n",
    "df.info()"
   ]
  },
  {
   "cell_type": "code",
   "execution_count": 4,
   "metadata": {},
   "outputs": [
    {
     "data": {
      "text/plain": [
       "ClientID                                     0\n",
       "JoinDate                                     0\n",
       "Gender                                       0\n",
       "Married                                      0\n",
       "Birth                                        0\n",
       "MarvelFavoriteCharacter                      0\n",
       "Occupation                                   0\n",
       "Iron Man                                     0\n",
       "The Incredible Hulk                          0\n",
       "Iron Man 2                                   0\n",
       "Thor                                         0\n",
       "Captain America: The First Avenger           0\n",
       "The Avengers                                 0\n",
       "Iron Man 3                                   0\n",
       "Thor: The Dark World                         0\n",
       "Captain America: The Winter Soldier          0\n",
       "Guardians of Galaxy                          0\n",
       "Avengers: Age of Ultron                      0\n",
       "Ant-Man                                      0\n",
       "Captain America: Civil War                   0\n",
       "Doctor Strange                               0\n",
       "Guardians of Galaxy 2                        0\n",
       "Spider-Man: Homecoming                       0\n",
       "Thor: Ragnarok                               0\n",
       "Black Panther                                0\n",
       "Avengers: Infinity War                       0\n",
       "Ant-Man and the Wasp                         0\n",
       "Captain Marvel                               0\n",
       "Avengers: Endgame                            0\n",
       "Spider-Man: Far From Home                    0\n",
       "Black Widow                                  0\n",
       "Shang-Chi and the Legend of the Ten Rings    0\n",
       "Eternals                                     0\n",
       "Spider-Man: No Way Home                      0\n",
       "dtype: int64"
      ]
     },
     "execution_count": 4,
     "metadata": {},
     "output_type": "execute_result"
    }
   ],
   "source": [
    "# 1a\n",
    "df.isna().sum()"
   ]
  },
  {
   "cell_type": "code",
   "execution_count": 5,
   "metadata": {},
   "outputs": [
    {
     "data": {
      "text/html": [
       "<div>\n",
       "<style scoped>\n",
       "    .dataframe tbody tr th:only-of-type {\n",
       "        vertical-align: middle;\n",
       "    }\n",
       "\n",
       "    .dataframe tbody tr th {\n",
       "        vertical-align: top;\n",
       "    }\n",
       "\n",
       "    .dataframe thead th {\n",
       "        text-align: right;\n",
       "    }\n",
       "</style>\n",
       "<table border=\"1\" class=\"dataframe\">\n",
       "  <thead>\n",
       "    <tr style=\"text-align: right;\">\n",
       "      <th></th>\n",
       "      <th>count</th>\n",
       "      <th>mean</th>\n",
       "      <th>std</th>\n",
       "      <th>min</th>\n",
       "      <th>25%</th>\n",
       "      <th>50%</th>\n",
       "      <th>75%</th>\n",
       "      <th>max</th>\n",
       "    </tr>\n",
       "  </thead>\n",
       "  <tbody>\n",
       "    <tr>\n",
       "      <th>Birth</th>\n",
       "      <td>29128.0</td>\n",
       "      <td>1979.517749</td>\n",
       "      <td>9.325284</td>\n",
       "      <td>1932.0</td>\n",
       "      <td>1973.0</td>\n",
       "      <td>1980.0</td>\n",
       "      <td>1987.0</td>\n",
       "      <td>2011.0</td>\n",
       "    </tr>\n",
       "    <tr>\n",
       "      <th>Iron Man</th>\n",
       "      <td>29128.0</td>\n",
       "      <td>5.317015</td>\n",
       "      <td>4.482651</td>\n",
       "      <td>-1.0</td>\n",
       "      <td>0.0</td>\n",
       "      <td>6.0</td>\n",
       "      <td>10.0</td>\n",
       "      <td>10.0</td>\n",
       "    </tr>\n",
       "    <tr>\n",
       "      <th>The Incredible Hulk</th>\n",
       "      <td>29128.0</td>\n",
       "      <td>3.136604</td>\n",
       "      <td>3.822222</td>\n",
       "      <td>-1.0</td>\n",
       "      <td>-1.0</td>\n",
       "      <td>3.0</td>\n",
       "      <td>6.0</td>\n",
       "      <td>10.0</td>\n",
       "    </tr>\n",
       "    <tr>\n",
       "      <th>Iron Man 2</th>\n",
       "      <td>29128.0</td>\n",
       "      <td>5.309565</td>\n",
       "      <td>4.494847</td>\n",
       "      <td>-1.0</td>\n",
       "      <td>0.0</td>\n",
       "      <td>6.0</td>\n",
       "      <td>10.0</td>\n",
       "      <td>10.0</td>\n",
       "    </tr>\n",
       "    <tr>\n",
       "      <th>Thor</th>\n",
       "      <td>29128.0</td>\n",
       "      <td>3.365456</td>\n",
       "      <td>3.964881</td>\n",
       "      <td>-1.0</td>\n",
       "      <td>-1.0</td>\n",
       "      <td>3.0</td>\n",
       "      <td>7.0</td>\n",
       "      <td>10.0</td>\n",
       "    </tr>\n",
       "    <tr>\n",
       "      <th>Captain America: The First Avenger</th>\n",
       "      <td>29128.0</td>\n",
       "      <td>3.870022</td>\n",
       "      <td>4.186924</td>\n",
       "      <td>-1.0</td>\n",
       "      <td>-1.0</td>\n",
       "      <td>3.0</td>\n",
       "      <td>8.0</td>\n",
       "      <td>10.0</td>\n",
       "    </tr>\n",
       "    <tr>\n",
       "      <th>The Avengers</th>\n",
       "      <td>29128.0</td>\n",
       "      <td>3.894054</td>\n",
       "      <td>4.205713</td>\n",
       "      <td>-1.0</td>\n",
       "      <td>-1.0</td>\n",
       "      <td>3.0</td>\n",
       "      <td>8.0</td>\n",
       "      <td>10.0</td>\n",
       "    </tr>\n",
       "    <tr>\n",
       "      <th>Iron Man 3</th>\n",
       "      <td>29128.0</td>\n",
       "      <td>5.265552</td>\n",
       "      <td>4.502316</td>\n",
       "      <td>-1.0</td>\n",
       "      <td>0.0</td>\n",
       "      <td>6.0</td>\n",
       "      <td>10.0</td>\n",
       "      <td>10.0</td>\n",
       "    </tr>\n",
       "    <tr>\n",
       "      <th>Thor: The Dark World</th>\n",
       "      <td>29128.0</td>\n",
       "      <td>3.377197</td>\n",
       "      <td>3.949429</td>\n",
       "      <td>-1.0</td>\n",
       "      <td>-1.0</td>\n",
       "      <td>3.0</td>\n",
       "      <td>7.0</td>\n",
       "      <td>10.0</td>\n",
       "    </tr>\n",
       "    <tr>\n",
       "      <th>Captain America: The Winter Soldier</th>\n",
       "      <td>29128.0</td>\n",
       "      <td>3.885643</td>\n",
       "      <td>4.197620</td>\n",
       "      <td>-1.0</td>\n",
       "      <td>-1.0</td>\n",
       "      <td>3.0</td>\n",
       "      <td>8.0</td>\n",
       "      <td>10.0</td>\n",
       "    </tr>\n",
       "    <tr>\n",
       "      <th>Guardians of Galaxy</th>\n",
       "      <td>29128.0</td>\n",
       "      <td>3.783954</td>\n",
       "      <td>4.176840</td>\n",
       "      <td>-1.0</td>\n",
       "      <td>-1.0</td>\n",
       "      <td>3.0</td>\n",
       "      <td>8.0</td>\n",
       "      <td>10.0</td>\n",
       "    </tr>\n",
       "    <tr>\n",
       "      <th>Avengers: Age of Ultron</th>\n",
       "      <td>29128.0</td>\n",
       "      <td>3.923579</td>\n",
       "      <td>4.203757</td>\n",
       "      <td>-1.0</td>\n",
       "      <td>-1.0</td>\n",
       "      <td>4.0</td>\n",
       "      <td>8.0</td>\n",
       "      <td>10.0</td>\n",
       "    </tr>\n",
       "    <tr>\n",
       "      <th>Ant-Man</th>\n",
       "      <td>29128.0</td>\n",
       "      <td>3.307848</td>\n",
       "      <td>3.913765</td>\n",
       "      <td>-1.0</td>\n",
       "      <td>-1.0</td>\n",
       "      <td>3.0</td>\n",
       "      <td>7.0</td>\n",
       "      <td>10.0</td>\n",
       "    </tr>\n",
       "    <tr>\n",
       "      <th>Captain America: Civil War</th>\n",
       "      <td>29128.0</td>\n",
       "      <td>3.929518</td>\n",
       "      <td>4.192342</td>\n",
       "      <td>-1.0</td>\n",
       "      <td>-1.0</td>\n",
       "      <td>4.0</td>\n",
       "      <td>8.0</td>\n",
       "      <td>10.0</td>\n",
       "    </tr>\n",
       "    <tr>\n",
       "      <th>Doctor Strange</th>\n",
       "      <td>29128.0</td>\n",
       "      <td>3.224217</td>\n",
       "      <td>3.890962</td>\n",
       "      <td>-1.0</td>\n",
       "      <td>-1.0</td>\n",
       "      <td>3.0</td>\n",
       "      <td>7.0</td>\n",
       "      <td>10.0</td>\n",
       "    </tr>\n",
       "    <tr>\n",
       "      <th>Guardians of Galaxy 2</th>\n",
       "      <td>29128.0</td>\n",
       "      <td>3.793635</td>\n",
       "      <td>4.174658</td>\n",
       "      <td>-1.0</td>\n",
       "      <td>-1.0</td>\n",
       "      <td>3.0</td>\n",
       "      <td>8.0</td>\n",
       "      <td>10.0</td>\n",
       "    </tr>\n",
       "    <tr>\n",
       "      <th>Spider-Man: Homecoming</th>\n",
       "      <td>29128.0</td>\n",
       "      <td>4.246189</td>\n",
       "      <td>4.326638</td>\n",
       "      <td>-1.0</td>\n",
       "      <td>-1.0</td>\n",
       "      <td>4.0</td>\n",
       "      <td>9.0</td>\n",
       "      <td>10.0</td>\n",
       "    </tr>\n",
       "    <tr>\n",
       "      <th>Thor: Ragnarok</th>\n",
       "      <td>29128.0</td>\n",
       "      <td>3.373867</td>\n",
       "      <td>3.964127</td>\n",
       "      <td>-1.0</td>\n",
       "      <td>-1.0</td>\n",
       "      <td>3.0</td>\n",
       "      <td>7.0</td>\n",
       "      <td>10.0</td>\n",
       "    </tr>\n",
       "    <tr>\n",
       "      <th>Black Panther</th>\n",
       "      <td>29128.0</td>\n",
       "      <td>3.134338</td>\n",
       "      <td>3.828163</td>\n",
       "      <td>-1.0</td>\n",
       "      <td>-1.0</td>\n",
       "      <td>3.0</td>\n",
       "      <td>7.0</td>\n",
       "      <td>10.0</td>\n",
       "    </tr>\n",
       "    <tr>\n",
       "      <th>Avengers: Infinity War</th>\n",
       "      <td>29128.0</td>\n",
       "      <td>3.882965</td>\n",
       "      <td>4.210107</td>\n",
       "      <td>-1.0</td>\n",
       "      <td>-1.0</td>\n",
       "      <td>3.0</td>\n",
       "      <td>8.0</td>\n",
       "      <td>10.0</td>\n",
       "    </tr>\n",
       "    <tr>\n",
       "      <th>Ant-Man and the Wasp</th>\n",
       "      <td>29128.0</td>\n",
       "      <td>3.248215</td>\n",
       "      <td>3.912848</td>\n",
       "      <td>-1.0</td>\n",
       "      <td>-1.0</td>\n",
       "      <td>3.0</td>\n",
       "      <td>7.0</td>\n",
       "      <td>10.0</td>\n",
       "    </tr>\n",
       "    <tr>\n",
       "      <th>Captain Marvel</th>\n",
       "      <td>29128.0</td>\n",
       "      <td>3.125412</td>\n",
       "      <td>3.835535</td>\n",
       "      <td>-1.0</td>\n",
       "      <td>-1.0</td>\n",
       "      <td>3.0</td>\n",
       "      <td>7.0</td>\n",
       "      <td>10.0</td>\n",
       "    </tr>\n",
       "    <tr>\n",
       "      <th>Avengers: Endgame</th>\n",
       "      <td>29128.0</td>\n",
       "      <td>3.878639</td>\n",
       "      <td>4.201985</td>\n",
       "      <td>-1.0</td>\n",
       "      <td>-1.0</td>\n",
       "      <td>3.0</td>\n",
       "      <td>8.0</td>\n",
       "      <td>10.0</td>\n",
       "    </tr>\n",
       "    <tr>\n",
       "      <th>Spider-Man: Far From Home</th>\n",
       "      <td>29128.0</td>\n",
       "      <td>4.301668</td>\n",
       "      <td>4.323902</td>\n",
       "      <td>-1.0</td>\n",
       "      <td>-1.0</td>\n",
       "      <td>4.0</td>\n",
       "      <td>9.0</td>\n",
       "      <td>10.0</td>\n",
       "    </tr>\n",
       "    <tr>\n",
       "      <th>Black Widow</th>\n",
       "      <td>29128.0</td>\n",
       "      <td>3.994644</td>\n",
       "      <td>4.244555</td>\n",
       "      <td>-1.0</td>\n",
       "      <td>-1.0</td>\n",
       "      <td>4.0</td>\n",
       "      <td>8.0</td>\n",
       "      <td>10.0</td>\n",
       "    </tr>\n",
       "    <tr>\n",
       "      <th>Shang-Chi and the Legend of the Ten Rings</th>\n",
       "      <td>29128.0</td>\n",
       "      <td>3.108830</td>\n",
       "      <td>3.829085</td>\n",
       "      <td>-1.0</td>\n",
       "      <td>-1.0</td>\n",
       "      <td>2.0</td>\n",
       "      <td>7.0</td>\n",
       "      <td>10.0</td>\n",
       "    </tr>\n",
       "    <tr>\n",
       "      <th>Eternals</th>\n",
       "      <td>29128.0</td>\n",
       "      <td>3.144157</td>\n",
       "      <td>3.812627</td>\n",
       "      <td>-1.0</td>\n",
       "      <td>-1.0</td>\n",
       "      <td>3.0</td>\n",
       "      <td>7.0</td>\n",
       "      <td>10.0</td>\n",
       "    </tr>\n",
       "    <tr>\n",
       "      <th>Spider-Man: No Way Home</th>\n",
       "      <td>29128.0</td>\n",
       "      <td>4.283404</td>\n",
       "      <td>4.318155</td>\n",
       "      <td>-1.0</td>\n",
       "      <td>-1.0</td>\n",
       "      <td>4.0</td>\n",
       "      <td>9.0</td>\n",
       "      <td>10.0</td>\n",
       "    </tr>\n",
       "  </tbody>\n",
       "</table>\n",
       "</div>"
      ],
      "text/plain": [
       "                                             count         mean       std  \\\n",
       "Birth                                      29128.0  1979.517749  9.325284   \n",
       "Iron Man                                   29128.0     5.317015  4.482651   \n",
       "The Incredible Hulk                        29128.0     3.136604  3.822222   \n",
       "Iron Man 2                                 29128.0     5.309565  4.494847   \n",
       "Thor                                       29128.0     3.365456  3.964881   \n",
       "Captain America: The First Avenger         29128.0     3.870022  4.186924   \n",
       "The Avengers                               29128.0     3.894054  4.205713   \n",
       "Iron Man 3                                 29128.0     5.265552  4.502316   \n",
       "Thor: The Dark World                       29128.0     3.377197  3.949429   \n",
       "Captain America: The Winter Soldier        29128.0     3.885643  4.197620   \n",
       "Guardians of Galaxy                        29128.0     3.783954  4.176840   \n",
       "Avengers: Age of Ultron                    29128.0     3.923579  4.203757   \n",
       "Ant-Man                                    29128.0     3.307848  3.913765   \n",
       "Captain America: Civil War                 29128.0     3.929518  4.192342   \n",
       "Doctor Strange                             29128.0     3.224217  3.890962   \n",
       "Guardians of Galaxy 2                      29128.0     3.793635  4.174658   \n",
       "Spider-Man: Homecoming                     29128.0     4.246189  4.326638   \n",
       "Thor: Ragnarok                             29128.0     3.373867  3.964127   \n",
       "Black Panther                              29128.0     3.134338  3.828163   \n",
       "Avengers: Infinity War                     29128.0     3.882965  4.210107   \n",
       "Ant-Man and the Wasp                       29128.0     3.248215  3.912848   \n",
       "Captain Marvel                             29128.0     3.125412  3.835535   \n",
       "Avengers: Endgame                          29128.0     3.878639  4.201985   \n",
       "Spider-Man: Far From Home                  29128.0     4.301668  4.323902   \n",
       "Black Widow                                29128.0     3.994644  4.244555   \n",
       "Shang-Chi and the Legend of the Ten Rings  29128.0     3.108830  3.829085   \n",
       "Eternals                                   29128.0     3.144157  3.812627   \n",
       "Spider-Man: No Way Home                    29128.0     4.283404  4.318155   \n",
       "\n",
       "                                              min     25%     50%     75%  \\\n",
       "Birth                                      1932.0  1973.0  1980.0  1987.0   \n",
       "Iron Man                                     -1.0     0.0     6.0    10.0   \n",
       "The Incredible Hulk                          -1.0    -1.0     3.0     6.0   \n",
       "Iron Man 2                                   -1.0     0.0     6.0    10.0   \n",
       "Thor                                         -1.0    -1.0     3.0     7.0   \n",
       "Captain America: The First Avenger           -1.0    -1.0     3.0     8.0   \n",
       "The Avengers                                 -1.0    -1.0     3.0     8.0   \n",
       "Iron Man 3                                   -1.0     0.0     6.0    10.0   \n",
       "Thor: The Dark World                         -1.0    -1.0     3.0     7.0   \n",
       "Captain America: The Winter Soldier          -1.0    -1.0     3.0     8.0   \n",
       "Guardians of Galaxy                          -1.0    -1.0     3.0     8.0   \n",
       "Avengers: Age of Ultron                      -1.0    -1.0     4.0     8.0   \n",
       "Ant-Man                                      -1.0    -1.0     3.0     7.0   \n",
       "Captain America: Civil War                   -1.0    -1.0     4.0     8.0   \n",
       "Doctor Strange                               -1.0    -1.0     3.0     7.0   \n",
       "Guardians of Galaxy 2                        -1.0    -1.0     3.0     8.0   \n",
       "Spider-Man: Homecoming                       -1.0    -1.0     4.0     9.0   \n",
       "Thor: Ragnarok                               -1.0    -1.0     3.0     7.0   \n",
       "Black Panther                                -1.0    -1.0     3.0     7.0   \n",
       "Avengers: Infinity War                       -1.0    -1.0     3.0     8.0   \n",
       "Ant-Man and the Wasp                         -1.0    -1.0     3.0     7.0   \n",
       "Captain Marvel                               -1.0    -1.0     3.0     7.0   \n",
       "Avengers: Endgame                            -1.0    -1.0     3.0     8.0   \n",
       "Spider-Man: Far From Home                    -1.0    -1.0     4.0     9.0   \n",
       "Black Widow                                  -1.0    -1.0     4.0     8.0   \n",
       "Shang-Chi and the Legend of the Ten Rings    -1.0    -1.0     2.0     7.0   \n",
       "Eternals                                     -1.0    -1.0     3.0     7.0   \n",
       "Spider-Man: No Way Home                      -1.0    -1.0     4.0     9.0   \n",
       "\n",
       "                                              max  \n",
       "Birth                                      2011.0  \n",
       "Iron Man                                     10.0  \n",
       "The Incredible Hulk                          10.0  \n",
       "Iron Man 2                                   10.0  \n",
       "Thor                                         10.0  \n",
       "Captain America: The First Avenger           10.0  \n",
       "The Avengers                                 10.0  \n",
       "Iron Man 3                                   10.0  \n",
       "Thor: The Dark World                         10.0  \n",
       "Captain America: The Winter Soldier          10.0  \n",
       "Guardians of Galaxy                          10.0  \n",
       "Avengers: Age of Ultron                      10.0  \n",
       "Ant-Man                                      10.0  \n",
       "Captain America: Civil War                   10.0  \n",
       "Doctor Strange                               10.0  \n",
       "Guardians of Galaxy 2                        10.0  \n",
       "Spider-Man: Homecoming                       10.0  \n",
       "Thor: Ragnarok                               10.0  \n",
       "Black Panther                                10.0  \n",
       "Avengers: Infinity War                       10.0  \n",
       "Ant-Man and the Wasp                         10.0  \n",
       "Captain Marvel                               10.0  \n",
       "Avengers: Endgame                            10.0  \n",
       "Spider-Man: Far From Home                    10.0  \n",
       "Black Widow                                  10.0  \n",
       "Shang-Chi and the Legend of the Ten Rings    10.0  \n",
       "Eternals                                     10.0  \n",
       "Spider-Man: No Way Home                      10.0  "
      ]
     },
     "execution_count": 5,
     "metadata": {},
     "output_type": "execute_result"
    }
   ],
   "source": [
    "# 1a\n",
    "df.describe().T"
   ]
  },
  {
   "cell_type": "markdown",
   "metadata": {},
   "source": [
    "<div style=\"background-color: AliceBlue; padding: 10px;\">\n",
    "\n",
    "El dataset consta de 29,128 muestras y 34 columnas, esto indica un volumen de datos positivo para entrenar modelos de recomendación robustos. Es notable que no hay valores faltantes (NaN) en ninguna de las columnas, lo que no requeriere imputación de datos. Sin embargo, los valores \"-1\" que indican películas no vistas, podría requerir un tratamiento especial como parte del análisis, ya sea para interpretarlos como datos faltantes en términos de preferencias de visualización o utilizando técnicas para imputar estas puntuaciones basadas en otras informaciones del usuario. Los atributos sobre ocupación, estado civil, género y año de nacimiento, permiten una oportunidad para explorar cómo estas características demográficas influyen en las preferencias de las películas."
   ]
  },
  {
   "cell_type": "markdown",
   "metadata": {},
   "source": [
    "b) ¿Crees que los datos representan la realidad de la población? ¿Por qué? ¿Qué pasaría si entrenamos un modelo (en esta pregunta lo que el modelo devolvería no se tiene en cuenta) con estos datos y lo desplegamos de forma productiva?"
   ]
  },
  {
   "cell_type": "code",
   "execution_count": 6,
   "metadata": {},
   "outputs": [
    {
     "data": {
      "image/png": "[encoded data removed]",
      "text/plain": [
       "<Figure size 1300x800 with 4 Axes>"
      ]
     },
     "metadata": {},
     "output_type": "display_data"
    }
   ],
   "source": [
    "import pandas as pd\n",
    "import matplotlib.pyplot as plt\n",
    "import seaborn as sns\n",
    "\n",
    "# Suprimir advertencias futuras sobre opciones descontinuadas\n",
    "import warnings\n",
    "warnings.simplefilter(action='ignore', category=FutureWarning)\n",
    "\n",
    "# Cargamos el dataset\n",
    "df = pd.read_csv('data/ADC_data_r3_2024.csv')\n",
    "df['JoinDate'] = pd.to_datetime(df['JoinDate'], dayfirst=True)\n",
    "\n",
    "# Configuramos la visualización de gráficos en columnas de dos\n",
    "fig, axs = plt.subplots(nrows=2, ncols=2, figsize=(13, 8))  # Ajustar según el número total de gráficos\n",
    "fig.tight_layout(pad=5.0)\n",
    "\n",
    "# Gráfico de barras de estado civil\n",
    "sns.countplot(x='Married', data=df, ax=axs[1, 0])\n",
    "axs[1, 0].set_title('Distribución del Estado Civil')\n",
    "axs[1, 0].set_xlabel('Estado Civil')\n",
    "axs[1, 0].set_ylabel('Cantidad')\n",
    "\n",
    "# Gráfico de las 10 ocupaciones más frecuentes\n",
    "sns.countplot(y='Occupation', data=df, order=df['Occupation'].value_counts().index[:10], ax=axs[1, 1])\n",
    "axs[1, 1].set_title('Top 10 Ocupaciones')\n",
    "axs[1, 1].set_xlabel('Cantidad')\n",
    "axs[1, 1].set_ylabel('Ocupación')\n",
    "\n",
    "# Histograma de años de nacimiento\n",
    "sns.histplot(df['Birth'], bins=30, kde=True, ax=axs[0, 0])\n",
    "axs[0, 0].set_title('Distribución de Años de Nacimiento')\n",
    "axs[0, 0].set_xlabel('Año')\n",
    "axs[0, 0].set_ylabel('Frecuencia')\n",
    "\n",
    "# Gráfico de barras de género\n",
    "sns.countplot(x='Gender', data=df, ax=axs[0, 1])\n",
    "axs[0, 1].set_title('Distribución de Género')\n",
    "axs[0, 1].set_xlabel('Género')\n",
    "axs[0, 1].set_ylabel('Cantidad')\n",
    "\n",
    "plt.show()\n"
   ]
  },
  {
   "cell_type": "markdown",
   "metadata": {},
   "source": [
    "<div style=\"background-color: AliceBlue; padding: 10px;\">\n",
    "\n",
    "Los datos incluyen suficientes muestras para el análisis, pero la calidad depende de cómo se seleccionaron. Revisando los datos podemos observar que:\n",
    "\n",
    "* La mayoría de los usuarios nacieron entre 1970 y 1990, lo que sugiere que la plataforma tiene una base de usuarios predominantemente de entre 30 y 50 años. Esta podría ser una representación realista del segmento de la población que más consume servicios de streaming.\n",
    "\n",
    "* Hay una predominancia del género masculino en el dataset. Esto podría indicar un sesgo en los datos si Disney Plus tiene una distribución de género más equilibrada en su base total de usuarios.\n",
    "\n",
    "* La mayoría de los usuarios están marcados como 'M' ('Married'), con muy pocos en otras categorías como solteros ('S') o divorciados ('D'). Esto podría ser un reflejo de la realidad, pero también podría ser un sesgo si, en realidad, hay más diversidad en los estados civiles de la base de usuarios.\n",
    "\n",
    "* Las ocupaciones varían desde políticos hasta médicos, mostrando una cierta diversidad. Sin embargo, la distribución es muy desigual, con 'políticos' como la ocupación más común por un margen significativo. Esto parece poco realista a menos que el dataset estuviera sesgado hacia una región o grupo demográfico específico.\n",
    "\n",
    "Efectos de los Sesgos en los Datos\n",
    "\n",
    "* Dado que hay una distribución desigual en términos de **género**, estado civil, el modelo podría desarrollar tendencias que favorecen a los grupos mayoritarios en el dataset (hombres y casados). Esto podría resultar en recomendaciones que no son completamente relevantes para mujeres o para personas con otros estados civiles, lo cual puede afectar la satisfacción del usuario y su engagement con la plataforma. Además, la concentración de usuarios en ciertas **ocupaciones** específicas puede llevar a un modelo que es muy bueno para predecir y satisfacer las preferencias de estos grupos, pero menos capaz de entender y servir a otras profesiones.\n",
    "\n",
    "Problemas de Escalabilidad y Actualización\n",
    "\n",
    "* Mantener y actualizar un modelo basado en un dataset potencialmente sesgado requiere esfuerzos continuos para asegurarse de que las recomendaciones sigan siendo relevantes y útiles. Esto puede implicar reentrenamientos periódicos del modelo con nuevos datos o ajustes en el algoritmo para manejar mejor la diversidad de la base de usuarios. Por otra parte, si el modelo se despliega basándose en un conjunto de datos con características y tendencias fijas, podría no adaptarse bien a cambios en las preferencias de los usuarios o a la introducción de nuevas películas y contenido en la plataforma. "
   ]
  },
  {
   "cell_type": "markdown",
   "metadata": {},
   "source": [
    "c) ¿Cuál es la puntuación media de cada película? ¿Cuál es la película más vista? ¿Y la menos vista? ¿Qué película tiene más valoraciones negativas (de 0 a 4) y cuál tiene más de positivas (de 6 a 10)?"
   ]
  },
  {
   "cell_type": "code",
   "execution_count": 7,
   "metadata": {},
   "outputs": [
    {
     "name": "stdout",
     "output_type": "stream",
     "text": [
      "Puntuación media de cada película:\n",
      " -------------------------------\n"
     ]
    },
    {
     "data": {
      "text/plain": [
       "Iron Man                                     5.317015\n",
       "Iron Man 2                                   5.309565\n",
       "Iron Man 3                                   5.265552\n",
       "Spider-Man: Far From Home                    4.301668\n",
       "Spider-Man: No Way Home                      4.283404\n",
       "Spider-Man: Homecoming                       4.246189\n",
       "Black Widow                                  3.994644\n",
       "Captain America: Civil War                   3.929518\n",
       "Avengers: Age of Ultron                      3.923579\n",
       "The Avengers                                 3.894054\n",
       "Captain America: The Winter Soldier          3.885643\n",
       "Avengers: Infinity War                       3.882965\n",
       "Avengers: Endgame                            3.878639\n",
       "Captain America: The First Avenger           3.870022\n",
       "Guardians of Galaxy 2                        3.793635\n",
       "Guardians of Galaxy                          3.783954\n",
       "Thor: The Dark World                         3.377197\n",
       "Thor: Ragnarok                               3.373867\n",
       "Thor                                         3.365456\n",
       "Ant-Man                                      3.307848\n",
       "Ant-Man and the Wasp                         3.248215\n",
       "Doctor Strange                               3.224217\n",
       "Eternals                                     3.144157\n",
       "The Incredible Hulk                          3.136604\n",
       "Black Panther                                3.134338\n",
       "Captain Marvel                               3.125412\n",
       "Shang-Chi and the Legend of the Ten Rings    3.108830\n",
       "dtype: float64"
      ]
     },
     "execution_count": 7,
     "metadata": {},
     "output_type": "execute_result"
    }
   ],
   "source": [
    "mean_for_movie = df.loc[:, 'Iron Man':'Spider-Man: No Way Home'].mean()\n",
    "mean_for_movie = mean_for_movie.sort_values(ascending=False)\n",
    "print(\"Puntuación media de cada película:\\n\", \"-\"*31)\n",
    "mean_for_movie"
   ]
  },
  {
   "cell_type": "code",
   "execution_count": 8,
   "metadata": {},
   "outputs": [
    {
     "name": "stdout",
     "output_type": "stream",
     "text": [
      "\n",
      "Película más vista: Iron Man\n",
      "Película menos vista: Shang-Chi and the Legend of the Ten Rings\n",
      "Película con más valoraciones negativas: Black Panther\n",
      "Película con más valoraciones positivas: Iron Man\n"
     ]
    }
   ],
   "source": [
    "# 1c\n",
    "\n",
    "# Contar cuántas veces cada película fue vista (ignorar puntuaciones -1 que indican no vista)\n",
    "views_count = (df.loc[:, 'Iron Man':'Spider-Man: No Way Home'] != -1).sum()\n",
    "\n",
    "# Identificar la película más y menos vista\n",
    "most_viewed = views_count.idxmax()\n",
    "least_viewed = views_count.idxmin()\n",
    "\n",
    "# Contar las valoraciones negativas (de 0 a 4) y positivas (de 6 a 10)\n",
    "negative_ratings = (df.loc[:, 'Iron Man':'Spider-Man: No Way Home'] >= 0) & (df.loc[:, 'Iron Man':'Spider-Man: No Way Home'] <= 4)\n",
    "positive_ratings = (df.loc[:, 'Iron Man':'Spider-Man: No Way Home'] >= 6) & (df.loc[:, 'Iron Man':'Spider-Man: No Way Home'] <= 10)\n",
    "\n",
    "negative_counts = negative_ratings.sum()\n",
    "positive_counts = positive_ratings.sum()\n",
    "\n",
    "# Identificar la película con más valoraciones negativas y positivas\n",
    "most_negative = negative_counts.idxmax()\n",
    "most_positive = positive_counts.idxmax()\n",
    "\n",
    "\n",
    "print(\"\\nPelícula más vista:\", most_viewed)\n",
    "print(\"Película menos vista:\", least_viewed)\n",
    "print(\"Película con más valoraciones negativas:\", most_negative)\n",
    "print(\"Película con más valoraciones positivas:\", most_positive)\n",
    "\n"
   ]
  },
  {
   "cell_type": "markdown",
   "metadata": {},
   "source": [
    "\n",
    "\n",
    "d) ¿Qué usuarios hacen de media las puntuaciones más altas en las películas? ¿Quién o qué usuarios han visto más películas? ¿Qué usuarios hacen más valoraciones negativas (de 0 a 4)?"
   ]
  },
  {
   "cell_type": "code",
   "execution_count": 9,
   "metadata": {},
   "outputs": [
    {
     "name": "stdout",
     "output_type": "stream",
     "text": [
      "Usuarios con las puntuaciones medias más altas:\n",
      "       ClientID AverageRating\n",
      "8495   HIUVZYE      8.642857\n",
      "7299   V27GRQV      8.333333\n",
      "12416  C9BGB85      8.277778\n",
      "28092  QHDM85I      8.266667\n",
      "12759  KPEKZ2S      8.210526\n",
      "\n",
      "Usuarios que han visto más películas:\n",
      "       ClientID  MoviesViewed\n",
      "26568  DZD5PS6            27\n",
      "17291  DMNILIL            27\n",
      "10796  3C6E1CL            27\n",
      "10933  N6M9DKH            27\n",
      "1225   Y6HDEWH            27\n",
      "\n",
      "Usuarios que hacen más valoraciones negativas (de 0 a 4):\n",
      "       ClientID  NegativeRatings\n",
      "21898  76MRPYG               18\n",
      "7363   QWUNKQB               17\n",
      "14077  4W7A368               17\n",
      "28890  MS46S4M               17\n",
      "5814   O803UVX               17\n"
     ]
    }
   ],
   "source": [
    "# 1d\n",
    "\n",
    "# Calcular la puntuación media de cada usuario excluyendo los -1 (películas no vistas)\n",
    "user_mean_scores = df.loc[:, 'Iron Man':'Spider-Man: No Way Home'].replace(-1, pd.NA).mean(axis=1)\n",
    "\n",
    "# Ordenar por puntuaciones medias y obtener los resultados directamente\n",
    "top_raters = df.assign(AverageRating=user_mean_scores).sort_values(by='AverageRating', ascending=False).head()\n",
    "print(\"Usuarios con las puntuaciones medias más altas:\\n\", top_raters[['ClientID', 'AverageRating']])\n",
    "\n",
    "\n",
    "# Contar cuántas películas ha visto cada usuario (excluyendo -1)\n",
    "movies_viewed = (df.loc[:, 'Iron Man':'Spider-Man: No Way Home'] != -1).sum(axis=1)\n",
    "\n",
    "# Ordenar por el número de películas vistas y obtener los resultados directamente\n",
    "most_viewed_by_users = df.assign(MoviesViewed=movies_viewed).sort_values(by='MoviesViewed', ascending=False).head()\n",
    "print(\"\\nUsuarios que han visto más películas:\\n\", most_viewed_by_users[['ClientID', 'MoviesViewed']])\n",
    "\n",
    "\n",
    "# Crear una máscara de las valoraciones negativas (de 0 a 4) excluyendo no vistas (-1)\n",
    "negative_mask = (df.loc[:, 'Iron Man':'Spider-Man: No Way Home'] >= 0) & (df.loc[:, 'Iron Man':'Spider-Man: No Way Home'] <= 4)\n",
    "\n",
    "# Sumar los valores verdaderos en la máscara para cada usuario\n",
    "negative_ratings_count = negative_mask.sum(axis=1)\n",
    "\n",
    "# Asignar temporalmente, ordenar y mostrar los resultados\n",
    "most_negative_raters = df.assign(NegativeRatings=negative_ratings_count).sort_values(by='NegativeRatings', ascending=False).head()\n",
    "print(\"\\nUsuarios que hacen más valoraciones negativas (de 0 a 4):\\n\", most_negative_raters[['ClientID', 'NegativeRatings']])\n"
   ]
  },
  {
   "cell_type": "markdown",
   "metadata": {},
   "source": [
    "e) Crea las siguientes columnas nuevas:  \n",
    "* **Age**: edad del usuario (integer)  \n",
    "* **MonthsClient**: meses (integer) que lleva siendo cliente el usuario. (utilizar el tipo de variable datetime)  \n",
    "* **MarvelFilmsPerc**: porcentaje (float) de películas de Marvel que ha visto.  "
   ]
  },
  {
   "cell_type": "code",
   "execution_count": 10,
   "metadata": {},
   "outputs": [
    {
     "data": {
      "text/html": [
       "<div>\n",
       "<style scoped>\n",
       "    .dataframe tbody tr th:only-of-type {\n",
       "        vertical-align: middle;\n",
       "    }\n",
       "\n",
       "    .dataframe tbody tr th {\n",
       "        vertical-align: top;\n",
       "    }\n",
       "\n",
       "    .dataframe thead th {\n",
       "        text-align: right;\n",
       "    }\n",
       "</style>\n",
       "<table border=\"1\" class=\"dataframe\">\n",
       "  <thead>\n",
       "    <tr style=\"text-align: right;\">\n",
       "      <th></th>\n",
       "      <th>0</th>\n",
       "      <th>1</th>\n",
       "      <th>2</th>\n",
       "      <th>3</th>\n",
       "      <th>4</th>\n",
       "    </tr>\n",
       "  </thead>\n",
       "  <tbody>\n",
       "    <tr>\n",
       "      <th>ClientID</th>\n",
       "      <td>4WKQSBB</td>\n",
       "      <td>CP5S02H</td>\n",
       "      <td>2YKDILJ</td>\n",
       "      <td>2S9E81J</td>\n",
       "      <td>BHDYVFT</td>\n",
       "    </tr>\n",
       "    <tr>\n",
       "      <th>JoinDate</th>\n",
       "      <td>2019-02-01 00:00:00</td>\n",
       "      <td>2019-06-01 00:00:00</td>\n",
       "      <td>2013-06-01 00:00:00</td>\n",
       "      <td>2019-08-01 00:00:00</td>\n",
       "      <td>2019-08-01 00:00:00</td>\n",
       "    </tr>\n",
       "    <tr>\n",
       "      <th>Gender</th>\n",
       "      <td>F</td>\n",
       "      <td>F</td>\n",
       "      <td>M</td>\n",
       "      <td>M</td>\n",
       "      <td>M</td>\n",
       "    </tr>\n",
       "    <tr>\n",
       "      <th>Married</th>\n",
       "      <td>M</td>\n",
       "      <td>M</td>\n",
       "      <td>U</td>\n",
       "      <td>M</td>\n",
       "      <td>M</td>\n",
       "    </tr>\n",
       "    <tr>\n",
       "      <th>Birth</th>\n",
       "      <td>1987</td>\n",
       "      <td>1981</td>\n",
       "      <td>1991</td>\n",
       "      <td>1990</td>\n",
       "      <td>1990</td>\n",
       "    </tr>\n",
       "    <tr>\n",
       "      <th>MarvelFavoriteCharacter</th>\n",
       "      <td>MJ</td>\n",
       "      <td>Spider-Man</td>\n",
       "      <td>Iron Man</td>\n",
       "      <td>MJ</td>\n",
       "      <td>Iron Man</td>\n",
       "    </tr>\n",
       "    <tr>\n",
       "      <th>Occupation</th>\n",
       "      <td>politicians</td>\n",
       "      <td>politicians</td>\n",
       "      <td>hotel/restaurant</td>\n",
       "      <td>shopkeepers</td>\n",
       "      <td>politicians</td>\n",
       "    </tr>\n",
       "    <tr>\n",
       "      <th>Iron Man</th>\n",
       "      <td>4</td>\n",
       "      <td>-1</td>\n",
       "      <td>10</td>\n",
       "      <td>10</td>\n",
       "      <td>10</td>\n",
       "    </tr>\n",
       "    <tr>\n",
       "      <th>The Incredible Hulk</th>\n",
       "      <td>2</td>\n",
       "      <td>9</td>\n",
       "      <td>-1</td>\n",
       "      <td>5</td>\n",
       "      <td>2</td>\n",
       "    </tr>\n",
       "    <tr>\n",
       "      <th>Iron Man 2</th>\n",
       "      <td>10</td>\n",
       "      <td>0</td>\n",
       "      <td>10</td>\n",
       "      <td>7</td>\n",
       "      <td>10</td>\n",
       "    </tr>\n",
       "    <tr>\n",
       "      <th>Thor</th>\n",
       "      <td>0</td>\n",
       "      <td>10</td>\n",
       "      <td>-1</td>\n",
       "      <td>-1</td>\n",
       "      <td>2</td>\n",
       "    </tr>\n",
       "    <tr>\n",
       "      <th>Captain America: The First Avenger</th>\n",
       "      <td>6</td>\n",
       "      <td>-1</td>\n",
       "      <td>-1</td>\n",
       "      <td>-1</td>\n",
       "      <td>4</td>\n",
       "    </tr>\n",
       "    <tr>\n",
       "      <th>The Avengers</th>\n",
       "      <td>0</td>\n",
       "      <td>-1</td>\n",
       "      <td>4</td>\n",
       "      <td>0</td>\n",
       "      <td>1</td>\n",
       "    </tr>\n",
       "    <tr>\n",
       "      <th>Iron Man 3</th>\n",
       "      <td>2</td>\n",
       "      <td>1</td>\n",
       "      <td>10</td>\n",
       "      <td>-1</td>\n",
       "      <td>10</td>\n",
       "    </tr>\n",
       "    <tr>\n",
       "      <th>Thor: The Dark World</th>\n",
       "      <td>9</td>\n",
       "      <td>10</td>\n",
       "      <td>-1</td>\n",
       "      <td>9</td>\n",
       "      <td>0</td>\n",
       "    </tr>\n",
       "    <tr>\n",
       "      <th>Captain America: The Winter Soldier</th>\n",
       "      <td>-1</td>\n",
       "      <td>10</td>\n",
       "      <td>-1</td>\n",
       "      <td>10</td>\n",
       "      <td>1</td>\n",
       "    </tr>\n",
       "    <tr>\n",
       "      <th>Guardians of Galaxy</th>\n",
       "      <td>6</td>\n",
       "      <td>2</td>\n",
       "      <td>4</td>\n",
       "      <td>6</td>\n",
       "      <td>2</td>\n",
       "    </tr>\n",
       "    <tr>\n",
       "      <th>Avengers: Age of Ultron</th>\n",
       "      <td>8</td>\n",
       "      <td>-1</td>\n",
       "      <td>1</td>\n",
       "      <td>2</td>\n",
       "      <td>-1</td>\n",
       "    </tr>\n",
       "    <tr>\n",
       "      <th>Ant-Man</th>\n",
       "      <td>-1</td>\n",
       "      <td>6</td>\n",
       "      <td>2</td>\n",
       "      <td>-1</td>\n",
       "      <td>5</td>\n",
       "    </tr>\n",
       "    <tr>\n",
       "      <th>Captain America: Civil War</th>\n",
       "      <td>4</td>\n",
       "      <td>9</td>\n",
       "      <td>3</td>\n",
       "      <td>3</td>\n",
       "      <td>8</td>\n",
       "    </tr>\n",
       "    <tr>\n",
       "      <th>Doctor Strange</th>\n",
       "      <td>3</td>\n",
       "      <td>0</td>\n",
       "      <td>0</td>\n",
       "      <td>2</td>\n",
       "      <td>3</td>\n",
       "    </tr>\n",
       "    <tr>\n",
       "      <th>Guardians of Galaxy 2</th>\n",
       "      <td>9</td>\n",
       "      <td>5</td>\n",
       "      <td>9</td>\n",
       "      <td>3</td>\n",
       "      <td>8</td>\n",
       "    </tr>\n",
       "    <tr>\n",
       "      <th>Spider-Man: Homecoming</th>\n",
       "      <td>10</td>\n",
       "      <td>10</td>\n",
       "      <td>-1</td>\n",
       "      <td>10</td>\n",
       "      <td>3</td>\n",
       "    </tr>\n",
       "    <tr>\n",
       "      <th>Thor: Ragnarok</th>\n",
       "      <td>2</td>\n",
       "      <td>1</td>\n",
       "      <td>-1</td>\n",
       "      <td>5</td>\n",
       "      <td>-1</td>\n",
       "    </tr>\n",
       "    <tr>\n",
       "      <th>Black Panther</th>\n",
       "      <td>4</td>\n",
       "      <td>9</td>\n",
       "      <td>9</td>\n",
       "      <td>0</td>\n",
       "      <td>-1</td>\n",
       "    </tr>\n",
       "    <tr>\n",
       "      <th>Avengers: Infinity War</th>\n",
       "      <td>8</td>\n",
       "      <td>4</td>\n",
       "      <td>2</td>\n",
       "      <td>9</td>\n",
       "      <td>8</td>\n",
       "    </tr>\n",
       "    <tr>\n",
       "      <th>Ant-Man and the Wasp</th>\n",
       "      <td>9</td>\n",
       "      <td>-1</td>\n",
       "      <td>7</td>\n",
       "      <td>4</td>\n",
       "      <td>-1</td>\n",
       "    </tr>\n",
       "    <tr>\n",
       "      <th>Captain Marvel</th>\n",
       "      <td>9</td>\n",
       "      <td>9</td>\n",
       "      <td>4</td>\n",
       "      <td>-1</td>\n",
       "      <td>8</td>\n",
       "    </tr>\n",
       "    <tr>\n",
       "      <th>Avengers: Endgame</th>\n",
       "      <td>-1</td>\n",
       "      <td>9</td>\n",
       "      <td>8</td>\n",
       "      <td>9</td>\n",
       "      <td>2</td>\n",
       "    </tr>\n",
       "    <tr>\n",
       "      <th>Spider-Man: Far From Home</th>\n",
       "      <td>10</td>\n",
       "      <td>10</td>\n",
       "      <td>6</td>\n",
       "      <td>10</td>\n",
       "      <td>2</td>\n",
       "    </tr>\n",
       "    <tr>\n",
       "      <th>Black Widow</th>\n",
       "      <td>8</td>\n",
       "      <td>9</td>\n",
       "      <td>-1</td>\n",
       "      <td>-1</td>\n",
       "      <td>4</td>\n",
       "    </tr>\n",
       "    <tr>\n",
       "      <th>Shang-Chi and the Legend of the Ten Rings</th>\n",
       "      <td>10</td>\n",
       "      <td>10</td>\n",
       "      <td>4</td>\n",
       "      <td>9</td>\n",
       "      <td>1</td>\n",
       "    </tr>\n",
       "    <tr>\n",
       "      <th>Eternals</th>\n",
       "      <td>1</td>\n",
       "      <td>1</td>\n",
       "      <td>-1</td>\n",
       "      <td>-1</td>\n",
       "      <td>9</td>\n",
       "    </tr>\n",
       "    <tr>\n",
       "      <th>Spider-Man: No Way Home</th>\n",
       "      <td>10</td>\n",
       "      <td>10</td>\n",
       "      <td>2</td>\n",
       "      <td>10</td>\n",
       "      <td>7</td>\n",
       "    </tr>\n",
       "    <tr>\n",
       "      <th>Age</th>\n",
       "      <td>37</td>\n",
       "      <td>43</td>\n",
       "      <td>33</td>\n",
       "      <td>34</td>\n",
       "      <td>34</td>\n",
       "    </tr>\n",
       "    <tr>\n",
       "      <th>MonthsClient</th>\n",
       "      <td>62</td>\n",
       "      <td>58</td>\n",
       "      <td>130</td>\n",
       "      <td>56</td>\n",
       "      <td>56</td>\n",
       "    </tr>\n",
       "    <tr>\n",
       "      <th>MarvelFilmsPerc</th>\n",
       "      <td>0.888889</td>\n",
       "      <td>0.814815</td>\n",
       "      <td>0.666667</td>\n",
       "      <td>0.740741</td>\n",
       "      <td>0.851852</td>\n",
       "    </tr>\n",
       "  </tbody>\n",
       "</table>\n",
       "</div>"
      ],
      "text/plain": [
       "                                                             0  \\\n",
       "ClientID                                               4WKQSBB   \n",
       "JoinDate                                   2019-02-01 00:00:00   \n",
       "Gender                                                       F   \n",
       "Married                                                      M   \n",
       "Birth                                                     1987   \n",
       "MarvelFavoriteCharacter                                     MJ   \n",
       "Occupation                                         politicians   \n",
       "Iron Man                                                     4   \n",
       "The Incredible Hulk                                          2   \n",
       "Iron Man 2                                                  10   \n",
       "Thor                                                         0   \n",
       "Captain America: The First Avenger                           6   \n",
       "The Avengers                                                 0   \n",
       "Iron Man 3                                                   2   \n",
       "Thor: The Dark World                                         9   \n",
       "Captain America: The Winter Soldier                         -1   \n",
       "Guardians of Galaxy                                          6   \n",
       "Avengers: Age of Ultron                                      8   \n",
       "Ant-Man                                                     -1   \n",
       "Captain America: Civil War                                   4   \n",
       "Doctor Strange                                               3   \n",
       "Guardians of Galaxy 2                                        9   \n",
       "Spider-Man: Homecoming                                      10   \n",
       "Thor: Ragnarok                                               2   \n",
       "Black Panther                                                4   \n",
       "Avengers: Infinity War                                       8   \n",
       "Ant-Man and the Wasp                                         9   \n",
       "Captain Marvel                                               9   \n",
       "Avengers: Endgame                                           -1   \n",
       "Spider-Man: Far From Home                                   10   \n",
       "Black Widow                                                  8   \n",
       "Shang-Chi and the Legend of the Ten Rings                   10   \n",
       "Eternals                                                     1   \n",
       "Spider-Man: No Way Home                                     10   \n",
       "Age                                                         37   \n",
       "MonthsClient                                                62   \n",
       "MarvelFilmsPerc                                       0.888889   \n",
       "\n",
       "                                                             1  \\\n",
       "ClientID                                               CP5S02H   \n",
       "JoinDate                                   2019-06-01 00:00:00   \n",
       "Gender                                                       F   \n",
       "Married                                                      M   \n",
       "Birth                                                     1981   \n",
       "MarvelFavoriteCharacter                             Spider-Man   \n",
       "Occupation                                         politicians   \n",
       "Iron Man                                                    -1   \n",
       "The Incredible Hulk                                          9   \n",
       "Iron Man 2                                                   0   \n",
       "Thor                                                        10   \n",
       "Captain America: The First Avenger                          -1   \n",
       "The Avengers                                                -1   \n",
       "Iron Man 3                                                   1   \n",
       "Thor: The Dark World                                        10   \n",
       "Captain America: The Winter Soldier                         10   \n",
       "Guardians of Galaxy                                          2   \n",
       "Avengers: Age of Ultron                                     -1   \n",
       "Ant-Man                                                      6   \n",
       "Captain America: Civil War                                   9   \n",
       "Doctor Strange                                               0   \n",
       "Guardians of Galaxy 2                                        5   \n",
       "Spider-Man: Homecoming                                      10   \n",
       "Thor: Ragnarok                                               1   \n",
       "Black Panther                                                9   \n",
       "Avengers: Infinity War                                       4   \n",
       "Ant-Man and the Wasp                                        -1   \n",
       "Captain Marvel                                               9   \n",
       "Avengers: Endgame                                            9   \n",
       "Spider-Man: Far From Home                                   10   \n",
       "Black Widow                                                  9   \n",
       "Shang-Chi and the Legend of the Ten Rings                   10   \n",
       "Eternals                                                     1   \n",
       "Spider-Man: No Way Home                                     10   \n",
       "Age                                                         43   \n",
       "MonthsClient                                                58   \n",
       "MarvelFilmsPerc                                       0.814815   \n",
       "\n",
       "                                                             2  \\\n",
       "ClientID                                               2YKDILJ   \n",
       "JoinDate                                   2013-06-01 00:00:00   \n",
       "Gender                                                       M   \n",
       "Married                                                      U   \n",
       "Birth                                                     1991   \n",
       "MarvelFavoriteCharacter                               Iron Man   \n",
       "Occupation                                    hotel/restaurant   \n",
       "Iron Man                                                    10   \n",
       "The Incredible Hulk                                         -1   \n",
       "Iron Man 2                                                  10   \n",
       "Thor                                                        -1   \n",
       "Captain America: The First Avenger                          -1   \n",
       "The Avengers                                                 4   \n",
       "Iron Man 3                                                  10   \n",
       "Thor: The Dark World                                        -1   \n",
       "Captain America: The Winter Soldier                         -1   \n",
       "Guardians of Galaxy                                          4   \n",
       "Avengers: Age of Ultron                                      1   \n",
       "Ant-Man                                                      2   \n",
       "Captain America: Civil War                                   3   \n",
       "Doctor Strange                                               0   \n",
       "Guardians of Galaxy 2                                        9   \n",
       "Spider-Man: Homecoming                                      -1   \n",
       "Thor: Ragnarok                                              -1   \n",
       "Black Panther                                                9   \n",
       "Avengers: Infinity War                                       2   \n",
       "Ant-Man and the Wasp                                         7   \n",
       "Captain Marvel                                               4   \n",
       "Avengers: Endgame                                            8   \n",
       "Spider-Man: Far From Home                                    6   \n",
       "Black Widow                                                 -1   \n",
       "Shang-Chi and the Legend of the Ten Rings                    4   \n",
       "Eternals                                                    -1   \n",
       "Spider-Man: No Way Home                                      2   \n",
       "Age                                                         33   \n",
       "MonthsClient                                               130   \n",
       "MarvelFilmsPerc                                       0.666667   \n",
       "\n",
       "                                                             3  \\\n",
       "ClientID                                               2S9E81J   \n",
       "JoinDate                                   2019-08-01 00:00:00   \n",
       "Gender                                                       M   \n",
       "Married                                                      M   \n",
       "Birth                                                     1990   \n",
       "MarvelFavoriteCharacter                                     MJ   \n",
       "Occupation                                         shopkeepers   \n",
       "Iron Man                                                    10   \n",
       "The Incredible Hulk                                          5   \n",
       "Iron Man 2                                                   7   \n",
       "Thor                                                        -1   \n",
       "Captain America: The First Avenger                          -1   \n",
       "The Avengers                                                 0   \n",
       "Iron Man 3                                                  -1   \n",
       "Thor: The Dark World                                         9   \n",
       "Captain America: The Winter Soldier                         10   \n",
       "Guardians of Galaxy                                          6   \n",
       "Avengers: Age of Ultron                                      2   \n",
       "Ant-Man                                                     -1   \n",
       "Captain America: Civil War                                   3   \n",
       "Doctor Strange                                               2   \n",
       "Guardians of Galaxy 2                                        3   \n",
       "Spider-Man: Homecoming                                      10   \n",
       "Thor: Ragnarok                                               5   \n",
       "Black Panther                                                0   \n",
       "Avengers: Infinity War                                       9   \n",
       "Ant-Man and the Wasp                                         4   \n",
       "Captain Marvel                                              -1   \n",
       "Avengers: Endgame                                            9   \n",
       "Spider-Man: Far From Home                                   10   \n",
       "Black Widow                                                 -1   \n",
       "Shang-Chi and the Legend of the Ten Rings                    9   \n",
       "Eternals                                                    -1   \n",
       "Spider-Man: No Way Home                                     10   \n",
       "Age                                                         34   \n",
       "MonthsClient                                                56   \n",
       "MarvelFilmsPerc                                       0.740741   \n",
       "\n",
       "                                                             4  \n",
       "ClientID                                               BHDYVFT  \n",
       "JoinDate                                   2019-08-01 00:00:00  \n",
       "Gender                                                       M  \n",
       "Married                                                      M  \n",
       "Birth                                                     1990  \n",
       "MarvelFavoriteCharacter                               Iron Man  \n",
       "Occupation                                         politicians  \n",
       "Iron Man                                                    10  \n",
       "The Incredible Hulk                                          2  \n",
       "Iron Man 2                                                  10  \n",
       "Thor                                                         2  \n",
       "Captain America: The First Avenger                           4  \n",
       "The Avengers                                                 1  \n",
       "Iron Man 3                                                  10  \n",
       "Thor: The Dark World                                         0  \n",
       "Captain America: The Winter Soldier                          1  \n",
       "Guardians of Galaxy                                          2  \n",
       "Avengers: Age of Ultron                                     -1  \n",
       "Ant-Man                                                      5  \n",
       "Captain America: Civil War                                   8  \n",
       "Doctor Strange                                               3  \n",
       "Guardians of Galaxy 2                                        8  \n",
       "Spider-Man: Homecoming                                       3  \n",
       "Thor: Ragnarok                                              -1  \n",
       "Black Panther                                               -1  \n",
       "Avengers: Infinity War                                       8  \n",
       "Ant-Man and the Wasp                                        -1  \n",
       "Captain Marvel                                               8  \n",
       "Avengers: Endgame                                            2  \n",
       "Spider-Man: Far From Home                                    2  \n",
       "Black Widow                                                  4  \n",
       "Shang-Chi and the Legend of the Ten Rings                    1  \n",
       "Eternals                                                     9  \n",
       "Spider-Man: No Way Home                                      7  \n",
       "Age                                                         34  \n",
       "MonthsClient                                                56  \n",
       "MarvelFilmsPerc                                       0.851852  "
      ]
     },
     "execution_count": 10,
     "metadata": {},
     "output_type": "execute_result"
    }
   ],
   "source": [
    "# 1e\n",
    "\n",
    "# Ajustar el formato de la fecha si es necesario\n",
    "df['JoinDate'] = pd.to_datetime(df['JoinDate'], format='%d/%m/%Y', errors='coerce')\n",
    "\n",
    "# atributo edad usuario asumiendo que 'Birth' es el año de nacimiento\n",
    "current_year = 2024\n",
    "df['Age'] = current_year - df['Birth']\n",
    "\n",
    "# Calcular los meses como cliente desde la fecha de unión hasta la fecha actual\n",
    "# Supongamos que la fecha actual es el 30 de abril de 2024\n",
    "current_date = pd.to_datetime('2024-04-30')\n",
    "df['MonthsClient'] = ((current_date - df['JoinDate']).dt.days / 30.44).astype(int)  # Aproximación de días por mes\n",
    "\n",
    "\n",
    "# Calculando el Porcentaje de Películas de Marvel Vistas\n",
    "# Contar películas vistas (ignorar -1)\n",
    "movies_columns = ['Iron Man', 'The Incredible Hulk', 'Iron Man 2', 'Thor', 'Captain America: The First Avenger',\n",
    "                  'The Avengers', 'Iron Man 3', 'Thor: The Dark World', 'Captain America: The Winter Soldier',\n",
    "                  'Guardians of Galaxy', 'Avengers: Age of Ultron', 'Ant-Man', 'Captain America: Civil War',\n",
    "                  'Doctor Strange', 'Guardians of Galaxy 2', 'Spider-Man: Homecoming', 'Thor: Ragnarok',\n",
    "                  'Black Panther', 'Avengers: Infinity War', 'Ant-Man and the Wasp', 'Captain Marvel',\n",
    "                  'Avengers: Endgame', 'Spider-Man: Far From Home', 'Black Widow', 'Shang-Chi and the Legend of the Ten Rings',\n",
    "                  'Eternals', 'Spider-Man: No Way Home']\n",
    "\n",
    "total_movies = len(movies_columns)\n",
    "df['MarvelFilmsPerc'] = (df[movies_columns] != -1).sum(axis=1) / total_movies\n",
    "\n",
    "\n",
    "df.head(5).T"
   ]
  },
  {
   "cell_type": "markdown",
   "metadata": {},
   "source": [
    "f) Haz las siguientes gráficas y comenta lo que observes.\n",
    "* Los personajes de Marvel por profesiones entre los usuarios que tengan 30 y 35 años.\n",
    "* Distribución de los rankings de las películas agregadas."
   ]
  },
  {
   "cell_type": "code",
   "execution_count": 11,
   "metadata": {},
   "outputs": [
    {
     "data": {
      "image/png": "[encoded data removed]",
      "text/plain": [
       "<Figure size 1200x800 with 1 Axes>"
      ]
     },
     "metadata": {},
     "output_type": "display_data"
    }
   ],
   "source": [
    "# 1f) i)\n",
    "\n",
    "# columnas con fechas y las numéricas en el formato correcto\n",
    "df['JoinDate'] = pd.to_datetime(df['JoinDate'])\n",
    "df['Age'] = pd.to_numeric(df['Age'], errors='coerce')\n",
    "\n",
    "# Filtrar por edad\n",
    "age_filtered_df = df[(df['Age'] >= 30) & (df['Age'] <= 35)]\n",
    "\n",
    "# Crear un gráfico de conteo\n",
    "plt.figure(figsize=(12, 8))\n",
    "sns.countplot(y='MarvelFavoriteCharacter', hue='Occupation', data=age_filtered_df, palette='Set2')\n",
    "plt.title('Popularidad de Personajes de Marvel por Profesión entre Usuarios de 30 a 35 Años')\n",
    "plt.xlabel('Número de Usuarios')\n",
    "plt.ylabel('Personaje de Marvel Favorito')\n",
    "plt.legend(title='Profesión', loc='lower right')\n",
    "plt.show()\n"
   ]
  },
  {
   "cell_type": "code",
   "execution_count": 12,
   "metadata": {},
   "outputs": [
    {
     "data": {
      "image/png": "[encoded data removed]",
      "text/plain": [
       "<Figure size 1300x600 with 1 Axes>"
      ]
     },
     "metadata": {},
     "output_type": "display_data"
    }
   ],
   "source": [
    "\n",
    "# 1f) ii)\n",
    "\n",
    "# Preparar datos (asegurándose de que no se incluyan -1)\n",
    "df[movies_columns] = df[movies_columns].replace(-1, pd.NA).astype('Float64')\n",
    "\n",
    "# Crear un gráfico de caja para todas las películas\n",
    "plt.figure(figsize=(13, 6))\n",
    "sns.boxplot(data=df[movies_columns], palette=\"Set3\")\n",
    "plt.title('Distribución de Rankings de Películas de Marvel por Película')\n",
    "plt.xlabel('Películas')\n",
    "plt.ylabel('Ranking')\n",
    "plt.xticks(rotation=90) \n",
    "plt.grid(True)\n",
    "plt.show()\n"
   ]
  },
  {
   "cell_type": "markdown",
   "metadata": {},
   "source": [
    "<div style=\"background-color: AliceBlue; padding: 10px;\">\n",
    "\n",
    "**i)** **Iron Man** y **MJ** parecen ser extremadamente populares entre todas las profesiones, especialmente entre ingenieros y políticos, lo que podría reflejar su atractivo en grupos con un enfoque tecnológico o de liderazgo. Personajes como Iron Man, quien es conocido por su ingenio tecnológico y su personalidad carismática, son populares entre profesiones como ingenieros y freelancers, lo que puede reflejar una conexión con su perfil de \"inventor\". Algunos personajes, como Hulk y Star-Lord, tienen una representación más baja en comparación con otros. Esto podría indicar que son menos relevantes para este grupo de edad o que su atractivo es más nicho.\n",
    "\n",
    "**ii)** Cada boxplot muestra la mediana de las puntuaciones (la línea dentro de la caja), el rango intercuartílico (la altura de la caja), y los extremos (las líneas que salen de la caja). Estos elementos proporcionan una visión rápida de cómo es típicamente recibida una película y cuán dispersas están las opiniones de los usuarios."
   ]
  },
  {
   "cell_type": "markdown",
   "metadata": {},
   "source": [
    "g) Calcula la matriz de correlación del dataset. ¿Qué nos indica? ¿Existe correlación entre algunas de las variables de las películas? Si es así, ¿cuál crees que es el motivo? Comenta también si las variables que hemos creado pueden aportar valor al dataset."
   ]
  },
  {
   "cell_type": "code",
   "execution_count": 13,
   "metadata": {},
   "outputs": [
    {
     "data": {
      "application/vnd.plotly.v1+json": {
       "config": {
        "plotlyServerURL": "https://plot.ly"
       },
       "data": [
        {
         "colorscale": [
          [
           0,
           "rgb(12,51,131)"
          ],
          [
           0.25,
           "rgb(10,136,186)"
          ],
          [
           0.5,
           "rgb(242,211,56)"
          ],
          [
           0.75,
           "rgb(242,143,56)"
          ],
          [
           1,
           "rgb(217,30,30)"
          ]
         ],
         "reversescale": false,
         "showscale": true,
         "type": "heatmap",
         "x": [
          "Iron Man",
          "The Incredible Hulk",
          "Iron Man 2",
          "Thor",
          "Captain America: The First Avenger",
          "The Avengers",
          "Iron Man 3",
          "Thor: The Dark World",
          "Captain America: The Winter Soldier",
          "Guardians of Galaxy",
          "Avengers: Age of Ultron",
          "Ant-Man",
          "Captain America: Civil War",
          "Doctor Strange",
          "Guardians of Galaxy 2",
          "Spider-Man: Homecoming",
          "Thor: Ragnarok",
          "Black Panther",
          "Avengers: Infinity War",
          "Ant-Man and the Wasp",
          "Captain Marvel",
          "Avengers: Endgame",
          "Spider-Man: Far From Home",
          "Black Widow",
          "Shang-Chi and the Legend of the Ten Rings",
          "Eternals",
          "Spider-Man: No Way Home",
          "Age",
          "MonthsClient",
          "MarvelFilmsPerc"
         ],
         "y": [
          "Iron Man",
          "The Incredible Hulk",
          "Iron Man 2",
          "Thor",
          "Captain America: The First Avenger",
          "The Avengers",
          "Iron Man 3",
          "Thor: The Dark World",
          "Captain America: The Winter Soldier",
          "Guardians of Galaxy",
          "Avengers: Age of Ultron",
          "Ant-Man",
          "Captain America: Civil War",
          "Doctor Strange",
          "Guardians of Galaxy 2",
          "Spider-Man: Homecoming",
          "Thor: Ragnarok",
          "Black Panther",
          "Avengers: Infinity War",
          "Ant-Man and the Wasp",
          "Captain Marvel",
          "Avengers: Endgame",
          "Spider-Man: Far From Home",
          "Black Widow",
          "Shang-Chi and the Legend of the Ten Rings",
          "Eternals",
          "Spider-Man: No Way Home",
          "Age",
          "MonthsClient",
          "MarvelFilmsPerc"
         ],
         "z": [
          [
           1,
           0.0034834205719077057,
           0.5490764978088345,
           -0.05673397198076827,
           -0.11794446773093803,
           -0.0914696990410955,
           0.56233068263794,
           -0.043512675194637675,
           -0.10739998896365274,
           -0.11850239901650311,
           -0.09894791422045376,
           -0.034808142095714485,
           -0.10011022706490302,
           -0.015207923496215324,
           -0.10782570728926952,
           -0.15747948318658767,
           -0.04550046373720016,
           -0.011740841154862442,
           -0.112069146721135,
           -0.02209282085671074,
           -0.006222656417316703,
           -0.10222797978593168,
           -0.15464103753182817,
           -0.13685170304889918,
           0.010081416551358637,
           0.008445102275575619,
           -0.15742609345796985,
           0.014152325311988744,
           0.13308551325521426,
           -0.019199324320887903
          ],
          [
           0.0034834205719077057,
           1,
           0.006180643790858088,
           -0.004330463178754776,
           0.0005750062989050312,
           -0.0010396851603229926,
           0.00416003111260329,
           0.005621602542812883,
           -0.00202285364559477,
           0.012925314262132488,
           -0.005951110946603001,
           -0.009669866851679228,
           -0.001999864736116029,
           -0.0007924911585305297,
           0.0010296833761590373,
           0.0033518880973039604,
           -0.004058705182365761,
           -0.007991967775056143,
           0.01622873470942816,
           0.0035567973649861637,
           0.01576918717863804,
           -0.0014144153733447553,
           0.006221566993867217,
           0.006742411970093781,
           0.004614908166149319,
           0.0038703895396393533,
           0.0028413377029991166,
           -0.0031923747113365127,
           0.0011698222818394978,
           -0.0013495828001924151
          ],
          [
           0.5490764978088345,
           0.006180643790858088,
           1,
           -0.053565991097168156,
           -0.128942679433177,
           -0.10757611312591603,
           0.5552711819204558,
           -0.05136854867794462,
           -0.11031004751062222,
           -0.11170922948003556,
           -0.10710205017419687,
           -0.02577964099406681,
           -0.1065655651446573,
           -0.005089692678526474,
           -0.10234799772779568,
           -0.1606038559348198,
           -0.04231302244146202,
           -0.010788164619601864,
           -0.10848840152496662,
           -0.010560539502601416,
           -0.006094122605875689,
           -0.11378647461657028,
           -0.15835636772663894,
           -0.12081829658096604,
           0.014689847816979197,
           0.0017859749570813695,
           -0.1661375988061483,
           0.011100567498209975,
           0.13150302602582575,
           -0.023770029406147773
          ],
          [
           -0.05673397198076827,
           -0.004330463178754776,
           -0.053565991097168156,
           1,
           -0.009709252914790438,
           -0.007080930355484241,
           -0.05625262925256993,
           0.15518456169772601,
           -0.014006826940707977,
           -0.011039149165742109,
           -0.006781427210664851,
           -0.007041725588319898,
           -0.016797891763934685,
           -0.017631815728408596,
           -0.023237520265419857,
           -0.022498167963470473,
           0.16343778056995656,
           0.012110490088182322,
           -0.026279134222567502,
           -0.004208833108360333,
           0.012126497740376217,
           -0.008968556708255717,
           -0.020766071569246647,
           -0.028369325802449007,
           -0.0008221654820478771,
           0.00924336808320208,
           -0.02715480293105156,
           -0.0018156505914316743,
           -0.011174663173660159,
           -0.0018830981553761782
          ],
          [
           -0.11794446773093803,
           0.0005750062989050312,
           -0.128942679433177,
           -0.009709252914790438,
           1,
           -0.04769807330529048,
           -0.11683727425368444,
           -0.026180524732785287,
           0.34337874697139165,
           -0.05338713307452688,
           -0.04676997560149382,
           -0.009675680233694877,
           0.3374633381683447,
           -0.012374858209630524,
           -0.055789425241963043,
           -0.06253793466246746,
           -0.011995691643152553,
           0.005003578164468654,
           -0.039972866540812925,
           -0.01902315433209256,
           0.003113735467013585,
           -0.044182060908561374,
           -0.06740271685862656,
           -0.05249669061767222,
           -0.00012832579640561674,
           -0.010415068137328273,
           -0.0651587544755382,
           0.017015432645397576,
           0.04356066076725852,
           -0.029500009251523986
          ],
          [
           -0.0914696990410955,
           -0.0010396851603229926,
           -0.10757611312591603,
           -0.007080930355484241,
           -0.04769807330529048,
           1,
           -0.11349442578334788,
           -0.016740478183271495,
           -0.03967588601322819,
           -0.027379022172647816,
           0.3431262495139002,
           -0.014018082534392916,
           -0.04516309940452478,
           -0.0075391155594652405,
           -0.025039286423688602,
           -0.06851257677760914,
           -0.019337455350997765,
           0.010239961873488452,
           0.34085985658064016,
           -0.02205126791499974,
           -0.004407801142967241,
           0.34197253119037,
           -0.08235141213453447,
           -0.057770135398386636,
           0.0031954537853554578,
           -0.013173253841982929,
           -0.07205079104654266,
           -0.011979933236387054,
           -0.07592282632902886,
           0.0157135161116452
          ],
          [
           0.56233068263794,
           0.00416003111260329,
           0.5552711819204558,
           -0.05625262925256993,
           -0.11683727425368444,
           -0.11349442578334788,
           1,
           -0.04314485654753404,
           -0.11311388544954613,
           -0.10763856381343696,
           -0.11550894566699677,
           -0.045658293686726234,
           -0.10011313784571182,
           -0.01628126770745606,
           -0.10397609422996854,
           -0.1631212168415494,
           -0.0465905237288058,
           -0.00993819613482627,
           -0.1190293634014214,
           -0.010613335816406975,
           -0.0021175882309059377,
           -0.10378414714921277,
           -0.15246982019235644,
           -0.12524645710718207,
           0.006805633179040648,
           0.013462628574202742,
           -0.1559614141771984,
           0.024021322703531793,
           0.14322290142216915,
           -0.018319527816040078
          ],
          [
           -0.043512675194637675,
           0.005621602542812883,
           -0.05136854867794462,
           0.15518456169772601,
           -0.026180524732785287,
           -0.016740478183271495,
           -0.04314485654753404,
           1,
           -0.020504005768740136,
           -0.02456041214142322,
           -0.016665340187715875,
           0.0008718716759522715,
           -0.00867880498753901,
           -0.005791152299472935,
           -0.0014117871598421257,
           -0.019568336316793982,
           0.1642523838386641,
           -0.007913631947978821,
           -0.030275315317326176,
           -0.0028776350296122843,
           0.001344769218645912,
           -0.03573301347888596,
           -0.018110507812051462,
           -0.015991305518726993,
           0.0010224240781646426,
           -0.0010270298094833183,
           -0.017585398202167476,
           0.005786750816633563,
           -0.008655893077369433,
           -0.010929513326606384
          ],
          [
           -0.10739998896365274,
           -0.00202285364559477,
           -0.11031004751062222,
           -0.014006826940707977,
           0.34337874697139165,
           -0.03967588601322819,
           -0.11311388544954613,
           -0.020504005768740136,
           1,
           -0.04762770950006891,
           -0.039090835975361914,
           -0.02365708705583668,
           0.326419661799774,
           -0.021286811603667685,
           -0.04721247484247473,
           -0.05881693275437804,
           -0.0030273804344036607,
           0.013031132748770347,
           -0.04781143490045866,
           -0.0026101638075053204,
           0.011913475181657413,
           -0.041410041151082766,
           -0.06574068022664281,
           -0.06535287083757207,
           -0.014314769554155454,
           0.014907038734594263,
           -0.06691604755681466,
           0.008865849417246701,
           0.04301633137090154,
           -0.0076484923109959605
          ],
          [
           -0.11850239901650311,
           0.012925314262132488,
           -0.11170922948003556,
           -0.011039149165742109,
           -0.05338713307452688,
           -0.027379022172647816,
           -0.10763856381343696,
           -0.02456041214142322,
           -0.04762770950006891,
           1,
           -0.01673776938836079,
           -0.010558468956579624,
           -0.05064022740887043,
           -0.0022708293647309705,
           0.3301476526673719,
           -0.05251925355103061,
           -0.0200457918633256,
           0.01679587008357816,
           -0.025763088385873597,
           -0.0111282100025309,
           -0.010880267539581025,
           -0.022933619320250977,
           -0.0690913897377614,
           -0.04865345790315513,
           0.001111130722136281,
           -0.00257959016636564,
           -0.056123556951875035,
           0.013725609685596524,
           0.01245412195692613,
           -0.03739468900168879
          ],
          [
           -0.09894791422045376,
           -0.005951110946603001,
           -0.10710205017419687,
           -0.006781427210664851,
           -0.04676997560149382,
           0.3431262495139002,
           -0.11550894566699677,
           -0.016665340187715875,
           -0.039090835975361914,
           -0.01673776938836079,
           1,
           -0.007244943050938551,
           -0.04841433598385792,
           0.006783906567736244,
           -0.01766958799943994,
           -0.06736110659288434,
           -0.017523607714880346,
           0.014889448640840047,
           0.3423741965563033,
           -0.023513512461860796,
           -0.0034800088225603416,
           0.3441245815911724,
           -0.0733523311971264,
           -0.05374888058062211,
           -0.003756709899509556,
           -0.00848839041524587,
           -0.06725100055204733,
           -0.012407922372774776,
           -0.06261089013723324,
           0.02106477684196619
          ],
          [
           -0.034808142095714485,
           -0.009669866851679228,
           -0.02577964099406681,
           -0.007041725588319898,
           -0.009675680233694877,
           -0.014018082534392916,
           -0.045658293686726234,
           0.0008718716759522715,
           -0.02365708705583668,
           -0.010558468956579624,
           -0.007244943050938551,
           1,
           0.004044010698357978,
           0.0028449526904835015,
           -0.01861498973409067,
           -0.015566117248603122,
           -0.008124312318723593,
           0.002150795214691479,
           -0.025348906728716564,
           0.10677122959128132,
           0.0028349009406725516,
           -0.016925959880603046,
           -0.01410628299356752,
           -0.012283007906486744,
           0.005945824001122945,
           0.002537465410664924,
           -0.0037555851540352256,
           0.016788406462163154,
           0.002565672758522315,
           -0.012192484937894703
          ],
          [
           -0.10011022706490302,
           -0.001999864736116029,
           -0.1065655651446573,
           -0.016797891763934685,
           0.3374633381683447,
           -0.04516309940452478,
           -0.10011313784571182,
           -0.00867880498753901,
           0.326419661799774,
           -0.05064022740887043,
           -0.04841433598385792,
           0.004044010698357978,
           1,
           -0.005343813793638601,
           -0.056851884452188965,
           -0.06846062406848681,
           -0.015330817406514251,
           0.011170509389493963,
           -0.036368977120621954,
           -0.009471749722709543,
           0.012239671108130365,
           -0.045075389230847265,
           -0.07406600822227435,
           -0.053744757198635196,
           -0.017269311584316344,
           0.005036188970927973,
           -0.06234490068826064,
           0.013793313072041836,
           0.04494286622813654,
           -0.023645254436973122
          ],
          [
           -0.015207923496215324,
           -0.0007924911585305297,
           -0.005089692678526474,
           -0.017631815728408596,
           -0.012374858209630524,
           -0.0075391155594652405,
           -0.01628126770745606,
           -0.005791152299472935,
           -0.021286811603667685,
           -0.0022708293647309705,
           0.006783906567736244,
           0.0028449526904835015,
           -0.005343813793638601,
           1,
           -0.007100947860142447,
           -0.012077859695996222,
           -0.003044741492358301,
           -0.005842632473306815,
           -0.01082813732421007,
           -0.002155297265729336,
           -0.009462045883887193,
           -0.0019859831916560306,
           -0.015889988072462485,
           -0.0077188287891791435,
           -0.013112759634476445,
           0.008045160767488025,
           -0.028627384883102888,
           0.013685563123570783,
           -0.01490059908022567,
           -0.01628008743520605
          ],
          [
           -0.10782570728926952,
           0.0010296833761590373,
           -0.10234799772779568,
           -0.023237520265419857,
           -0.055789425241963043,
           -0.025039286423688602,
           -0.10397609422996854,
           -0.0014117871598421257,
           -0.04721247484247473,
           0.3301476526673719,
           -0.01766958799943994,
           -0.01861498973409067,
           -0.056851884452188965,
           -0.007100947860142447,
           1,
           -0.05433193671556594,
           -0.01608800736255694,
           0.012888479454603257,
           -0.020906122980594424,
           -0.016133153494736808,
           -0.008159125793564703,
           -0.021836197510573342,
           -0.06118789168439785,
           -0.04744466890992862,
           -0.009630579816308658,
           0.005989890778886359,
           -0.05007973974068473,
           0.012146554380219905,
           0.0033086872601704957,
           -0.04500337659955356
          ],
          [
           -0.15747948318658767,
           0.0033518880973039604,
           -0.1606038559348198,
           -0.022498167963470473,
           -0.06253793466246746,
           -0.06851257677760914,
           -0.1631212168415494,
           -0.019568336316793982,
           -0.05881693275437804,
           -0.05251925355103061,
           -0.06736110659288434,
           -0.015566117248603122,
           -0.06846062406848681,
           -0.012077859695996222,
           -0.05433193671556594,
           1,
           -0.02920726667106,
           0.008618015471164158,
           -0.07013524375174883,
           -0.023668799095084233,
           -0.0007743775879062757,
           -0.07502557036677938,
           0.4267417348171474,
           -0.06613400239589563,
           -0.007225791801179044,
           -0.004257455306272742,
           0.4176526827253654,
           -0.031433231606137535,
           -0.08609999807378742,
           -0.024965576025311038
          ],
          [
           -0.04550046373720016,
           -0.004058705182365761,
           -0.04231302244146202,
           0.16343778056995656,
           -0.011995691643152553,
           -0.019337455350997765,
           -0.0465905237288058,
           0.1642523838386641,
           -0.0030273804344036607,
           -0.0200457918633256,
           -0.017523607714880346,
           -0.008124312318723593,
           -0.015330817406514251,
           -0.003044741492358301,
           -0.01608800736255694,
           -0.02920726667106,
           1,
           -0.006908071020201643,
           -0.001295214830447229,
           -0.0019106469866861891,
           -0.004215365094227153,
           -0.02273478518012619,
           -0.03833449229970265,
           -0.021949434442339745,
           -0.014490697133341652,
           -0.007229310896401266,
           -0.025484516171542192,
           -0.0012166192746586892,
           -0.009073093240384644,
           -0.014072250839275352
          ],
          [
           -0.011740841154862442,
           -0.007991967775056143,
           -0.010788164619601864,
           0.012110490088182322,
           0.005003578164468654,
           0.010239961873488452,
           -0.00993819613482627,
           -0.007913631947978821,
           0.013031132748770347,
           0.01679587008357816,
           0.014889448640840047,
           0.002150795214691479,
           0.011170509389493963,
           -0.005842632473306815,
           0.012888479454603257,
           0.008618015471164158,
           -0.006908071020201643,
           1,
           0.0004158431427991937,
           0.005604360904448742,
           0.016634224914009624,
           0.011984361640998737,
           -0.005747350288949421,
           -0.005406323869410401,
           0.007702883817595932,
           -0.000253962885983663,
           0.0126618815926073,
           0.005510650424671011,
           -0.00246316242545662,
           0.0011196677999857853
          ],
          [
           -0.112069146721135,
           0.01622873470942816,
           -0.10848840152496662,
           -0.026279134222567502,
           -0.039972866540812925,
           0.34085985658064016,
           -0.1190293634014214,
           -0.030275315317326176,
           -0.04781143490045866,
           -0.025763088385873597,
           0.3423741965563033,
           -0.025348906728716564,
           -0.036368977120621954,
           -0.01082813732421007,
           -0.020906122980594424,
           -0.07013524375174883,
           -0.001295214830447229,
           0.0004158431427991937,
           1,
           -0.01915699410666504,
           -0.008947729570212134,
           0.34716387856416786,
           -0.06153387153860359,
           -0.04101109757601971,
           -0.01593440878244009,
           -0.005113923613754477,
           -0.07004390763424806,
           -0.019889531912215007,
           -0.07496832938169502,
           0.007581372256666768
          ],
          [
           -0.02209282085671074,
           0.0035567973649861637,
           -0.010560539502601416,
           -0.004208833108360333,
           -0.01902315433209256,
           -0.02205126791499974,
           -0.010613335816406975,
           -0.0028776350296122843,
           -0.0026101638075053204,
           -0.0111282100025309,
           -0.023513512461860796,
           0.10677122959128132,
           -0.009471749722709543,
           -0.002155297265729336,
           -0.016133153494736808,
           -0.023668799095084233,
           -0.0019106469866861891,
           0.005604360904448742,
           -0.01915699410666504,
           1,
           -0.0025803876741191272,
           -0.03687372934041872,
           -0.004324448410121691,
           -0.006818518125461574,
           0.010766532493153722,
           0.010864465073333128,
           -0.02893668306596325,
           0.006394883795885106,
           -0.007888279099431152,
           -0.004099552177714873
          ],
          [
           -0.006222656417316703,
           0.01576918717863804,
           -0.006094122605875689,
           0.012126497740376217,
           0.003113735467013585,
           -0.004407801142967241,
           -0.0021175882309059377,
           0.001344769218645912,
           0.011913475181657413,
           -0.010880267539581025,
           -0.0034800088225603416,
           0.0028349009406725516,
           0.012239671108130365,
           -0.009462045883887193,
           -0.008159125793564703,
           -0.0007743775879062757,
           -0.004215365094227153,
           0.016634224914009624,
           -0.008947729570212134,
           -0.0025803876741191272,
           1,
           0.005468042415303083,
           0.006198543682123203,
           0.008782401114401853,
           0.0026627670252733966,
           -0.022643778606358255,
           0.0032862287872869366,
           -0.008242195282175306,
           -0.009041399502962762,
           0.00023149749361940232
          ],
          [
           -0.10222797978593168,
           -0.0014144153733447553,
           -0.11378647461657028,
           -0.008968556708255717,
           -0.044182060908561374,
           0.34197253119037,
           -0.10378414714921277,
           -0.03573301347888596,
           -0.041410041151082766,
           -0.022933619320250977,
           0.3441245815911724,
           -0.016925959880603046,
           -0.045075389230847265,
           -0.0019859831916560306,
           -0.021836197510573342,
           -0.07502557036677938,
           -0.02273478518012619,
           0.011984361640998737,
           0.34716387856416786,
           -0.03687372934041872,
           0.005468042415303083,
           1,
           -0.08017594647597323,
           -0.0624700914611851,
           -0.0031381936300306024,
           0.00035097005401342533,
           -0.06795080612439444,
           -0.013694153892402744,
           -0.07611762310917031,
           0.02552126234412083
          ],
          [
           -0.15464103753182817,
           0.006221566993867217,
           -0.15835636772663894,
           -0.020766071569246647,
           -0.06740271685862656,
           -0.08235141213453447,
           -0.15246982019235644,
           -0.018110507812051462,
           -0.06574068022664281,
           -0.0690913897377614,
           -0.0733523311971264,
           -0.01410628299356752,
           -0.07406600822227435,
           -0.015889988072462485,
           -0.06118789168439785,
           0.4267417348171474,
           -0.03833449229970265,
           -0.005747350288949421,
           -0.06153387153860359,
           -0.004324448410121691,
           0.006198543682123203,
           -0.08017594647597323,
           1,
           -0.06977167173560152,
           0.0010567192714791844,
           0.010879265363469278,
           0.432937397993384,
           -0.03419123517339627,
           -0.08696558866748778,
           -0.025591339290111648
          ],
          [
           -0.13685170304889918,
           0.006742411970093781,
           -0.12081829658096604,
           -0.028369325802449007,
           -0.05249669061767222,
           -0.057770135398386636,
           -0.12524645710718207,
           -0.015991305518726993,
           -0.06535287083757207,
           -0.04865345790315513,
           -0.05374888058062211,
           -0.012283007906486744,
           -0.053744757198635196,
           -0.0077188287891791435,
           -0.04744466890992862,
           -0.06613400239589563,
           -0.021949434442339745,
           -0.005406323869410401,
           -0.04101109757601971,
           -0.006818518125461574,
           0.008782401114401853,
           -0.0624700914611851,
           -0.06977167173560152,
           1,
           -0.005477287246036237,
           -0.013167451294619782,
           -0.07894838300487769,
           -0.019565143619019433,
           -0.015241575402020162,
           -0.07534173756480056
          ],
          [
           0.010081416551358637,
           0.004614908166149319,
           0.014689847816979197,
           -0.0008221654820478771,
           -0.00012832579640561674,
           0.0031954537853554578,
           0.006805633179040648,
           0.0010224240781646426,
           -0.014314769554155454,
           0.001111130722136281,
           -0.003756709899509556,
           0.005945824001122945,
           -0.017269311584316344,
           -0.013112759634476445,
           -0.009630579816308658,
           -0.007225791801179044,
           -0.014490697133341652,
           0.007702883817595932,
           -0.01593440878244009,
           0.010766532493153722,
           0.0026627670252733966,
           -0.0031381936300306024,
           0.0010567192714791844,
           -0.005477287246036237,
           1,
           0.006108134536801717,
           0.005066131296526415,
           0.011035586422053309,
           0.0062677964152168305,
           0.003505935868402054
          ],
          [
           0.008445102275575619,
           0.0038703895396393533,
           0.0017859749570813695,
           0.00924336808320208,
           -0.010415068137328273,
           -0.013173253841982929,
           0.013462628574202742,
           -0.0010270298094833183,
           0.014907038734594263,
           -0.00257959016636564,
           -0.00848839041524587,
           0.002537465410664924,
           0.005036188970927973,
           0.008045160767488025,
           0.005989890778886359,
           -0.004257455306272742,
           -0.007229310896401266,
           -0.000253962885983663,
           -0.005113923613754477,
           0.010864465073333128,
           -0.022643778606358255,
           0.00035097005401342533,
           0.010879265363469278,
           -0.013167451294619782,
           0.006108134536801717,
           1,
           0.00017779483527355768,
           0.0055768743698706375,
           0.005927409422348169,
           -0.010571795858656417
          ],
          [
           -0.15742609345796985,
           0.0028413377029991166,
           -0.1661375988061483,
           -0.02715480293105156,
           -0.0651587544755382,
           -0.07205079104654266,
           -0.1559614141771984,
           -0.017585398202167476,
           -0.06691604755681466,
           -0.056123556951875035,
           -0.06725100055204733,
           -0.0037555851540352256,
           -0.06234490068826064,
           -0.028627384883102888,
           -0.05007973974068473,
           0.4176526827253654,
           -0.025484516171542192,
           0.0126618815926073,
           -0.07004390763424806,
           -0.02893668306596325,
           0.0032862287872869366,
           -0.06795080612439444,
           0.432937397993384,
           -0.07894838300487769,
           0.005066131296526415,
           0.00017779483527355768,
           1,
           -0.036854506160234966,
           -0.09594246772284105,
           -0.019776411003143375
          ],
          [
           0.014152325311988744,
           -0.0031923747113365127,
           0.011100567498209975,
           -0.0018156505914316743,
           0.017015432645397576,
           -0.011979933236387054,
           0.024021322703531793,
           0.005786750816633563,
           0.008865849417246701,
           0.013725609685596524,
           -0.012407922372774776,
           0.016788406462163154,
           0.013793313072041836,
           0.013685563123570783,
           0.012146554380219905,
           -0.031433231606137535,
           -0.0012166192746586892,
           0.005510650424671011,
           -0.019889531912215007,
           0.006394883795885106,
           -0.008242195282175306,
           -0.013694153892402744,
           -0.03419123517339627,
           -0.019565143619019433,
           0.011035586422053309,
           0.0055768743698706375,
           -0.036854506160234966,
           1,
           0.14442994383242302,
           0.002262966817248695
          ],
          [
           0.13308551325521426,
           0.0011698222818394978,
           0.13150302602582575,
           -0.011174663173660159,
           0.04356066076725852,
           -0.07592282632902886,
           0.14322290142216915,
           -0.008655893077369433,
           0.04301633137090154,
           0.01245412195692613,
           -0.06261089013723324,
           0.002565672758522315,
           0.04494286622813654,
           -0.01490059908022567,
           0.0033086872601704957,
           -0.08609999807378742,
           -0.009073093240384644,
           -0.00246316242545662,
           -0.07496832938169502,
           -0.007888279099431152,
           -0.009041399502962762,
           -0.07611762310917031,
           -0.08696558866748778,
           -0.015241575402020162,
           0.0062677964152168305,
           0.005927409422348169,
           -0.09594246772284105,
           0.14442994383242302,
           1,
           -0.006511712779528475
          ],
          [
           -0.019199324320887903,
           -0.0013495828001924151,
           -0.023770029406147773,
           -0.0018830981553761782,
           -0.029500009251523986,
           0.0157135161116452,
           -0.018319527816040078,
           -0.010929513326606384,
           -0.0076484923109959605,
           -0.03739468900168879,
           0.02106477684196619,
           -0.012192484937894703,
           -0.023645254436973122,
           -0.01628008743520605,
           -0.04500337659955356,
           -0.024965576025311038,
           -0.014072250839275352,
           0.0011196677999857853,
           0.007581372256666768,
           -0.004099552177714873,
           0.00023149749361940232,
           0.02552126234412083,
           -0.025591339290111648,
           -0.07534173756480056,
           0.003505935868402054,
           -0.010571795858656417,
           -0.019776411003143375,
           0.002262966817248695,
           -0.006511712779528475,
           1
          ]
         ]
        }
       ],
       "layout": {
        "annotations": [
         {
          "font": {
           "color": "white",
           "size": 8
          },
          "showarrow": false,
          "text": "1.0",
          "x": "Iron Man",
          "xref": "x",
          "y": "Iron Man",
          "yref": "y"
         },
         {
          "font": {
           "color": "white",
           "size": 8
          },
          "showarrow": false,
          "text": "0.0",
          "x": "The Incredible Hulk",
          "xref": "x",
          "y": "Iron Man",
          "yref": "y"
         },
         {
          "font": {
           "color": "white",
           "size": 8
          },
          "showarrow": false,
          "text": "0.55",
          "x": "Iron Man 2",
          "xref": "x",
          "y": "Iron Man",
          "yref": "y"
         },
         {
          "font": {
           "color": "white",
           "size": 8
          },
          "showarrow": false,
          "text": "-0.06",
          "x": "Thor",
          "xref": "x",
          "y": "Iron Man",
          "yref": "y"
         },
         {
          "font": {
           "color": "white",
           "size": 8
          },
          "showarrow": false,
          "text": "-0.12",
          "x": "Captain America: The First Avenger",
          "xref": "x",
          "y": "Iron Man",
          "yref": "y"
         },
         {
          "font": {
           "color": "white",
           "size": 8
          },
          "showarrow": false,
          "text": "-0.09",
          "x": "The Avengers",
          "xref": "x",
          "y": "Iron Man",
          "yref": "y"
         },
         {
          "font": {
           "color": "white",
           "size": 8
          },
          "showarrow": false,
          "text": "0.56",
          "x": "Iron Man 3",
          "xref": "x",
          "y": "Iron Man",
          "yref": "y"
         },
         {
          "font": {
           "color": "white",
           "size": 8
          },
          "showarrow": false,
          "text": "-0.04",
          "x": "Thor: The Dark World",
          "xref": "x",
          "y": "Iron Man",
          "yref": "y"
         },
         {
          "font": {
           "color": "white",
           "size": 8
          },
          "showarrow": false,
          "text": "-0.11",
          "x": "Captain America: The Winter Soldier",
          "xref": "x",
          "y": "Iron Man",
          "yref": "y"
         },
         {
          "font": {
           "color": "white",
           "size": 8
          },
          "showarrow": false,
          "text": "-0.12",
          "x": "Guardians of Galaxy",
          "xref": "x",
          "y": "Iron Man",
          "yref": "y"
         },
         {
          "font": {
           "color": "white",
           "size": 8
          },
          "showarrow": false,
          "text": "-0.1",
          "x": "Avengers: Age of Ultron",
          "xref": "x",
          "y": "Iron Man",
          "yref": "y"
         },
         {
          "font": {
           "color": "white",
           "size": 8
          },
          "showarrow": false,
          "text": "-0.03",
          "x": "Ant-Man",
          "xref": "x",
          "y": "Iron Man",
          "yref": "y"
         },
         {
          "font": {
           "color": "white",
           "size": 8
          },
          "showarrow": false,
          "text": "-0.1",
          "x": "Captain America: Civil War",
          "xref": "x",
          "y": "Iron Man",
          "yref": "y"
         },
         {
          "font": {
           "color": "white",
           "size": 8
          },
          "showarrow": false,
          "text": "-0.02",
          "x": "Doctor Strange",
          "xref": "x",
          "y": "Iron Man",
          "yref": "y"
         },
         {
          "font": {
           "color": "white",
           "size": 8
          },
          "showarrow": false,
          "text": "-0.11",
          "x": "Guardians of Galaxy 2",
          "xref": "x",
          "y": "Iron Man",
          "yref": "y"
         },
         {
          "font": {
           "color": "white",
           "size": 8
          },
          "showarrow": false,
          "text": "-0.16",
          "x": "Spider-Man: Homecoming",
          "xref": "x",
          "y": "Iron Man",
          "yref": "y"
         },
         {
          "font": {
           "color": "white",
           "size": 8
          },
          "showarrow": false,
          "text": "-0.05",
          "x": "Thor: Ragnarok",
          "xref": "x",
          "y": "Iron Man",
          "yref": "y"
         },
         {
          "font": {
           "color": "white",
           "size": 8
          },
          "showarrow": false,
          "text": "-0.01",
          "x": "Black Panther",
          "xref": "x",
          "y": "Iron Man",
          "yref": "y"
         },
         {
          "font": {
           "color": "white",
           "size": 8
          },
          "showarrow": false,
          "text": "-0.11",
          "x": "Avengers: Infinity War",
          "xref": "x",
          "y": "Iron Man",
          "yref": "y"
         },
         {
          "font": {
           "color": "white",
           "size": 8
          },
          "showarrow": false,
          "text": "-0.02",
          "x": "Ant-Man and the Wasp",
          "xref": "x",
          "y": "Iron Man",
          "yref": "y"
         },
         {
          "font": {
           "color": "white",
           "size": 8
          },
          "showarrow": false,
          "text": "-0.01",
          "x": "Captain Marvel",
          "xref": "x",
          "y": "Iron Man",
          "yref": "y"
         },
         {
          "font": {
           "color": "white",
           "size": 8
          },
          "showarrow": false,
          "text": "-0.1",
          "x": "Avengers: Endgame",
          "xref": "x",
          "y": "Iron Man",
          "yref": "y"
         },
         {
          "font": {
           "color": "white",
           "size": 8
          },
          "showarrow": false,
          "text": "-0.15",
          "x": "Spider-Man: Far From Home",
          "xref": "x",
          "y": "Iron Man",
          "yref": "y"
         },
         {
          "font": {
           "color": "white",
           "size": 8
          },
          "showarrow": false,
          "text": "-0.14",
          "x": "Black Widow",
          "xref": "x",
          "y": "Iron Man",
          "yref": "y"
         },
         {
          "font": {
           "color": "white",
           "size": 8
          },
          "showarrow": false,
          "text": "0.01",
          "x": "Shang-Chi and the Legend of the Ten Rings",
          "xref": "x",
          "y": "Iron Man",
          "yref": "y"
         },
         {
          "font": {
           "color": "white",
           "size": 8
          },
          "showarrow": false,
          "text": "0.01",
          "x": "Eternals",
          "xref": "x",
          "y": "Iron Man",
          "yref": "y"
         },
         {
          "font": {
           "color": "white",
           "size": 8
          },
          "showarrow": false,
          "text": "-0.16",
          "x": "Spider-Man: No Way Home",
          "xref": "x",
          "y": "Iron Man",
          "yref": "y"
         },
         {
          "font": {
           "color": "white",
           "size": 8
          },
          "showarrow": false,
          "text": "0.01",
          "x": "Age",
          "xref": "x",
          "y": "Iron Man",
          "yref": "y"
         },
         {
          "font": {
           "color": "white",
           "size": 8
          },
          "showarrow": false,
          "text": "0.13",
          "x": "MonthsClient",
          "xref": "x",
          "y": "Iron Man",
          "yref": "y"
         },
         {
          "font": {
           "color": "white",
           "size": 8
          },
          "showarrow": false,
          "text": "-0.02",
          "x": "MarvelFilmsPerc",
          "xref": "x",
          "y": "Iron Man",
          "yref": "y"
         },
         {
          "font": {
           "color": "white",
           "size": 8
          },
          "showarrow": false,
          "text": "0.0",
          "x": "Iron Man",
          "xref": "x",
          "y": "The Incredible Hulk",
          "yref": "y"
         },
         {
          "font": {
           "color": "white",
           "size": 8
          },
          "showarrow": false,
          "text": "1.0",
          "x": "The Incredible Hulk",
          "xref": "x",
          "y": "The Incredible Hulk",
          "yref": "y"
         },
         {
          "font": {
           "color": "white",
           "size": 8
          },
          "showarrow": false,
          "text": "0.01",
          "x": "Iron Man 2",
          "xref": "x",
          "y": "The Incredible Hulk",
          "yref": "y"
         },
         {
          "font": {
           "color": "white",
           "size": 8
          },
          "showarrow": false,
          "text": "-0.0",
          "x": "Thor",
          "xref": "x",
          "y": "The Incredible Hulk",
          "yref": "y"
         },
         {
          "font": {
           "color": "white",
           "size": 8
          },
          "showarrow": false,
          "text": "0.0",
          "x": "Captain America: The First Avenger",
          "xref": "x",
          "y": "The Incredible Hulk",
          "yref": "y"
         },
         {
          "font": {
           "color": "white",
           "size": 8
          },
          "showarrow": false,
          "text": "-0.0",
          "x": "The Avengers",
          "xref": "x",
          "y": "The Incredible Hulk",
          "yref": "y"
         },
         {
          "font": {
           "color": "white",
           "size": 8
          },
          "showarrow": false,
          "text": "0.0",
          "x": "Iron Man 3",
          "xref": "x",
          "y": "The Incredible Hulk",
          "yref": "y"
         },
         {
          "font": {
           "color": "white",
           "size": 8
          },
          "showarrow": false,
          "text": "0.01",
          "x": "Thor: The Dark World",
          "xref": "x",
          "y": "The Incredible Hulk",
          "yref": "y"
         },
         {
          "font": {
           "color": "white",
           "size": 8
          },
          "showarrow": false,
          "text": "-0.0",
          "x": "Captain America: The Winter Soldier",
          "xref": "x",
          "y": "The Incredible Hulk",
          "yref": "y"
         },
         {
          "font": {
           "color": "white",
           "size": 8
          },
          "showarrow": false,
          "text": "0.01",
          "x": "Guardians of Galaxy",
          "xref": "x",
          "y": "The Incredible Hulk",
          "yref": "y"
         },
         {
          "font": {
           "color": "white",
           "size": 8
          },
          "showarrow": false,
          "text": "-0.01",
          "x": "Avengers: Age of Ultron",
          "xref": "x",
          "y": "The Incredible Hulk",
          "yref": "y"
         },
         {
          "font": {
           "color": "white",
           "size": 8
          },
          "showarrow": false,
          "text": "-0.01",
          "x": "Ant-Man",
          "xref": "x",
          "y": "The Incredible Hulk",
          "yref": "y"
         },
         {
          "font": {
           "color": "white",
           "size": 8
          },
          "showarrow": false,
          "text": "-0.0",
          "x": "Captain America: Civil War",
          "xref": "x",
          "y": "The Incredible Hulk",
          "yref": "y"
         },
         {
          "font": {
           "color": "white",
           "size": 8
          },
          "showarrow": false,
          "text": "-0.0",
          "x": "Doctor Strange",
          "xref": "x",
          "y": "The Incredible Hulk",
          "yref": "y"
         },
         {
          "font": {
           "color": "white",
           "size": 8
          },
          "showarrow": false,
          "text": "0.0",
          "x": "Guardians of Galaxy 2",
          "xref": "x",
          "y": "The Incredible Hulk",
          "yref": "y"
         },
         {
          "font": {
           "color": "white",
           "size": 8
          },
          "showarrow": false,
          "text": "0.0",
          "x": "Spider-Man: Homecoming",
          "xref": "x",
          "y": "The Incredible Hulk",
          "yref": "y"
         },
         {
          "font": {
           "color": "white",
           "size": 8
          },
          "showarrow": false,
          "text": "-0.0",
          "x": "Thor: Ragnarok",
          "xref": "x",
          "y": "The Incredible Hulk",
          "yref": "y"
         },
         {
          "font": {
           "color": "white",
           "size": 8
          },
          "showarrow": false,
          "text": "-0.01",
          "x": "Black Panther",
          "xref": "x",
          "y": "The Incredible Hulk",
          "yref": "y"
         },
         {
          "font": {
           "color": "white",
           "size": 8
          },
          "showarrow": false,
          "text": "0.02",
          "x": "Avengers: Infinity War",
          "xref": "x",
          "y": "The Incredible Hulk",
          "yref": "y"
         },
         {
          "font": {
           "color": "white",
           "size": 8
          },
          "showarrow": false,
          "text": "0.0",
          "x": "Ant-Man and the Wasp",
          "xref": "x",
          "y": "The Incredible Hulk",
          "yref": "y"
         },
         {
          "font": {
           "color": "white",
           "size": 8
          },
          "showarrow": false,
          "text": "0.02",
          "x": "Captain Marvel",
          "xref": "x",
          "y": "The Incredible Hulk",
          "yref": "y"
         },
         {
          "font": {
           "color": "white",
           "size": 8
          },
          "showarrow": false,
          "text": "-0.0",
          "x": "Avengers: Endgame",
          "xref": "x",
          "y": "The Incredible Hulk",
          "yref": "y"
         },
         {
          "font": {
           "color": "white",
           "size": 8
          },
          "showarrow": false,
          "text": "0.01",
          "x": "Spider-Man: Far From Home",
          "xref": "x",
          "y": "The Incredible Hulk",
          "yref": "y"
         },
         {
          "font": {
           "color": "white",
           "size": 8
          },
          "showarrow": false,
          "text": "0.01",
          "x": "Black Widow",
          "xref": "x",
          "y": "The Incredible Hulk",
          "yref": "y"
         },
         {
          "font": {
           "color": "white",
           "size": 8
          },
          "showarrow": false,
          "text": "0.0",
          "x": "Shang-Chi and the Legend of the Ten Rings",
          "xref": "x",
          "y": "The Incredible Hulk",
          "yref": "y"
         },
         {
          "font": {
           "color": "white",
           "size": 8
          },
          "showarrow": false,
          "text": "0.0",
          "x": "Eternals",
          "xref": "x",
          "y": "The Incredible Hulk",
          "yref": "y"
         },
         {
          "font": {
           "color": "white",
           "size": 8
          },
          "showarrow": false,
          "text": "0.0",
          "x": "Spider-Man: No Way Home",
          "xref": "x",
          "y": "The Incredible Hulk",
          "yref": "y"
         },
         {
          "font": {
           "color": "white",
           "size": 8
          },
          "showarrow": false,
          "text": "-0.0",
          "x": "Age",
          "xref": "x",
          "y": "The Incredible Hulk",
          "yref": "y"
         },
         {
          "font": {
           "color": "white",
           "size": 8
          },
          "showarrow": false,
          "text": "0.0",
          "x": "MonthsClient",
          "xref": "x",
          "y": "The Incredible Hulk",
          "yref": "y"
         },
         {
          "font": {
           "color": "white",
           "size": 8
          },
          "showarrow": false,
          "text": "-0.0",
          "x": "MarvelFilmsPerc",
          "xref": "x",
          "y": "The Incredible Hulk",
          "yref": "y"
         },
         {
          "font": {
           "color": "white",
           "size": 8
          },
          "showarrow": false,
          "text": "0.55",
          "x": "Iron Man",
          "xref": "x",
          "y": "Iron Man 2",
          "yref": "y"
         },
         {
          "font": {
           "color": "white",
           "size": 8
          },
          "showarrow": false,
          "text": "0.01",
          "x": "The Incredible Hulk",
          "xref": "x",
          "y": "Iron Man 2",
          "yref": "y"
         },
         {
          "font": {
           "color": "white",
           "size": 8
          },
          "showarrow": false,
          "text": "1.0",
          "x": "Iron Man 2",
          "xref": "x",
          "y": "Iron Man 2",
          "yref": "y"
         },
         {
          "font": {
           "color": "white",
           "size": 8
          },
          "showarrow": false,
          "text": "-0.05",
          "x": "Thor",
          "xref": "x",
          "y": "Iron Man 2",
          "yref": "y"
         },
         {
          "font": {
           "color": "white",
           "size": 8
          },
          "showarrow": false,
          "text": "-0.13",
          "x": "Captain America: The First Avenger",
          "xref": "x",
          "y": "Iron Man 2",
          "yref": "y"
         },
         {
          "font": {
           "color": "white",
           "size": 8
          },
          "showarrow": false,
          "text": "-0.11",
          "x": "The Avengers",
          "xref": "x",
          "y": "Iron Man 2",
          "yref": "y"
         },
         {
          "font": {
           "color": "white",
           "size": 8
          },
          "showarrow": false,
          "text": "0.56",
          "x": "Iron Man 3",
          "xref": "x",
          "y": "Iron Man 2",
          "yref": "y"
         },
         {
          "font": {
           "color": "white",
           "size": 8
          },
          "showarrow": false,
          "text": "-0.05",
          "x": "Thor: The Dark World",
          "xref": "x",
          "y": "Iron Man 2",
          "yref": "y"
         },
         {
          "font": {
           "color": "white",
           "size": 8
          },
          "showarrow": false,
          "text": "-0.11",
          "x": "Captain America: The Winter Soldier",
          "xref": "x",
          "y": "Iron Man 2",
          "yref": "y"
         },
         {
          "font": {
           "color": "white",
           "size": 8
          },
          "showarrow": false,
          "text": "-0.11",
          "x": "Guardians of Galaxy",
          "xref": "x",
          "y": "Iron Man 2",
          "yref": "y"
         },
         {
          "font": {
           "color": "white",
           "size": 8
          },
          "showarrow": false,
          "text": "-0.11",
          "x": "Avengers: Age of Ultron",
          "xref": "x",
          "y": "Iron Man 2",
          "yref": "y"
         },
         {
          "font": {
           "color": "white",
           "size": 8
          },
          "showarrow": false,
          "text": "-0.03",
          "x": "Ant-Man",
          "xref": "x",
          "y": "Iron Man 2",
          "yref": "y"
         },
         {
          "font": {
           "color": "white",
           "size": 8
          },
          "showarrow": false,
          "text": "-0.11",
          "x": "Captain America: Civil War",
          "xref": "x",
          "y": "Iron Man 2",
          "yref": "y"
         },
         {
          "font": {
           "color": "white",
           "size": 8
          },
          "showarrow": false,
          "text": "-0.01",
          "x": "Doctor Strange",
          "xref": "x",
          "y": "Iron Man 2",
          "yref": "y"
         },
         {
          "font": {
           "color": "white",
           "size": 8
          },
          "showarrow": false,
          "text": "-0.1",
          "x": "Guardians of Galaxy 2",
          "xref": "x",
          "y": "Iron Man 2",
          "yref": "y"
         },
         {
          "font": {
           "color": "white",
           "size": 8
          },
          "showarrow": false,
          "text": "-0.16",
          "x": "Spider-Man: Homecoming",
          "xref": "x",
          "y": "Iron Man 2",
          "yref": "y"
         },
         {
          "font": {
           "color": "white",
           "size": 8
          },
          "showarrow": false,
          "text": "-0.04",
          "x": "Thor: Ragnarok",
          "xref": "x",
          "y": "Iron Man 2",
          "yref": "y"
         },
         {
          "font": {
           "color": "white",
           "size": 8
          },
          "showarrow": false,
          "text": "-0.01",
          "x": "Black Panther",
          "xref": "x",
          "y": "Iron Man 2",
          "yref": "y"
         },
         {
          "font": {
           "color": "white",
           "size": 8
          },
          "showarrow": false,
          "text": "-0.11",
          "x": "Avengers: Infinity War",
          "xref": "x",
          "y": "Iron Man 2",
          "yref": "y"
         },
         {
          "font": {
           "color": "white",
           "size": 8
          },
          "showarrow": false,
          "text": "-0.01",
          "x": "Ant-Man and the Wasp",
          "xref": "x",
          "y": "Iron Man 2",
          "yref": "y"
         },
         {
          "font": {
           "color": "white",
           "size": 8
          },
          "showarrow": false,
          "text": "-0.01",
          "x": "Captain Marvel",
          "xref": "x",
          "y": "Iron Man 2",
          "yref": "y"
         },
         {
          "font": {
           "color": "white",
           "size": 8
          },
          "showarrow": false,
          "text": "-0.11",
          "x": "Avengers: Endgame",
          "xref": "x",
          "y": "Iron Man 2",
          "yref": "y"
         },
         {
          "font": {
           "color": "white",
           "size": 8
          },
          "showarrow": false,
          "text": "-0.16",
          "x": "Spider-Man: Far From Home",
          "xref": "x",
          "y": "Iron Man 2",
          "yref": "y"
         },
         {
          "font": {
           "color": "white",
           "size": 8
          },
          "showarrow": false,
          "text": "-0.12",
          "x": "Black Widow",
          "xref": "x",
          "y": "Iron Man 2",
          "yref": "y"
         },
         {
          "font": {
           "color": "white",
           "size": 8
          },
          "showarrow": false,
          "text": "0.01",
          "x": "Shang-Chi and the Legend of the Ten Rings",
          "xref": "x",
          "y": "Iron Man 2",
          "yref": "y"
         },
         {
          "font": {
           "color": "white",
           "size": 8
          },
          "showarrow": false,
          "text": "0.0",
          "x": "Eternals",
          "xref": "x",
          "y": "Iron Man 2",
          "yref": "y"
         },
         {
          "font": {
           "color": "white",
           "size": 8
          },
          "showarrow": false,
          "text": "-0.17",
          "x": "Spider-Man: No Way Home",
          "xref": "x",
          "y": "Iron Man 2",
          "yref": "y"
         },
         {
          "font": {
           "color": "white",
           "size": 8
          },
          "showarrow": false,
          "text": "0.01",
          "x": "Age",
          "xref": "x",
          "y": "Iron Man 2",
          "yref": "y"
         },
         {
          "font": {
           "color": "white",
           "size": 8
          },
          "showarrow": false,
          "text": "0.13",
          "x": "MonthsClient",
          "xref": "x",
          "y": "Iron Man 2",
          "yref": "y"
         },
         {
          "font": {
           "color": "white",
           "size": 8
          },
          "showarrow": false,
          "text": "-0.02",
          "x": "MarvelFilmsPerc",
          "xref": "x",
          "y": "Iron Man 2",
          "yref": "y"
         },
         {
          "font": {
           "color": "white",
           "size": 8
          },
          "showarrow": false,
          "text": "-0.06",
          "x": "Iron Man",
          "xref": "x",
          "y": "Thor",
          "yref": "y"
         },
         {
          "font": {
           "color": "white",
           "size": 8
          },
          "showarrow": false,
          "text": "-0.0",
          "x": "The Incredible Hulk",
          "xref": "x",
          "y": "Thor",
          "yref": "y"
         },
         {
          "font": {
           "color": "white",
           "size": 8
          },
          "showarrow": false,
          "text": "-0.05",
          "x": "Iron Man 2",
          "xref": "x",
          "y": "Thor",
          "yref": "y"
         },
         {
          "font": {
           "color": "white",
           "size": 8
          },
          "showarrow": false,
          "text": "1.0",
          "x": "Thor",
          "xref": "x",
          "y": "Thor",
          "yref": "y"
         },
         {
          "font": {
           "color": "white",
           "size": 8
          },
          "showarrow": false,
          "text": "-0.01",
          "x": "Captain America: The First Avenger",
          "xref": "x",
          "y": "Thor",
          "yref": "y"
         },
         {
          "font": {
           "color": "white",
           "size": 8
          },
          "showarrow": false,
          "text": "-0.01",
          "x": "The Avengers",
          "xref": "x",
          "y": "Thor",
          "yref": "y"
         },
         {
          "font": {
           "color": "white",
           "size": 8
          },
          "showarrow": false,
          "text": "-0.06",
          "x": "Iron Man 3",
          "xref": "x",
          "y": "Thor",
          "yref": "y"
         },
         {
          "font": {
           "color": "white",
           "size": 8
          },
          "showarrow": false,
          "text": "0.16",
          "x": "Thor: The Dark World",
          "xref": "x",
          "y": "Thor",
          "yref": "y"
         },
         {
          "font": {
           "color": "white",
           "size": 8
          },
          "showarrow": false,
          "text": "-0.01",
          "x": "Captain America: The Winter Soldier",
          "xref": "x",
          "y": "Thor",
          "yref": "y"
         },
         {
          "font": {
           "color": "white",
           "size": 8
          },
          "showarrow": false,
          "text": "-0.01",
          "x": "Guardians of Galaxy",
          "xref": "x",
          "y": "Thor",
          "yref": "y"
         },
         {
          "font": {
           "color": "white",
           "size": 8
          },
          "showarrow": false,
          "text": "-0.01",
          "x": "Avengers: Age of Ultron",
          "xref": "x",
          "y": "Thor",
          "yref": "y"
         },
         {
          "font": {
           "color": "white",
           "size": 8
          },
          "showarrow": false,
          "text": "-0.01",
          "x": "Ant-Man",
          "xref": "x",
          "y": "Thor",
          "yref": "y"
         },
         {
          "font": {
           "color": "white",
           "size": 8
          },
          "showarrow": false,
          "text": "-0.02",
          "x": "Captain America: Civil War",
          "xref": "x",
          "y": "Thor",
          "yref": "y"
         },
         {
          "font": {
           "color": "white",
           "size": 8
          },
          "showarrow": false,
          "text": "-0.02",
          "x": "Doctor Strange",
          "xref": "x",
          "y": "Thor",
          "yref": "y"
         },
         {
          "font": {
           "color": "white",
           "size": 8
          },
          "showarrow": false,
          "text": "-0.02",
          "x": "Guardians of Galaxy 2",
          "xref": "x",
          "y": "Thor",
          "yref": "y"
         },
         {
          "font": {
           "color": "white",
           "size": 8
          },
          "showarrow": false,
          "text": "-0.02",
          "x": "Spider-Man: Homecoming",
          "xref": "x",
          "y": "Thor",
          "yref": "y"
         },
         {
          "font": {
           "color": "white",
           "size": 8
          },
          "showarrow": false,
          "text": "0.16",
          "x": "Thor: Ragnarok",
          "xref": "x",
          "y": "Thor",
          "yref": "y"
         },
         {
          "font": {
           "color": "white",
           "size": 8
          },
          "showarrow": false,
          "text": "0.01",
          "x": "Black Panther",
          "xref": "x",
          "y": "Thor",
          "yref": "y"
         },
         {
          "font": {
           "color": "white",
           "size": 8
          },
          "showarrow": false,
          "text": "-0.03",
          "x": "Avengers: Infinity War",
          "xref": "x",
          "y": "Thor",
          "yref": "y"
         },
         {
          "font": {
           "color": "white",
           "size": 8
          },
          "showarrow": false,
          "text": "-0.0",
          "x": "Ant-Man and the Wasp",
          "xref": "x",
          "y": "Thor",
          "yref": "y"
         },
         {
          "font": {
           "color": "white",
           "size": 8
          },
          "showarrow": false,
          "text": "0.01",
          "x": "Captain Marvel",
          "xref": "x",
          "y": "Thor",
          "yref": "y"
         },
         {
          "font": {
           "color": "white",
           "size": 8
          },
          "showarrow": false,
          "text": "-0.01",
          "x": "Avengers: Endgame",
          "xref": "x",
          "y": "Thor",
          "yref": "y"
         },
         {
          "font": {
           "color": "white",
           "size": 8
          },
          "showarrow": false,
          "text": "-0.02",
          "x": "Spider-Man: Far From Home",
          "xref": "x",
          "y": "Thor",
          "yref": "y"
         },
         {
          "font": {
           "color": "white",
           "size": 8
          },
          "showarrow": false,
          "text": "-0.03",
          "x": "Black Widow",
          "xref": "x",
          "y": "Thor",
          "yref": "y"
         },
         {
          "font": {
           "color": "white",
           "size": 8
          },
          "showarrow": false,
          "text": "-0.0",
          "x": "Shang-Chi and the Legend of the Ten Rings",
          "xref": "x",
          "y": "Thor",
          "yref": "y"
         },
         {
          "font": {
           "color": "white",
           "size": 8
          },
          "showarrow": false,
          "text": "0.01",
          "x": "Eternals",
          "xref": "x",
          "y": "Thor",
          "yref": "y"
         },
         {
          "font": {
           "color": "white",
           "size": 8
          },
          "showarrow": false,
          "text": "-0.03",
          "x": "Spider-Man: No Way Home",
          "xref": "x",
          "y": "Thor",
          "yref": "y"
         },
         {
          "font": {
           "color": "white",
           "size": 8
          },
          "showarrow": false,
          "text": "-0.0",
          "x": "Age",
          "xref": "x",
          "y": "Thor",
          "yref": "y"
         },
         {
          "font": {
           "color": "white",
           "size": 8
          },
          "showarrow": false,
          "text": "-0.01",
          "x": "MonthsClient",
          "xref": "x",
          "y": "Thor",
          "yref": "y"
         },
         {
          "font": {
           "color": "white",
           "size": 8
          },
          "showarrow": false,
          "text": "-0.0",
          "x": "MarvelFilmsPerc",
          "xref": "x",
          "y": "Thor",
          "yref": "y"
         },
         {
          "font": {
           "color": "white",
           "size": 8
          },
          "showarrow": false,
          "text": "-0.12",
          "x": "Iron Man",
          "xref": "x",
          "y": "Captain America: The First Avenger",
          "yref": "y"
         },
         {
          "font": {
           "color": "white",
           "size": 8
          },
          "showarrow": false,
          "text": "0.0",
          "x": "The Incredible Hulk",
          "xref": "x",
          "y": "Captain America: The First Avenger",
          "yref": "y"
         },
         {
          "font": {
           "color": "white",
           "size": 8
          },
          "showarrow": false,
          "text": "-0.13",
          "x": "Iron Man 2",
          "xref": "x",
          "y": "Captain America: The First Avenger",
          "yref": "y"
         },
         {
          "font": {
           "color": "white",
           "size": 8
          },
          "showarrow": false,
          "text": "-0.01",
          "x": "Thor",
          "xref": "x",
          "y": "Captain America: The First Avenger",
          "yref": "y"
         },
         {
          "font": {
           "color": "white",
           "size": 8
          },
          "showarrow": false,
          "text": "1.0",
          "x": "Captain America: The First Avenger",
          "xref": "x",
          "y": "Captain America: The First Avenger",
          "yref": "y"
         },
         {
          "font": {
           "color": "white",
           "size": 8
          },
          "showarrow": false,
          "text": "-0.05",
          "x": "The Avengers",
          "xref": "x",
          "y": "Captain America: The First Avenger",
          "yref": "y"
         },
         {
          "font": {
           "color": "white",
           "size": 8
          },
          "showarrow": false,
          "text": "-0.12",
          "x": "Iron Man 3",
          "xref": "x",
          "y": "Captain America: The First Avenger",
          "yref": "y"
         },
         {
          "font": {
           "color": "white",
           "size": 8
          },
          "showarrow": false,
          "text": "-0.03",
          "x": "Thor: The Dark World",
          "xref": "x",
          "y": "Captain America: The First Avenger",
          "yref": "y"
         },
         {
          "font": {
           "color": "white",
           "size": 8
          },
          "showarrow": false,
          "text": "0.34",
          "x": "Captain America: The Winter Soldier",
          "xref": "x",
          "y": "Captain America: The First Avenger",
          "yref": "y"
         },
         {
          "font": {
           "color": "white",
           "size": 8
          },
          "showarrow": false,
          "text": "-0.05",
          "x": "Guardians of Galaxy",
          "xref": "x",
          "y": "Captain America: The First Avenger",
          "yref": "y"
         },
         {
          "font": {
           "color": "white",
           "size": 8
          },
          "showarrow": false,
          "text": "-0.05",
          "x": "Avengers: Age of Ultron",
          "xref": "x",
          "y": "Captain America: The First Avenger",
          "yref": "y"
         },
         {
          "font": {
           "color": "white",
           "size": 8
          },
          "showarrow": false,
          "text": "-0.01",
          "x": "Ant-Man",
          "xref": "x",
          "y": "Captain America: The First Avenger",
          "yref": "y"
         },
         {
          "font": {
           "color": "white",
           "size": 8
          },
          "showarrow": false,
          "text": "0.34",
          "x": "Captain America: Civil War",
          "xref": "x",
          "y": "Captain America: The First Avenger",
          "yref": "y"
         },
         {
          "font": {
           "color": "white",
           "size": 8
          },
          "showarrow": false,
          "text": "-0.01",
          "x": "Doctor Strange",
          "xref": "x",
          "y": "Captain America: The First Avenger",
          "yref": "y"
         },
         {
          "font": {
           "color": "white",
           "size": 8
          },
          "showarrow": false,
          "text": "-0.06",
          "x": "Guardians of Galaxy 2",
          "xref": "x",
          "y": "Captain America: The First Avenger",
          "yref": "y"
         },
         {
          "font": {
           "color": "white",
           "size": 8
          },
          "showarrow": false,
          "text": "-0.06",
          "x": "Spider-Man: Homecoming",
          "xref": "x",
          "y": "Captain America: The First Avenger",
          "yref": "y"
         },
         {
          "font": {
           "color": "white",
           "size": 8
          },
          "showarrow": false,
          "text": "-0.01",
          "x": "Thor: Ragnarok",
          "xref": "x",
          "y": "Captain America: The First Avenger",
          "yref": "y"
         },
         {
          "font": {
           "color": "white",
           "size": 8
          },
          "showarrow": false,
          "text": "0.01",
          "x": "Black Panther",
          "xref": "x",
          "y": "Captain America: The First Avenger",
          "yref": "y"
         },
         {
          "font": {
           "color": "white",
           "size": 8
          },
          "showarrow": false,
          "text": "-0.04",
          "x": "Avengers: Infinity War",
          "xref": "x",
          "y": "Captain America: The First Avenger",
          "yref": "y"
         },
         {
          "font": {
           "color": "white",
           "size": 8
          },
          "showarrow": false,
          "text": "-0.02",
          "x": "Ant-Man and the Wasp",
          "xref": "x",
          "y": "Captain America: The First Avenger",
          "yref": "y"
         },
         {
          "font": {
           "color": "white",
           "size": 8
          },
          "showarrow": false,
          "text": "0.0",
          "x": "Captain Marvel",
          "xref": "x",
          "y": "Captain America: The First Avenger",
          "yref": "y"
         },
         {
          "font": {
           "color": "white",
           "size": 8
          },
          "showarrow": false,
          "text": "-0.04",
          "x": "Avengers: Endgame",
          "xref": "x",
          "y": "Captain America: The First Avenger",
          "yref": "y"
         },
         {
          "font": {
           "color": "white",
           "size": 8
          },
          "showarrow": false,
          "text": "-0.07",
          "x": "Spider-Man: Far From Home",
          "xref": "x",
          "y": "Captain America: The First Avenger",
          "yref": "y"
         },
         {
          "font": {
           "color": "white",
           "size": 8
          },
          "showarrow": false,
          "text": "-0.05",
          "x": "Black Widow",
          "xref": "x",
          "y": "Captain America: The First Avenger",
          "yref": "y"
         },
         {
          "font": {
           "color": "white",
           "size": 8
          },
          "showarrow": false,
          "text": "-0.0",
          "x": "Shang-Chi and the Legend of the Ten Rings",
          "xref": "x",
          "y": "Captain America: The First Avenger",
          "yref": "y"
         },
         {
          "font": {
           "color": "white",
           "size": 8
          },
          "showarrow": false,
          "text": "-0.01",
          "x": "Eternals",
          "xref": "x",
          "y": "Captain America: The First Avenger",
          "yref": "y"
         },
         {
          "font": {
           "color": "white",
           "size": 8
          },
          "showarrow": false,
          "text": "-0.07",
          "x": "Spider-Man: No Way Home",
          "xref": "x",
          "y": "Captain America: The First Avenger",
          "yref": "y"
         },
         {
          "font": {
           "color": "white",
           "size": 8
          },
          "showarrow": false,
          "text": "0.02",
          "x": "Age",
          "xref": "x",
          "y": "Captain America: The First Avenger",
          "yref": "y"
         },
         {
          "font": {
           "color": "white",
           "size": 8
          },
          "showarrow": false,
          "text": "0.04",
          "x": "MonthsClient",
          "xref": "x",
          "y": "Captain America: The First Avenger",
          "yref": "y"
         },
         {
          "font": {
           "color": "white",
           "size": 8
          },
          "showarrow": false,
          "text": "-0.03",
          "x": "MarvelFilmsPerc",
          "xref": "x",
          "y": "Captain America: The First Avenger",
          "yref": "y"
         },
         {
          "font": {
           "color": "white",
           "size": 8
          },
          "showarrow": false,
          "text": "-0.09",
          "x": "Iron Man",
          "xref": "x",
          "y": "The Avengers",
          "yref": "y"
         },
         {
          "font": {
           "color": "white",
           "size": 8
          },
          "showarrow": false,
          "text": "-0.0",
          "x": "The Incredible Hulk",
          "xref": "x",
          "y": "The Avengers",
          "yref": "y"
         },
         {
          "font": {
           "color": "white",
           "size": 8
          },
          "showarrow": false,
          "text": "-0.11",
          "x": "Iron Man 2",
          "xref": "x",
          "y": "The Avengers",
          "yref": "y"
         },
         {
          "font": {
           "color": "white",
           "size": 8
          },
          "showarrow": false,
          "text": "-0.01",
          "x": "Thor",
          "xref": "x",
          "y": "The Avengers",
          "yref": "y"
         },
         {
          "font": {
           "color": "white",
           "size": 8
          },
          "showarrow": false,
          "text": "-0.05",
          "x": "Captain America: The First Avenger",
          "xref": "x",
          "y": "The Avengers",
          "yref": "y"
         },
         {
          "font": {
           "color": "white",
           "size": 8
          },
          "showarrow": false,
          "text": "1.0",
          "x": "The Avengers",
          "xref": "x",
          "y": "The Avengers",
          "yref": "y"
         },
         {
          "font": {
           "color": "white",
           "size": 8
          },
          "showarrow": false,
          "text": "-0.11",
          "x": "Iron Man 3",
          "xref": "x",
          "y": "The Avengers",
          "yref": "y"
         },
         {
          "font": {
           "color": "white",
           "size": 8
          },
          "showarrow": false,
          "text": "-0.02",
          "x": "Thor: The Dark World",
          "xref": "x",
          "y": "The Avengers",
          "yref": "y"
         },
         {
          "font": {
           "color": "white",
           "size": 8
          },
          "showarrow": false,
          "text": "-0.04",
          "x": "Captain America: The Winter Soldier",
          "xref": "x",
          "y": "The Avengers",
          "yref": "y"
         },
         {
          "font": {
           "color": "white",
           "size": 8
          },
          "showarrow": false,
          "text": "-0.03",
          "x": "Guardians of Galaxy",
          "xref": "x",
          "y": "The Avengers",
          "yref": "y"
         },
         {
          "font": {
           "color": "white",
           "size": 8
          },
          "showarrow": false,
          "text": "0.34",
          "x": "Avengers: Age of Ultron",
          "xref": "x",
          "y": "The Avengers",
          "yref": "y"
         },
         {
          "font": {
           "color": "white",
           "size": 8
          },
          "showarrow": false,
          "text": "-0.01",
          "x": "Ant-Man",
          "xref": "x",
          "y": "The Avengers",
          "yref": "y"
         },
         {
          "font": {
           "color": "white",
           "size": 8
          },
          "showarrow": false,
          "text": "-0.05",
          "x": "Captain America: Civil War",
          "xref": "x",
          "y": "The Avengers",
          "yref": "y"
         },
         {
          "font": {
           "color": "white",
           "size": 8
          },
          "showarrow": false,
          "text": "-0.01",
          "x": "Doctor Strange",
          "xref": "x",
          "y": "The Avengers",
          "yref": "y"
         },
         {
          "font": {
           "color": "white",
           "size": 8
          },
          "showarrow": false,
          "text": "-0.03",
          "x": "Guardians of Galaxy 2",
          "xref": "x",
          "y": "The Avengers",
          "yref": "y"
         },
         {
          "font": {
           "color": "white",
           "size": 8
          },
          "showarrow": false,
          "text": "-0.07",
          "x": "Spider-Man: Homecoming",
          "xref": "x",
          "y": "The Avengers",
          "yref": "y"
         },
         {
          "font": {
           "color": "white",
           "size": 8
          },
          "showarrow": false,
          "text": "-0.02",
          "x": "Thor: Ragnarok",
          "xref": "x",
          "y": "The Avengers",
          "yref": "y"
         },
         {
          "font": {
           "color": "white",
           "size": 8
          },
          "showarrow": false,
          "text": "0.01",
          "x": "Black Panther",
          "xref": "x",
          "y": "The Avengers",
          "yref": "y"
         },
         {
          "font": {
           "color": "white",
           "size": 8
          },
          "showarrow": false,
          "text": "0.34",
          "x": "Avengers: Infinity War",
          "xref": "x",
          "y": "The Avengers",
          "yref": "y"
         },
         {
          "font": {
           "color": "white",
           "size": 8
          },
          "showarrow": false,
          "text": "-0.02",
          "x": "Ant-Man and the Wasp",
          "xref": "x",
          "y": "The Avengers",
          "yref": "y"
         },
         {
          "font": {
           "color": "white",
           "size": 8
          },
          "showarrow": false,
          "text": "-0.0",
          "x": "Captain Marvel",
          "xref": "x",
          "y": "The Avengers",
          "yref": "y"
         },
         {
          "font": {
           "color": "white",
           "size": 8
          },
          "showarrow": false,
          "text": "0.34",
          "x": "Avengers: Endgame",
          "xref": "x",
          "y": "The Avengers",
          "yref": "y"
         },
         {
          "font": {
           "color": "white",
           "size": 8
          },
          "showarrow": false,
          "text": "-0.08",
          "x": "Spider-Man: Far From Home",
          "xref": "x",
          "y": "The Avengers",
          "yref": "y"
         },
         {
          "font": {
           "color": "white",
           "size": 8
          },
          "showarrow": false,
          "text": "-0.06",
          "x": "Black Widow",
          "xref": "x",
          "y": "The Avengers",
          "yref": "y"
         },
         {
          "font": {
           "color": "white",
           "size": 8
          },
          "showarrow": false,
          "text": "0.0",
          "x": "Shang-Chi and the Legend of the Ten Rings",
          "xref": "x",
          "y": "The Avengers",
          "yref": "y"
         },
         {
          "font": {
           "color": "white",
           "size": 8
          },
          "showarrow": false,
          "text": "-0.01",
          "x": "Eternals",
          "xref": "x",
          "y": "The Avengers",
          "yref": "y"
         },
         {
          "font": {
           "color": "white",
           "size": 8
          },
          "showarrow": false,
          "text": "-0.07",
          "x": "Spider-Man: No Way Home",
          "xref": "x",
          "y": "The Avengers",
          "yref": "y"
         },
         {
          "font": {
           "color": "white",
           "size": 8
          },
          "showarrow": false,
          "text": "-0.01",
          "x": "Age",
          "xref": "x",
          "y": "The Avengers",
          "yref": "y"
         },
         {
          "font": {
           "color": "white",
           "size": 8
          },
          "showarrow": false,
          "text": "-0.08",
          "x": "MonthsClient",
          "xref": "x",
          "y": "The Avengers",
          "yref": "y"
         },
         {
          "font": {
           "color": "white",
           "size": 8
          },
          "showarrow": false,
          "text": "0.02",
          "x": "MarvelFilmsPerc",
          "xref": "x",
          "y": "The Avengers",
          "yref": "y"
         },
         {
          "font": {
           "color": "white",
           "size": 8
          },
          "showarrow": false,
          "text": "0.56",
          "x": "Iron Man",
          "xref": "x",
          "y": "Iron Man 3",
          "yref": "y"
         },
         {
          "font": {
           "color": "white",
           "size": 8
          },
          "showarrow": false,
          "text": "0.0",
          "x": "The Incredible Hulk",
          "xref": "x",
          "y": "Iron Man 3",
          "yref": "y"
         },
         {
          "font": {
           "color": "white",
           "size": 8
          },
          "showarrow": false,
          "text": "0.56",
          "x": "Iron Man 2",
          "xref": "x",
          "y": "Iron Man 3",
          "yref": "y"
         },
         {
          "font": {
           "color": "white",
           "size": 8
          },
          "showarrow": false,
          "text": "-0.06",
          "x": "Thor",
          "xref": "x",
          "y": "Iron Man 3",
          "yref": "y"
         },
         {
          "font": {
           "color": "white",
           "size": 8
          },
          "showarrow": false,
          "text": "-0.12",
          "x": "Captain America: The First Avenger",
          "xref": "x",
          "y": "Iron Man 3",
          "yref": "y"
         },
         {
          "font": {
           "color": "white",
           "size": 8
          },
          "showarrow": false,
          "text": "-0.11",
          "x": "The Avengers",
          "xref": "x",
          "y": "Iron Man 3",
          "yref": "y"
         },
         {
          "font": {
           "color": "white",
           "size": 8
          },
          "showarrow": false,
          "text": "1.0",
          "x": "Iron Man 3",
          "xref": "x",
          "y": "Iron Man 3",
          "yref": "y"
         },
         {
          "font": {
           "color": "white",
           "size": 8
          },
          "showarrow": false,
          "text": "-0.04",
          "x": "Thor: The Dark World",
          "xref": "x",
          "y": "Iron Man 3",
          "yref": "y"
         },
         {
          "font": {
           "color": "white",
           "size": 8
          },
          "showarrow": false,
          "text": "-0.11",
          "x": "Captain America: The Winter Soldier",
          "xref": "x",
          "y": "Iron Man 3",
          "yref": "y"
         },
         {
          "font": {
           "color": "white",
           "size": 8
          },
          "showarrow": false,
          "text": "-0.11",
          "x": "Guardians of Galaxy",
          "xref": "x",
          "y": "Iron Man 3",
          "yref": "y"
         },
         {
          "font": {
           "color": "white",
           "size": 8
          },
          "showarrow": false,
          "text": "-0.12",
          "x": "Avengers: Age of Ultron",
          "xref": "x",
          "y": "Iron Man 3",
          "yref": "y"
         },
         {
          "font": {
           "color": "white",
           "size": 8
          },
          "showarrow": false,
          "text": "-0.05",
          "x": "Ant-Man",
          "xref": "x",
          "y": "Iron Man 3",
          "yref": "y"
         },
         {
          "font": {
           "color": "white",
           "size": 8
          },
          "showarrow": false,
          "text": "-0.1",
          "x": "Captain America: Civil War",
          "xref": "x",
          "y": "Iron Man 3",
          "yref": "y"
         },
         {
          "font": {
           "color": "white",
           "size": 8
          },
          "showarrow": false,
          "text": "-0.02",
          "x": "Doctor Strange",
          "xref": "x",
          "y": "Iron Man 3",
          "yref": "y"
         },
         {
          "font": {
           "color": "white",
           "size": 8
          },
          "showarrow": false,
          "text": "-0.1",
          "x": "Guardians of Galaxy 2",
          "xref": "x",
          "y": "Iron Man 3",
          "yref": "y"
         },
         {
          "font": {
           "color": "white",
           "size": 8
          },
          "showarrow": false,
          "text": "-0.16",
          "x": "Spider-Man: Homecoming",
          "xref": "x",
          "y": "Iron Man 3",
          "yref": "y"
         },
         {
          "font": {
           "color": "white",
           "size": 8
          },
          "showarrow": false,
          "text": "-0.05",
          "x": "Thor: Ragnarok",
          "xref": "x",
          "y": "Iron Man 3",
          "yref": "y"
         },
         {
          "font": {
           "color": "white",
           "size": 8
          },
          "showarrow": false,
          "text": "-0.01",
          "x": "Black Panther",
          "xref": "x",
          "y": "Iron Man 3",
          "yref": "y"
         },
         {
          "font": {
           "color": "white",
           "size": 8
          },
          "showarrow": false,
          "text": "-0.12",
          "x": "Avengers: Infinity War",
          "xref": "x",
          "y": "Iron Man 3",
          "yref": "y"
         },
         {
          "font": {
           "color": "white",
           "size": 8
          },
          "showarrow": false,
          "text": "-0.01",
          "x": "Ant-Man and the Wasp",
          "xref": "x",
          "y": "Iron Man 3",
          "yref": "y"
         },
         {
          "font": {
           "color": "white",
           "size": 8
          },
          "showarrow": false,
          "text": "-0.0",
          "x": "Captain Marvel",
          "xref": "x",
          "y": "Iron Man 3",
          "yref": "y"
         },
         {
          "font": {
           "color": "white",
           "size": 8
          },
          "showarrow": false,
          "text": "-0.1",
          "x": "Avengers: Endgame",
          "xref": "x",
          "y": "Iron Man 3",
          "yref": "y"
         },
         {
          "font": {
           "color": "white",
           "size": 8
          },
          "showarrow": false,
          "text": "-0.15",
          "x": "Spider-Man: Far From Home",
          "xref": "x",
          "y": "Iron Man 3",
          "yref": "y"
         },
         {
          "font": {
           "color": "white",
           "size": 8
          },
          "showarrow": false,
          "text": "-0.13",
          "x": "Black Widow",
          "xref": "x",
          "y": "Iron Man 3",
          "yref": "y"
         },
         {
          "font": {
           "color": "white",
           "size": 8
          },
          "showarrow": false,
          "text": "0.01",
          "x": "Shang-Chi and the Legend of the Ten Rings",
          "xref": "x",
          "y": "Iron Man 3",
          "yref": "y"
         },
         {
          "font": {
           "color": "white",
           "size": 8
          },
          "showarrow": false,
          "text": "0.01",
          "x": "Eternals",
          "xref": "x",
          "y": "Iron Man 3",
          "yref": "y"
         },
         {
          "font": {
           "color": "white",
           "size": 8
          },
          "showarrow": false,
          "text": "-0.16",
          "x": "Spider-Man: No Way Home",
          "xref": "x",
          "y": "Iron Man 3",
          "yref": "y"
         },
         {
          "font": {
           "color": "white",
           "size": 8
          },
          "showarrow": false,
          "text": "0.02",
          "x": "Age",
          "xref": "x",
          "y": "Iron Man 3",
          "yref": "y"
         },
         {
          "font": {
           "color": "white",
           "size": 8
          },
          "showarrow": false,
          "text": "0.14",
          "x": "MonthsClient",
          "xref": "x",
          "y": "Iron Man 3",
          "yref": "y"
         },
         {
          "font": {
           "color": "white",
           "size": 8
          },
          "showarrow": false,
          "text": "-0.02",
          "x": "MarvelFilmsPerc",
          "xref": "x",
          "y": "Iron Man 3",
          "yref": "y"
         },
         {
          "font": {
           "color": "white",
           "size": 8
          },
          "showarrow": false,
          "text": "-0.04",
          "x": "Iron Man",
          "xref": "x",
          "y": "Thor: The Dark World",
          "yref": "y"
         },
         {
          "font": {
           "color": "white",
           "size": 8
          },
          "showarrow": false,
          "text": "0.01",
          "x": "The Incredible Hulk",
          "xref": "x",
          "y": "Thor: The Dark World",
          "yref": "y"
         },
         {
          "font": {
           "color": "white",
           "size": 8
          },
          "showarrow": false,
          "text": "-0.05",
          "x": "Iron Man 2",
          "xref": "x",
          "y": "Thor: The Dark World",
          "yref": "y"
         },
         {
          "font": {
           "color": "white",
           "size": 8
          },
          "showarrow": false,
          "text": "0.16",
          "x": "Thor",
          "xref": "x",
          "y": "Thor: The Dark World",
          "yref": "y"
         },
         {
          "font": {
           "color": "white",
           "size": 8
          },
          "showarrow": false,
          "text": "-0.03",
          "x": "Captain America: The First Avenger",
          "xref": "x",
          "y": "Thor: The Dark World",
          "yref": "y"
         },
         {
          "font": {
           "color": "white",
           "size": 8
          },
          "showarrow": false,
          "text": "-0.02",
          "x": "The Avengers",
          "xref": "x",
          "y": "Thor: The Dark World",
          "yref": "y"
         },
         {
          "font": {
           "color": "white",
           "size": 8
          },
          "showarrow": false,
          "text": "-0.04",
          "x": "Iron Man 3",
          "xref": "x",
          "y": "Thor: The Dark World",
          "yref": "y"
         },
         {
          "font": {
           "color": "white",
           "size": 8
          },
          "showarrow": false,
          "text": "1.0",
          "x": "Thor: The Dark World",
          "xref": "x",
          "y": "Thor: The Dark World",
          "yref": "y"
         },
         {
          "font": {
           "color": "white",
           "size": 8
          },
          "showarrow": false,
          "text": "-0.02",
          "x": "Captain America: The Winter Soldier",
          "xref": "x",
          "y": "Thor: The Dark World",
          "yref": "y"
         },
         {
          "font": {
           "color": "white",
           "size": 8
          },
          "showarrow": false,
          "text": "-0.02",
          "x": "Guardians of Galaxy",
          "xref": "x",
          "y": "Thor: The Dark World",
          "yref": "y"
         },
         {
          "font": {
           "color": "white",
           "size": 8
          },
          "showarrow": false,
          "text": "-0.02",
          "x": "Avengers: Age of Ultron",
          "xref": "x",
          "y": "Thor: The Dark World",
          "yref": "y"
         },
         {
          "font": {
           "color": "white",
           "size": 8
          },
          "showarrow": false,
          "text": "0.0",
          "x": "Ant-Man",
          "xref": "x",
          "y": "Thor: The Dark World",
          "yref": "y"
         },
         {
          "font": {
           "color": "white",
           "size": 8
          },
          "showarrow": false,
          "text": "-0.01",
          "x": "Captain America: Civil War",
          "xref": "x",
          "y": "Thor: The Dark World",
          "yref": "y"
         },
         {
          "font": {
           "color": "white",
           "size": 8
          },
          "showarrow": false,
          "text": "-0.01",
          "x": "Doctor Strange",
          "xref": "x",
          "y": "Thor: The Dark World",
          "yref": "y"
         },
         {
          "font": {
           "color": "white",
           "size": 8
          },
          "showarrow": false,
          "text": "-0.0",
          "x": "Guardians of Galaxy 2",
          "xref": "x",
          "y": "Thor: The Dark World",
          "yref": "y"
         },
         {
          "font": {
           "color": "white",
           "size": 8
          },
          "showarrow": false,
          "text": "-0.02",
          "x": "Spider-Man: Homecoming",
          "xref": "x",
          "y": "Thor: The Dark World",
          "yref": "y"
         },
         {
          "font": {
           "color": "white",
           "size": 8
          },
          "showarrow": false,
          "text": "0.16",
          "x": "Thor: Ragnarok",
          "xref": "x",
          "y": "Thor: The Dark World",
          "yref": "y"
         },
         {
          "font": {
           "color": "white",
           "size": 8
          },
          "showarrow": false,
          "text": "-0.01",
          "x": "Black Panther",
          "xref": "x",
          "y": "Thor: The Dark World",
          "yref": "y"
         },
         {
          "font": {
           "color": "white",
           "size": 8
          },
          "showarrow": false,
          "text": "-0.03",
          "x": "Avengers: Infinity War",
          "xref": "x",
          "y": "Thor: The Dark World",
          "yref": "y"
         },
         {
          "font": {
           "color": "white",
           "size": 8
          },
          "showarrow": false,
          "text": "-0.0",
          "x": "Ant-Man and the Wasp",
          "xref": "x",
          "y": "Thor: The Dark World",
          "yref": "y"
         },
         {
          "font": {
           "color": "white",
           "size": 8
          },
          "showarrow": false,
          "text": "0.0",
          "x": "Captain Marvel",
          "xref": "x",
          "y": "Thor: The Dark World",
          "yref": "y"
         },
         {
          "font": {
           "color": "white",
           "size": 8
          },
          "showarrow": false,
          "text": "-0.04",
          "x": "Avengers: Endgame",
          "xref": "x",
          "y": "Thor: The Dark World",
          "yref": "y"
         },
         {
          "font": {
           "color": "white",
           "size": 8
          },
          "showarrow": false,
          "text": "-0.02",
          "x": "Spider-Man: Far From Home",
          "xref": "x",
          "y": "Thor: The Dark World",
          "yref": "y"
         },
         {
          "font": {
           "color": "white",
           "size": 8
          },
          "showarrow": false,
          "text": "-0.02",
          "x": "Black Widow",
          "xref": "x",
          "y": "Thor: The Dark World",
          "yref": "y"
         },
         {
          "font": {
           "color": "white",
           "size": 8
          },
          "showarrow": false,
          "text": "0.0",
          "x": "Shang-Chi and the Legend of the Ten Rings",
          "xref": "x",
          "y": "Thor: The Dark World",
          "yref": "y"
         },
         {
          "font": {
           "color": "white",
           "size": 8
          },
          "showarrow": false,
          "text": "-0.0",
          "x": "Eternals",
          "xref": "x",
          "y": "Thor: The Dark World",
          "yref": "y"
         },
         {
          "font": {
           "color": "white",
           "size": 8
          },
          "showarrow": false,
          "text": "-0.02",
          "x": "Spider-Man: No Way Home",
          "xref": "x",
          "y": "Thor: The Dark World",
          "yref": "y"
         },
         {
          "font": {
           "color": "white",
           "size": 8
          },
          "showarrow": false,
          "text": "0.01",
          "x": "Age",
          "xref": "x",
          "y": "Thor: The Dark World",
          "yref": "y"
         },
         {
          "font": {
           "color": "white",
           "size": 8
          },
          "showarrow": false,
          "text": "-0.01",
          "x": "MonthsClient",
          "xref": "x",
          "y": "Thor: The Dark World",
          "yref": "y"
         },
         {
          "font": {
           "color": "white",
           "size": 8
          },
          "showarrow": false,
          "text": "-0.01",
          "x": "MarvelFilmsPerc",
          "xref": "x",
          "y": "Thor: The Dark World",
          "yref": "y"
         },
         {
          "font": {
           "color": "white",
           "size": 8
          },
          "showarrow": false,
          "text": "-0.11",
          "x": "Iron Man",
          "xref": "x",
          "y": "Captain America: The Winter Soldier",
          "yref": "y"
         },
         {
          "font": {
           "color": "white",
           "size": 8
          },
          "showarrow": false,
          "text": "-0.0",
          "x": "The Incredible Hulk",
          "xref": "x",
          "y": "Captain America: The Winter Soldier",
          "yref": "y"
         },
         {
          "font": {
           "color": "white",
           "size": 8
          },
          "showarrow": false,
          "text": "-0.11",
          "x": "Iron Man 2",
          "xref": "x",
          "y": "Captain America: The Winter Soldier",
          "yref": "y"
         },
         {
          "font": {
           "color": "white",
           "size": 8
          },
          "showarrow": false,
          "text": "-0.01",
          "x": "Thor",
          "xref": "x",
          "y": "Captain America: The Winter Soldier",
          "yref": "y"
         },
         {
          "font": {
           "color": "white",
           "size": 8
          },
          "showarrow": false,
          "text": "0.34",
          "x": "Captain America: The First Avenger",
          "xref": "x",
          "y": "Captain America: The Winter Soldier",
          "yref": "y"
         },
         {
          "font": {
           "color": "white",
           "size": 8
          },
          "showarrow": false,
          "text": "-0.04",
          "x": "The Avengers",
          "xref": "x",
          "y": "Captain America: The Winter Soldier",
          "yref": "y"
         },
         {
          "font": {
           "color": "white",
           "size": 8
          },
          "showarrow": false,
          "text": "-0.11",
          "x": "Iron Man 3",
          "xref": "x",
          "y": "Captain America: The Winter Soldier",
          "yref": "y"
         },
         {
          "font": {
           "color": "white",
           "size": 8
          },
          "showarrow": false,
          "text": "-0.02",
          "x": "Thor: The Dark World",
          "xref": "x",
          "y": "Captain America: The Winter Soldier",
          "yref": "y"
         },
         {
          "font": {
           "color": "white",
           "size": 8
          },
          "showarrow": false,
          "text": "1.0",
          "x": "Captain America: The Winter Soldier",
          "xref": "x",
          "y": "Captain America: The Winter Soldier",
          "yref": "y"
         },
         {
          "font": {
           "color": "white",
           "size": 8
          },
          "showarrow": false,
          "text": "-0.05",
          "x": "Guardians of Galaxy",
          "xref": "x",
          "y": "Captain America: The Winter Soldier",
          "yref": "y"
         },
         {
          "font": {
           "color": "white",
           "size": 8
          },
          "showarrow": false,
          "text": "-0.04",
          "x": "Avengers: Age of Ultron",
          "xref": "x",
          "y": "Captain America: The Winter Soldier",
          "yref": "y"
         },
         {
          "font": {
           "color": "white",
           "size": 8
          },
          "showarrow": false,
          "text": "-0.02",
          "x": "Ant-Man",
          "xref": "x",
          "y": "Captain America: The Winter Soldier",
          "yref": "y"
         },
         {
          "font": {
           "color": "white",
           "size": 8
          },
          "showarrow": false,
          "text": "0.33",
          "x": "Captain America: Civil War",
          "xref": "x",
          "y": "Captain America: The Winter Soldier",
          "yref": "y"
         },
         {
          "font": {
           "color": "white",
           "size": 8
          },
          "showarrow": false,
          "text": "-0.02",
          "x": "Doctor Strange",
          "xref": "x",
          "y": "Captain America: The Winter Soldier",
          "yref": "y"
         },
         {
          "font": {
           "color": "white",
           "size": 8
          },
          "showarrow": false,
          "text": "-0.05",
          "x": "Guardians of Galaxy 2",
          "xref": "x",
          "y": "Captain America: The Winter Soldier",
          "yref": "y"
         },
         {
          "font": {
           "color": "white",
           "size": 8
          },
          "showarrow": false,
          "text": "-0.06",
          "x": "Spider-Man: Homecoming",
          "xref": "x",
          "y": "Captain America: The Winter Soldier",
          "yref": "y"
         },
         {
          "font": {
           "color": "white",
           "size": 8
          },
          "showarrow": false,
          "text": "-0.0",
          "x": "Thor: Ragnarok",
          "xref": "x",
          "y": "Captain America: The Winter Soldier",
          "yref": "y"
         },
         {
          "font": {
           "color": "white",
           "size": 8
          },
          "showarrow": false,
          "text": "0.01",
          "x": "Black Panther",
          "xref": "x",
          "y": "Captain America: The Winter Soldier",
          "yref": "y"
         },
         {
          "font": {
           "color": "white",
           "size": 8
          },
          "showarrow": false,
          "text": "-0.05",
          "x": "Avengers: Infinity War",
          "xref": "x",
          "y": "Captain America: The Winter Soldier",
          "yref": "y"
         },
         {
          "font": {
           "color": "white",
           "size": 8
          },
          "showarrow": false,
          "text": "-0.0",
          "x": "Ant-Man and the Wasp",
          "xref": "x",
          "y": "Captain America: The Winter Soldier",
          "yref": "y"
         },
         {
          "font": {
           "color": "white",
           "size": 8
          },
          "showarrow": false,
          "text": "0.01",
          "x": "Captain Marvel",
          "xref": "x",
          "y": "Captain America: The Winter Soldier",
          "yref": "y"
         },
         {
          "font": {
           "color": "white",
           "size": 8
          },
          "showarrow": false,
          "text": "-0.04",
          "x": "Avengers: Endgame",
          "xref": "x",
          "y": "Captain America: The Winter Soldier",
          "yref": "y"
         },
         {
          "font": {
           "color": "white",
           "size": 8
          },
          "showarrow": false,
          "text": "-0.07",
          "x": "Spider-Man: Far From Home",
          "xref": "x",
          "y": "Captain America: The Winter Soldier",
          "yref": "y"
         },
         {
          "font": {
           "color": "white",
           "size": 8
          },
          "showarrow": false,
          "text": "-0.07",
          "x": "Black Widow",
          "xref": "x",
          "y": "Captain America: The Winter Soldier",
          "yref": "y"
         },
         {
          "font": {
           "color": "white",
           "size": 8
          },
          "showarrow": false,
          "text": "-0.01",
          "x": "Shang-Chi and the Legend of the Ten Rings",
          "xref": "x",
          "y": "Captain America: The Winter Soldier",
          "yref": "y"
         },
         {
          "font": {
           "color": "white",
           "size": 8
          },
          "showarrow": false,
          "text": "0.01",
          "x": "Eternals",
          "xref": "x",
          "y": "Captain America: The Winter Soldier",
          "yref": "y"
         },
         {
          "font": {
           "color": "white",
           "size": 8
          },
          "showarrow": false,
          "text": "-0.07",
          "x": "Spider-Man: No Way Home",
          "xref": "x",
          "y": "Captain America: The Winter Soldier",
          "yref": "y"
         },
         {
          "font": {
           "color": "white",
           "size": 8
          },
          "showarrow": false,
          "text": "0.01",
          "x": "Age",
          "xref": "x",
          "y": "Captain America: The Winter Soldier",
          "yref": "y"
         },
         {
          "font": {
           "color": "white",
           "size": 8
          },
          "showarrow": false,
          "text": "0.04",
          "x": "MonthsClient",
          "xref": "x",
          "y": "Captain America: The Winter Soldier",
          "yref": "y"
         },
         {
          "font": {
           "color": "white",
           "size": 8
          },
          "showarrow": false,
          "text": "-0.01",
          "x": "MarvelFilmsPerc",
          "xref": "x",
          "y": "Captain America: The Winter Soldier",
          "yref": "y"
         },
         {
          "font": {
           "color": "white",
           "size": 8
          },
          "showarrow": false,
          "text": "-0.12",
          "x": "Iron Man",
          "xref": "x",
          "y": "Guardians of Galaxy",
          "yref": "y"
         },
         {
          "font": {
           "color": "white",
           "size": 8
          },
          "showarrow": false,
          "text": "0.01",
          "x": "The Incredible Hulk",
          "xref": "x",
          "y": "Guardians of Galaxy",
          "yref": "y"
         },
         {
          "font": {
           "color": "white",
           "size": 8
          },
          "showarrow": false,
          "text": "-0.11",
          "x": "Iron Man 2",
          "xref": "x",
          "y": "Guardians of Galaxy",
          "yref": "y"
         },
         {
          "font": {
           "color": "white",
           "size": 8
          },
          "showarrow": false,
          "text": "-0.01",
          "x": "Thor",
          "xref": "x",
          "y": "Guardians of Galaxy",
          "yref": "y"
         },
         {
          "font": {
           "color": "white",
           "size": 8
          },
          "showarrow": false,
          "text": "-0.05",
          "x": "Captain America: The First Avenger",
          "xref": "x",
          "y": "Guardians of Galaxy",
          "yref": "y"
         },
         {
          "font": {
           "color": "white",
           "size": 8
          },
          "showarrow": false,
          "text": "-0.03",
          "x": "The Avengers",
          "xref": "x",
          "y": "Guardians of Galaxy",
          "yref": "y"
         },
         {
          "font": {
           "color": "white",
           "size": 8
          },
          "showarrow": false,
          "text": "-0.11",
          "x": "Iron Man 3",
          "xref": "x",
          "y": "Guardians of Galaxy",
          "yref": "y"
         },
         {
          "font": {
           "color": "white",
           "size": 8
          },
          "showarrow": false,
          "text": "-0.02",
          "x": "Thor: The Dark World",
          "xref": "x",
          "y": "Guardians of Galaxy",
          "yref": "y"
         },
         {
          "font": {
           "color": "white",
           "size": 8
          },
          "showarrow": false,
          "text": "-0.05",
          "x": "Captain America: The Winter Soldier",
          "xref": "x",
          "y": "Guardians of Galaxy",
          "yref": "y"
         },
         {
          "font": {
           "color": "white",
           "size": 8
          },
          "showarrow": false,
          "text": "1.0",
          "x": "Guardians of Galaxy",
          "xref": "x",
          "y": "Guardians of Galaxy",
          "yref": "y"
         },
         {
          "font": {
           "color": "white",
           "size": 8
          },
          "showarrow": false,
          "text": "-0.02",
          "x": "Avengers: Age of Ultron",
          "xref": "x",
          "y": "Guardians of Galaxy",
          "yref": "y"
         },
         {
          "font": {
           "color": "white",
           "size": 8
          },
          "showarrow": false,
          "text": "-0.01",
          "x": "Ant-Man",
          "xref": "x",
          "y": "Guardians of Galaxy",
          "yref": "y"
         },
         {
          "font": {
           "color": "white",
           "size": 8
          },
          "showarrow": false,
          "text": "-0.05",
          "x": "Captain America: Civil War",
          "xref": "x",
          "y": "Guardians of Galaxy",
          "yref": "y"
         },
         {
          "font": {
           "color": "white",
           "size": 8
          },
          "showarrow": false,
          "text": "-0.0",
          "x": "Doctor Strange",
          "xref": "x",
          "y": "Guardians of Galaxy",
          "yref": "y"
         },
         {
          "font": {
           "color": "white",
           "size": 8
          },
          "showarrow": false,
          "text": "0.33",
          "x": "Guardians of Galaxy 2",
          "xref": "x",
          "y": "Guardians of Galaxy",
          "yref": "y"
         },
         {
          "font": {
           "color": "white",
           "size": 8
          },
          "showarrow": false,
          "text": "-0.05",
          "x": "Spider-Man: Homecoming",
          "xref": "x",
          "y": "Guardians of Galaxy",
          "yref": "y"
         },
         {
          "font": {
           "color": "white",
           "size": 8
          },
          "showarrow": false,
          "text": "-0.02",
          "x": "Thor: Ragnarok",
          "xref": "x",
          "y": "Guardians of Galaxy",
          "yref": "y"
         },
         {
          "font": {
           "color": "white",
           "size": 8
          },
          "showarrow": false,
          "text": "0.02",
          "x": "Black Panther",
          "xref": "x",
          "y": "Guardians of Galaxy",
          "yref": "y"
         },
         {
          "font": {
           "color": "white",
           "size": 8
          },
          "showarrow": false,
          "text": "-0.03",
          "x": "Avengers: Infinity War",
          "xref": "x",
          "y": "Guardians of Galaxy",
          "yref": "y"
         },
         {
          "font": {
           "color": "white",
           "size": 8
          },
          "showarrow": false,
          "text": "-0.01",
          "x": "Ant-Man and the Wasp",
          "xref": "x",
          "y": "Guardians of Galaxy",
          "yref": "y"
         },
         {
          "font": {
           "color": "white",
           "size": 8
          },
          "showarrow": false,
          "text": "-0.01",
          "x": "Captain Marvel",
          "xref": "x",
          "y": "Guardians of Galaxy",
          "yref": "y"
         },
         {
          "font": {
           "color": "white",
           "size": 8
          },
          "showarrow": false,
          "text": "-0.02",
          "x": "Avengers: Endgame",
          "xref": "x",
          "y": "Guardians of Galaxy",
          "yref": "y"
         },
         {
          "font": {
           "color": "white",
           "size": 8
          },
          "showarrow": false,
          "text": "-0.07",
          "x": "Spider-Man: Far From Home",
          "xref": "x",
          "y": "Guardians of Galaxy",
          "yref": "y"
         },
         {
          "font": {
           "color": "white",
           "size": 8
          },
          "showarrow": false,
          "text": "-0.05",
          "x": "Black Widow",
          "xref": "x",
          "y": "Guardians of Galaxy",
          "yref": "y"
         },
         {
          "font": {
           "color": "white",
           "size": 8
          },
          "showarrow": false,
          "text": "0.0",
          "x": "Shang-Chi and the Legend of the Ten Rings",
          "xref": "x",
          "y": "Guardians of Galaxy",
          "yref": "y"
         },
         {
          "font": {
           "color": "white",
           "size": 8
          },
          "showarrow": false,
          "text": "-0.0",
          "x": "Eternals",
          "xref": "x",
          "y": "Guardians of Galaxy",
          "yref": "y"
         },
         {
          "font": {
           "color": "white",
           "size": 8
          },
          "showarrow": false,
          "text": "-0.06",
          "x": "Spider-Man: No Way Home",
          "xref": "x",
          "y": "Guardians of Galaxy",
          "yref": "y"
         },
         {
          "font": {
           "color": "white",
           "size": 8
          },
          "showarrow": false,
          "text": "0.01",
          "x": "Age",
          "xref": "x",
          "y": "Guardians of Galaxy",
          "yref": "y"
         },
         {
          "font": {
           "color": "white",
           "size": 8
          },
          "showarrow": false,
          "text": "0.01",
          "x": "MonthsClient",
          "xref": "x",
          "y": "Guardians of Galaxy",
          "yref": "y"
         },
         {
          "font": {
           "color": "white",
           "size": 8
          },
          "showarrow": false,
          "text": "-0.04",
          "x": "MarvelFilmsPerc",
          "xref": "x",
          "y": "Guardians of Galaxy",
          "yref": "y"
         },
         {
          "font": {
           "color": "white",
           "size": 8
          },
          "showarrow": false,
          "text": "-0.1",
          "x": "Iron Man",
          "xref": "x",
          "y": "Avengers: Age of Ultron",
          "yref": "y"
         },
         {
          "font": {
           "color": "white",
           "size": 8
          },
          "showarrow": false,
          "text": "-0.01",
          "x": "The Incredible Hulk",
          "xref": "x",
          "y": "Avengers: Age of Ultron",
          "yref": "y"
         },
         {
          "font": {
           "color": "white",
           "size": 8
          },
          "showarrow": false,
          "text": "-0.11",
          "x": "Iron Man 2",
          "xref": "x",
          "y": "Avengers: Age of Ultron",
          "yref": "y"
         },
         {
          "font": {
           "color": "white",
           "size": 8
          },
          "showarrow": false,
          "text": "-0.01",
          "x": "Thor",
          "xref": "x",
          "y": "Avengers: Age of Ultron",
          "yref": "y"
         },
         {
          "font": {
           "color": "white",
           "size": 8
          },
          "showarrow": false,
          "text": "-0.05",
          "x": "Captain America: The First Avenger",
          "xref": "x",
          "y": "Avengers: Age of Ultron",
          "yref": "y"
         },
         {
          "font": {
           "color": "white",
           "size": 8
          },
          "showarrow": false,
          "text": "0.34",
          "x": "The Avengers",
          "xref": "x",
          "y": "Avengers: Age of Ultron",
          "yref": "y"
         },
         {
          "font": {
           "color": "white",
           "size": 8
          },
          "showarrow": false,
          "text": "-0.12",
          "x": "Iron Man 3",
          "xref": "x",
          "y": "Avengers: Age of Ultron",
          "yref": "y"
         },
         {
          "font": {
           "color": "white",
           "size": 8
          },
          "showarrow": false,
          "text": "-0.02",
          "x": "Thor: The Dark World",
          "xref": "x",
          "y": "Avengers: Age of Ultron",
          "yref": "y"
         },
         {
          "font": {
           "color": "white",
           "size": 8
          },
          "showarrow": false,
          "text": "-0.04",
          "x": "Captain America: The Winter Soldier",
          "xref": "x",
          "y": "Avengers: Age of Ultron",
          "yref": "y"
         },
         {
          "font": {
           "color": "white",
           "size": 8
          },
          "showarrow": false,
          "text": "-0.02",
          "x": "Guardians of Galaxy",
          "xref": "x",
          "y": "Avengers: Age of Ultron",
          "yref": "y"
         },
         {
          "font": {
           "color": "white",
           "size": 8
          },
          "showarrow": false,
          "text": "1.0",
          "x": "Avengers: Age of Ultron",
          "xref": "x",
          "y": "Avengers: Age of Ultron",
          "yref": "y"
         },
         {
          "font": {
           "color": "white",
           "size": 8
          },
          "showarrow": false,
          "text": "-0.01",
          "x": "Ant-Man",
          "xref": "x",
          "y": "Avengers: Age of Ultron",
          "yref": "y"
         },
         {
          "font": {
           "color": "white",
           "size": 8
          },
          "showarrow": false,
          "text": "-0.05",
          "x": "Captain America: Civil War",
          "xref": "x",
          "y": "Avengers: Age of Ultron",
          "yref": "y"
         },
         {
          "font": {
           "color": "white",
           "size": 8
          },
          "showarrow": false,
          "text": "0.01",
          "x": "Doctor Strange",
          "xref": "x",
          "y": "Avengers: Age of Ultron",
          "yref": "y"
         },
         {
          "font": {
           "color": "white",
           "size": 8
          },
          "showarrow": false,
          "text": "-0.02",
          "x": "Guardians of Galaxy 2",
          "xref": "x",
          "y": "Avengers: Age of Ultron",
          "yref": "y"
         },
         {
          "font": {
           "color": "white",
           "size": 8
          },
          "showarrow": false,
          "text": "-0.07",
          "x": "Spider-Man: Homecoming",
          "xref": "x",
          "y": "Avengers: Age of Ultron",
          "yref": "y"
         },
         {
          "font": {
           "color": "white",
           "size": 8
          },
          "showarrow": false,
          "text": "-0.02",
          "x": "Thor: Ragnarok",
          "xref": "x",
          "y": "Avengers: Age of Ultron",
          "yref": "y"
         },
         {
          "font": {
           "color": "white",
           "size": 8
          },
          "showarrow": false,
          "text": "0.01",
          "x": "Black Panther",
          "xref": "x",
          "y": "Avengers: Age of Ultron",
          "yref": "y"
         },
         {
          "font": {
           "color": "white",
           "size": 8
          },
          "showarrow": false,
          "text": "0.34",
          "x": "Avengers: Infinity War",
          "xref": "x",
          "y": "Avengers: Age of Ultron",
          "yref": "y"
         },
         {
          "font": {
           "color": "white",
           "size": 8
          },
          "showarrow": false,
          "text": "-0.02",
          "x": "Ant-Man and the Wasp",
          "xref": "x",
          "y": "Avengers: Age of Ultron",
          "yref": "y"
         },
         {
          "font": {
           "color": "white",
           "size": 8
          },
          "showarrow": false,
          "text": "-0.0",
          "x": "Captain Marvel",
          "xref": "x",
          "y": "Avengers: Age of Ultron",
          "yref": "y"
         },
         {
          "font": {
           "color": "white",
           "size": 8
          },
          "showarrow": false,
          "text": "0.34",
          "x": "Avengers: Endgame",
          "xref": "x",
          "y": "Avengers: Age of Ultron",
          "yref": "y"
         },
         {
          "font": {
           "color": "white",
           "size": 8
          },
          "showarrow": false,
          "text": "-0.07",
          "x": "Spider-Man: Far From Home",
          "xref": "x",
          "y": "Avengers: Age of Ultron",
          "yref": "y"
         },
         {
          "font": {
           "color": "white",
           "size": 8
          },
          "showarrow": false,
          "text": "-0.05",
          "x": "Black Widow",
          "xref": "x",
          "y": "Avengers: Age of Ultron",
          "yref": "y"
         },
         {
          "font": {
           "color": "white",
           "size": 8
          },
          "showarrow": false,
          "text": "-0.0",
          "x": "Shang-Chi and the Legend of the Ten Rings",
          "xref": "x",
          "y": "Avengers: Age of Ultron",
          "yref": "y"
         },
         {
          "font": {
           "color": "white",
           "size": 8
          },
          "showarrow": false,
          "text": "-0.01",
          "x": "Eternals",
          "xref": "x",
          "y": "Avengers: Age of Ultron",
          "yref": "y"
         },
         {
          "font": {
           "color": "white",
           "size": 8
          },
          "showarrow": false,
          "text": "-0.07",
          "x": "Spider-Man: No Way Home",
          "xref": "x",
          "y": "Avengers: Age of Ultron",
          "yref": "y"
         },
         {
          "font": {
           "color": "white",
           "size": 8
          },
          "showarrow": false,
          "text": "-0.01",
          "x": "Age",
          "xref": "x",
          "y": "Avengers: Age of Ultron",
          "yref": "y"
         },
         {
          "font": {
           "color": "white",
           "size": 8
          },
          "showarrow": false,
          "text": "-0.06",
          "x": "MonthsClient",
          "xref": "x",
          "y": "Avengers: Age of Ultron",
          "yref": "y"
         },
         {
          "font": {
           "color": "white",
           "size": 8
          },
          "showarrow": false,
          "text": "0.02",
          "x": "MarvelFilmsPerc",
          "xref": "x",
          "y": "Avengers: Age of Ultron",
          "yref": "y"
         },
         {
          "font": {
           "color": "white",
           "size": 8
          },
          "showarrow": false,
          "text": "-0.03",
          "x": "Iron Man",
          "xref": "x",
          "y": "Ant-Man",
          "yref": "y"
         },
         {
          "font": {
           "color": "white",
           "size": 8
          },
          "showarrow": false,
          "text": "-0.01",
          "x": "The Incredible Hulk",
          "xref": "x",
          "y": "Ant-Man",
          "yref": "y"
         },
         {
          "font": {
           "color": "white",
           "size": 8
          },
          "showarrow": false,
          "text": "-0.03",
          "x": "Iron Man 2",
          "xref": "x",
          "y": "Ant-Man",
          "yref": "y"
         },
         {
          "font": {
           "color": "white",
           "size": 8
          },
          "showarrow": false,
          "text": "-0.01",
          "x": "Thor",
          "xref": "x",
          "y": "Ant-Man",
          "yref": "y"
         },
         {
          "font": {
           "color": "white",
           "size": 8
          },
          "showarrow": false,
          "text": "-0.01",
          "x": "Captain America: The First Avenger",
          "xref": "x",
          "y": "Ant-Man",
          "yref": "y"
         },
         {
          "font": {
           "color": "white",
           "size": 8
          },
          "showarrow": false,
          "text": "-0.01",
          "x": "The Avengers",
          "xref": "x",
          "y": "Ant-Man",
          "yref": "y"
         },
         {
          "font": {
           "color": "white",
           "size": 8
          },
          "showarrow": false,
          "text": "-0.05",
          "x": "Iron Man 3",
          "xref": "x",
          "y": "Ant-Man",
          "yref": "y"
         },
         {
          "font": {
           "color": "white",
           "size": 8
          },
          "showarrow": false,
          "text": "0.0",
          "x": "Thor: The Dark World",
          "xref": "x",
          "y": "Ant-Man",
          "yref": "y"
         },
         {
          "font": {
           "color": "white",
           "size": 8
          },
          "showarrow": false,
          "text": "-0.02",
          "x": "Captain America: The Winter Soldier",
          "xref": "x",
          "y": "Ant-Man",
          "yref": "y"
         },
         {
          "font": {
           "color": "white",
           "size": 8
          },
          "showarrow": false,
          "text": "-0.01",
          "x": "Guardians of Galaxy",
          "xref": "x",
          "y": "Ant-Man",
          "yref": "y"
         },
         {
          "font": {
           "color": "white",
           "size": 8
          },
          "showarrow": false,
          "text": "-0.01",
          "x": "Avengers: Age of Ultron",
          "xref": "x",
          "y": "Ant-Man",
          "yref": "y"
         },
         {
          "font": {
           "color": "white",
           "size": 8
          },
          "showarrow": false,
          "text": "1.0",
          "x": "Ant-Man",
          "xref": "x",
          "y": "Ant-Man",
          "yref": "y"
         },
         {
          "font": {
           "color": "white",
           "size": 8
          },
          "showarrow": false,
          "text": "0.0",
          "x": "Captain America: Civil War",
          "xref": "x",
          "y": "Ant-Man",
          "yref": "y"
         },
         {
          "font": {
           "color": "white",
           "size": 8
          },
          "showarrow": false,
          "text": "0.0",
          "x": "Doctor Strange",
          "xref": "x",
          "y": "Ant-Man",
          "yref": "y"
         },
         {
          "font": {
           "color": "white",
           "size": 8
          },
          "showarrow": false,
          "text": "-0.02",
          "x": "Guardians of Galaxy 2",
          "xref": "x",
          "y": "Ant-Man",
          "yref": "y"
         },
         {
          "font": {
           "color": "white",
           "size": 8
          },
          "showarrow": false,
          "text": "-0.02",
          "x": "Spider-Man: Homecoming",
          "xref": "x",
          "y": "Ant-Man",
          "yref": "y"
         },
         {
          "font": {
           "color": "white",
           "size": 8
          },
          "showarrow": false,
          "text": "-0.01",
          "x": "Thor: Ragnarok",
          "xref": "x",
          "y": "Ant-Man",
          "yref": "y"
         },
         {
          "font": {
           "color": "white",
           "size": 8
          },
          "showarrow": false,
          "text": "0.0",
          "x": "Black Panther",
          "xref": "x",
          "y": "Ant-Man",
          "yref": "y"
         },
         {
          "font": {
           "color": "white",
           "size": 8
          },
          "showarrow": false,
          "text": "-0.03",
          "x": "Avengers: Infinity War",
          "xref": "x",
          "y": "Ant-Man",
          "yref": "y"
         },
         {
          "font": {
           "color": "white",
           "size": 8
          },
          "showarrow": false,
          "text": "0.11",
          "x": "Ant-Man and the Wasp",
          "xref": "x",
          "y": "Ant-Man",
          "yref": "y"
         },
         {
          "font": {
           "color": "white",
           "size": 8
          },
          "showarrow": false,
          "text": "0.0",
          "x": "Captain Marvel",
          "xref": "x",
          "y": "Ant-Man",
          "yref": "y"
         },
         {
          "font": {
           "color": "white",
           "size": 8
          },
          "showarrow": false,
          "text": "-0.02",
          "x": "Avengers: Endgame",
          "xref": "x",
          "y": "Ant-Man",
          "yref": "y"
         },
         {
          "font": {
           "color": "white",
           "size": 8
          },
          "showarrow": false,
          "text": "-0.01",
          "x": "Spider-Man: Far From Home",
          "xref": "x",
          "y": "Ant-Man",
          "yref": "y"
         },
         {
          "font": {
           "color": "white",
           "size": 8
          },
          "showarrow": false,
          "text": "-0.01",
          "x": "Black Widow",
          "xref": "x",
          "y": "Ant-Man",
          "yref": "y"
         },
         {
          "font": {
           "color": "white",
           "size": 8
          },
          "showarrow": false,
          "text": "0.01",
          "x": "Shang-Chi and the Legend of the Ten Rings",
          "xref": "x",
          "y": "Ant-Man",
          "yref": "y"
         },
         {
          "font": {
           "color": "white",
           "size": 8
          },
          "showarrow": false,
          "text": "0.0",
          "x": "Eternals",
          "xref": "x",
          "y": "Ant-Man",
          "yref": "y"
         },
         {
          "font": {
           "color": "white",
           "size": 8
          },
          "showarrow": false,
          "text": "-0.0",
          "x": "Spider-Man: No Way Home",
          "xref": "x",
          "y": "Ant-Man",
          "yref": "y"
         },
         {
          "font": {
           "color": "white",
           "size": 8
          },
          "showarrow": false,
          "text": "0.02",
          "x": "Age",
          "xref": "x",
          "y": "Ant-Man",
          "yref": "y"
         },
         {
          "font": {
           "color": "white",
           "size": 8
          },
          "showarrow": false,
          "text": "0.0",
          "x": "MonthsClient",
          "xref": "x",
          "y": "Ant-Man",
          "yref": "y"
         },
         {
          "font": {
           "color": "white",
           "size": 8
          },
          "showarrow": false,
          "text": "-0.01",
          "x": "MarvelFilmsPerc",
          "xref": "x",
          "y": "Ant-Man",
          "yref": "y"
         },
         {
          "font": {
           "color": "white",
           "size": 8
          },
          "showarrow": false,
          "text": "-0.1",
          "x": "Iron Man",
          "xref": "x",
          "y": "Captain America: Civil War",
          "yref": "y"
         },
         {
          "font": {
           "color": "white",
           "size": 8
          },
          "showarrow": false,
          "text": "-0.0",
          "x": "The Incredible Hulk",
          "xref": "x",
          "y": "Captain America: Civil War",
          "yref": "y"
         },
         {
          "font": {
           "color": "white",
           "size": 8
          },
          "showarrow": false,
          "text": "-0.11",
          "x": "Iron Man 2",
          "xref": "x",
          "y": "Captain America: Civil War",
          "yref": "y"
         },
         {
          "font": {
           "color": "white",
           "size": 8
          },
          "showarrow": false,
          "text": "-0.02",
          "x": "Thor",
          "xref": "x",
          "y": "Captain America: Civil War",
          "yref": "y"
         },
         {
          "font": {
           "color": "white",
           "size": 8
          },
          "showarrow": false,
          "text": "0.34",
          "x": "Captain America: The First Avenger",
          "xref": "x",
          "y": "Captain America: Civil War",
          "yref": "y"
         },
         {
          "font": {
           "color": "white",
           "size": 8
          },
          "showarrow": false,
          "text": "-0.05",
          "x": "The Avengers",
          "xref": "x",
          "y": "Captain America: Civil War",
          "yref": "y"
         },
         {
          "font": {
           "color": "white",
           "size": 8
          },
          "showarrow": false,
          "text": "-0.1",
          "x": "Iron Man 3",
          "xref": "x",
          "y": "Captain America: Civil War",
          "yref": "y"
         },
         {
          "font": {
           "color": "white",
           "size": 8
          },
          "showarrow": false,
          "text": "-0.01",
          "x": "Thor: The Dark World",
          "xref": "x",
          "y": "Captain America: Civil War",
          "yref": "y"
         },
         {
          "font": {
           "color": "white",
           "size": 8
          },
          "showarrow": false,
          "text": "0.33",
          "x": "Captain America: The Winter Soldier",
          "xref": "x",
          "y": "Captain America: Civil War",
          "yref": "y"
         },
         {
          "font": {
           "color": "white",
           "size": 8
          },
          "showarrow": false,
          "text": "-0.05",
          "x": "Guardians of Galaxy",
          "xref": "x",
          "y": "Captain America: Civil War",
          "yref": "y"
         },
         {
          "font": {
           "color": "white",
           "size": 8
          },
          "showarrow": false,
          "text": "-0.05",
          "x": "Avengers: Age of Ultron",
          "xref": "x",
          "y": "Captain America: Civil War",
          "yref": "y"
         },
         {
          "font": {
           "color": "white",
           "size": 8
          },
          "showarrow": false,
          "text": "0.0",
          "x": "Ant-Man",
          "xref": "x",
          "y": "Captain America: Civil War",
          "yref": "y"
         },
         {
          "font": {
           "color": "white",
           "size": 8
          },
          "showarrow": false,
          "text": "1.0",
          "x": "Captain America: Civil War",
          "xref": "x",
          "y": "Captain America: Civil War",
          "yref": "y"
         },
         {
          "font": {
           "color": "white",
           "size": 8
          },
          "showarrow": false,
          "text": "-0.01",
          "x": "Doctor Strange",
          "xref": "x",
          "y": "Captain America: Civil War",
          "yref": "y"
         },
         {
          "font": {
           "color": "white",
           "size": 8
          },
          "showarrow": false,
          "text": "-0.06",
          "x": "Guardians of Galaxy 2",
          "xref": "x",
          "y": "Captain America: Civil War",
          "yref": "y"
         },
         {
          "font": {
           "color": "white",
           "size": 8
          },
          "showarrow": false,
          "text": "-0.07",
          "x": "Spider-Man: Homecoming",
          "xref": "x",
          "y": "Captain America: Civil War",
          "yref": "y"
         },
         {
          "font": {
           "color": "white",
           "size": 8
          },
          "showarrow": false,
          "text": "-0.02",
          "x": "Thor: Ragnarok",
          "xref": "x",
          "y": "Captain America: Civil War",
          "yref": "y"
         },
         {
          "font": {
           "color": "white",
           "size": 8
          },
          "showarrow": false,
          "text": "0.01",
          "x": "Black Panther",
          "xref": "x",
          "y": "Captain America: Civil War",
          "yref": "y"
         },
         {
          "font": {
           "color": "white",
           "size": 8
          },
          "showarrow": false,
          "text": "-0.04",
          "x": "Avengers: Infinity War",
          "xref": "x",
          "y": "Captain America: Civil War",
          "yref": "y"
         },
         {
          "font": {
           "color": "white",
           "size": 8
          },
          "showarrow": false,
          "text": "-0.01",
          "x": "Ant-Man and the Wasp",
          "xref": "x",
          "y": "Captain America: Civil War",
          "yref": "y"
         },
         {
          "font": {
           "color": "white",
           "size": 8
          },
          "showarrow": false,
          "text": "0.01",
          "x": "Captain Marvel",
          "xref": "x",
          "y": "Captain America: Civil War",
          "yref": "y"
         },
         {
          "font": {
           "color": "white",
           "size": 8
          },
          "showarrow": false,
          "text": "-0.05",
          "x": "Avengers: Endgame",
          "xref": "x",
          "y": "Captain America: Civil War",
          "yref": "y"
         },
         {
          "font": {
           "color": "white",
           "size": 8
          },
          "showarrow": false,
          "text": "-0.07",
          "x": "Spider-Man: Far From Home",
          "xref": "x",
          "y": "Captain America: Civil War",
          "yref": "y"
         },
         {
          "font": {
           "color": "white",
           "size": 8
          },
          "showarrow": false,
          "text": "-0.05",
          "x": "Black Widow",
          "xref": "x",
          "y": "Captain America: Civil War",
          "yref": "y"
         },
         {
          "font": {
           "color": "white",
           "size": 8
          },
          "showarrow": false,
          "text": "-0.02",
          "x": "Shang-Chi and the Legend of the Ten Rings",
          "xref": "x",
          "y": "Captain America: Civil War",
          "yref": "y"
         },
         {
          "font": {
           "color": "white",
           "size": 8
          },
          "showarrow": false,
          "text": "0.01",
          "x": "Eternals",
          "xref": "x",
          "y": "Captain America: Civil War",
          "yref": "y"
         },
         {
          "font": {
           "color": "white",
           "size": 8
          },
          "showarrow": false,
          "text": "-0.06",
          "x": "Spider-Man: No Way Home",
          "xref": "x",
          "y": "Captain America: Civil War",
          "yref": "y"
         },
         {
          "font": {
           "color": "white",
           "size": 8
          },
          "showarrow": false,
          "text": "0.01",
          "x": "Age",
          "xref": "x",
          "y": "Captain America: Civil War",
          "yref": "y"
         },
         {
          "font": {
           "color": "white",
           "size": 8
          },
          "showarrow": false,
          "text": "0.04",
          "x": "MonthsClient",
          "xref": "x",
          "y": "Captain America: Civil War",
          "yref": "y"
         },
         {
          "font": {
           "color": "white",
           "size": 8
          },
          "showarrow": false,
          "text": "-0.02",
          "x": "MarvelFilmsPerc",
          "xref": "x",
          "y": "Captain America: Civil War",
          "yref": "y"
         },
         {
          "font": {
           "color": "white",
           "size": 8
          },
          "showarrow": false,
          "text": "-0.02",
          "x": "Iron Man",
          "xref": "x",
          "y": "Doctor Strange",
          "yref": "y"
         },
         {
          "font": {
           "color": "white",
           "size": 8
          },
          "showarrow": false,
          "text": "-0.0",
          "x": "The Incredible Hulk",
          "xref": "x",
          "y": "Doctor Strange",
          "yref": "y"
         },
         {
          "font": {
           "color": "white",
           "size": 8
          },
          "showarrow": false,
          "text": "-0.01",
          "x": "Iron Man 2",
          "xref": "x",
          "y": "Doctor Strange",
          "yref": "y"
         },
         {
          "font": {
           "color": "white",
           "size": 8
          },
          "showarrow": false,
          "text": "-0.02",
          "x": "Thor",
          "xref": "x",
          "y": "Doctor Strange",
          "yref": "y"
         },
         {
          "font": {
           "color": "white",
           "size": 8
          },
          "showarrow": false,
          "text": "-0.01",
          "x": "Captain America: The First Avenger",
          "xref": "x",
          "y": "Doctor Strange",
          "yref": "y"
         },
         {
          "font": {
           "color": "white",
           "size": 8
          },
          "showarrow": false,
          "text": "-0.01",
          "x": "The Avengers",
          "xref": "x",
          "y": "Doctor Strange",
          "yref": "y"
         },
         {
          "font": {
           "color": "white",
           "size": 8
          },
          "showarrow": false,
          "text": "-0.02",
          "x": "Iron Man 3",
          "xref": "x",
          "y": "Doctor Strange",
          "yref": "y"
         },
         {
          "font": {
           "color": "white",
           "size": 8
          },
          "showarrow": false,
          "text": "-0.01",
          "x": "Thor: The Dark World",
          "xref": "x",
          "y": "Doctor Strange",
          "yref": "y"
         },
         {
          "font": {
           "color": "white",
           "size": 8
          },
          "showarrow": false,
          "text": "-0.02",
          "x": "Captain America: The Winter Soldier",
          "xref": "x",
          "y": "Doctor Strange",
          "yref": "y"
         },
         {
          "font": {
           "color": "white",
           "size": 8
          },
          "showarrow": false,
          "text": "-0.0",
          "x": "Guardians of Galaxy",
          "xref": "x",
          "y": "Doctor Strange",
          "yref": "y"
         },
         {
          "font": {
           "color": "white",
           "size": 8
          },
          "showarrow": false,
          "text": "0.01",
          "x": "Avengers: Age of Ultron",
          "xref": "x",
          "y": "Doctor Strange",
          "yref": "y"
         },
         {
          "font": {
           "color": "white",
           "size": 8
          },
          "showarrow": false,
          "text": "0.0",
          "x": "Ant-Man",
          "xref": "x",
          "y": "Doctor Strange",
          "yref": "y"
         },
         {
          "font": {
           "color": "white",
           "size": 8
          },
          "showarrow": false,
          "text": "-0.01",
          "x": "Captain America: Civil War",
          "xref": "x",
          "y": "Doctor Strange",
          "yref": "y"
         },
         {
          "font": {
           "color": "white",
           "size": 8
          },
          "showarrow": false,
          "text": "1.0",
          "x": "Doctor Strange",
          "xref": "x",
          "y": "Doctor Strange",
          "yref": "y"
         },
         {
          "font": {
           "color": "white",
           "size": 8
          },
          "showarrow": false,
          "text": "-0.01",
          "x": "Guardians of Galaxy 2",
          "xref": "x",
          "y": "Doctor Strange",
          "yref": "y"
         },
         {
          "font": {
           "color": "white",
           "size": 8
          },
          "showarrow": false,
          "text": "-0.01",
          "x": "Spider-Man: Homecoming",
          "xref": "x",
          "y": "Doctor Strange",
          "yref": "y"
         },
         {
          "font": {
           "color": "white",
           "size": 8
          },
          "showarrow": false,
          "text": "-0.0",
          "x": "Thor: Ragnarok",
          "xref": "x",
          "y": "Doctor Strange",
          "yref": "y"
         },
         {
          "font": {
           "color": "white",
           "size": 8
          },
          "showarrow": false,
          "text": "-0.01",
          "x": "Black Panther",
          "xref": "x",
          "y": "Doctor Strange",
          "yref": "y"
         },
         {
          "font": {
           "color": "white",
           "size": 8
          },
          "showarrow": false,
          "text": "-0.01",
          "x": "Avengers: Infinity War",
          "xref": "x",
          "y": "Doctor Strange",
          "yref": "y"
         },
         {
          "font": {
           "color": "white",
           "size": 8
          },
          "showarrow": false,
          "text": "-0.0",
          "x": "Ant-Man and the Wasp",
          "xref": "x",
          "y": "Doctor Strange",
          "yref": "y"
         },
         {
          "font": {
           "color": "white",
           "size": 8
          },
          "showarrow": false,
          "text": "-0.01",
          "x": "Captain Marvel",
          "xref": "x",
          "y": "Doctor Strange",
          "yref": "y"
         },
         {
          "font": {
           "color": "white",
           "size": 8
          },
          "showarrow": false,
          "text": "-0.0",
          "x": "Avengers: Endgame",
          "xref": "x",
          "y": "Doctor Strange",
          "yref": "y"
         },
         {
          "font": {
           "color": "white",
           "size": 8
          },
          "showarrow": false,
          "text": "-0.02",
          "x": "Spider-Man: Far From Home",
          "xref": "x",
          "y": "Doctor Strange",
          "yref": "y"
         },
         {
          "font": {
           "color": "white",
           "size": 8
          },
          "showarrow": false,
          "text": "-0.01",
          "x": "Black Widow",
          "xref": "x",
          "y": "Doctor Strange",
          "yref": "y"
         },
         {
          "font": {
           "color": "white",
           "size": 8
          },
          "showarrow": false,
          "text": "-0.01",
          "x": "Shang-Chi and the Legend of the Ten Rings",
          "xref": "x",
          "y": "Doctor Strange",
          "yref": "y"
         },
         {
          "font": {
           "color": "white",
           "size": 8
          },
          "showarrow": false,
          "text": "0.01",
          "x": "Eternals",
          "xref": "x",
          "y": "Doctor Strange",
          "yref": "y"
         },
         {
          "font": {
           "color": "white",
           "size": 8
          },
          "showarrow": false,
          "text": "-0.03",
          "x": "Spider-Man: No Way Home",
          "xref": "x",
          "y": "Doctor Strange",
          "yref": "y"
         },
         {
          "font": {
           "color": "white",
           "size": 8
          },
          "showarrow": false,
          "text": "0.01",
          "x": "Age",
          "xref": "x",
          "y": "Doctor Strange",
          "yref": "y"
         },
         {
          "font": {
           "color": "white",
           "size": 8
          },
          "showarrow": false,
          "text": "-0.01",
          "x": "MonthsClient",
          "xref": "x",
          "y": "Doctor Strange",
          "yref": "y"
         },
         {
          "font": {
           "color": "white",
           "size": 8
          },
          "showarrow": false,
          "text": "-0.02",
          "x": "MarvelFilmsPerc",
          "xref": "x",
          "y": "Doctor Strange",
          "yref": "y"
         },
         {
          "font": {
           "color": "white",
           "size": 8
          },
          "showarrow": false,
          "text": "-0.11",
          "x": "Iron Man",
          "xref": "x",
          "y": "Guardians of Galaxy 2",
          "yref": "y"
         },
         {
          "font": {
           "color": "white",
           "size": 8
          },
          "showarrow": false,
          "text": "0.0",
          "x": "The Incredible Hulk",
          "xref": "x",
          "y": "Guardians of Galaxy 2",
          "yref": "y"
         },
         {
          "font": {
           "color": "white",
           "size": 8
          },
          "showarrow": false,
          "text": "-0.1",
          "x": "Iron Man 2",
          "xref": "x",
          "y": "Guardians of Galaxy 2",
          "yref": "y"
         },
         {
          "font": {
           "color": "white",
           "size": 8
          },
          "showarrow": false,
          "text": "-0.02",
          "x": "Thor",
          "xref": "x",
          "y": "Guardians of Galaxy 2",
          "yref": "y"
         },
         {
          "font": {
           "color": "white",
           "size": 8
          },
          "showarrow": false,
          "text": "-0.06",
          "x": "Captain America: The First Avenger",
          "xref": "x",
          "y": "Guardians of Galaxy 2",
          "yref": "y"
         },
         {
          "font": {
           "color": "white",
           "size": 8
          },
          "showarrow": false,
          "text": "-0.03",
          "x": "The Avengers",
          "xref": "x",
          "y": "Guardians of Galaxy 2",
          "yref": "y"
         },
         {
          "font": {
           "color": "white",
           "size": 8
          },
          "showarrow": false,
          "text": "-0.1",
          "x": "Iron Man 3",
          "xref": "x",
          "y": "Guardians of Galaxy 2",
          "yref": "y"
         },
         {
          "font": {
           "color": "white",
           "size": 8
          },
          "showarrow": false,
          "text": "-0.0",
          "x": "Thor: The Dark World",
          "xref": "x",
          "y": "Guardians of Galaxy 2",
          "yref": "y"
         },
         {
          "font": {
           "color": "white",
           "size": 8
          },
          "showarrow": false,
          "text": "-0.05",
          "x": "Captain America: The Winter Soldier",
          "xref": "x",
          "y": "Guardians of Galaxy 2",
          "yref": "y"
         },
         {
          "font": {
           "color": "white",
           "size": 8
          },
          "showarrow": false,
          "text": "0.33",
          "x": "Guardians of Galaxy",
          "xref": "x",
          "y": "Guardians of Galaxy 2",
          "yref": "y"
         },
         {
          "font": {
           "color": "white",
           "size": 8
          },
          "showarrow": false,
          "text": "-0.02",
          "x": "Avengers: Age of Ultron",
          "xref": "x",
          "y": "Guardians of Galaxy 2",
          "yref": "y"
         },
         {
          "font": {
           "color": "white",
           "size": 8
          },
          "showarrow": false,
          "text": "-0.02",
          "x": "Ant-Man",
          "xref": "x",
          "y": "Guardians of Galaxy 2",
          "yref": "y"
         },
         {
          "font": {
           "color": "white",
           "size": 8
          },
          "showarrow": false,
          "text": "-0.06",
          "x": "Captain America: Civil War",
          "xref": "x",
          "y": "Guardians of Galaxy 2",
          "yref": "y"
         },
         {
          "font": {
           "color": "white",
           "size": 8
          },
          "showarrow": false,
          "text": "-0.01",
          "x": "Doctor Strange",
          "xref": "x",
          "y": "Guardians of Galaxy 2",
          "yref": "y"
         },
         {
          "font": {
           "color": "white",
           "size": 8
          },
          "showarrow": false,
          "text": "1.0",
          "x": "Guardians of Galaxy 2",
          "xref": "x",
          "y": "Guardians of Galaxy 2",
          "yref": "y"
         },
         {
          "font": {
           "color": "white",
           "size": 8
          },
          "showarrow": false,
          "text": "-0.05",
          "x": "Spider-Man: Homecoming",
          "xref": "x",
          "y": "Guardians of Galaxy 2",
          "yref": "y"
         },
         {
          "font": {
           "color": "white",
           "size": 8
          },
          "showarrow": false,
          "text": "-0.02",
          "x": "Thor: Ragnarok",
          "xref": "x",
          "y": "Guardians of Galaxy 2",
          "yref": "y"
         },
         {
          "font": {
           "color": "white",
           "size": 8
          },
          "showarrow": false,
          "text": "0.01",
          "x": "Black Panther",
          "xref": "x",
          "y": "Guardians of Galaxy 2",
          "yref": "y"
         },
         {
          "font": {
           "color": "white",
           "size": 8
          },
          "showarrow": false,
          "text": "-0.02",
          "x": "Avengers: Infinity War",
          "xref": "x",
          "y": "Guardians of Galaxy 2",
          "yref": "y"
         },
         {
          "font": {
           "color": "white",
           "size": 8
          },
          "showarrow": false,
          "text": "-0.02",
          "x": "Ant-Man and the Wasp",
          "xref": "x",
          "y": "Guardians of Galaxy 2",
          "yref": "y"
         },
         {
          "font": {
           "color": "white",
           "size": 8
          },
          "showarrow": false,
          "text": "-0.01",
          "x": "Captain Marvel",
          "xref": "x",
          "y": "Guardians of Galaxy 2",
          "yref": "y"
         },
         {
          "font": {
           "color": "white",
           "size": 8
          },
          "showarrow": false,
          "text": "-0.02",
          "x": "Avengers: Endgame",
          "xref": "x",
          "y": "Guardians of Galaxy 2",
          "yref": "y"
         },
         {
          "font": {
           "color": "white",
           "size": 8
          },
          "showarrow": false,
          "text": "-0.06",
          "x": "Spider-Man: Far From Home",
          "xref": "x",
          "y": "Guardians of Galaxy 2",
          "yref": "y"
         },
         {
          "font": {
           "color": "white",
           "size": 8
          },
          "showarrow": false,
          "text": "-0.05",
          "x": "Black Widow",
          "xref": "x",
          "y": "Guardians of Galaxy 2",
          "yref": "y"
         },
         {
          "font": {
           "color": "white",
           "size": 8
          },
          "showarrow": false,
          "text": "-0.01",
          "x": "Shang-Chi and the Legend of the Ten Rings",
          "xref": "x",
          "y": "Guardians of Galaxy 2",
          "yref": "y"
         },
         {
          "font": {
           "color": "white",
           "size": 8
          },
          "showarrow": false,
          "text": "0.01",
          "x": "Eternals",
          "xref": "x",
          "y": "Guardians of Galaxy 2",
          "yref": "y"
         },
         {
          "font": {
           "color": "white",
           "size": 8
          },
          "showarrow": false,
          "text": "-0.05",
          "x": "Spider-Man: No Way Home",
          "xref": "x",
          "y": "Guardians of Galaxy 2",
          "yref": "y"
         },
         {
          "font": {
           "color": "white",
           "size": 8
          },
          "showarrow": false,
          "text": "0.01",
          "x": "Age",
          "xref": "x",
          "y": "Guardians of Galaxy 2",
          "yref": "y"
         },
         {
          "font": {
           "color": "white",
           "size": 8
          },
          "showarrow": false,
          "text": "0.0",
          "x": "MonthsClient",
          "xref": "x",
          "y": "Guardians of Galaxy 2",
          "yref": "y"
         },
         {
          "font": {
           "color": "white",
           "size": 8
          },
          "showarrow": false,
          "text": "-0.05",
          "x": "MarvelFilmsPerc",
          "xref": "x",
          "y": "Guardians of Galaxy 2",
          "yref": "y"
         },
         {
          "font": {
           "color": "white",
           "size": 8
          },
          "showarrow": false,
          "text": "-0.16",
          "x": "Iron Man",
          "xref": "x",
          "y": "Spider-Man: Homecoming",
          "yref": "y"
         },
         {
          "font": {
           "color": "white",
           "size": 8
          },
          "showarrow": false,
          "text": "0.0",
          "x": "The Incredible Hulk",
          "xref": "x",
          "y": "Spider-Man: Homecoming",
          "yref": "y"
         },
         {
          "font": {
           "color": "white",
           "size": 8
          },
          "showarrow": false,
          "text": "-0.16",
          "x": "Iron Man 2",
          "xref": "x",
          "y": "Spider-Man: Homecoming",
          "yref": "y"
         },
         {
          "font": {
           "color": "white",
           "size": 8
          },
          "showarrow": false,
          "text": "-0.02",
          "x": "Thor",
          "xref": "x",
          "y": "Spider-Man: Homecoming",
          "yref": "y"
         },
         {
          "font": {
           "color": "white",
           "size": 8
          },
          "showarrow": false,
          "text": "-0.06",
          "x": "Captain America: The First Avenger",
          "xref": "x",
          "y": "Spider-Man: Homecoming",
          "yref": "y"
         },
         {
          "font": {
           "color": "white",
           "size": 8
          },
          "showarrow": false,
          "text": "-0.07",
          "x": "The Avengers",
          "xref": "x",
          "y": "Spider-Man: Homecoming",
          "yref": "y"
         },
         {
          "font": {
           "color": "white",
           "size": 8
          },
          "showarrow": false,
          "text": "-0.16",
          "x": "Iron Man 3",
          "xref": "x",
          "y": "Spider-Man: Homecoming",
          "yref": "y"
         },
         {
          "font": {
           "color": "white",
           "size": 8
          },
          "showarrow": false,
          "text": "-0.02",
          "x": "Thor: The Dark World",
          "xref": "x",
          "y": "Spider-Man: Homecoming",
          "yref": "y"
         },
         {
          "font": {
           "color": "white",
           "size": 8
          },
          "showarrow": false,
          "text": "-0.06",
          "x": "Captain America: The Winter Soldier",
          "xref": "x",
          "y": "Spider-Man: Homecoming",
          "yref": "y"
         },
         {
          "font": {
           "color": "white",
           "size": 8
          },
          "showarrow": false,
          "text": "-0.05",
          "x": "Guardians of Galaxy",
          "xref": "x",
          "y": "Spider-Man: Homecoming",
          "yref": "y"
         },
         {
          "font": {
           "color": "white",
           "size": 8
          },
          "showarrow": false,
          "text": "-0.07",
          "x": "Avengers: Age of Ultron",
          "xref": "x",
          "y": "Spider-Man: Homecoming",
          "yref": "y"
         },
         {
          "font": {
           "color": "white",
           "size": 8
          },
          "showarrow": false,
          "text": "-0.02",
          "x": "Ant-Man",
          "xref": "x",
          "y": "Spider-Man: Homecoming",
          "yref": "y"
         },
         {
          "font": {
           "color": "white",
           "size": 8
          },
          "showarrow": false,
          "text": "-0.07",
          "x": "Captain America: Civil War",
          "xref": "x",
          "y": "Spider-Man: Homecoming",
          "yref": "y"
         },
         {
          "font": {
           "color": "white",
           "size": 8
          },
          "showarrow": false,
          "text": "-0.01",
          "x": "Doctor Strange",
          "xref": "x",
          "y": "Spider-Man: Homecoming",
          "yref": "y"
         },
         {
          "font": {
           "color": "white",
           "size": 8
          },
          "showarrow": false,
          "text": "-0.05",
          "x": "Guardians of Galaxy 2",
          "xref": "x",
          "y": "Spider-Man: Homecoming",
          "yref": "y"
         },
         {
          "font": {
           "color": "white",
           "size": 8
          },
          "showarrow": false,
          "text": "1.0",
          "x": "Spider-Man: Homecoming",
          "xref": "x",
          "y": "Spider-Man: Homecoming",
          "yref": "y"
         },
         {
          "font": {
           "color": "white",
           "size": 8
          },
          "showarrow": false,
          "text": "-0.03",
          "x": "Thor: Ragnarok",
          "xref": "x",
          "y": "Spider-Man: Homecoming",
          "yref": "y"
         },
         {
          "font": {
           "color": "white",
           "size": 8
          },
          "showarrow": false,
          "text": "0.01",
          "x": "Black Panther",
          "xref": "x",
          "y": "Spider-Man: Homecoming",
          "yref": "y"
         },
         {
          "font": {
           "color": "white",
           "size": 8
          },
          "showarrow": false,
          "text": "-0.07",
          "x": "Avengers: Infinity War",
          "xref": "x",
          "y": "Spider-Man: Homecoming",
          "yref": "y"
         },
         {
          "font": {
           "color": "white",
           "size": 8
          },
          "showarrow": false,
          "text": "-0.02",
          "x": "Ant-Man and the Wasp",
          "xref": "x",
          "y": "Spider-Man: Homecoming",
          "yref": "y"
         },
         {
          "font": {
           "color": "white",
           "size": 8
          },
          "showarrow": false,
          "text": "-0.0",
          "x": "Captain Marvel",
          "xref": "x",
          "y": "Spider-Man: Homecoming",
          "yref": "y"
         },
         {
          "font": {
           "color": "white",
           "size": 8
          },
          "showarrow": false,
          "text": "-0.08",
          "x": "Avengers: Endgame",
          "xref": "x",
          "y": "Spider-Man: Homecoming",
          "yref": "y"
         },
         {
          "font": {
           "color": "white",
           "size": 8
          },
          "showarrow": false,
          "text": "0.43",
          "x": "Spider-Man: Far From Home",
          "xref": "x",
          "y": "Spider-Man: Homecoming",
          "yref": "y"
         },
         {
          "font": {
           "color": "white",
           "size": 8
          },
          "showarrow": false,
          "text": "-0.07",
          "x": "Black Widow",
          "xref": "x",
          "y": "Spider-Man: Homecoming",
          "yref": "y"
         },
         {
          "font": {
           "color": "white",
           "size": 8
          },
          "showarrow": false,
          "text": "-0.01",
          "x": "Shang-Chi and the Legend of the Ten Rings",
          "xref": "x",
          "y": "Spider-Man: Homecoming",
          "yref": "y"
         },
         {
          "font": {
           "color": "white",
           "size": 8
          },
          "showarrow": false,
          "text": "-0.0",
          "x": "Eternals",
          "xref": "x",
          "y": "Spider-Man: Homecoming",
          "yref": "y"
         },
         {
          "font": {
           "color": "white",
           "size": 8
          },
          "showarrow": false,
          "text": "0.42",
          "x": "Spider-Man: No Way Home",
          "xref": "x",
          "y": "Spider-Man: Homecoming",
          "yref": "y"
         },
         {
          "font": {
           "color": "white",
           "size": 8
          },
          "showarrow": false,
          "text": "-0.03",
          "x": "Age",
          "xref": "x",
          "y": "Spider-Man: Homecoming",
          "yref": "y"
         },
         {
          "font": {
           "color": "white",
           "size": 8
          },
          "showarrow": false,
          "text": "-0.09",
          "x": "MonthsClient",
          "xref": "x",
          "y": "Spider-Man: Homecoming",
          "yref": "y"
         },
         {
          "font": {
           "color": "white",
           "size": 8
          },
          "showarrow": false,
          "text": "-0.02",
          "x": "MarvelFilmsPerc",
          "xref": "x",
          "y": "Spider-Man: Homecoming",
          "yref": "y"
         },
         {
          "font": {
           "color": "white",
           "size": 8
          },
          "showarrow": false,
          "text": "-0.05",
          "x": "Iron Man",
          "xref": "x",
          "y": "Thor: Ragnarok",
          "yref": "y"
         },
         {
          "font": {
           "color": "white",
           "size": 8
          },
          "showarrow": false,
          "text": "-0.0",
          "x": "The Incredible Hulk",
          "xref": "x",
          "y": "Thor: Ragnarok",
          "yref": "y"
         },
         {
          "font": {
           "color": "white",
           "size": 8
          },
          "showarrow": false,
          "text": "-0.04",
          "x": "Iron Man 2",
          "xref": "x",
          "y": "Thor: Ragnarok",
          "yref": "y"
         },
         {
          "font": {
           "color": "white",
           "size": 8
          },
          "showarrow": false,
          "text": "0.16",
          "x": "Thor",
          "xref": "x",
          "y": "Thor: Ragnarok",
          "yref": "y"
         },
         {
          "font": {
           "color": "white",
           "size": 8
          },
          "showarrow": false,
          "text": "-0.01",
          "x": "Captain America: The First Avenger",
          "xref": "x",
          "y": "Thor: Ragnarok",
          "yref": "y"
         },
         {
          "font": {
           "color": "white",
           "size": 8
          },
          "showarrow": false,
          "text": "-0.02",
          "x": "The Avengers",
          "xref": "x",
          "y": "Thor: Ragnarok",
          "yref": "y"
         },
         {
          "font": {
           "color": "white",
           "size": 8
          },
          "showarrow": false,
          "text": "-0.05",
          "x": "Iron Man 3",
          "xref": "x",
          "y": "Thor: Ragnarok",
          "yref": "y"
         },
         {
          "font": {
           "color": "white",
           "size": 8
          },
          "showarrow": false,
          "text": "0.16",
          "x": "Thor: The Dark World",
          "xref": "x",
          "y": "Thor: Ragnarok",
          "yref": "y"
         },
         {
          "font": {
           "color": "white",
           "size": 8
          },
          "showarrow": false,
          "text": "-0.0",
          "x": "Captain America: The Winter Soldier",
          "xref": "x",
          "y": "Thor: Ragnarok",
          "yref": "y"
         },
         {
          "font": {
           "color": "white",
           "size": 8
          },
          "showarrow": false,
          "text": "-0.02",
          "x": "Guardians of Galaxy",
          "xref": "x",
          "y": "Thor: Ragnarok",
          "yref": "y"
         },
         {
          "font": {
           "color": "white",
           "size": 8
          },
          "showarrow": false,
          "text": "-0.02",
          "x": "Avengers: Age of Ultron",
          "xref": "x",
          "y": "Thor: Ragnarok",
          "yref": "y"
         },
         {
          "font": {
           "color": "white",
           "size": 8
          },
          "showarrow": false,
          "text": "-0.01",
          "x": "Ant-Man",
          "xref": "x",
          "y": "Thor: Ragnarok",
          "yref": "y"
         },
         {
          "font": {
           "color": "white",
           "size": 8
          },
          "showarrow": false,
          "text": "-0.02",
          "x": "Captain America: Civil War",
          "xref": "x",
          "y": "Thor: Ragnarok",
          "yref": "y"
         },
         {
          "font": {
           "color": "white",
           "size": 8
          },
          "showarrow": false,
          "text": "-0.0",
          "x": "Doctor Strange",
          "xref": "x",
          "y": "Thor: Ragnarok",
          "yref": "y"
         },
         {
          "font": {
           "color": "white",
           "size": 8
          },
          "showarrow": false,
          "text": "-0.02",
          "x": "Guardians of Galaxy 2",
          "xref": "x",
          "y": "Thor: Ragnarok",
          "yref": "y"
         },
         {
          "font": {
           "color": "white",
           "size": 8
          },
          "showarrow": false,
          "text": "-0.03",
          "x": "Spider-Man: Homecoming",
          "xref": "x",
          "y": "Thor: Ragnarok",
          "yref": "y"
         },
         {
          "font": {
           "color": "white",
           "size": 8
          },
          "showarrow": false,
          "text": "1.0",
          "x": "Thor: Ragnarok",
          "xref": "x",
          "y": "Thor: Ragnarok",
          "yref": "y"
         },
         {
          "font": {
           "color": "white",
           "size": 8
          },
          "showarrow": false,
          "text": "-0.01",
          "x": "Black Panther",
          "xref": "x",
          "y": "Thor: Ragnarok",
          "yref": "y"
         },
         {
          "font": {
           "color": "white",
           "size": 8
          },
          "showarrow": false,
          "text": "-0.0",
          "x": "Avengers: Infinity War",
          "xref": "x",
          "y": "Thor: Ragnarok",
          "yref": "y"
         },
         {
          "font": {
           "color": "white",
           "size": 8
          },
          "showarrow": false,
          "text": "-0.0",
          "x": "Ant-Man and the Wasp",
          "xref": "x",
          "y": "Thor: Ragnarok",
          "yref": "y"
         },
         {
          "font": {
           "color": "white",
           "size": 8
          },
          "showarrow": false,
          "text": "-0.0",
          "x": "Captain Marvel",
          "xref": "x",
          "y": "Thor: Ragnarok",
          "yref": "y"
         },
         {
          "font": {
           "color": "white",
           "size": 8
          },
          "showarrow": false,
          "text": "-0.02",
          "x": "Avengers: Endgame",
          "xref": "x",
          "y": "Thor: Ragnarok",
          "yref": "y"
         },
         {
          "font": {
           "color": "white",
           "size": 8
          },
          "showarrow": false,
          "text": "-0.04",
          "x": "Spider-Man: Far From Home",
          "xref": "x",
          "y": "Thor: Ragnarok",
          "yref": "y"
         },
         {
          "font": {
           "color": "white",
           "size": 8
          },
          "showarrow": false,
          "text": "-0.02",
          "x": "Black Widow",
          "xref": "x",
          "y": "Thor: Ragnarok",
          "yref": "y"
         },
         {
          "font": {
           "color": "white",
           "size": 8
          },
          "showarrow": false,
          "text": "-0.01",
          "x": "Shang-Chi and the Legend of the Ten Rings",
          "xref": "x",
          "y": "Thor: Ragnarok",
          "yref": "y"
         },
         {
          "font": {
           "color": "white",
           "size": 8
          },
          "showarrow": false,
          "text": "-0.01",
          "x": "Eternals",
          "xref": "x",
          "y": "Thor: Ragnarok",
          "yref": "y"
         },
         {
          "font": {
           "color": "white",
           "size": 8
          },
          "showarrow": false,
          "text": "-0.03",
          "x": "Spider-Man: No Way Home",
          "xref": "x",
          "y": "Thor: Ragnarok",
          "yref": "y"
         },
         {
          "font": {
           "color": "white",
           "size": 8
          },
          "showarrow": false,
          "text": "-0.0",
          "x": "Age",
          "xref": "x",
          "y": "Thor: Ragnarok",
          "yref": "y"
         },
         {
          "font": {
           "color": "white",
           "size": 8
          },
          "showarrow": false,
          "text": "-0.01",
          "x": "MonthsClient",
          "xref": "x",
          "y": "Thor: Ragnarok",
          "yref": "y"
         },
         {
          "font": {
           "color": "white",
           "size": 8
          },
          "showarrow": false,
          "text": "-0.01",
          "x": "MarvelFilmsPerc",
          "xref": "x",
          "y": "Thor: Ragnarok",
          "yref": "y"
         },
         {
          "font": {
           "color": "white",
           "size": 8
          },
          "showarrow": false,
          "text": "-0.01",
          "x": "Iron Man",
          "xref": "x",
          "y": "Black Panther",
          "yref": "y"
         },
         {
          "font": {
           "color": "white",
           "size": 8
          },
          "showarrow": false,
          "text": "-0.01",
          "x": "The Incredible Hulk",
          "xref": "x",
          "y": "Black Panther",
          "yref": "y"
         },
         {
          "font": {
           "color": "white",
           "size": 8
          },
          "showarrow": false,
          "text": "-0.01",
          "x": "Iron Man 2",
          "xref": "x",
          "y": "Black Panther",
          "yref": "y"
         },
         {
          "font": {
           "color": "white",
           "size": 8
          },
          "showarrow": false,
          "text": "0.01",
          "x": "Thor",
          "xref": "x",
          "y": "Black Panther",
          "yref": "y"
         },
         {
          "font": {
           "color": "white",
           "size": 8
          },
          "showarrow": false,
          "text": "0.01",
          "x": "Captain America: The First Avenger",
          "xref": "x",
          "y": "Black Panther",
          "yref": "y"
         },
         {
          "font": {
           "color": "white",
           "size": 8
          },
          "showarrow": false,
          "text": "0.01",
          "x": "The Avengers",
          "xref": "x",
          "y": "Black Panther",
          "yref": "y"
         },
         {
          "font": {
           "color": "white",
           "size": 8
          },
          "showarrow": false,
          "text": "-0.01",
          "x": "Iron Man 3",
          "xref": "x",
          "y": "Black Panther",
          "yref": "y"
         },
         {
          "font": {
           "color": "white",
           "size": 8
          },
          "showarrow": false,
          "text": "-0.01",
          "x": "Thor: The Dark World",
          "xref": "x",
          "y": "Black Panther",
          "yref": "y"
         },
         {
          "font": {
           "color": "white",
           "size": 8
          },
          "showarrow": false,
          "text": "0.01",
          "x": "Captain America: The Winter Soldier",
          "xref": "x",
          "y": "Black Panther",
          "yref": "y"
         },
         {
          "font": {
           "color": "white",
           "size": 8
          },
          "showarrow": false,
          "text": "0.02",
          "x": "Guardians of Galaxy",
          "xref": "x",
          "y": "Black Panther",
          "yref": "y"
         },
         {
          "font": {
           "color": "white",
           "size": 8
          },
          "showarrow": false,
          "text": "0.01",
          "x": "Avengers: Age of Ultron",
          "xref": "x",
          "y": "Black Panther",
          "yref": "y"
         },
         {
          "font": {
           "color": "white",
           "size": 8
          },
          "showarrow": false,
          "text": "0.0",
          "x": "Ant-Man",
          "xref": "x",
          "y": "Black Panther",
          "yref": "y"
         },
         {
          "font": {
           "color": "white",
           "size": 8
          },
          "showarrow": false,
          "text": "0.01",
          "x": "Captain America: Civil War",
          "xref": "x",
          "y": "Black Panther",
          "yref": "y"
         },
         {
          "font": {
           "color": "white",
           "size": 8
          },
          "showarrow": false,
          "text": "-0.01",
          "x": "Doctor Strange",
          "xref": "x",
          "y": "Black Panther",
          "yref": "y"
         },
         {
          "font": {
           "color": "white",
           "size": 8
          },
          "showarrow": false,
          "text": "0.01",
          "x": "Guardians of Galaxy 2",
          "xref": "x",
          "y": "Black Panther",
          "yref": "y"
         },
         {
          "font": {
           "color": "white",
           "size": 8
          },
          "showarrow": false,
          "text": "0.01",
          "x": "Spider-Man: Homecoming",
          "xref": "x",
          "y": "Black Panther",
          "yref": "y"
         },
         {
          "font": {
           "color": "white",
           "size": 8
          },
          "showarrow": false,
          "text": "-0.01",
          "x": "Thor: Ragnarok",
          "xref": "x",
          "y": "Black Panther",
          "yref": "y"
         },
         {
          "font": {
           "color": "white",
           "size": 8
          },
          "showarrow": false,
          "text": "1.0",
          "x": "Black Panther",
          "xref": "x",
          "y": "Black Panther",
          "yref": "y"
         },
         {
          "font": {
           "color": "white",
           "size": 8
          },
          "showarrow": false,
          "text": "0.0",
          "x": "Avengers: Infinity War",
          "xref": "x",
          "y": "Black Panther",
          "yref": "y"
         },
         {
          "font": {
           "color": "white",
           "size": 8
          },
          "showarrow": false,
          "text": "0.01",
          "x": "Ant-Man and the Wasp",
          "xref": "x",
          "y": "Black Panther",
          "yref": "y"
         },
         {
          "font": {
           "color": "white",
           "size": 8
          },
          "showarrow": false,
          "text": "0.02",
          "x": "Captain Marvel",
          "xref": "x",
          "y": "Black Panther",
          "yref": "y"
         },
         {
          "font": {
           "color": "white",
           "size": 8
          },
          "showarrow": false,
          "text": "0.01",
          "x": "Avengers: Endgame",
          "xref": "x",
          "y": "Black Panther",
          "yref": "y"
         },
         {
          "font": {
           "color": "white",
           "size": 8
          },
          "showarrow": false,
          "text": "-0.01",
          "x": "Spider-Man: Far From Home",
          "xref": "x",
          "y": "Black Panther",
          "yref": "y"
         },
         {
          "font": {
           "color": "white",
           "size": 8
          },
          "showarrow": false,
          "text": "-0.01",
          "x": "Black Widow",
          "xref": "x",
          "y": "Black Panther",
          "yref": "y"
         },
         {
          "font": {
           "color": "white",
           "size": 8
          },
          "showarrow": false,
          "text": "0.01",
          "x": "Shang-Chi and the Legend of the Ten Rings",
          "xref": "x",
          "y": "Black Panther",
          "yref": "y"
         },
         {
          "font": {
           "color": "white",
           "size": 8
          },
          "showarrow": false,
          "text": "-0.0",
          "x": "Eternals",
          "xref": "x",
          "y": "Black Panther",
          "yref": "y"
         },
         {
          "font": {
           "color": "white",
           "size": 8
          },
          "showarrow": false,
          "text": "0.01",
          "x": "Spider-Man: No Way Home",
          "xref": "x",
          "y": "Black Panther",
          "yref": "y"
         },
         {
          "font": {
           "color": "white",
           "size": 8
          },
          "showarrow": false,
          "text": "0.01",
          "x": "Age",
          "xref": "x",
          "y": "Black Panther",
          "yref": "y"
         },
         {
          "font": {
           "color": "white",
           "size": 8
          },
          "showarrow": false,
          "text": "-0.0",
          "x": "MonthsClient",
          "xref": "x",
          "y": "Black Panther",
          "yref": "y"
         },
         {
          "font": {
           "color": "white",
           "size": 8
          },
          "showarrow": false,
          "text": "0.0",
          "x": "MarvelFilmsPerc",
          "xref": "x",
          "y": "Black Panther",
          "yref": "y"
         },
         {
          "font": {
           "color": "white",
           "size": 8
          },
          "showarrow": false,
          "text": "-0.11",
          "x": "Iron Man",
          "xref": "x",
          "y": "Avengers: Infinity War",
          "yref": "y"
         },
         {
          "font": {
           "color": "white",
           "size": 8
          },
          "showarrow": false,
          "text": "0.02",
          "x": "The Incredible Hulk",
          "xref": "x",
          "y": "Avengers: Infinity War",
          "yref": "y"
         },
         {
          "font": {
           "color": "white",
           "size": 8
          },
          "showarrow": false,
          "text": "-0.11",
          "x": "Iron Man 2",
          "xref": "x",
          "y": "Avengers: Infinity War",
          "yref": "y"
         },
         {
          "font": {
           "color": "white",
           "size": 8
          },
          "showarrow": false,
          "text": "-0.03",
          "x": "Thor",
          "xref": "x",
          "y": "Avengers: Infinity War",
          "yref": "y"
         },
         {
          "font": {
           "color": "white",
           "size": 8
          },
          "showarrow": false,
          "text": "-0.04",
          "x": "Captain America: The First Avenger",
          "xref": "x",
          "y": "Avengers: Infinity War",
          "yref": "y"
         },
         {
          "font": {
           "color": "white",
           "size": 8
          },
          "showarrow": false,
          "text": "0.34",
          "x": "The Avengers",
          "xref": "x",
          "y": "Avengers: Infinity War",
          "yref": "y"
         },
         {
          "font": {
           "color": "white",
           "size": 8
          },
          "showarrow": false,
          "text": "-0.12",
          "x": "Iron Man 3",
          "xref": "x",
          "y": "Avengers: Infinity War",
          "yref": "y"
         },
         {
          "font": {
           "color": "white",
           "size": 8
          },
          "showarrow": false,
          "text": "-0.03",
          "x": "Thor: The Dark World",
          "xref": "x",
          "y": "Avengers: Infinity War",
          "yref": "y"
         },
         {
          "font": {
           "color": "white",
           "size": 8
          },
          "showarrow": false,
          "text": "-0.05",
          "x": "Captain America: The Winter Soldier",
          "xref": "x",
          "y": "Avengers: Infinity War",
          "yref": "y"
         },
         {
          "font": {
           "color": "white",
           "size": 8
          },
          "showarrow": false,
          "text": "-0.03",
          "x": "Guardians of Galaxy",
          "xref": "x",
          "y": "Avengers: Infinity War",
          "yref": "y"
         },
         {
          "font": {
           "color": "white",
           "size": 8
          },
          "showarrow": false,
          "text": "0.34",
          "x": "Avengers: Age of Ultron",
          "xref": "x",
          "y": "Avengers: Infinity War",
          "yref": "y"
         },
         {
          "font": {
           "color": "white",
           "size": 8
          },
          "showarrow": false,
          "text": "-0.03",
          "x": "Ant-Man",
          "xref": "x",
          "y": "Avengers: Infinity War",
          "yref": "y"
         },
         {
          "font": {
           "color": "white",
           "size": 8
          },
          "showarrow": false,
          "text": "-0.04",
          "x": "Captain America: Civil War",
          "xref": "x",
          "y": "Avengers: Infinity War",
          "yref": "y"
         },
         {
          "font": {
           "color": "white",
           "size": 8
          },
          "showarrow": false,
          "text": "-0.01",
          "x": "Doctor Strange",
          "xref": "x",
          "y": "Avengers: Infinity War",
          "yref": "y"
         },
         {
          "font": {
           "color": "white",
           "size": 8
          },
          "showarrow": false,
          "text": "-0.02",
          "x": "Guardians of Galaxy 2",
          "xref": "x",
          "y": "Avengers: Infinity War",
          "yref": "y"
         },
         {
          "font": {
           "color": "white",
           "size": 8
          },
          "showarrow": false,
          "text": "-0.07",
          "x": "Spider-Man: Homecoming",
          "xref": "x",
          "y": "Avengers: Infinity War",
          "yref": "y"
         },
         {
          "font": {
           "color": "white",
           "size": 8
          },
          "showarrow": false,
          "text": "-0.0",
          "x": "Thor: Ragnarok",
          "xref": "x",
          "y": "Avengers: Infinity War",
          "yref": "y"
         },
         {
          "font": {
           "color": "white",
           "size": 8
          },
          "showarrow": false,
          "text": "0.0",
          "x": "Black Panther",
          "xref": "x",
          "y": "Avengers: Infinity War",
          "yref": "y"
         },
         {
          "font": {
           "color": "white",
           "size": 8
          },
          "showarrow": false,
          "text": "1.0",
          "x": "Avengers: Infinity War",
          "xref": "x",
          "y": "Avengers: Infinity War",
          "yref": "y"
         },
         {
          "font": {
           "color": "white",
           "size": 8
          },
          "showarrow": false,
          "text": "-0.02",
          "x": "Ant-Man and the Wasp",
          "xref": "x",
          "y": "Avengers: Infinity War",
          "yref": "y"
         },
         {
          "font": {
           "color": "white",
           "size": 8
          },
          "showarrow": false,
          "text": "-0.01",
          "x": "Captain Marvel",
          "xref": "x",
          "y": "Avengers: Infinity War",
          "yref": "y"
         },
         {
          "font": {
           "color": "white",
           "size": 8
          },
          "showarrow": false,
          "text": "0.35",
          "x": "Avengers: Endgame",
          "xref": "x",
          "y": "Avengers: Infinity War",
          "yref": "y"
         },
         {
          "font": {
           "color": "white",
           "size": 8
          },
          "showarrow": false,
          "text": "-0.06",
          "x": "Spider-Man: Far From Home",
          "xref": "x",
          "y": "Avengers: Infinity War",
          "yref": "y"
         },
         {
          "font": {
           "color": "white",
           "size": 8
          },
          "showarrow": false,
          "text": "-0.04",
          "x": "Black Widow",
          "xref": "x",
          "y": "Avengers: Infinity War",
          "yref": "y"
         },
         {
          "font": {
           "color": "white",
           "size": 8
          },
          "showarrow": false,
          "text": "-0.02",
          "x": "Shang-Chi and the Legend of the Ten Rings",
          "xref": "x",
          "y": "Avengers: Infinity War",
          "yref": "y"
         },
         {
          "font": {
           "color": "white",
           "size": 8
          },
          "showarrow": false,
          "text": "-0.01",
          "x": "Eternals",
          "xref": "x",
          "y": "Avengers: Infinity War",
          "yref": "y"
         },
         {
          "font": {
           "color": "white",
           "size": 8
          },
          "showarrow": false,
          "text": "-0.07",
          "x": "Spider-Man: No Way Home",
          "xref": "x",
          "y": "Avengers: Infinity War",
          "yref": "y"
         },
         {
          "font": {
           "color": "white",
           "size": 8
          },
          "showarrow": false,
          "text": "-0.02",
          "x": "Age",
          "xref": "x",
          "y": "Avengers: Infinity War",
          "yref": "y"
         },
         {
          "font": {
           "color": "white",
           "size": 8
          },
          "showarrow": false,
          "text": "-0.07",
          "x": "MonthsClient",
          "xref": "x",
          "y": "Avengers: Infinity War",
          "yref": "y"
         },
         {
          "font": {
           "color": "white",
           "size": 8
          },
          "showarrow": false,
          "text": "0.01",
          "x": "MarvelFilmsPerc",
          "xref": "x",
          "y": "Avengers: Infinity War",
          "yref": "y"
         },
         {
          "font": {
           "color": "white",
           "size": 8
          },
          "showarrow": false,
          "text": "-0.02",
          "x": "Iron Man",
          "xref": "x",
          "y": "Ant-Man and the Wasp",
          "yref": "y"
         },
         {
          "font": {
           "color": "white",
           "size": 8
          },
          "showarrow": false,
          "text": "0.0",
          "x": "The Incredible Hulk",
          "xref": "x",
          "y": "Ant-Man and the Wasp",
          "yref": "y"
         },
         {
          "font": {
           "color": "white",
           "size": 8
          },
          "showarrow": false,
          "text": "-0.01",
          "x": "Iron Man 2",
          "xref": "x",
          "y": "Ant-Man and the Wasp",
          "yref": "y"
         },
         {
          "font": {
           "color": "white",
           "size": 8
          },
          "showarrow": false,
          "text": "-0.0",
          "x": "Thor",
          "xref": "x",
          "y": "Ant-Man and the Wasp",
          "yref": "y"
         },
         {
          "font": {
           "color": "white",
           "size": 8
          },
          "showarrow": false,
          "text": "-0.02",
          "x": "Captain America: The First Avenger",
          "xref": "x",
          "y": "Ant-Man and the Wasp",
          "yref": "y"
         },
         {
          "font": {
           "color": "white",
           "size": 8
          },
          "showarrow": false,
          "text": "-0.02",
          "x": "The Avengers",
          "xref": "x",
          "y": "Ant-Man and the Wasp",
          "yref": "y"
         },
         {
          "font": {
           "color": "white",
           "size": 8
          },
          "showarrow": false,
          "text": "-0.01",
          "x": "Iron Man 3",
          "xref": "x",
          "y": "Ant-Man and the Wasp",
          "yref": "y"
         },
         {
          "font": {
           "color": "white",
           "size": 8
          },
          "showarrow": false,
          "text": "-0.0",
          "x": "Thor: The Dark World",
          "xref": "x",
          "y": "Ant-Man and the Wasp",
          "yref": "y"
         },
         {
          "font": {
           "color": "white",
           "size": 8
          },
          "showarrow": false,
          "text": "-0.0",
          "x": "Captain America: The Winter Soldier",
          "xref": "x",
          "y": "Ant-Man and the Wasp",
          "yref": "y"
         },
         {
          "font": {
           "color": "white",
           "size": 8
          },
          "showarrow": false,
          "text": "-0.01",
          "x": "Guardians of Galaxy",
          "xref": "x",
          "y": "Ant-Man and the Wasp",
          "yref": "y"
         },
         {
          "font": {
           "color": "white",
           "size": 8
          },
          "showarrow": false,
          "text": "-0.02",
          "x": "Avengers: Age of Ultron",
          "xref": "x",
          "y": "Ant-Man and the Wasp",
          "yref": "y"
         },
         {
          "font": {
           "color": "white",
           "size": 8
          },
          "showarrow": false,
          "text": "0.11",
          "x": "Ant-Man",
          "xref": "x",
          "y": "Ant-Man and the Wasp",
          "yref": "y"
         },
         {
          "font": {
           "color": "white",
           "size": 8
          },
          "showarrow": false,
          "text": "-0.01",
          "x": "Captain America: Civil War",
          "xref": "x",
          "y": "Ant-Man and the Wasp",
          "yref": "y"
         },
         {
          "font": {
           "color": "white",
           "size": 8
          },
          "showarrow": false,
          "text": "-0.0",
          "x": "Doctor Strange",
          "xref": "x",
          "y": "Ant-Man and the Wasp",
          "yref": "y"
         },
         {
          "font": {
           "color": "white",
           "size": 8
          },
          "showarrow": false,
          "text": "-0.02",
          "x": "Guardians of Galaxy 2",
          "xref": "x",
          "y": "Ant-Man and the Wasp",
          "yref": "y"
         },
         {
          "font": {
           "color": "white",
           "size": 8
          },
          "showarrow": false,
          "text": "-0.02",
          "x": "Spider-Man: Homecoming",
          "xref": "x",
          "y": "Ant-Man and the Wasp",
          "yref": "y"
         },
         {
          "font": {
           "color": "white",
           "size": 8
          },
          "showarrow": false,
          "text": "-0.0",
          "x": "Thor: Ragnarok",
          "xref": "x",
          "y": "Ant-Man and the Wasp",
          "yref": "y"
         },
         {
          "font": {
           "color": "white",
           "size": 8
          },
          "showarrow": false,
          "text": "0.01",
          "x": "Black Panther",
          "xref": "x",
          "y": "Ant-Man and the Wasp",
          "yref": "y"
         },
         {
          "font": {
           "color": "white",
           "size": 8
          },
          "showarrow": false,
          "text": "-0.02",
          "x": "Avengers: Infinity War",
          "xref": "x",
          "y": "Ant-Man and the Wasp",
          "yref": "y"
         },
         {
          "font": {
           "color": "white",
           "size": 8
          },
          "showarrow": false,
          "text": "1.0",
          "x": "Ant-Man and the Wasp",
          "xref": "x",
          "y": "Ant-Man and the Wasp",
          "yref": "y"
         },
         {
          "font": {
           "color": "white",
           "size": 8
          },
          "showarrow": false,
          "text": "-0.0",
          "x": "Captain Marvel",
          "xref": "x",
          "y": "Ant-Man and the Wasp",
          "yref": "y"
         },
         {
          "font": {
           "color": "white",
           "size": 8
          },
          "showarrow": false,
          "text": "-0.04",
          "x": "Avengers: Endgame",
          "xref": "x",
          "y": "Ant-Man and the Wasp",
          "yref": "y"
         },
         {
          "font": {
           "color": "white",
           "size": 8
          },
          "showarrow": false,
          "text": "-0.0",
          "x": "Spider-Man: Far From Home",
          "xref": "x",
          "y": "Ant-Man and the Wasp",
          "yref": "y"
         },
         {
          "font": {
           "color": "white",
           "size": 8
          },
          "showarrow": false,
          "text": "-0.01",
          "x": "Black Widow",
          "xref": "x",
          "y": "Ant-Man and the Wasp",
          "yref": "y"
         },
         {
          "font": {
           "color": "white",
           "size": 8
          },
          "showarrow": false,
          "text": "0.01",
          "x": "Shang-Chi and the Legend of the Ten Rings",
          "xref": "x",
          "y": "Ant-Man and the Wasp",
          "yref": "y"
         },
         {
          "font": {
           "color": "white",
           "size": 8
          },
          "showarrow": false,
          "text": "0.01",
          "x": "Eternals",
          "xref": "x",
          "y": "Ant-Man and the Wasp",
          "yref": "y"
         },
         {
          "font": {
           "color": "white",
           "size": 8
          },
          "showarrow": false,
          "text": "-0.03",
          "x": "Spider-Man: No Way Home",
          "xref": "x",
          "y": "Ant-Man and the Wasp",
          "yref": "y"
         },
         {
          "font": {
           "color": "white",
           "size": 8
          },
          "showarrow": false,
          "text": "0.01",
          "x": "Age",
          "xref": "x",
          "y": "Ant-Man and the Wasp",
          "yref": "y"
         },
         {
          "font": {
           "color": "white",
           "size": 8
          },
          "showarrow": false,
          "text": "-0.01",
          "x": "MonthsClient",
          "xref": "x",
          "y": "Ant-Man and the Wasp",
          "yref": "y"
         },
         {
          "font": {
           "color": "white",
           "size": 8
          },
          "showarrow": false,
          "text": "-0.0",
          "x": "MarvelFilmsPerc",
          "xref": "x",
          "y": "Ant-Man and the Wasp",
          "yref": "y"
         },
         {
          "font": {
           "color": "white",
           "size": 8
          },
          "showarrow": false,
          "text": "-0.01",
          "x": "Iron Man",
          "xref": "x",
          "y": "Captain Marvel",
          "yref": "y"
         },
         {
          "font": {
           "color": "white",
           "size": 8
          },
          "showarrow": false,
          "text": "0.02",
          "x": "The Incredible Hulk",
          "xref": "x",
          "y": "Captain Marvel",
          "yref": "y"
         },
         {
          "font": {
           "color": "white",
           "size": 8
          },
          "showarrow": false,
          "text": "-0.01",
          "x": "Iron Man 2",
          "xref": "x",
          "y": "Captain Marvel",
          "yref": "y"
         },
         {
          "font": {
           "color": "white",
           "size": 8
          },
          "showarrow": false,
          "text": "0.01",
          "x": "Thor",
          "xref": "x",
          "y": "Captain Marvel",
          "yref": "y"
         },
         {
          "font": {
           "color": "white",
           "size": 8
          },
          "showarrow": false,
          "text": "0.0",
          "x": "Captain America: The First Avenger",
          "xref": "x",
          "y": "Captain Marvel",
          "yref": "y"
         },
         {
          "font": {
           "color": "white",
           "size": 8
          },
          "showarrow": false,
          "text": "-0.0",
          "x": "The Avengers",
          "xref": "x",
          "y": "Captain Marvel",
          "yref": "y"
         },
         {
          "font": {
           "color": "white",
           "size": 8
          },
          "showarrow": false,
          "text": "-0.0",
          "x": "Iron Man 3",
          "xref": "x",
          "y": "Captain Marvel",
          "yref": "y"
         },
         {
          "font": {
           "color": "white",
           "size": 8
          },
          "showarrow": false,
          "text": "0.0",
          "x": "Thor: The Dark World",
          "xref": "x",
          "y": "Captain Marvel",
          "yref": "y"
         },
         {
          "font": {
           "color": "white",
           "size": 8
          },
          "showarrow": false,
          "text": "0.01",
          "x": "Captain America: The Winter Soldier",
          "xref": "x",
          "y": "Captain Marvel",
          "yref": "y"
         },
         {
          "font": {
           "color": "white",
           "size": 8
          },
          "showarrow": false,
          "text": "-0.01",
          "x": "Guardians of Galaxy",
          "xref": "x",
          "y": "Captain Marvel",
          "yref": "y"
         },
         {
          "font": {
           "color": "white",
           "size": 8
          },
          "showarrow": false,
          "text": "-0.0",
          "x": "Avengers: Age of Ultron",
          "xref": "x",
          "y": "Captain Marvel",
          "yref": "y"
         },
         {
          "font": {
           "color": "white",
           "size": 8
          },
          "showarrow": false,
          "text": "0.0",
          "x": "Ant-Man",
          "xref": "x",
          "y": "Captain Marvel",
          "yref": "y"
         },
         {
          "font": {
           "color": "white",
           "size": 8
          },
          "showarrow": false,
          "text": "0.01",
          "x": "Captain America: Civil War",
          "xref": "x",
          "y": "Captain Marvel",
          "yref": "y"
         },
         {
          "font": {
           "color": "white",
           "size": 8
          },
          "showarrow": false,
          "text": "-0.01",
          "x": "Doctor Strange",
          "xref": "x",
          "y": "Captain Marvel",
          "yref": "y"
         },
         {
          "font": {
           "color": "white",
           "size": 8
          },
          "showarrow": false,
          "text": "-0.01",
          "x": "Guardians of Galaxy 2",
          "xref": "x",
          "y": "Captain Marvel",
          "yref": "y"
         },
         {
          "font": {
           "color": "white",
           "size": 8
          },
          "showarrow": false,
          "text": "-0.0",
          "x": "Spider-Man: Homecoming",
          "xref": "x",
          "y": "Captain Marvel",
          "yref": "y"
         },
         {
          "font": {
           "color": "white",
           "size": 8
          },
          "showarrow": false,
          "text": "-0.0",
          "x": "Thor: Ragnarok",
          "xref": "x",
          "y": "Captain Marvel",
          "yref": "y"
         },
         {
          "font": {
           "color": "white",
           "size": 8
          },
          "showarrow": false,
          "text": "0.02",
          "x": "Black Panther",
          "xref": "x",
          "y": "Captain Marvel",
          "yref": "y"
         },
         {
          "font": {
           "color": "white",
           "size": 8
          },
          "showarrow": false,
          "text": "-0.01",
          "x": "Avengers: Infinity War",
          "xref": "x",
          "y": "Captain Marvel",
          "yref": "y"
         },
         {
          "font": {
           "color": "white",
           "size": 8
          },
          "showarrow": false,
          "text": "-0.0",
          "x": "Ant-Man and the Wasp",
          "xref": "x",
          "y": "Captain Marvel",
          "yref": "y"
         },
         {
          "font": {
           "color": "white",
           "size": 8
          },
          "showarrow": false,
          "text": "1.0",
          "x": "Captain Marvel",
          "xref": "x",
          "y": "Captain Marvel",
          "yref": "y"
         },
         {
          "font": {
           "color": "white",
           "size": 8
          },
          "showarrow": false,
          "text": "0.01",
          "x": "Avengers: Endgame",
          "xref": "x",
          "y": "Captain Marvel",
          "yref": "y"
         },
         {
          "font": {
           "color": "white",
           "size": 8
          },
          "showarrow": false,
          "text": "0.01",
          "x": "Spider-Man: Far From Home",
          "xref": "x",
          "y": "Captain Marvel",
          "yref": "y"
         },
         {
          "font": {
           "color": "white",
           "size": 8
          },
          "showarrow": false,
          "text": "0.01",
          "x": "Black Widow",
          "xref": "x",
          "y": "Captain Marvel",
          "yref": "y"
         },
         {
          "font": {
           "color": "white",
           "size": 8
          },
          "showarrow": false,
          "text": "0.0",
          "x": "Shang-Chi and the Legend of the Ten Rings",
          "xref": "x",
          "y": "Captain Marvel",
          "yref": "y"
         },
         {
          "font": {
           "color": "white",
           "size": 8
          },
          "showarrow": false,
          "text": "-0.02",
          "x": "Eternals",
          "xref": "x",
          "y": "Captain Marvel",
          "yref": "y"
         },
         {
          "font": {
           "color": "white",
           "size": 8
          },
          "showarrow": false,
          "text": "0.0",
          "x": "Spider-Man: No Way Home",
          "xref": "x",
          "y": "Captain Marvel",
          "yref": "y"
         },
         {
          "font": {
           "color": "white",
           "size": 8
          },
          "showarrow": false,
          "text": "-0.01",
          "x": "Age",
          "xref": "x",
          "y": "Captain Marvel",
          "yref": "y"
         },
         {
          "font": {
           "color": "white",
           "size": 8
          },
          "showarrow": false,
          "text": "-0.01",
          "x": "MonthsClient",
          "xref": "x",
          "y": "Captain Marvel",
          "yref": "y"
         },
         {
          "font": {
           "color": "white",
           "size": 8
          },
          "showarrow": false,
          "text": "0.0",
          "x": "MarvelFilmsPerc",
          "xref": "x",
          "y": "Captain Marvel",
          "yref": "y"
         },
         {
          "font": {
           "color": "white",
           "size": 8
          },
          "showarrow": false,
          "text": "-0.1",
          "x": "Iron Man",
          "xref": "x",
          "y": "Avengers: Endgame",
          "yref": "y"
         },
         {
          "font": {
           "color": "white",
           "size": 8
          },
          "showarrow": false,
          "text": "-0.0",
          "x": "The Incredible Hulk",
          "xref": "x",
          "y": "Avengers: Endgame",
          "yref": "y"
         },
         {
          "font": {
           "color": "white",
           "size": 8
          },
          "showarrow": false,
          "text": "-0.11",
          "x": "Iron Man 2",
          "xref": "x",
          "y": "Avengers: Endgame",
          "yref": "y"
         },
         {
          "font": {
           "color": "white",
           "size": 8
          },
          "showarrow": false,
          "text": "-0.01",
          "x": "Thor",
          "xref": "x",
          "y": "Avengers: Endgame",
          "yref": "y"
         },
         {
          "font": {
           "color": "white",
           "size": 8
          },
          "showarrow": false,
          "text": "-0.04",
          "x": "Captain America: The First Avenger",
          "xref": "x",
          "y": "Avengers: Endgame",
          "yref": "y"
         },
         {
          "font": {
           "color": "white",
           "size": 8
          },
          "showarrow": false,
          "text": "0.34",
          "x": "The Avengers",
          "xref": "x",
          "y": "Avengers: Endgame",
          "yref": "y"
         },
         {
          "font": {
           "color": "white",
           "size": 8
          },
          "showarrow": false,
          "text": "-0.1",
          "x": "Iron Man 3",
          "xref": "x",
          "y": "Avengers: Endgame",
          "yref": "y"
         },
         {
          "font": {
           "color": "white",
           "size": 8
          },
          "showarrow": false,
          "text": "-0.04",
          "x": "Thor: The Dark World",
          "xref": "x",
          "y": "Avengers: Endgame",
          "yref": "y"
         },
         {
          "font": {
           "color": "white",
           "size": 8
          },
          "showarrow": false,
          "text": "-0.04",
          "x": "Captain America: The Winter Soldier",
          "xref": "x",
          "y": "Avengers: Endgame",
          "yref": "y"
         },
         {
          "font": {
           "color": "white",
           "size": 8
          },
          "showarrow": false,
          "text": "-0.02",
          "x": "Guardians of Galaxy",
          "xref": "x",
          "y": "Avengers: Endgame",
          "yref": "y"
         },
         {
          "font": {
           "color": "white",
           "size": 8
          },
          "showarrow": false,
          "text": "0.34",
          "x": "Avengers: Age of Ultron",
          "xref": "x",
          "y": "Avengers: Endgame",
          "yref": "y"
         },
         {
          "font": {
           "color": "white",
           "size": 8
          },
          "showarrow": false,
          "text": "-0.02",
          "x": "Ant-Man",
          "xref": "x",
          "y": "Avengers: Endgame",
          "yref": "y"
         },
         {
          "font": {
           "color": "white",
           "size": 8
          },
          "showarrow": false,
          "text": "-0.05",
          "x": "Captain America: Civil War",
          "xref": "x",
          "y": "Avengers: Endgame",
          "yref": "y"
         },
         {
          "font": {
           "color": "white",
           "size": 8
          },
          "showarrow": false,
          "text": "-0.0",
          "x": "Doctor Strange",
          "xref": "x",
          "y": "Avengers: Endgame",
          "yref": "y"
         },
         {
          "font": {
           "color": "white",
           "size": 8
          },
          "showarrow": false,
          "text": "-0.02",
          "x": "Guardians of Galaxy 2",
          "xref": "x",
          "y": "Avengers: Endgame",
          "yref": "y"
         },
         {
          "font": {
           "color": "white",
           "size": 8
          },
          "showarrow": false,
          "text": "-0.08",
          "x": "Spider-Man: Homecoming",
          "xref": "x",
          "y": "Avengers: Endgame",
          "yref": "y"
         },
         {
          "font": {
           "color": "white",
           "size": 8
          },
          "showarrow": false,
          "text": "-0.02",
          "x": "Thor: Ragnarok",
          "xref": "x",
          "y": "Avengers: Endgame",
          "yref": "y"
         },
         {
          "font": {
           "color": "white",
           "size": 8
          },
          "showarrow": false,
          "text": "0.01",
          "x": "Black Panther",
          "xref": "x",
          "y": "Avengers: Endgame",
          "yref": "y"
         },
         {
          "font": {
           "color": "white",
           "size": 8
          },
          "showarrow": false,
          "text": "0.35",
          "x": "Avengers: Infinity War",
          "xref": "x",
          "y": "Avengers: Endgame",
          "yref": "y"
         },
         {
          "font": {
           "color": "white",
           "size": 8
          },
          "showarrow": false,
          "text": "-0.04",
          "x": "Ant-Man and the Wasp",
          "xref": "x",
          "y": "Avengers: Endgame",
          "yref": "y"
         },
         {
          "font": {
           "color": "white",
           "size": 8
          },
          "showarrow": false,
          "text": "0.01",
          "x": "Captain Marvel",
          "xref": "x",
          "y": "Avengers: Endgame",
          "yref": "y"
         },
         {
          "font": {
           "color": "white",
           "size": 8
          },
          "showarrow": false,
          "text": "1.0",
          "x": "Avengers: Endgame",
          "xref": "x",
          "y": "Avengers: Endgame",
          "yref": "y"
         },
         {
          "font": {
           "color": "white",
           "size": 8
          },
          "showarrow": false,
          "text": "-0.08",
          "x": "Spider-Man: Far From Home",
          "xref": "x",
          "y": "Avengers: Endgame",
          "yref": "y"
         },
         {
          "font": {
           "color": "white",
           "size": 8
          },
          "showarrow": false,
          "text": "-0.06",
          "x": "Black Widow",
          "xref": "x",
          "y": "Avengers: Endgame",
          "yref": "y"
         },
         {
          "font": {
           "color": "white",
           "size": 8
          },
          "showarrow": false,
          "text": "-0.0",
          "x": "Shang-Chi and the Legend of the Ten Rings",
          "xref": "x",
          "y": "Avengers: Endgame",
          "yref": "y"
         },
         {
          "font": {
           "color": "white",
           "size": 8
          },
          "showarrow": false,
          "text": "0.0",
          "x": "Eternals",
          "xref": "x",
          "y": "Avengers: Endgame",
          "yref": "y"
         },
         {
          "font": {
           "color": "white",
           "size": 8
          },
          "showarrow": false,
          "text": "-0.07",
          "x": "Spider-Man: No Way Home",
          "xref": "x",
          "y": "Avengers: Endgame",
          "yref": "y"
         },
         {
          "font": {
           "color": "white",
           "size": 8
          },
          "showarrow": false,
          "text": "-0.01",
          "x": "Age",
          "xref": "x",
          "y": "Avengers: Endgame",
          "yref": "y"
         },
         {
          "font": {
           "color": "white",
           "size": 8
          },
          "showarrow": false,
          "text": "-0.08",
          "x": "MonthsClient",
          "xref": "x",
          "y": "Avengers: Endgame",
          "yref": "y"
         },
         {
          "font": {
           "color": "white",
           "size": 8
          },
          "showarrow": false,
          "text": "0.03",
          "x": "MarvelFilmsPerc",
          "xref": "x",
          "y": "Avengers: Endgame",
          "yref": "y"
         },
         {
          "font": {
           "color": "white",
           "size": 8
          },
          "showarrow": false,
          "text": "-0.15",
          "x": "Iron Man",
          "xref": "x",
          "y": "Spider-Man: Far From Home",
          "yref": "y"
         },
         {
          "font": {
           "color": "white",
           "size": 8
          },
          "showarrow": false,
          "text": "0.01",
          "x": "The Incredible Hulk",
          "xref": "x",
          "y": "Spider-Man: Far From Home",
          "yref": "y"
         },
         {
          "font": {
           "color": "white",
           "size": 8
          },
          "showarrow": false,
          "text": "-0.16",
          "x": "Iron Man 2",
          "xref": "x",
          "y": "Spider-Man: Far From Home",
          "yref": "y"
         },
         {
          "font": {
           "color": "white",
           "size": 8
          },
          "showarrow": false,
          "text": "-0.02",
          "x": "Thor",
          "xref": "x",
          "y": "Spider-Man: Far From Home",
          "yref": "y"
         },
         {
          "font": {
           "color": "white",
           "size": 8
          },
          "showarrow": false,
          "text": "-0.07",
          "x": "Captain America: The First Avenger",
          "xref": "x",
          "y": "Spider-Man: Far From Home",
          "yref": "y"
         },
         {
          "font": {
           "color": "white",
           "size": 8
          },
          "showarrow": false,
          "text": "-0.08",
          "x": "The Avengers",
          "xref": "x",
          "y": "Spider-Man: Far From Home",
          "yref": "y"
         },
         {
          "font": {
           "color": "white",
           "size": 8
          },
          "showarrow": false,
          "text": "-0.15",
          "x": "Iron Man 3",
          "xref": "x",
          "y": "Spider-Man: Far From Home",
          "yref": "y"
         },
         {
          "font": {
           "color": "white",
           "size": 8
          },
          "showarrow": false,
          "text": "-0.02",
          "x": "Thor: The Dark World",
          "xref": "x",
          "y": "Spider-Man: Far From Home",
          "yref": "y"
         },
         {
          "font": {
           "color": "white",
           "size": 8
          },
          "showarrow": false,
          "text": "-0.07",
          "x": "Captain America: The Winter Soldier",
          "xref": "x",
          "y": "Spider-Man: Far From Home",
          "yref": "y"
         },
         {
          "font": {
           "color": "white",
           "size": 8
          },
          "showarrow": false,
          "text": "-0.07",
          "x": "Guardians of Galaxy",
          "xref": "x",
          "y": "Spider-Man: Far From Home",
          "yref": "y"
         },
         {
          "font": {
           "color": "white",
           "size": 8
          },
          "showarrow": false,
          "text": "-0.07",
          "x": "Avengers: Age of Ultron",
          "xref": "x",
          "y": "Spider-Man: Far From Home",
          "yref": "y"
         },
         {
          "font": {
           "color": "white",
           "size": 8
          },
          "showarrow": false,
          "text": "-0.01",
          "x": "Ant-Man",
          "xref": "x",
          "y": "Spider-Man: Far From Home",
          "yref": "y"
         },
         {
          "font": {
           "color": "white",
           "size": 8
          },
          "showarrow": false,
          "text": "-0.07",
          "x": "Captain America: Civil War",
          "xref": "x",
          "y": "Spider-Man: Far From Home",
          "yref": "y"
         },
         {
          "font": {
           "color": "white",
           "size": 8
          },
          "showarrow": false,
          "text": "-0.02",
          "x": "Doctor Strange",
          "xref": "x",
          "y": "Spider-Man: Far From Home",
          "yref": "y"
         },
         {
          "font": {
           "color": "white",
           "size": 8
          },
          "showarrow": false,
          "text": "-0.06",
          "x": "Guardians of Galaxy 2",
          "xref": "x",
          "y": "Spider-Man: Far From Home",
          "yref": "y"
         },
         {
          "font": {
           "color": "white",
           "size": 8
          },
          "showarrow": false,
          "text": "0.43",
          "x": "Spider-Man: Homecoming",
          "xref": "x",
          "y": "Spider-Man: Far From Home",
          "yref": "y"
         },
         {
          "font": {
           "color": "white",
           "size": 8
          },
          "showarrow": false,
          "text": "-0.04",
          "x": "Thor: Ragnarok",
          "xref": "x",
          "y": "Spider-Man: Far From Home",
          "yref": "y"
         },
         {
          "font": {
           "color": "white",
           "size": 8
          },
          "showarrow": false,
          "text": "-0.01",
          "x": "Black Panther",
          "xref": "x",
          "y": "Spider-Man: Far From Home",
          "yref": "y"
         },
         {
          "font": {
           "color": "white",
           "size": 8
          },
          "showarrow": false,
          "text": "-0.06",
          "x": "Avengers: Infinity War",
          "xref": "x",
          "y": "Spider-Man: Far From Home",
          "yref": "y"
         },
         {
          "font": {
           "color": "white",
           "size": 8
          },
          "showarrow": false,
          "text": "-0.0",
          "x": "Ant-Man and the Wasp",
          "xref": "x",
          "y": "Spider-Man: Far From Home",
          "yref": "y"
         },
         {
          "font": {
           "color": "white",
           "size": 8
          },
          "showarrow": false,
          "text": "0.01",
          "x": "Captain Marvel",
          "xref": "x",
          "y": "Spider-Man: Far From Home",
          "yref": "y"
         },
         {
          "font": {
           "color": "white",
           "size": 8
          },
          "showarrow": false,
          "text": "-0.08",
          "x": "Avengers: Endgame",
          "xref": "x",
          "y": "Spider-Man: Far From Home",
          "yref": "y"
         },
         {
          "font": {
           "color": "white",
           "size": 8
          },
          "showarrow": false,
          "text": "1.0",
          "x": "Spider-Man: Far From Home",
          "xref": "x",
          "y": "Spider-Man: Far From Home",
          "yref": "y"
         },
         {
          "font": {
           "color": "white",
           "size": 8
          },
          "showarrow": false,
          "text": "-0.07",
          "x": "Black Widow",
          "xref": "x",
          "y": "Spider-Man: Far From Home",
          "yref": "y"
         },
         {
          "font": {
           "color": "white",
           "size": 8
          },
          "showarrow": false,
          "text": "0.0",
          "x": "Shang-Chi and the Legend of the Ten Rings",
          "xref": "x",
          "y": "Spider-Man: Far From Home",
          "yref": "y"
         },
         {
          "font": {
           "color": "white",
           "size": 8
          },
          "showarrow": false,
          "text": "0.01",
          "x": "Eternals",
          "xref": "x",
          "y": "Spider-Man: Far From Home",
          "yref": "y"
         },
         {
          "font": {
           "color": "white",
           "size": 8
          },
          "showarrow": false,
          "text": "0.43",
          "x": "Spider-Man: No Way Home",
          "xref": "x",
          "y": "Spider-Man: Far From Home",
          "yref": "y"
         },
         {
          "font": {
           "color": "white",
           "size": 8
          },
          "showarrow": false,
          "text": "-0.03",
          "x": "Age",
          "xref": "x",
          "y": "Spider-Man: Far From Home",
          "yref": "y"
         },
         {
          "font": {
           "color": "white",
           "size": 8
          },
          "showarrow": false,
          "text": "-0.09",
          "x": "MonthsClient",
          "xref": "x",
          "y": "Spider-Man: Far From Home",
          "yref": "y"
         },
         {
          "font": {
           "color": "white",
           "size": 8
          },
          "showarrow": false,
          "text": "-0.03",
          "x": "MarvelFilmsPerc",
          "xref": "x",
          "y": "Spider-Man: Far From Home",
          "yref": "y"
         },
         {
          "font": {
           "color": "white",
           "size": 8
          },
          "showarrow": false,
          "text": "-0.14",
          "x": "Iron Man",
          "xref": "x",
          "y": "Black Widow",
          "yref": "y"
         },
         {
          "font": {
           "color": "white",
           "size": 8
          },
          "showarrow": false,
          "text": "0.01",
          "x": "The Incredible Hulk",
          "xref": "x",
          "y": "Black Widow",
          "yref": "y"
         },
         {
          "font": {
           "color": "white",
           "size": 8
          },
          "showarrow": false,
          "text": "-0.12",
          "x": "Iron Man 2",
          "xref": "x",
          "y": "Black Widow",
          "yref": "y"
         },
         {
          "font": {
           "color": "white",
           "size": 8
          },
          "showarrow": false,
          "text": "-0.03",
          "x": "Thor",
          "xref": "x",
          "y": "Black Widow",
          "yref": "y"
         },
         {
          "font": {
           "color": "white",
           "size": 8
          },
          "showarrow": false,
          "text": "-0.05",
          "x": "Captain America: The First Avenger",
          "xref": "x",
          "y": "Black Widow",
          "yref": "y"
         },
         {
          "font": {
           "color": "white",
           "size": 8
          },
          "showarrow": false,
          "text": "-0.06",
          "x": "The Avengers",
          "xref": "x",
          "y": "Black Widow",
          "yref": "y"
         },
         {
          "font": {
           "color": "white",
           "size": 8
          },
          "showarrow": false,
          "text": "-0.13",
          "x": "Iron Man 3",
          "xref": "x",
          "y": "Black Widow",
          "yref": "y"
         },
         {
          "font": {
           "color": "white",
           "size": 8
          },
          "showarrow": false,
          "text": "-0.02",
          "x": "Thor: The Dark World",
          "xref": "x",
          "y": "Black Widow",
          "yref": "y"
         },
         {
          "font": {
           "color": "white",
           "size": 8
          },
          "showarrow": false,
          "text": "-0.07",
          "x": "Captain America: The Winter Soldier",
          "xref": "x",
          "y": "Black Widow",
          "yref": "y"
         },
         {
          "font": {
           "color": "white",
           "size": 8
          },
          "showarrow": false,
          "text": "-0.05",
          "x": "Guardians of Galaxy",
          "xref": "x",
          "y": "Black Widow",
          "yref": "y"
         },
         {
          "font": {
           "color": "white",
           "size": 8
          },
          "showarrow": false,
          "text": "-0.05",
          "x": "Avengers: Age of Ultron",
          "xref": "x",
          "y": "Black Widow",
          "yref": "y"
         },
         {
          "font": {
           "color": "white",
           "size": 8
          },
          "showarrow": false,
          "text": "-0.01",
          "x": "Ant-Man",
          "xref": "x",
          "y": "Black Widow",
          "yref": "y"
         },
         {
          "font": {
           "color": "white",
           "size": 8
          },
          "showarrow": false,
          "text": "-0.05",
          "x": "Captain America: Civil War",
          "xref": "x",
          "y": "Black Widow",
          "yref": "y"
         },
         {
          "font": {
           "color": "white",
           "size": 8
          },
          "showarrow": false,
          "text": "-0.01",
          "x": "Doctor Strange",
          "xref": "x",
          "y": "Black Widow",
          "yref": "y"
         },
         {
          "font": {
           "color": "white",
           "size": 8
          },
          "showarrow": false,
          "text": "-0.05",
          "x": "Guardians of Galaxy 2",
          "xref": "x",
          "y": "Black Widow",
          "yref": "y"
         },
         {
          "font": {
           "color": "white",
           "size": 8
          },
          "showarrow": false,
          "text": "-0.07",
          "x": "Spider-Man: Homecoming",
          "xref": "x",
          "y": "Black Widow",
          "yref": "y"
         },
         {
          "font": {
           "color": "white",
           "size": 8
          },
          "showarrow": false,
          "text": "-0.02",
          "x": "Thor: Ragnarok",
          "xref": "x",
          "y": "Black Widow",
          "yref": "y"
         },
         {
          "font": {
           "color": "white",
           "size": 8
          },
          "showarrow": false,
          "text": "-0.01",
          "x": "Black Panther",
          "xref": "x",
          "y": "Black Widow",
          "yref": "y"
         },
         {
          "font": {
           "color": "white",
           "size": 8
          },
          "showarrow": false,
          "text": "-0.04",
          "x": "Avengers: Infinity War",
          "xref": "x",
          "y": "Black Widow",
          "yref": "y"
         },
         {
          "font": {
           "color": "white",
           "size": 8
          },
          "showarrow": false,
          "text": "-0.01",
          "x": "Ant-Man and the Wasp",
          "xref": "x",
          "y": "Black Widow",
          "yref": "y"
         },
         {
          "font": {
           "color": "white",
           "size": 8
          },
          "showarrow": false,
          "text": "0.01",
          "x": "Captain Marvel",
          "xref": "x",
          "y": "Black Widow",
          "yref": "y"
         },
         {
          "font": {
           "color": "white",
           "size": 8
          },
          "showarrow": false,
          "text": "-0.06",
          "x": "Avengers: Endgame",
          "xref": "x",
          "y": "Black Widow",
          "yref": "y"
         },
         {
          "font": {
           "color": "white",
           "size": 8
          },
          "showarrow": false,
          "text": "-0.07",
          "x": "Spider-Man: Far From Home",
          "xref": "x",
          "y": "Black Widow",
          "yref": "y"
         },
         {
          "font": {
           "color": "white",
           "size": 8
          },
          "showarrow": false,
          "text": "1.0",
          "x": "Black Widow",
          "xref": "x",
          "y": "Black Widow",
          "yref": "y"
         },
         {
          "font": {
           "color": "white",
           "size": 8
          },
          "showarrow": false,
          "text": "-0.01",
          "x": "Shang-Chi and the Legend of the Ten Rings",
          "xref": "x",
          "y": "Black Widow",
          "yref": "y"
         },
         {
          "font": {
           "color": "white",
           "size": 8
          },
          "showarrow": false,
          "text": "-0.01",
          "x": "Eternals",
          "xref": "x",
          "y": "Black Widow",
          "yref": "y"
         },
         {
          "font": {
           "color": "white",
           "size": 8
          },
          "showarrow": false,
          "text": "-0.08",
          "x": "Spider-Man: No Way Home",
          "xref": "x",
          "y": "Black Widow",
          "yref": "y"
         },
         {
          "font": {
           "color": "white",
           "size": 8
          },
          "showarrow": false,
          "text": "-0.02",
          "x": "Age",
          "xref": "x",
          "y": "Black Widow",
          "yref": "y"
         },
         {
          "font": {
           "color": "white",
           "size": 8
          },
          "showarrow": false,
          "text": "-0.02",
          "x": "MonthsClient",
          "xref": "x",
          "y": "Black Widow",
          "yref": "y"
         },
         {
          "font": {
           "color": "white",
           "size": 8
          },
          "showarrow": false,
          "text": "-0.08",
          "x": "MarvelFilmsPerc",
          "xref": "x",
          "y": "Black Widow",
          "yref": "y"
         },
         {
          "font": {
           "color": "white",
           "size": 8
          },
          "showarrow": false,
          "text": "0.01",
          "x": "Iron Man",
          "xref": "x",
          "y": "Shang-Chi and the Legend of the Ten Rings",
          "yref": "y"
         },
         {
          "font": {
           "color": "white",
           "size": 8
          },
          "showarrow": false,
          "text": "0.0",
          "x": "The Incredible Hulk",
          "xref": "x",
          "y": "Shang-Chi and the Legend of the Ten Rings",
          "yref": "y"
         },
         {
          "font": {
           "color": "white",
           "size": 8
          },
          "showarrow": false,
          "text": "0.01",
          "x": "Iron Man 2",
          "xref": "x",
          "y": "Shang-Chi and the Legend of the Ten Rings",
          "yref": "y"
         },
         {
          "font": {
           "color": "white",
           "size": 8
          },
          "showarrow": false,
          "text": "-0.0",
          "x": "Thor",
          "xref": "x",
          "y": "Shang-Chi and the Legend of the Ten Rings",
          "yref": "y"
         },
         {
          "font": {
           "color": "white",
           "size": 8
          },
          "showarrow": false,
          "text": "-0.0",
          "x": "Captain America: The First Avenger",
          "xref": "x",
          "y": "Shang-Chi and the Legend of the Ten Rings",
          "yref": "y"
         },
         {
          "font": {
           "color": "white",
           "size": 8
          },
          "showarrow": false,
          "text": "0.0",
          "x": "The Avengers",
          "xref": "x",
          "y": "Shang-Chi and the Legend of the Ten Rings",
          "yref": "y"
         },
         {
          "font": {
           "color": "white",
           "size": 8
          },
          "showarrow": false,
          "text": "0.01",
          "x": "Iron Man 3",
          "xref": "x",
          "y": "Shang-Chi and the Legend of the Ten Rings",
          "yref": "y"
         },
         {
          "font": {
           "color": "white",
           "size": 8
          },
          "showarrow": false,
          "text": "0.0",
          "x": "Thor: The Dark World",
          "xref": "x",
          "y": "Shang-Chi and the Legend of the Ten Rings",
          "yref": "y"
         },
         {
          "font": {
           "color": "white",
           "size": 8
          },
          "showarrow": false,
          "text": "-0.01",
          "x": "Captain America: The Winter Soldier",
          "xref": "x",
          "y": "Shang-Chi and the Legend of the Ten Rings",
          "yref": "y"
         },
         {
          "font": {
           "color": "white",
           "size": 8
          },
          "showarrow": false,
          "text": "0.0",
          "x": "Guardians of Galaxy",
          "xref": "x",
          "y": "Shang-Chi and the Legend of the Ten Rings",
          "yref": "y"
         },
         {
          "font": {
           "color": "white",
           "size": 8
          },
          "showarrow": false,
          "text": "-0.0",
          "x": "Avengers: Age of Ultron",
          "xref": "x",
          "y": "Shang-Chi and the Legend of the Ten Rings",
          "yref": "y"
         },
         {
          "font": {
           "color": "white",
           "size": 8
          },
          "showarrow": false,
          "text": "0.01",
          "x": "Ant-Man",
          "xref": "x",
          "y": "Shang-Chi and the Legend of the Ten Rings",
          "yref": "y"
         },
         {
          "font": {
           "color": "white",
           "size": 8
          },
          "showarrow": false,
          "text": "-0.02",
          "x": "Captain America: Civil War",
          "xref": "x",
          "y": "Shang-Chi and the Legend of the Ten Rings",
          "yref": "y"
         },
         {
          "font": {
           "color": "white",
           "size": 8
          },
          "showarrow": false,
          "text": "-0.01",
          "x": "Doctor Strange",
          "xref": "x",
          "y": "Shang-Chi and the Legend of the Ten Rings",
          "yref": "y"
         },
         {
          "font": {
           "color": "white",
           "size": 8
          },
          "showarrow": false,
          "text": "-0.01",
          "x": "Guardians of Galaxy 2",
          "xref": "x",
          "y": "Shang-Chi and the Legend of the Ten Rings",
          "yref": "y"
         },
         {
          "font": {
           "color": "white",
           "size": 8
          },
          "showarrow": false,
          "text": "-0.01",
          "x": "Spider-Man: Homecoming",
          "xref": "x",
          "y": "Shang-Chi and the Legend of the Ten Rings",
          "yref": "y"
         },
         {
          "font": {
           "color": "white",
           "size": 8
          },
          "showarrow": false,
          "text": "-0.01",
          "x": "Thor: Ragnarok",
          "xref": "x",
          "y": "Shang-Chi and the Legend of the Ten Rings",
          "yref": "y"
         },
         {
          "font": {
           "color": "white",
           "size": 8
          },
          "showarrow": false,
          "text": "0.01",
          "x": "Black Panther",
          "xref": "x",
          "y": "Shang-Chi and the Legend of the Ten Rings",
          "yref": "y"
         },
         {
          "font": {
           "color": "white",
           "size": 8
          },
          "showarrow": false,
          "text": "-0.02",
          "x": "Avengers: Infinity War",
          "xref": "x",
          "y": "Shang-Chi and the Legend of the Ten Rings",
          "yref": "y"
         },
         {
          "font": {
           "color": "white",
           "size": 8
          },
          "showarrow": false,
          "text": "0.01",
          "x": "Ant-Man and the Wasp",
          "xref": "x",
          "y": "Shang-Chi and the Legend of the Ten Rings",
          "yref": "y"
         },
         {
          "font": {
           "color": "white",
           "size": 8
          },
          "showarrow": false,
          "text": "0.0",
          "x": "Captain Marvel",
          "xref": "x",
          "y": "Shang-Chi and the Legend of the Ten Rings",
          "yref": "y"
         },
         {
          "font": {
           "color": "white",
           "size": 8
          },
          "showarrow": false,
          "text": "-0.0",
          "x": "Avengers: Endgame",
          "xref": "x",
          "y": "Shang-Chi and the Legend of the Ten Rings",
          "yref": "y"
         },
         {
          "font": {
           "color": "white",
           "size": 8
          },
          "showarrow": false,
          "text": "0.0",
          "x": "Spider-Man: Far From Home",
          "xref": "x",
          "y": "Shang-Chi and the Legend of the Ten Rings",
          "yref": "y"
         },
         {
          "font": {
           "color": "white",
           "size": 8
          },
          "showarrow": false,
          "text": "-0.01",
          "x": "Black Widow",
          "xref": "x",
          "y": "Shang-Chi and the Legend of the Ten Rings",
          "yref": "y"
         },
         {
          "font": {
           "color": "white",
           "size": 8
          },
          "showarrow": false,
          "text": "1.0",
          "x": "Shang-Chi and the Legend of the Ten Rings",
          "xref": "x",
          "y": "Shang-Chi and the Legend of the Ten Rings",
          "yref": "y"
         },
         {
          "font": {
           "color": "white",
           "size": 8
          },
          "showarrow": false,
          "text": "0.01",
          "x": "Eternals",
          "xref": "x",
          "y": "Shang-Chi and the Legend of the Ten Rings",
          "yref": "y"
         },
         {
          "font": {
           "color": "white",
           "size": 8
          },
          "showarrow": false,
          "text": "0.01",
          "x": "Spider-Man: No Way Home",
          "xref": "x",
          "y": "Shang-Chi and the Legend of the Ten Rings",
          "yref": "y"
         },
         {
          "font": {
           "color": "white",
           "size": 8
          },
          "showarrow": false,
          "text": "0.01",
          "x": "Age",
          "xref": "x",
          "y": "Shang-Chi and the Legend of the Ten Rings",
          "yref": "y"
         },
         {
          "font": {
           "color": "white",
           "size": 8
          },
          "showarrow": false,
          "text": "0.01",
          "x": "MonthsClient",
          "xref": "x",
          "y": "Shang-Chi and the Legend of the Ten Rings",
          "yref": "y"
         },
         {
          "font": {
           "color": "white",
           "size": 8
          },
          "showarrow": false,
          "text": "0.0",
          "x": "MarvelFilmsPerc",
          "xref": "x",
          "y": "Shang-Chi and the Legend of the Ten Rings",
          "yref": "y"
         },
         {
          "font": {
           "color": "white",
           "size": 8
          },
          "showarrow": false,
          "text": "0.01",
          "x": "Iron Man",
          "xref": "x",
          "y": "Eternals",
          "yref": "y"
         },
         {
          "font": {
           "color": "white",
           "size": 8
          },
          "showarrow": false,
          "text": "0.0",
          "x": "The Incredible Hulk",
          "xref": "x",
          "y": "Eternals",
          "yref": "y"
         },
         {
          "font": {
           "color": "white",
           "size": 8
          },
          "showarrow": false,
          "text": "0.0",
          "x": "Iron Man 2",
          "xref": "x",
          "y": "Eternals",
          "yref": "y"
         },
         {
          "font": {
           "color": "white",
           "size": 8
          },
          "showarrow": false,
          "text": "0.01",
          "x": "Thor",
          "xref": "x",
          "y": "Eternals",
          "yref": "y"
         },
         {
          "font": {
           "color": "white",
           "size": 8
          },
          "showarrow": false,
          "text": "-0.01",
          "x": "Captain America: The First Avenger",
          "xref": "x",
          "y": "Eternals",
          "yref": "y"
         },
         {
          "font": {
           "color": "white",
           "size": 8
          },
          "showarrow": false,
          "text": "-0.01",
          "x": "The Avengers",
          "xref": "x",
          "y": "Eternals",
          "yref": "y"
         },
         {
          "font": {
           "color": "white",
           "size": 8
          },
          "showarrow": false,
          "text": "0.01",
          "x": "Iron Man 3",
          "xref": "x",
          "y": "Eternals",
          "yref": "y"
         },
         {
          "font": {
           "color": "white",
           "size": 8
          },
          "showarrow": false,
          "text": "-0.0",
          "x": "Thor: The Dark World",
          "xref": "x",
          "y": "Eternals",
          "yref": "y"
         },
         {
          "font": {
           "color": "white",
           "size": 8
          },
          "showarrow": false,
          "text": "0.01",
          "x": "Captain America: The Winter Soldier",
          "xref": "x",
          "y": "Eternals",
          "yref": "y"
         },
         {
          "font": {
           "color": "white",
           "size": 8
          },
          "showarrow": false,
          "text": "-0.0",
          "x": "Guardians of Galaxy",
          "xref": "x",
          "y": "Eternals",
          "yref": "y"
         },
         {
          "font": {
           "color": "white",
           "size": 8
          },
          "showarrow": false,
          "text": "-0.01",
          "x": "Avengers: Age of Ultron",
          "xref": "x",
          "y": "Eternals",
          "yref": "y"
         },
         {
          "font": {
           "color": "white",
           "size": 8
          },
          "showarrow": false,
          "text": "0.0",
          "x": "Ant-Man",
          "xref": "x",
          "y": "Eternals",
          "yref": "y"
         },
         {
          "font": {
           "color": "white",
           "size": 8
          },
          "showarrow": false,
          "text": "0.01",
          "x": "Captain America: Civil War",
          "xref": "x",
          "y": "Eternals",
          "yref": "y"
         },
         {
          "font": {
           "color": "white",
           "size": 8
          },
          "showarrow": false,
          "text": "0.01",
          "x": "Doctor Strange",
          "xref": "x",
          "y": "Eternals",
          "yref": "y"
         },
         {
          "font": {
           "color": "white",
           "size": 8
          },
          "showarrow": false,
          "text": "0.01",
          "x": "Guardians of Galaxy 2",
          "xref": "x",
          "y": "Eternals",
          "yref": "y"
         },
         {
          "font": {
           "color": "white",
           "size": 8
          },
          "showarrow": false,
          "text": "-0.0",
          "x": "Spider-Man: Homecoming",
          "xref": "x",
          "y": "Eternals",
          "yref": "y"
         },
         {
          "font": {
           "color": "white",
           "size": 8
          },
          "showarrow": false,
          "text": "-0.01",
          "x": "Thor: Ragnarok",
          "xref": "x",
          "y": "Eternals",
          "yref": "y"
         },
         {
          "font": {
           "color": "white",
           "size": 8
          },
          "showarrow": false,
          "text": "-0.0",
          "x": "Black Panther",
          "xref": "x",
          "y": "Eternals",
          "yref": "y"
         },
         {
          "font": {
           "color": "white",
           "size": 8
          },
          "showarrow": false,
          "text": "-0.01",
          "x": "Avengers: Infinity War",
          "xref": "x",
          "y": "Eternals",
          "yref": "y"
         },
         {
          "font": {
           "color": "white",
           "size": 8
          },
          "showarrow": false,
          "text": "0.01",
          "x": "Ant-Man and the Wasp",
          "xref": "x",
          "y": "Eternals",
          "yref": "y"
         },
         {
          "font": {
           "color": "white",
           "size": 8
          },
          "showarrow": false,
          "text": "-0.02",
          "x": "Captain Marvel",
          "xref": "x",
          "y": "Eternals",
          "yref": "y"
         },
         {
          "font": {
           "color": "white",
           "size": 8
          },
          "showarrow": false,
          "text": "0.0",
          "x": "Avengers: Endgame",
          "xref": "x",
          "y": "Eternals",
          "yref": "y"
         },
         {
          "font": {
           "color": "white",
           "size": 8
          },
          "showarrow": false,
          "text": "0.01",
          "x": "Spider-Man: Far From Home",
          "xref": "x",
          "y": "Eternals",
          "yref": "y"
         },
         {
          "font": {
           "color": "white",
           "size": 8
          },
          "showarrow": false,
          "text": "-0.01",
          "x": "Black Widow",
          "xref": "x",
          "y": "Eternals",
          "yref": "y"
         },
         {
          "font": {
           "color": "white",
           "size": 8
          },
          "showarrow": false,
          "text": "0.01",
          "x": "Shang-Chi and the Legend of the Ten Rings",
          "xref": "x",
          "y": "Eternals",
          "yref": "y"
         },
         {
          "font": {
           "color": "white",
           "size": 8
          },
          "showarrow": false,
          "text": "1.0",
          "x": "Eternals",
          "xref": "x",
          "y": "Eternals",
          "yref": "y"
         },
         {
          "font": {
           "color": "white",
           "size": 8
          },
          "showarrow": false,
          "text": "0.0",
          "x": "Spider-Man: No Way Home",
          "xref": "x",
          "y": "Eternals",
          "yref": "y"
         },
         {
          "font": {
           "color": "white",
           "size": 8
          },
          "showarrow": false,
          "text": "0.01",
          "x": "Age",
          "xref": "x",
          "y": "Eternals",
          "yref": "y"
         },
         {
          "font": {
           "color": "white",
           "size": 8
          },
          "showarrow": false,
          "text": "0.01",
          "x": "MonthsClient",
          "xref": "x",
          "y": "Eternals",
          "yref": "y"
         },
         {
          "font": {
           "color": "white",
           "size": 8
          },
          "showarrow": false,
          "text": "-0.01",
          "x": "MarvelFilmsPerc",
          "xref": "x",
          "y": "Eternals",
          "yref": "y"
         },
         {
          "font": {
           "color": "white",
           "size": 8
          },
          "showarrow": false,
          "text": "-0.16",
          "x": "Iron Man",
          "xref": "x",
          "y": "Spider-Man: No Way Home",
          "yref": "y"
         },
         {
          "font": {
           "color": "white",
           "size": 8
          },
          "showarrow": false,
          "text": "0.0",
          "x": "The Incredible Hulk",
          "xref": "x",
          "y": "Spider-Man: No Way Home",
          "yref": "y"
         },
         {
          "font": {
           "color": "white",
           "size": 8
          },
          "showarrow": false,
          "text": "-0.17",
          "x": "Iron Man 2",
          "xref": "x",
          "y": "Spider-Man: No Way Home",
          "yref": "y"
         },
         {
          "font": {
           "color": "white",
           "size": 8
          },
          "showarrow": false,
          "text": "-0.03",
          "x": "Thor",
          "xref": "x",
          "y": "Spider-Man: No Way Home",
          "yref": "y"
         },
         {
          "font": {
           "color": "white",
           "size": 8
          },
          "showarrow": false,
          "text": "-0.07",
          "x": "Captain America: The First Avenger",
          "xref": "x",
          "y": "Spider-Man: No Way Home",
          "yref": "y"
         },
         {
          "font": {
           "color": "white",
           "size": 8
          },
          "showarrow": false,
          "text": "-0.07",
          "x": "The Avengers",
          "xref": "x",
          "y": "Spider-Man: No Way Home",
          "yref": "y"
         },
         {
          "font": {
           "color": "white",
           "size": 8
          },
          "showarrow": false,
          "text": "-0.16",
          "x": "Iron Man 3",
          "xref": "x",
          "y": "Spider-Man: No Way Home",
          "yref": "y"
         },
         {
          "font": {
           "color": "white",
           "size": 8
          },
          "showarrow": false,
          "text": "-0.02",
          "x": "Thor: The Dark World",
          "xref": "x",
          "y": "Spider-Man: No Way Home",
          "yref": "y"
         },
         {
          "font": {
           "color": "white",
           "size": 8
          },
          "showarrow": false,
          "text": "-0.07",
          "x": "Captain America: The Winter Soldier",
          "xref": "x",
          "y": "Spider-Man: No Way Home",
          "yref": "y"
         },
         {
          "font": {
           "color": "white",
           "size": 8
          },
          "showarrow": false,
          "text": "-0.06",
          "x": "Guardians of Galaxy",
          "xref": "x",
          "y": "Spider-Man: No Way Home",
          "yref": "y"
         },
         {
          "font": {
           "color": "white",
           "size": 8
          },
          "showarrow": false,
          "text": "-0.07",
          "x": "Avengers: Age of Ultron",
          "xref": "x",
          "y": "Spider-Man: No Way Home",
          "yref": "y"
         },
         {
          "font": {
           "color": "white",
           "size": 8
          },
          "showarrow": false,
          "text": "-0.0",
          "x": "Ant-Man",
          "xref": "x",
          "y": "Spider-Man: No Way Home",
          "yref": "y"
         },
         {
          "font": {
           "color": "white",
           "size": 8
          },
          "showarrow": false,
          "text": "-0.06",
          "x": "Captain America: Civil War",
          "xref": "x",
          "y": "Spider-Man: No Way Home",
          "yref": "y"
         },
         {
          "font": {
           "color": "white",
           "size": 8
          },
          "showarrow": false,
          "text": "-0.03",
          "x": "Doctor Strange",
          "xref": "x",
          "y": "Spider-Man: No Way Home",
          "yref": "y"
         },
         {
          "font": {
           "color": "white",
           "size": 8
          },
          "showarrow": false,
          "text": "-0.05",
          "x": "Guardians of Galaxy 2",
          "xref": "x",
          "y": "Spider-Man: No Way Home",
          "yref": "y"
         },
         {
          "font": {
           "color": "white",
           "size": 8
          },
          "showarrow": false,
          "text": "0.42",
          "x": "Spider-Man: Homecoming",
          "xref": "x",
          "y": "Spider-Man: No Way Home",
          "yref": "y"
         },
         {
          "font": {
           "color": "white",
           "size": 8
          },
          "showarrow": false,
          "text": "-0.03",
          "x": "Thor: Ragnarok",
          "xref": "x",
          "y": "Spider-Man: No Way Home",
          "yref": "y"
         },
         {
          "font": {
           "color": "white",
           "size": 8
          },
          "showarrow": false,
          "text": "0.01",
          "x": "Black Panther",
          "xref": "x",
          "y": "Spider-Man: No Way Home",
          "yref": "y"
         },
         {
          "font": {
           "color": "white",
           "size": 8
          },
          "showarrow": false,
          "text": "-0.07",
          "x": "Avengers: Infinity War",
          "xref": "x",
          "y": "Spider-Man: No Way Home",
          "yref": "y"
         },
         {
          "font": {
           "color": "white",
           "size": 8
          },
          "showarrow": false,
          "text": "-0.03",
          "x": "Ant-Man and the Wasp",
          "xref": "x",
          "y": "Spider-Man: No Way Home",
          "yref": "y"
         },
         {
          "font": {
           "color": "white",
           "size": 8
          },
          "showarrow": false,
          "text": "0.0",
          "x": "Captain Marvel",
          "xref": "x",
          "y": "Spider-Man: No Way Home",
          "yref": "y"
         },
         {
          "font": {
           "color": "white",
           "size": 8
          },
          "showarrow": false,
          "text": "-0.07",
          "x": "Avengers: Endgame",
          "xref": "x",
          "y": "Spider-Man: No Way Home",
          "yref": "y"
         },
         {
          "font": {
           "color": "white",
           "size": 8
          },
          "showarrow": false,
          "text": "0.43",
          "x": "Spider-Man: Far From Home",
          "xref": "x",
          "y": "Spider-Man: No Way Home",
          "yref": "y"
         },
         {
          "font": {
           "color": "white",
           "size": 8
          },
          "showarrow": false,
          "text": "-0.08",
          "x": "Black Widow",
          "xref": "x",
          "y": "Spider-Man: No Way Home",
          "yref": "y"
         },
         {
          "font": {
           "color": "white",
           "size": 8
          },
          "showarrow": false,
          "text": "0.01",
          "x": "Shang-Chi and the Legend of the Ten Rings",
          "xref": "x",
          "y": "Spider-Man: No Way Home",
          "yref": "y"
         },
         {
          "font": {
           "color": "white",
           "size": 8
          },
          "showarrow": false,
          "text": "0.0",
          "x": "Eternals",
          "xref": "x",
          "y": "Spider-Man: No Way Home",
          "yref": "y"
         },
         {
          "font": {
           "color": "white",
           "size": 8
          },
          "showarrow": false,
          "text": "1.0",
          "x": "Spider-Man: No Way Home",
          "xref": "x",
          "y": "Spider-Man: No Way Home",
          "yref": "y"
         },
         {
          "font": {
           "color": "white",
           "size": 8
          },
          "showarrow": false,
          "text": "-0.04",
          "x": "Age",
          "xref": "x",
          "y": "Spider-Man: No Way Home",
          "yref": "y"
         },
         {
          "font": {
           "color": "white",
           "size": 8
          },
          "showarrow": false,
          "text": "-0.1",
          "x": "MonthsClient",
          "xref": "x",
          "y": "Spider-Man: No Way Home",
          "yref": "y"
         },
         {
          "font": {
           "color": "white",
           "size": 8
          },
          "showarrow": false,
          "text": "-0.02",
          "x": "MarvelFilmsPerc",
          "xref": "x",
          "y": "Spider-Man: No Way Home",
          "yref": "y"
         },
         {
          "font": {
           "color": "white",
           "size": 8
          },
          "showarrow": false,
          "text": "0.01",
          "x": "Iron Man",
          "xref": "x",
          "y": "Age",
          "yref": "y"
         },
         {
          "font": {
           "color": "white",
           "size": 8
          },
          "showarrow": false,
          "text": "-0.0",
          "x": "The Incredible Hulk",
          "xref": "x",
          "y": "Age",
          "yref": "y"
         },
         {
          "font": {
           "color": "white",
           "size": 8
          },
          "showarrow": false,
          "text": "0.01",
          "x": "Iron Man 2",
          "xref": "x",
          "y": "Age",
          "yref": "y"
         },
         {
          "font": {
           "color": "white",
           "size": 8
          },
          "showarrow": false,
          "text": "-0.0",
          "x": "Thor",
          "xref": "x",
          "y": "Age",
          "yref": "y"
         },
         {
          "font": {
           "color": "white",
           "size": 8
          },
          "showarrow": false,
          "text": "0.02",
          "x": "Captain America: The First Avenger",
          "xref": "x",
          "y": "Age",
          "yref": "y"
         },
         {
          "font": {
           "color": "white",
           "size": 8
          },
          "showarrow": false,
          "text": "-0.01",
          "x": "The Avengers",
          "xref": "x",
          "y": "Age",
          "yref": "y"
         },
         {
          "font": {
           "color": "white",
           "size": 8
          },
          "showarrow": false,
          "text": "0.02",
          "x": "Iron Man 3",
          "xref": "x",
          "y": "Age",
          "yref": "y"
         },
         {
          "font": {
           "color": "white",
           "size": 8
          },
          "showarrow": false,
          "text": "0.01",
          "x": "Thor: The Dark World",
          "xref": "x",
          "y": "Age",
          "yref": "y"
         },
         {
          "font": {
           "color": "white",
           "size": 8
          },
          "showarrow": false,
          "text": "0.01",
          "x": "Captain America: The Winter Soldier",
          "xref": "x",
          "y": "Age",
          "yref": "y"
         },
         {
          "font": {
           "color": "white",
           "size": 8
          },
          "showarrow": false,
          "text": "0.01",
          "x": "Guardians of Galaxy",
          "xref": "x",
          "y": "Age",
          "yref": "y"
         },
         {
          "font": {
           "color": "white",
           "size": 8
          },
          "showarrow": false,
          "text": "-0.01",
          "x": "Avengers: Age of Ultron",
          "xref": "x",
          "y": "Age",
          "yref": "y"
         },
         {
          "font": {
           "color": "white",
           "size": 8
          },
          "showarrow": false,
          "text": "0.02",
          "x": "Ant-Man",
          "xref": "x",
          "y": "Age",
          "yref": "y"
         },
         {
          "font": {
           "color": "white",
           "size": 8
          },
          "showarrow": false,
          "text": "0.01",
          "x": "Captain America: Civil War",
          "xref": "x",
          "y": "Age",
          "yref": "y"
         },
         {
          "font": {
           "color": "white",
           "size": 8
          },
          "showarrow": false,
          "text": "0.01",
          "x": "Doctor Strange",
          "xref": "x",
          "y": "Age",
          "yref": "y"
         },
         {
          "font": {
           "color": "white",
           "size": 8
          },
          "showarrow": false,
          "text": "0.01",
          "x": "Guardians of Galaxy 2",
          "xref": "x",
          "y": "Age",
          "yref": "y"
         },
         {
          "font": {
           "color": "white",
           "size": 8
          },
          "showarrow": false,
          "text": "-0.03",
          "x": "Spider-Man: Homecoming",
          "xref": "x",
          "y": "Age",
          "yref": "y"
         },
         {
          "font": {
           "color": "white",
           "size": 8
          },
          "showarrow": false,
          "text": "-0.0",
          "x": "Thor: Ragnarok",
          "xref": "x",
          "y": "Age",
          "yref": "y"
         },
         {
          "font": {
           "color": "white",
           "size": 8
          },
          "showarrow": false,
          "text": "0.01",
          "x": "Black Panther",
          "xref": "x",
          "y": "Age",
          "yref": "y"
         },
         {
          "font": {
           "color": "white",
           "size": 8
          },
          "showarrow": false,
          "text": "-0.02",
          "x": "Avengers: Infinity War",
          "xref": "x",
          "y": "Age",
          "yref": "y"
         },
         {
          "font": {
           "color": "white",
           "size": 8
          },
          "showarrow": false,
          "text": "0.01",
          "x": "Ant-Man and the Wasp",
          "xref": "x",
          "y": "Age",
          "yref": "y"
         },
         {
          "font": {
           "color": "white",
           "size": 8
          },
          "showarrow": false,
          "text": "-0.01",
          "x": "Captain Marvel",
          "xref": "x",
          "y": "Age",
          "yref": "y"
         },
         {
          "font": {
           "color": "white",
           "size": 8
          },
          "showarrow": false,
          "text": "-0.01",
          "x": "Avengers: Endgame",
          "xref": "x",
          "y": "Age",
          "yref": "y"
         },
         {
          "font": {
           "color": "white",
           "size": 8
          },
          "showarrow": false,
          "text": "-0.03",
          "x": "Spider-Man: Far From Home",
          "xref": "x",
          "y": "Age",
          "yref": "y"
         },
         {
          "font": {
           "color": "white",
           "size": 8
          },
          "showarrow": false,
          "text": "-0.02",
          "x": "Black Widow",
          "xref": "x",
          "y": "Age",
          "yref": "y"
         },
         {
          "font": {
           "color": "white",
           "size": 8
          },
          "showarrow": false,
          "text": "0.01",
          "x": "Shang-Chi and the Legend of the Ten Rings",
          "xref": "x",
          "y": "Age",
          "yref": "y"
         },
         {
          "font": {
           "color": "white",
           "size": 8
          },
          "showarrow": false,
          "text": "0.01",
          "x": "Eternals",
          "xref": "x",
          "y": "Age",
          "yref": "y"
         },
         {
          "font": {
           "color": "white",
           "size": 8
          },
          "showarrow": false,
          "text": "-0.04",
          "x": "Spider-Man: No Way Home",
          "xref": "x",
          "y": "Age",
          "yref": "y"
         },
         {
          "font": {
           "color": "white",
           "size": 8
          },
          "showarrow": false,
          "text": "1.0",
          "x": "Age",
          "xref": "x",
          "y": "Age",
          "yref": "y"
         },
         {
          "font": {
           "color": "white",
           "size": 8
          },
          "showarrow": false,
          "text": "0.14",
          "x": "MonthsClient",
          "xref": "x",
          "y": "Age",
          "yref": "y"
         },
         {
          "font": {
           "color": "white",
           "size": 8
          },
          "showarrow": false,
          "text": "0.0",
          "x": "MarvelFilmsPerc",
          "xref": "x",
          "y": "Age",
          "yref": "y"
         },
         {
          "font": {
           "color": "white",
           "size": 8
          },
          "showarrow": false,
          "text": "0.13",
          "x": "Iron Man",
          "xref": "x",
          "y": "MonthsClient",
          "yref": "y"
         },
         {
          "font": {
           "color": "white",
           "size": 8
          },
          "showarrow": false,
          "text": "0.0",
          "x": "The Incredible Hulk",
          "xref": "x",
          "y": "MonthsClient",
          "yref": "y"
         },
         {
          "font": {
           "color": "white",
           "size": 8
          },
          "showarrow": false,
          "text": "0.13",
          "x": "Iron Man 2",
          "xref": "x",
          "y": "MonthsClient",
          "yref": "y"
         },
         {
          "font": {
           "color": "white",
           "size": 8
          },
          "showarrow": false,
          "text": "-0.01",
          "x": "Thor",
          "xref": "x",
          "y": "MonthsClient",
          "yref": "y"
         },
         {
          "font": {
           "color": "white",
           "size": 8
          },
          "showarrow": false,
          "text": "0.04",
          "x": "Captain America: The First Avenger",
          "xref": "x",
          "y": "MonthsClient",
          "yref": "y"
         },
         {
          "font": {
           "color": "white",
           "size": 8
          },
          "showarrow": false,
          "text": "-0.08",
          "x": "The Avengers",
          "xref": "x",
          "y": "MonthsClient",
          "yref": "y"
         },
         {
          "font": {
           "color": "white",
           "size": 8
          },
          "showarrow": false,
          "text": "0.14",
          "x": "Iron Man 3",
          "xref": "x",
          "y": "MonthsClient",
          "yref": "y"
         },
         {
          "font": {
           "color": "white",
           "size": 8
          },
          "showarrow": false,
          "text": "-0.01",
          "x": "Thor: The Dark World",
          "xref": "x",
          "y": "MonthsClient",
          "yref": "y"
         },
         {
          "font": {
           "color": "white",
           "size": 8
          },
          "showarrow": false,
          "text": "0.04",
          "x": "Captain America: The Winter Soldier",
          "xref": "x",
          "y": "MonthsClient",
          "yref": "y"
         },
         {
          "font": {
           "color": "white",
           "size": 8
          },
          "showarrow": false,
          "text": "0.01",
          "x": "Guardians of Galaxy",
          "xref": "x",
          "y": "MonthsClient",
          "yref": "y"
         },
         {
          "font": {
           "color": "white",
           "size": 8
          },
          "showarrow": false,
          "text": "-0.06",
          "x": "Avengers: Age of Ultron",
          "xref": "x",
          "y": "MonthsClient",
          "yref": "y"
         },
         {
          "font": {
           "color": "white",
           "size": 8
          },
          "showarrow": false,
          "text": "0.0",
          "x": "Ant-Man",
          "xref": "x",
          "y": "MonthsClient",
          "yref": "y"
         },
         {
          "font": {
           "color": "white",
           "size": 8
          },
          "showarrow": false,
          "text": "0.04",
          "x": "Captain America: Civil War",
          "xref": "x",
          "y": "MonthsClient",
          "yref": "y"
         },
         {
          "font": {
           "color": "white",
           "size": 8
          },
          "showarrow": false,
          "text": "-0.01",
          "x": "Doctor Strange",
          "xref": "x",
          "y": "MonthsClient",
          "yref": "y"
         },
         {
          "font": {
           "color": "white",
           "size": 8
          },
          "showarrow": false,
          "text": "0.0",
          "x": "Guardians of Galaxy 2",
          "xref": "x",
          "y": "MonthsClient",
          "yref": "y"
         },
         {
          "font": {
           "color": "white",
           "size": 8
          },
          "showarrow": false,
          "text": "-0.09",
          "x": "Spider-Man: Homecoming",
          "xref": "x",
          "y": "MonthsClient",
          "yref": "y"
         },
         {
          "font": {
           "color": "white",
           "size": 8
          },
          "showarrow": false,
          "text": "-0.01",
          "x": "Thor: Ragnarok",
          "xref": "x",
          "y": "MonthsClient",
          "yref": "y"
         },
         {
          "font": {
           "color": "white",
           "size": 8
          },
          "showarrow": false,
          "text": "-0.0",
          "x": "Black Panther",
          "xref": "x",
          "y": "MonthsClient",
          "yref": "y"
         },
         {
          "font": {
           "color": "white",
           "size": 8
          },
          "showarrow": false,
          "text": "-0.07",
          "x": "Avengers: Infinity War",
          "xref": "x",
          "y": "MonthsClient",
          "yref": "y"
         },
         {
          "font": {
           "color": "white",
           "size": 8
          },
          "showarrow": false,
          "text": "-0.01",
          "x": "Ant-Man and the Wasp",
          "xref": "x",
          "y": "MonthsClient",
          "yref": "y"
         },
         {
          "font": {
           "color": "white",
           "size": 8
          },
          "showarrow": false,
          "text": "-0.01",
          "x": "Captain Marvel",
          "xref": "x",
          "y": "MonthsClient",
          "yref": "y"
         },
         {
          "font": {
           "color": "white",
           "size": 8
          },
          "showarrow": false,
          "text": "-0.08",
          "x": "Avengers: Endgame",
          "xref": "x",
          "y": "MonthsClient",
          "yref": "y"
         },
         {
          "font": {
           "color": "white",
           "size": 8
          },
          "showarrow": false,
          "text": "-0.09",
          "x": "Spider-Man: Far From Home",
          "xref": "x",
          "y": "MonthsClient",
          "yref": "y"
         },
         {
          "font": {
           "color": "white",
           "size": 8
          },
          "showarrow": false,
          "text": "-0.02",
          "x": "Black Widow",
          "xref": "x",
          "y": "MonthsClient",
          "yref": "y"
         },
         {
          "font": {
           "color": "white",
           "size": 8
          },
          "showarrow": false,
          "text": "0.01",
          "x": "Shang-Chi and the Legend of the Ten Rings",
          "xref": "x",
          "y": "MonthsClient",
          "yref": "y"
         },
         {
          "font": {
           "color": "white",
           "size": 8
          },
          "showarrow": false,
          "text": "0.01",
          "x": "Eternals",
          "xref": "x",
          "y": "MonthsClient",
          "yref": "y"
         },
         {
          "font": {
           "color": "white",
           "size": 8
          },
          "showarrow": false,
          "text": "-0.1",
          "x": "Spider-Man: No Way Home",
          "xref": "x",
          "y": "MonthsClient",
          "yref": "y"
         },
         {
          "font": {
           "color": "white",
           "size": 8
          },
          "showarrow": false,
          "text": "0.14",
          "x": "Age",
          "xref": "x",
          "y": "MonthsClient",
          "yref": "y"
         },
         {
          "font": {
           "color": "white",
           "size": 8
          },
          "showarrow": false,
          "text": "1.0",
          "x": "MonthsClient",
          "xref": "x",
          "y": "MonthsClient",
          "yref": "y"
         },
         {
          "font": {
           "color": "white",
           "size": 8
          },
          "showarrow": false,
          "text": "-0.01",
          "x": "MarvelFilmsPerc",
          "xref": "x",
          "y": "MonthsClient",
          "yref": "y"
         },
         {
          "font": {
           "color": "white",
           "size": 8
          },
          "showarrow": false,
          "text": "-0.02",
          "x": "Iron Man",
          "xref": "x",
          "y": "MarvelFilmsPerc",
          "yref": "y"
         },
         {
          "font": {
           "color": "white",
           "size": 8
          },
          "showarrow": false,
          "text": "-0.0",
          "x": "The Incredible Hulk",
          "xref": "x",
          "y": "MarvelFilmsPerc",
          "yref": "y"
         },
         {
          "font": {
           "color": "white",
           "size": 8
          },
          "showarrow": false,
          "text": "-0.02",
          "x": "Iron Man 2",
          "xref": "x",
          "y": "MarvelFilmsPerc",
          "yref": "y"
         },
         {
          "font": {
           "color": "white",
           "size": 8
          },
          "showarrow": false,
          "text": "-0.0",
          "x": "Thor",
          "xref": "x",
          "y": "MarvelFilmsPerc",
          "yref": "y"
         },
         {
          "font": {
           "color": "white",
           "size": 8
          },
          "showarrow": false,
          "text": "-0.03",
          "x": "Captain America: The First Avenger",
          "xref": "x",
          "y": "MarvelFilmsPerc",
          "yref": "y"
         },
         {
          "font": {
           "color": "white",
           "size": 8
          },
          "showarrow": false,
          "text": "0.02",
          "x": "The Avengers",
          "xref": "x",
          "y": "MarvelFilmsPerc",
          "yref": "y"
         },
         {
          "font": {
           "color": "white",
           "size": 8
          },
          "showarrow": false,
          "text": "-0.02",
          "x": "Iron Man 3",
          "xref": "x",
          "y": "MarvelFilmsPerc",
          "yref": "y"
         },
         {
          "font": {
           "color": "white",
           "size": 8
          },
          "showarrow": false,
          "text": "-0.01",
          "x": "Thor: The Dark World",
          "xref": "x",
          "y": "MarvelFilmsPerc",
          "yref": "y"
         },
         {
          "font": {
           "color": "white",
           "size": 8
          },
          "showarrow": false,
          "text": "-0.01",
          "x": "Captain America: The Winter Soldier",
          "xref": "x",
          "y": "MarvelFilmsPerc",
          "yref": "y"
         },
         {
          "font": {
           "color": "white",
           "size": 8
          },
          "showarrow": false,
          "text": "-0.04",
          "x": "Guardians of Galaxy",
          "xref": "x",
          "y": "MarvelFilmsPerc",
          "yref": "y"
         },
         {
          "font": {
           "color": "white",
           "size": 8
          },
          "showarrow": false,
          "text": "0.02",
          "x": "Avengers: Age of Ultron",
          "xref": "x",
          "y": "MarvelFilmsPerc",
          "yref": "y"
         },
         {
          "font": {
           "color": "white",
           "size": 8
          },
          "showarrow": false,
          "text": "-0.01",
          "x": "Ant-Man",
          "xref": "x",
          "y": "MarvelFilmsPerc",
          "yref": "y"
         },
         {
          "font": {
           "color": "white",
           "size": 8
          },
          "showarrow": false,
          "text": "-0.02",
          "x": "Captain America: Civil War",
          "xref": "x",
          "y": "MarvelFilmsPerc",
          "yref": "y"
         },
         {
          "font": {
           "color": "white",
           "size": 8
          },
          "showarrow": false,
          "text": "-0.02",
          "x": "Doctor Strange",
          "xref": "x",
          "y": "MarvelFilmsPerc",
          "yref": "y"
         },
         {
          "font": {
           "color": "white",
           "size": 8
          },
          "showarrow": false,
          "text": "-0.05",
          "x": "Guardians of Galaxy 2",
          "xref": "x",
          "y": "MarvelFilmsPerc",
          "yref": "y"
         },
         {
          "font": {
           "color": "white",
           "size": 8
          },
          "showarrow": false,
          "text": "-0.02",
          "x": "Spider-Man: Homecoming",
          "xref": "x",
          "y": "MarvelFilmsPerc",
          "yref": "y"
         },
         {
          "font": {
           "color": "white",
           "size": 8
          },
          "showarrow": false,
          "text": "-0.01",
          "x": "Thor: Ragnarok",
          "xref": "x",
          "y": "MarvelFilmsPerc",
          "yref": "y"
         },
         {
          "font": {
           "color": "white",
           "size": 8
          },
          "showarrow": false,
          "text": "0.0",
          "x": "Black Panther",
          "xref": "x",
          "y": "MarvelFilmsPerc",
          "yref": "y"
         },
         {
          "font": {
           "color": "white",
           "size": 8
          },
          "showarrow": false,
          "text": "0.01",
          "x": "Avengers: Infinity War",
          "xref": "x",
          "y": "MarvelFilmsPerc",
          "yref": "y"
         },
         {
          "font": {
           "color": "white",
           "size": 8
          },
          "showarrow": false,
          "text": "-0.0",
          "x": "Ant-Man and the Wasp",
          "xref": "x",
          "y": "MarvelFilmsPerc",
          "yref": "y"
         },
         {
          "font": {
           "color": "white",
           "size": 8
          },
          "showarrow": false,
          "text": "0.0",
          "x": "Captain Marvel",
          "xref": "x",
          "y": "MarvelFilmsPerc",
          "yref": "y"
         },
         {
          "font": {
           "color": "white",
           "size": 8
          },
          "showarrow": false,
          "text": "0.03",
          "x": "Avengers: Endgame",
          "xref": "x",
          "y": "MarvelFilmsPerc",
          "yref": "y"
         },
         {
          "font": {
           "color": "white",
           "size": 8
          },
          "showarrow": false,
          "text": "-0.03",
          "x": "Spider-Man: Far From Home",
          "xref": "x",
          "y": "MarvelFilmsPerc",
          "yref": "y"
         },
         {
          "font": {
           "color": "white",
           "size": 8
          },
          "showarrow": false,
          "text": "-0.08",
          "x": "Black Widow",
          "xref": "x",
          "y": "MarvelFilmsPerc",
          "yref": "y"
         },
         {
          "font": {
           "color": "white",
           "size": 8
          },
          "showarrow": false,
          "text": "0.0",
          "x": "Shang-Chi and the Legend of the Ten Rings",
          "xref": "x",
          "y": "MarvelFilmsPerc",
          "yref": "y"
         },
         {
          "font": {
           "color": "white",
           "size": 8
          },
          "showarrow": false,
          "text": "-0.01",
          "x": "Eternals",
          "xref": "x",
          "y": "MarvelFilmsPerc",
          "yref": "y"
         },
         {
          "font": {
           "color": "white",
           "size": 8
          },
          "showarrow": false,
          "text": "-0.02",
          "x": "Spider-Man: No Way Home",
          "xref": "x",
          "y": "MarvelFilmsPerc",
          "yref": "y"
         },
         {
          "font": {
           "color": "white",
           "size": 8
          },
          "showarrow": false,
          "text": "0.0",
          "x": "Age",
          "xref": "x",
          "y": "MarvelFilmsPerc",
          "yref": "y"
         },
         {
          "font": {
           "color": "white",
           "size": 8
          },
          "showarrow": false,
          "text": "-0.01",
          "x": "MonthsClient",
          "xref": "x",
          "y": "MarvelFilmsPerc",
          "yref": "y"
         },
         {
          "font": {
           "color": "white",
           "size": 8
          },
          "showarrow": false,
          "text": "1.0",
          "x": "MarvelFilmsPerc",
          "xref": "x",
          "y": "MarvelFilmsPerc",
          "yref": "y"
         }
        ],
        "height": 800,
        "margin": {
         "l": 200,
         "t": 50
        },
        "template": {
         "data": {
          "bar": [
           {
            "error_x": {
             "color": "#2a3f5f"
            },
            "error_y": {
             "color": "#2a3f5f"
            },
            "marker": {
             "line": {
              "color": "#E5ECF6",
              "width": 0.5
             },
             "pattern": {
              "fillmode": "overlay",
              "size": 10,
              "solidity": 0.2
             }
            },
            "type": "bar"
           }
          ],
          "barpolar": [
           {
            "marker": {
             "line": {
              "color": "#E5ECF6",
              "width": 0.5
             },
             "pattern": {
              "fillmode": "overlay",
              "size": 10,
              "solidity": 0.2
             }
            },
            "type": "barpolar"
           }
          ],
          "carpet": [
           {
            "aaxis": {
             "endlinecolor": "#2a3f5f",
             "gridcolor": "white",
             "linecolor": "white",
             "minorgridcolor": "white",
             "startlinecolor": "#2a3f5f"
            },
            "baxis": {
             "endlinecolor": "#2a3f5f",
             "gridcolor": "white",
             "linecolor": "white",
             "minorgridcolor": "white",
             "startlinecolor": "#2a3f5f"
            },
            "type": "carpet"
           }
          ],
          "choropleth": [
           {
            "colorbar": {
             "outlinewidth": 0,
             "ticks": ""
            },
            "type": "choropleth"
           }
          ],
          "contour": [
           {
            "colorbar": {
             "outlinewidth": 0,
             "ticks": ""
            },
            "colorscale": [
             [
              0,
              "#0d0887"
             ],
             [
              0.1111111111111111,
              "#46039f"
             ],
             [
              0.2222222222222222,
              "#7201a8"
             ],
             [
              0.3333333333333333,
              "#9c179e"
             ],
             [
              0.4444444444444444,
              "#bd3786"
             ],
             [
              0.5555555555555556,
              "#d8576b"
             ],
             [
              0.6666666666666666,
              "#ed7953"
             ],
             [
              0.7777777777777778,
              "#fb9f3a"
             ],
             [
              0.8888888888888888,
              "#fdca26"
             ],
             [
              1,
              "#f0f921"
             ]
            ],
            "type": "contour"
           }
          ],
          "contourcarpet": [
           {
            "colorbar": {
             "outlinewidth": 0,
             "ticks": ""
            },
            "type": "contourcarpet"
           }
          ],
          "heatmap": [
           {
            "colorbar": {
             "outlinewidth": 0,
             "ticks": ""
            },
            "colorscale": [
             [
              0,
              "#0d0887"
             ],
             [
              0.1111111111111111,
              "#46039f"
             ],
             [
              0.2222222222222222,
              "#7201a8"
             ],
             [
              0.3333333333333333,
              "#9c179e"
             ],
             [
              0.4444444444444444,
              "#bd3786"
             ],
             [
              0.5555555555555556,
              "#d8576b"
             ],
             [
              0.6666666666666666,
              "#ed7953"
             ],
             [
              0.7777777777777778,
              "#fb9f3a"
             ],
             [
              0.8888888888888888,
              "#fdca26"
             ],
             [
              1,
              "#f0f921"
             ]
            ],
            "type": "heatmap"
           }
          ],
          "heatmapgl": [
           {
            "colorbar": {
             "outlinewidth": 0,
             "ticks": ""
            },
            "colorscale": [
             [
              0,
              "#0d0887"
             ],
             [
              0.1111111111111111,
              "#46039f"
             ],
             [
              0.2222222222222222,
              "#7201a8"
             ],
             [
              0.3333333333333333,
              "#9c179e"
             ],
             [
              0.4444444444444444,
              "#bd3786"
             ],
             [
              0.5555555555555556,
              "#d8576b"
             ],
             [
              0.6666666666666666,
              "#ed7953"
             ],
             [
              0.7777777777777778,
              "#fb9f3a"
             ],
             [
              0.8888888888888888,
              "#fdca26"
             ],
             [
              1,
              "#f0f921"
             ]
            ],
            "type": "heatmapgl"
           }
          ],
          "histogram": [
           {
            "marker": {
             "pattern": {
              "fillmode": "overlay",
              "size": 10,
              "solidity": 0.2
             }
            },
            "type": "histogram"
           }
          ],
          "histogram2d": [
           {
            "colorbar": {
             "outlinewidth": 0,
             "ticks": ""
            },
            "colorscale": [
             [
              0,
              "#0d0887"
             ],
             [
              0.1111111111111111,
              "#46039f"
             ],
             [
              0.2222222222222222,
              "#7201a8"
             ],
             [
              0.3333333333333333,
              "#9c179e"
             ],
             [
              0.4444444444444444,
              "#bd3786"
             ],
             [
              0.5555555555555556,
              "#d8576b"
             ],
             [
              0.6666666666666666,
              "#ed7953"
             ],
             [
              0.7777777777777778,
              "#fb9f3a"
             ],
             [
              0.8888888888888888,
              "#fdca26"
             ],
             [
              1,
              "#f0f921"
             ]
            ],
            "type": "histogram2d"
           }
          ],
          "histogram2dcontour": [
           {
            "colorbar": {
             "outlinewidth": 0,
             "ticks": ""
            },
            "colorscale": [
             [
              0,
              "#0d0887"
             ],
             [
              0.1111111111111111,
              "#46039f"
             ],
             [
              0.2222222222222222,
              "#7201a8"
             ],
             [
              0.3333333333333333,
              "#9c179e"
             ],
             [
              0.4444444444444444,
              "#bd3786"
             ],
             [
              0.5555555555555556,
              "#d8576b"
             ],
             [
              0.6666666666666666,
              "#ed7953"
             ],
             [
              0.7777777777777778,
              "#fb9f3a"
             ],
             [
              0.8888888888888888,
              "#fdca26"
             ],
             [
              1,
              "#f0f921"
             ]
            ],
            "type": "histogram2dcontour"
           }
          ],
          "mesh3d": [
           {
            "colorbar": {
             "outlinewidth": 0,
             "ticks": ""
            },
            "type": "mesh3d"
           }
          ],
          "parcoords": [
           {
            "line": {
             "colorbar": {
              "outlinewidth": 0,
              "ticks": ""
             }
            },
            "type": "parcoords"
           }
          ],
          "pie": [
           {
            "automargin": true,
            "type": "pie"
           }
          ],
          "scatter": [
           {
            "fillpattern": {
             "fillmode": "overlay",
             "size": 10,
             "solidity": 0.2
            },
            "type": "scatter"
           }
          ],
          "scatter3d": [
           {
            "line": {
             "colorbar": {
              "outlinewidth": 0,
              "ticks": ""
             }
            },
            "marker": {
             "colorbar": {
              "outlinewidth": 0,
              "ticks": ""
             }
            },
            "type": "scatter3d"
           }
          ],
          "scattercarpet": [
           {
            "marker": {
             "colorbar": {
              "outlinewidth": 0,
              "ticks": ""
             }
            },
            "type": "scattercarpet"
           }
          ],
          "scattergeo": [
           {
            "marker": {
             "colorbar": {
              "outlinewidth": 0,
              "ticks": ""
             }
            },
            "type": "scattergeo"
           }
          ],
          "scattergl": [
           {
            "marker": {
             "colorbar": {
              "outlinewidth": 0,
              "ticks": ""
             }
            },
            "type": "scattergl"
           }
          ],
          "scattermapbox": [
           {
            "marker": {
             "colorbar": {
              "outlinewidth": 0,
              "ticks": ""
             }
            },
            "type": "scattermapbox"
           }
          ],
          "scatterpolar": [
           {
            "marker": {
             "colorbar": {
              "outlinewidth": 0,
              "ticks": ""
             }
            },
            "type": "scatterpolar"
           }
          ],
          "scatterpolargl": [
           {
            "marker": {
             "colorbar": {
              "outlinewidth": 0,
              "ticks": ""
             }
            },
            "type": "scatterpolargl"
           }
          ],
          "scatterternary": [
           {
            "marker": {
             "colorbar": {
              "outlinewidth": 0,
              "ticks": ""
             }
            },
            "type": "scatterternary"
           }
          ],
          "surface": [
           {
            "colorbar": {
             "outlinewidth": 0,
             "ticks": ""
            },
            "colorscale": [
             [
              0,
              "#0d0887"
             ],
             [
              0.1111111111111111,
              "#46039f"
             ],
             [
              0.2222222222222222,
              "#7201a8"
             ],
             [
              0.3333333333333333,
              "#9c179e"
             ],
             [
              0.4444444444444444,
              "#bd3786"
             ],
             [
              0.5555555555555556,
              "#d8576b"
             ],
             [
              0.6666666666666666,
              "#ed7953"
             ],
             [
              0.7777777777777778,
              "#fb9f3a"
             ],
             [
              0.8888888888888888,
              "#fdca26"
             ],
             [
              1,
              "#f0f921"
             ]
            ],
            "type": "surface"
           }
          ],
          "table": [
           {
            "cells": {
             "fill": {
              "color": "#EBF0F8"
             },
             "line": {
              "color": "white"
             }
            },
            "header": {
             "fill": {
              "color": "#C8D4E3"
             },
             "line": {
              "color": "white"
             }
            },
            "type": "table"
           }
          ]
         },
         "layout": {
          "annotationdefaults": {
           "arrowcolor": "#2a3f5f",
           "arrowhead": 0,
           "arrowwidth": 1
          },
          "autotypenumbers": "strict",
          "coloraxis": {
           "colorbar": {
            "outlinewidth": 0,
            "ticks": ""
           }
          },
          "colorscale": {
           "diverging": [
            [
             0,
             "#8e0152"
            ],
            [
             0.1,
             "#c51b7d"
            ],
            [
             0.2,
             "#de77ae"
            ],
            [
             0.3,
             "#f1b6da"
            ],
            [
             0.4,
             "#fde0ef"
            ],
            [
             0.5,
             "#f7f7f7"
            ],
            [
             0.6,
             "#e6f5d0"
            ],
            [
             0.7,
             "#b8e186"
            ],
            [
             0.8,
             "#7fbc41"
            ],
            [
             0.9,
             "#4d9221"
            ],
            [
             1,
             "#276419"
            ]
           ],
           "sequential": [
            [
             0,
             "#0d0887"
            ],
            [
             0.1111111111111111,
             "#46039f"
            ],
            [
             0.2222222222222222,
             "#7201a8"
            ],
            [
             0.3333333333333333,
             "#9c179e"
            ],
            [
             0.4444444444444444,
             "#bd3786"
            ],
            [
             0.5555555555555556,
             "#d8576b"
            ],
            [
             0.6666666666666666,
             "#ed7953"
            ],
            [
             0.7777777777777778,
             "#fb9f3a"
            ],
            [
             0.8888888888888888,
             "#fdca26"
            ],
            [
             1,
             "#f0f921"
            ]
           ],
           "sequentialminus": [
            [
             0,
             "#0d0887"
            ],
            [
             0.1111111111111111,
             "#46039f"
            ],
            [
             0.2222222222222222,
             "#7201a8"
            ],
            [
             0.3333333333333333,
             "#9c179e"
            ],
            [
             0.4444444444444444,
             "#bd3786"
            ],
            [
             0.5555555555555556,
             "#d8576b"
            ],
            [
             0.6666666666666666,
             "#ed7953"
            ],
            [
             0.7777777777777778,
             "#fb9f3a"
            ],
            [
             0.8888888888888888,
             "#fdca26"
            ],
            [
             1,
             "#f0f921"
            ]
           ]
          },
          "colorway": [
           "#636efa",
           "#EF553B",
           "#00cc96",
           "#ab63fa",
           "#FFA15A",
           "#19d3f3",
           "#FF6692",
           "#B6E880",
           "#FF97FF",
           "#FECB52"
          ],
          "font": {
           "color": "#2a3f5f"
          },
          "geo": {
           "bgcolor": "white",
           "lakecolor": "white",
           "landcolor": "#E5ECF6",
           "showlakes": true,
           "showland": true,
           "subunitcolor": "white"
          },
          "hoverlabel": {
           "align": "left"
          },
          "hovermode": "closest",
          "mapbox": {
           "style": "light"
          },
          "paper_bgcolor": "white",
          "plot_bgcolor": "#E5ECF6",
          "polar": {
           "angularaxis": {
            "gridcolor": "white",
            "linecolor": "white",
            "ticks": ""
           },
           "bgcolor": "#E5ECF6",
           "radialaxis": {
            "gridcolor": "white",
            "linecolor": "white",
            "ticks": ""
           }
          },
          "scene": {
           "xaxis": {
            "backgroundcolor": "#E5ECF6",
            "gridcolor": "white",
            "gridwidth": 2,
            "linecolor": "white",
            "showbackground": true,
            "ticks": "",
            "zerolinecolor": "white"
           },
           "yaxis": {
            "backgroundcolor": "#E5ECF6",
            "gridcolor": "white",
            "gridwidth": 2,
            "linecolor": "white",
            "showbackground": true,
            "ticks": "",
            "zerolinecolor": "white"
           },
           "zaxis": {
            "backgroundcolor": "#E5ECF6",
            "gridcolor": "white",
            "gridwidth": 2,
            "linecolor": "white",
            "showbackground": true,
            "ticks": "",
            "zerolinecolor": "white"
           }
          },
          "shapedefaults": {
           "line": {
            "color": "#2a3f5f"
           }
          },
          "ternary": {
           "aaxis": {
            "gridcolor": "white",
            "linecolor": "white",
            "ticks": ""
           },
           "baxis": {
            "gridcolor": "white",
            "linecolor": "white",
            "ticks": ""
           },
           "bgcolor": "#E5ECF6",
           "caxis": {
            "gridcolor": "white",
            "linecolor": "white",
            "ticks": ""
           }
          },
          "title": {
           "x": 0.05
          },
          "xaxis": {
           "automargin": true,
           "gridcolor": "white",
           "linecolor": "white",
           "ticks": "",
           "title": {
            "standoff": 15
           },
           "zerolinecolor": "white",
           "zerolinewidth": 2
          },
          "yaxis": {
           "automargin": true,
           "gridcolor": "white",
           "linecolor": "white",
           "ticks": "",
           "title": {
            "standoff": 15
           },
           "zerolinecolor": "white",
           "zerolinewidth": 2
          }
         }
        },
        "width": 1150,
        "xaxis": {
         "dtick": 1,
         "gridcolor": "rgb(0, 0, 0)",
         "side": "top",
         "ticks": ""
        },
        "yaxis": {
         "dtick": 1,
         "ticks": "",
         "ticksuffix": "  "
        }
       }
      }
     },
     "metadata": {},
     "output_type": "display_data"
    }
   ],
   "source": [
    "import plotly.figure_factory as ff\n",
    "\n",
    "columns_to_include = [\n",
    "    'Iron Man', 'The Incredible Hulk', 'Iron Man 2', 'Thor', 'Captain America: The First Avenger', 'The Avengers', 'Iron Man 3', \n",
    "    'Thor: The Dark World', 'Captain America: The Winter Soldier', 'Guardians of Galaxy', 'Avengers: Age of Ultron', 'Ant-Man', \n",
    "    'Captain America: Civil War', 'Doctor Strange', 'Guardians of Galaxy 2', 'Spider-Man: Homecoming', 'Thor: Ragnarok', 'Black Panther', \n",
    "    'Avengers: Infinity War', 'Ant-Man and the Wasp', 'Captain Marvel', 'Avengers: Endgame', 'Spider-Man: Far From Home', 'Black Widow', \n",
    "    'Shang-Chi and the Legend of the Ten Rings', 'Eternals', 'Spider-Man: No Way Home', 'Age', 'MonthsClient', 'MarvelFilmsPerc'\n",
    "]\n",
    "\n",
    "\n",
    "data_for_correlation = df[columns_to_include] # Filtrar el dataframe \n",
    "corr = data_for_correlation.corr() # Calcular la matriz de correlación\n",
    "labels = corr.columns.tolist() # Crea los labels para los ejes\n",
    "\n",
    "fig = ff.create_annotated_heatmap(\n",
    "    z=corr.to_numpy(),                  # Los valores de correlación\n",
    "    x=labels,                           # Etiquetas del eje X\n",
    "    y=labels,                           # Etiquetas del eje Y\n",
    "    annotation_text=corr.round(2).to_numpy(),  # Texto de anotación\n",
    "    showscale=True,                     # Barra de colores\n",
    "    colorscale='Portland',              # Escala de colores\n",
    ")\n",
    "\n",
    "# Actualizar el tamaño de la fuente de las anotaciones\n",
    "for annotation in fig['layout']['annotations']:\n",
    "    annotation['font'] = dict(size=8, color='white')\n",
    "\n",
    "fig.update_layout(\n",
    "    margin=dict(t=50, l=200),\n",
    "    width=1150,  \n",
    "    height=800,\n",
    ")\n",
    "\n",
    "\n",
    "fig.show()"
   ]
  },
  {
   "cell_type": "markdown",
   "metadata": {},
   "source": [
    "<div style=\"background-color: AliceBlue; padding: 10px;\">\n",
    "\n",
    "La matriz de correlación nos indica cómo se relacionan entre sí las diferentes calificaciones de películas de Marvel, además de cómo otras variables numéricas interaccionan con estas calificaciones.\n",
    "\n",
    "Las películas que forman parte de series o que tienen tramas interconectadas muestran altas correlaciones entre sí. Por ejemplo, las películas individuales de \"Iron Man\" tienen correlaciones relativamente altas entre sí, lo mismo ocurre con películas dentro del arco de \"Avengers\" como \"Avengers: Infinity War\" y \"Avengers: Endgame\". Esta correlación probablemente refleja que los mismos espectadores que disfrutan de una película en una serie tienden a disfrutar de las otras, lo que puede deberse a su gusto por los personajes específicos, la trama continua o el estilo de la película. \n",
    "\n",
    "**MarvelFilmsPerc** : La correlación es generalmente baja (la mayoría de los valores son cercanos a cero), pero alcanza un máximo de 0.14 con \"Spider-Man: Far From Home\". Esto indica una ligera tendencia de que las personas que han visto más películas de Marvel tienden a dar calificaciones más altas a esta película específica.\n",
    "\n",
    "**MonthsClient (Meses como Cliente de Disney Plus)**: Las correlaciones son muy bajas, con la más alta siendo 0.14 con \"Spider-Man: No Way Home\". Esto sugiere que la duración de la membresía tiene un impacto mínimo en cómo las películas individuales son calificadas. También existe una correlación de 0.14 entre los años y los meses como cliente.\n",
    "\n",
    "**Age (Edad del Usuario)**: Correlaciones muy bajas en todas las películas, con valores mayoritariamente cercanos a cero. La correlación más alta es 0.04, lo cual es estadísticamente insignificante. La edad no parece ser un factor determinante en cómo se califican las películas de Marvel.\n"
   ]
  },
  {
   "cell_type": "markdown",
   "metadata": {},
   "source": [
    "h) ¿Crees que al dataset le hace falta algún otro tipo de preprocesamiento, tratamiento de datos o alguna modificación? Si es así, cuenta con tus palabras lo que harías. "
   ]
  },
  {
   "cell_type": "markdown",
   "metadata": {},
   "source": [
    "<div style=\"background-color: AliceBlue; padding: 10px;\">\n",
    "\n",
    "Dado que algunas películas tienen valores faltantes (indicados con -1), es importante decidir cómo manejar estos casos para no distorsionar los análisis y modelos predictivos. \n",
    "\n",
    "Las variables como Gender, Married, MarvelFavoriteCharacter, y Occupation son categóricas y deben ser transformadas para poder incluirlas en cualquier modelo de machine learning.\n",
    "\n",
    "Las variables numéricas como Age y MonthsClient pueden tener diferentes escalas. Normalizar o estandarizar estas variables puede ayudar en técnicas de modelado que son sensibles a la escala de las variables de entrada.\n",
    "\n",
    "Creación de variables:\n",
    "\n",
    "Por ejemplo, se podría crear variables que representen interacciones entre el Age y las categorías de MarvelFavoriteCharacter, diferentes edades podrían preferir diferentes personajes.\n",
    "\n",
    "Variables Temporales: con JoinDate se podría derivar variables como 'año de inscripción' o 'mes de inscripción' que podrían revelar tendencias temporales en la adquisición de usuarios o en sus preferencias de calificación.\n"
   ]
  },
  {
   "cell_type": "markdown",
   "metadata": {},
   "source": [
    "### Activity 2: Association rule algorithms\n",
    "\n",
    "La primera implementación que haremos se basará en el algoritmo Apriori. \n",
    "\n",
    "\n",
    "a) Explica con tus palabras qué es el algoritmo apriori y desarrolla el pseudocódigo del algoritmo.\n",
    "\n",
    "<div style=\"background-color: AliceBlue; padding: 10px;\">\n",
    "\n",
    "El algoritmo Apriori es una técnica clásica en minería de datos para encontrar conjuntos de ítems frecuentes y, posteriormente, reglas de asociación dentro de grandes bases de datos de transacciones. Un conjunto de ítems se considera \"frecuente\" si aparece juntos en un número suficiente de transacciones, superando un umbral mínimo llamado soporte. Basado en estos conjuntos frecuentes, el algoritmo Apriori puede también derivar reglas de asociación que predicen la presencia de un ítem basándose en la presencia de otros ítems en la transacción. [1] [2] [3]\n",
    "\n",
    "```sh\n",
    "Apriori(transacciones, soporte_minimo)\n",
    "    C1 = generarConjuntosCandidatosDeUnItem(transacciones)\n",
    "    D = lista de transacciones\n",
    "    L1 = aplicarSoporte(C1, D, soporte_minimo)\n",
    "    L = [L1]\n",
    "    k = 2\n",
    "    mientras L[k-2] no esté vacío:\n",
    "        Ck = generarCandidatosAPartirDeLk-1(L[k-2])\n",
    "        contadores = {c: 0 para c en Ck}\n",
    "        para cada transacción t en D:\n",
    "            Ct = {c en Ck : c está contenido en t}\n",
    "            para cada candidato c en Ct:\n",
    "                contadores[c] = contadores[c] + 1\n",
    "        Lk = {c en Ck : contadores[c] >= soporte_minimo}\n",
    "        L.append(Lk)\n",
    "        k = k + 1\n",
    "    reglas = generarReglasDeAsociación(L)\n",
    "    devolver reglas\n",
    "```"
   ]
  },
  {
   "cell_type": "markdown",
   "metadata": {},
   "source": [
    "El algoritmo utiliza una técnica de \"poda\" que reduce el espacio de búsqueda utilizando la propiedad de que todos los subconjuntos de un conjunto de ítems frecuentes también deben ser frecuentes (principio Apriori). Esto es, si un conjunto de ítems no es frecuente, entonces todos sus conjuntos \"superiores\" (es decir, aquellos que contienen más ítems) tampoco serán frecuentes, evitando así cálculos innecesarios.\n",
    "\n",
    "Crea una nueva variable llamada data_apriori y copia el dataset. En esta actividad trabajaremos con esta nueva variable.\n"
   ]
  },
  {
   "cell_type": "code",
   "execution_count": 14,
   "metadata": {},
   "outputs": [
    {
     "data": {
      "text/html": [
       "<div>\n",
       "<style scoped>\n",
       "    .dataframe tbody tr th:only-of-type {\n",
       "        vertical-align: middle;\n",
       "    }\n",
       "\n",
       "    .dataframe tbody tr th {\n",
       "        vertical-align: top;\n",
       "    }\n",
       "\n",
       "    .dataframe thead th {\n",
       "        text-align: right;\n",
       "    }\n",
       "</style>\n",
       "<table border=\"1\" class=\"dataframe\">\n",
       "  <thead>\n",
       "    <tr style=\"text-align: right;\">\n",
       "      <th></th>\n",
       "      <th>ClientID</th>\n",
       "      <th>JoinDate</th>\n",
       "      <th>Gender</th>\n",
       "      <th>Married</th>\n",
       "      <th>Birth</th>\n",
       "      <th>MarvelFavoriteCharacter</th>\n",
       "      <th>Occupation</th>\n",
       "      <th>Iron Man</th>\n",
       "      <th>The Incredible Hulk</th>\n",
       "      <th>Iron Man 2</th>\n",
       "      <th>...</th>\n",
       "      <th>Captain Marvel</th>\n",
       "      <th>Avengers: Endgame</th>\n",
       "      <th>Spider-Man: Far From Home</th>\n",
       "      <th>Black Widow</th>\n",
       "      <th>Shang-Chi and the Legend of the Ten Rings</th>\n",
       "      <th>Eternals</th>\n",
       "      <th>Spider-Man: No Way Home</th>\n",
       "      <th>Age</th>\n",
       "      <th>MonthsClient</th>\n",
       "      <th>MarvelFilmsPerc</th>\n",
       "    </tr>\n",
       "  </thead>\n",
       "  <tbody>\n",
       "    <tr>\n",
       "      <th>0</th>\n",
       "      <td>4WKQSBB</td>\n",
       "      <td>2019-02-01</td>\n",
       "      <td>F</td>\n",
       "      <td>M</td>\n",
       "      <td>1987</td>\n",
       "      <td>MJ</td>\n",
       "      <td>politicians</td>\n",
       "      <td>4.0</td>\n",
       "      <td>2.0</td>\n",
       "      <td>10.0</td>\n",
       "      <td>...</td>\n",
       "      <td>9.0</td>\n",
       "      <td>&lt;NA&gt;</td>\n",
       "      <td>10.0</td>\n",
       "      <td>8.0</td>\n",
       "      <td>10.0</td>\n",
       "      <td>1.0</td>\n",
       "      <td>10.0</td>\n",
       "      <td>37</td>\n",
       "      <td>62</td>\n",
       "      <td>0.888889</td>\n",
       "    </tr>\n",
       "    <tr>\n",
       "      <th>1</th>\n",
       "      <td>CP5S02H</td>\n",
       "      <td>2019-06-01</td>\n",
       "      <td>F</td>\n",
       "      <td>M</td>\n",
       "      <td>1981</td>\n",
       "      <td>Spider-Man</td>\n",
       "      <td>politicians</td>\n",
       "      <td>&lt;NA&gt;</td>\n",
       "      <td>9.0</td>\n",
       "      <td>0.0</td>\n",
       "      <td>...</td>\n",
       "      <td>9.0</td>\n",
       "      <td>9.0</td>\n",
       "      <td>10.0</td>\n",
       "      <td>9.0</td>\n",
       "      <td>10.0</td>\n",
       "      <td>1.0</td>\n",
       "      <td>10.0</td>\n",
       "      <td>43</td>\n",
       "      <td>58</td>\n",
       "      <td>0.814815</td>\n",
       "    </tr>\n",
       "    <tr>\n",
       "      <th>2</th>\n",
       "      <td>2YKDILJ</td>\n",
       "      <td>2013-06-01</td>\n",
       "      <td>M</td>\n",
       "      <td>U</td>\n",
       "      <td>1991</td>\n",
       "      <td>Iron Man</td>\n",
       "      <td>hotel/restaurant</td>\n",
       "      <td>10.0</td>\n",
       "      <td>&lt;NA&gt;</td>\n",
       "      <td>10.0</td>\n",
       "      <td>...</td>\n",
       "      <td>4.0</td>\n",
       "      <td>8.0</td>\n",
       "      <td>6.0</td>\n",
       "      <td>&lt;NA&gt;</td>\n",
       "      <td>4.0</td>\n",
       "      <td>&lt;NA&gt;</td>\n",
       "      <td>2.0</td>\n",
       "      <td>33</td>\n",
       "      <td>130</td>\n",
       "      <td>0.666667</td>\n",
       "    </tr>\n",
       "    <tr>\n",
       "      <th>3</th>\n",
       "      <td>2S9E81J</td>\n",
       "      <td>2019-08-01</td>\n",
       "      <td>M</td>\n",
       "      <td>M</td>\n",
       "      <td>1990</td>\n",
       "      <td>MJ</td>\n",
       "      <td>shopkeepers</td>\n",
       "      <td>10.0</td>\n",
       "      <td>5.0</td>\n",
       "      <td>7.0</td>\n",
       "      <td>...</td>\n",
       "      <td>&lt;NA&gt;</td>\n",
       "      <td>9.0</td>\n",
       "      <td>10.0</td>\n",
       "      <td>&lt;NA&gt;</td>\n",
       "      <td>9.0</td>\n",
       "      <td>&lt;NA&gt;</td>\n",
       "      <td>10.0</td>\n",
       "      <td>34</td>\n",
       "      <td>56</td>\n",
       "      <td>0.740741</td>\n",
       "    </tr>\n",
       "    <tr>\n",
       "      <th>4</th>\n",
       "      <td>BHDYVFT</td>\n",
       "      <td>2019-08-01</td>\n",
       "      <td>M</td>\n",
       "      <td>M</td>\n",
       "      <td>1990</td>\n",
       "      <td>Iron Man</td>\n",
       "      <td>politicians</td>\n",
       "      <td>10.0</td>\n",
       "      <td>2.0</td>\n",
       "      <td>10.0</td>\n",
       "      <td>...</td>\n",
       "      <td>8.0</td>\n",
       "      <td>2.0</td>\n",
       "      <td>2.0</td>\n",
       "      <td>4.0</td>\n",
       "      <td>1.0</td>\n",
       "      <td>9.0</td>\n",
       "      <td>7.0</td>\n",
       "      <td>34</td>\n",
       "      <td>56</td>\n",
       "      <td>0.851852</td>\n",
       "    </tr>\n",
       "  </tbody>\n",
       "</table>\n",
       "<p>5 rows × 37 columns</p>\n",
       "</div>"
      ],
      "text/plain": [
       "  ClientID   JoinDate Gender Married  Birth MarvelFavoriteCharacter  \\\n",
       "0  4WKQSBB 2019-02-01      F       M   1987                      MJ   \n",
       "1  CP5S02H 2019-06-01      F       M   1981              Spider-Man   \n",
       "2  2YKDILJ 2013-06-01      M       U   1991                Iron Man   \n",
       "3  2S9E81J 2019-08-01      M       M   1990                      MJ   \n",
       "4  BHDYVFT 2019-08-01      M       M   1990                Iron Man   \n",
       "\n",
       "         Occupation  Iron Man  The Incredible Hulk  Iron Man 2  ...  \\\n",
       "0       politicians       4.0                  2.0        10.0  ...   \n",
       "1       politicians      <NA>                  9.0         0.0  ...   \n",
       "2  hotel/restaurant      10.0                 <NA>        10.0  ...   \n",
       "3       shopkeepers      10.0                  5.0         7.0  ...   \n",
       "4       politicians      10.0                  2.0        10.0  ...   \n",
       "\n",
       "   Captain Marvel  Avengers: Endgame  Spider-Man: Far From Home  Black Widow  \\\n",
       "0             9.0               <NA>                       10.0          8.0   \n",
       "1             9.0                9.0                       10.0          9.0   \n",
       "2             4.0                8.0                        6.0         <NA>   \n",
       "3            <NA>                9.0                       10.0         <NA>   \n",
       "4             8.0                2.0                        2.0          4.0   \n",
       "\n",
       "   Shang-Chi and the Legend of the Ten Rings  Eternals  \\\n",
       "0                                       10.0       1.0   \n",
       "1                                       10.0       1.0   \n",
       "2                                        4.0      <NA>   \n",
       "3                                        9.0      <NA>   \n",
       "4                                        1.0       9.0   \n",
       "\n",
       "   Spider-Man: No Way Home  Age  MonthsClient  MarvelFilmsPerc  \n",
       "0                     10.0   37            62         0.888889  \n",
       "1                     10.0   43            58         0.814815  \n",
       "2                      2.0   33           130         0.666667  \n",
       "3                     10.0   34            56         0.740741  \n",
       "4                      7.0   34            56         0.851852  \n",
       "\n",
       "[5 rows x 37 columns]"
      ]
     },
     "execution_count": 14,
     "metadata": {},
     "output_type": "execute_result"
    }
   ],
   "source": [
    "data_apriori = df.copy()\n",
    "data_apriori.head(5)"
   ]
  },
  {
   "cell_type": "markdown",
   "metadata": {},
   "source": [
    "b) \n",
    "\n",
    "* Elimina todas las columnas que no sean ninguna película del dataframe. \n",
    "* Sustituye por el valor 0 aquellas películas que los usuarios no hayan visto y por 1 aquellas que sí. \n",
    "* Implementa en el dataset resultante el algoritmo Apriori. \n",
    "\n",
    "Puedes utilizar la librería que quieras (sugerimos mlxtend o apyori) o incluso crear a mano el algoritmo. \n",
    "* Ten en cuenta que en función de la librería que utilices debes transformar los datos a una lista de listas o al dataframe se le deberían modificar las filas y columnas. \n",
    "\n",
    "Para la ejecución, recuerda que el algoritmo Apriori es pesado en términos de consumo y quizás debes reducir las muestras (puedes probar con 10k, 5k, o 1500…) y/o aumentando el soporte para reducir tiempo. \n",
    "* Revisa también los hiperparámetros del algoritmo y comenta los motivos por los cuales eliges dichos valores. \n",
    "* Calcula el tiempo que ha tardado el algoritmo y, finalmente, haz un print de las reglas de asociación resultantes. "
   ]
  },
  {
   "cell_type": "code",
   "execution_count": 15,
   "metadata": {},
   "outputs": [
    {
     "name": "stdout",
     "output_type": "stream",
     "text": [
      "(29128, 27)\n"
     ]
    },
    {
     "data": {
      "text/html": [
       "<div>\n",
       "<style scoped>\n",
       "    .dataframe tbody tr th:only-of-type {\n",
       "        vertical-align: middle;\n",
       "    }\n",
       "\n",
       "    .dataframe tbody tr th {\n",
       "        vertical-align: top;\n",
       "    }\n",
       "\n",
       "    .dataframe thead th {\n",
       "        text-align: right;\n",
       "    }\n",
       "</style>\n",
       "<table border=\"1\" class=\"dataframe\">\n",
       "  <thead>\n",
       "    <tr style=\"text-align: right;\">\n",
       "      <th></th>\n",
       "      <th>Iron Man</th>\n",
       "      <th>The Incredible Hulk</th>\n",
       "      <th>Iron Man 2</th>\n",
       "      <th>Thor</th>\n",
       "      <th>Captain America: The First Avenger</th>\n",
       "      <th>The Avengers</th>\n",
       "      <th>Iron Man 3</th>\n",
       "      <th>Thor: The Dark World</th>\n",
       "      <th>Captain America: The Winter Soldier</th>\n",
       "      <th>Guardians of Galaxy</th>\n",
       "      <th>...</th>\n",
       "      <th>Black Panther</th>\n",
       "      <th>Avengers: Infinity War</th>\n",
       "      <th>Ant-Man and the Wasp</th>\n",
       "      <th>Captain Marvel</th>\n",
       "      <th>Avengers: Endgame</th>\n",
       "      <th>Spider-Man: Far From Home</th>\n",
       "      <th>Black Widow</th>\n",
       "      <th>Shang-Chi and the Legend of the Ten Rings</th>\n",
       "      <th>Eternals</th>\n",
       "      <th>Spider-Man: No Way Home</th>\n",
       "    </tr>\n",
       "  </thead>\n",
       "  <tbody>\n",
       "    <tr>\n",
       "      <th>0</th>\n",
       "      <td>4.0</td>\n",
       "      <td>2.0</td>\n",
       "      <td>10.0</td>\n",
       "      <td>0.0</td>\n",
       "      <td>6.0</td>\n",
       "      <td>0.0</td>\n",
       "      <td>2.0</td>\n",
       "      <td>9.0</td>\n",
       "      <td>&lt;NA&gt;</td>\n",
       "      <td>6.0</td>\n",
       "      <td>...</td>\n",
       "      <td>4.0</td>\n",
       "      <td>8.0</td>\n",
       "      <td>9.0</td>\n",
       "      <td>9.0</td>\n",
       "      <td>&lt;NA&gt;</td>\n",
       "      <td>10.0</td>\n",
       "      <td>8.0</td>\n",
       "      <td>10.0</td>\n",
       "      <td>1.0</td>\n",
       "      <td>10.0</td>\n",
       "    </tr>\n",
       "    <tr>\n",
       "      <th>1</th>\n",
       "      <td>&lt;NA&gt;</td>\n",
       "      <td>9.0</td>\n",
       "      <td>0.0</td>\n",
       "      <td>10.0</td>\n",
       "      <td>&lt;NA&gt;</td>\n",
       "      <td>&lt;NA&gt;</td>\n",
       "      <td>1.0</td>\n",
       "      <td>10.0</td>\n",
       "      <td>10.0</td>\n",
       "      <td>2.0</td>\n",
       "      <td>...</td>\n",
       "      <td>9.0</td>\n",
       "      <td>4.0</td>\n",
       "      <td>&lt;NA&gt;</td>\n",
       "      <td>9.0</td>\n",
       "      <td>9.0</td>\n",
       "      <td>10.0</td>\n",
       "      <td>9.0</td>\n",
       "      <td>10.0</td>\n",
       "      <td>1.0</td>\n",
       "      <td>10.0</td>\n",
       "    </tr>\n",
       "    <tr>\n",
       "      <th>2</th>\n",
       "      <td>10.0</td>\n",
       "      <td>&lt;NA&gt;</td>\n",
       "      <td>10.0</td>\n",
       "      <td>&lt;NA&gt;</td>\n",
       "      <td>&lt;NA&gt;</td>\n",
       "      <td>4.0</td>\n",
       "      <td>10.0</td>\n",
       "      <td>&lt;NA&gt;</td>\n",
       "      <td>&lt;NA&gt;</td>\n",
       "      <td>4.0</td>\n",
       "      <td>...</td>\n",
       "      <td>9.0</td>\n",
       "      <td>2.0</td>\n",
       "      <td>7.0</td>\n",
       "      <td>4.0</td>\n",
       "      <td>8.0</td>\n",
       "      <td>6.0</td>\n",
       "      <td>&lt;NA&gt;</td>\n",
       "      <td>4.0</td>\n",
       "      <td>&lt;NA&gt;</td>\n",
       "      <td>2.0</td>\n",
       "    </tr>\n",
       "    <tr>\n",
       "      <th>3</th>\n",
       "      <td>10.0</td>\n",
       "      <td>5.0</td>\n",
       "      <td>7.0</td>\n",
       "      <td>&lt;NA&gt;</td>\n",
       "      <td>&lt;NA&gt;</td>\n",
       "      <td>0.0</td>\n",
       "      <td>&lt;NA&gt;</td>\n",
       "      <td>9.0</td>\n",
       "      <td>10.0</td>\n",
       "      <td>6.0</td>\n",
       "      <td>...</td>\n",
       "      <td>0.0</td>\n",
       "      <td>9.0</td>\n",
       "      <td>4.0</td>\n",
       "      <td>&lt;NA&gt;</td>\n",
       "      <td>9.0</td>\n",
       "      <td>10.0</td>\n",
       "      <td>&lt;NA&gt;</td>\n",
       "      <td>9.0</td>\n",
       "      <td>&lt;NA&gt;</td>\n",
       "      <td>10.0</td>\n",
       "    </tr>\n",
       "    <tr>\n",
       "      <th>4</th>\n",
       "      <td>10.0</td>\n",
       "      <td>2.0</td>\n",
       "      <td>10.0</td>\n",
       "      <td>2.0</td>\n",
       "      <td>4.0</td>\n",
       "      <td>1.0</td>\n",
       "      <td>10.0</td>\n",
       "      <td>0.0</td>\n",
       "      <td>1.0</td>\n",
       "      <td>2.0</td>\n",
       "      <td>...</td>\n",
       "      <td>&lt;NA&gt;</td>\n",
       "      <td>8.0</td>\n",
       "      <td>&lt;NA&gt;</td>\n",
       "      <td>8.0</td>\n",
       "      <td>2.0</td>\n",
       "      <td>2.0</td>\n",
       "      <td>4.0</td>\n",
       "      <td>1.0</td>\n",
       "      <td>9.0</td>\n",
       "      <td>7.0</td>\n",
       "    </tr>\n",
       "  </tbody>\n",
       "</table>\n",
       "<p>5 rows × 27 columns</p>\n",
       "</div>"
      ],
      "text/plain": [
       "   Iron Man  The Incredible Hulk  Iron Man 2  Thor  \\\n",
       "0       4.0                  2.0        10.0   0.0   \n",
       "1      <NA>                  9.0         0.0  10.0   \n",
       "2      10.0                 <NA>        10.0  <NA>   \n",
       "3      10.0                  5.0         7.0  <NA>   \n",
       "4      10.0                  2.0        10.0   2.0   \n",
       "\n",
       "   Captain America: The First Avenger  The Avengers  Iron Man 3  \\\n",
       "0                                 6.0           0.0         2.0   \n",
       "1                                <NA>          <NA>         1.0   \n",
       "2                                <NA>           4.0        10.0   \n",
       "3                                <NA>           0.0        <NA>   \n",
       "4                                 4.0           1.0        10.0   \n",
       "\n",
       "   Thor: The Dark World  Captain America: The Winter Soldier  \\\n",
       "0                   9.0                                 <NA>   \n",
       "1                  10.0                                 10.0   \n",
       "2                  <NA>                                 <NA>   \n",
       "3                   9.0                                 10.0   \n",
       "4                   0.0                                  1.0   \n",
       "\n",
       "   Guardians of Galaxy  ...  Black Panther  Avengers: Infinity War  \\\n",
       "0                  6.0  ...            4.0                     8.0   \n",
       "1                  2.0  ...            9.0                     4.0   \n",
       "2                  4.0  ...            9.0                     2.0   \n",
       "3                  6.0  ...            0.0                     9.0   \n",
       "4                  2.0  ...           <NA>                     8.0   \n",
       "\n",
       "   Ant-Man and the Wasp  Captain Marvel  Avengers: Endgame  \\\n",
       "0                   9.0             9.0               <NA>   \n",
       "1                  <NA>             9.0                9.0   \n",
       "2                   7.0             4.0                8.0   \n",
       "3                   4.0            <NA>                9.0   \n",
       "4                  <NA>             8.0                2.0   \n",
       "\n",
       "   Spider-Man: Far From Home  Black Widow  \\\n",
       "0                       10.0          8.0   \n",
       "1                       10.0          9.0   \n",
       "2                        6.0         <NA>   \n",
       "3                       10.0         <NA>   \n",
       "4                        2.0          4.0   \n",
       "\n",
       "   Shang-Chi and the Legend of the Ten Rings  Eternals  \\\n",
       "0                                       10.0       1.0   \n",
       "1                                       10.0       1.0   \n",
       "2                                        4.0      <NA>   \n",
       "3                                        9.0      <NA>   \n",
       "4                                        1.0       9.0   \n",
       "\n",
       "   Spider-Man: No Way Home  \n",
       "0                     10.0  \n",
       "1                     10.0  \n",
       "2                      2.0  \n",
       "3                     10.0  \n",
       "4                      7.0  \n",
       "\n",
       "[5 rows x 27 columns]"
      ]
     },
     "execution_count": 15,
     "metadata": {},
     "output_type": "execute_result"
    }
   ],
   "source": [
    "# Eliminamos las columnas que no corresponden a películas\n",
    "movies_columns = [\n",
    "    'Iron Man', 'The Incredible Hulk', 'Iron Man 2', 'Thor',\n",
    "    'Captain America: The First Avenger', 'The Avengers', 'Iron Man 3',\n",
    "    'Thor: The Dark World', 'Captain America: The Winter Soldier', \n",
    "    'Guardians of Galaxy', 'Avengers: Age of Ultron', 'Ant-Man',\n",
    "    'Captain America: Civil War', 'Doctor Strange', 'Guardians of Galaxy 2',\n",
    "    'Spider-Man: Homecoming', 'Thor: Ragnarok', 'Black Panther',\n",
    "    'Avengers: Infinity War', 'Ant-Man and the Wasp', 'Captain Marvel',\n",
    "    'Avengers: Endgame', 'Spider-Man: Far From Home', 'Black Widow',\n",
    "    'Shang-Chi and the Legend of the Ten Rings', 'Eternals', 'Spider-Man: No Way Home'\n",
    "]\n",
    "\n",
    "# Filtramos el DataFrame para mantener solo las columnas de películas\n",
    "data_apriori = data_apriori[movies_columns]\n",
    "print(data_apriori.shape)\n",
    "data_apriori.head(5)"
   ]
  },
  {
   "cell_type": "code",
   "execution_count": 16,
   "metadata": {},
   "outputs": [
    {
     "name": "stdout",
     "output_type": "stream",
     "text": [
      "(29128, 27)\n"
     ]
    },
    {
     "data": {
      "text/html": [
       "<div>\n",
       "<style scoped>\n",
       "    .dataframe tbody tr th:only-of-type {\n",
       "        vertical-align: middle;\n",
       "    }\n",
       "\n",
       "    .dataframe tbody tr th {\n",
       "        vertical-align: top;\n",
       "    }\n",
       "\n",
       "    .dataframe thead th {\n",
       "        text-align: right;\n",
       "    }\n",
       "</style>\n",
       "<table border=\"1\" class=\"dataframe\">\n",
       "  <thead>\n",
       "    <tr style=\"text-align: right;\">\n",
       "      <th></th>\n",
       "      <th>Iron Man</th>\n",
       "      <th>The Incredible Hulk</th>\n",
       "      <th>Iron Man 2</th>\n",
       "      <th>Thor</th>\n",
       "      <th>Captain America: The First Avenger</th>\n",
       "      <th>The Avengers</th>\n",
       "      <th>Iron Man 3</th>\n",
       "      <th>Thor: The Dark World</th>\n",
       "      <th>Captain America: The Winter Soldier</th>\n",
       "      <th>Guardians of Galaxy</th>\n",
       "      <th>...</th>\n",
       "      <th>Black Panther</th>\n",
       "      <th>Avengers: Infinity War</th>\n",
       "      <th>Ant-Man and the Wasp</th>\n",
       "      <th>Captain Marvel</th>\n",
       "      <th>Avengers: Endgame</th>\n",
       "      <th>Spider-Man: Far From Home</th>\n",
       "      <th>Black Widow</th>\n",
       "      <th>Shang-Chi and the Legend of the Ten Rings</th>\n",
       "      <th>Eternals</th>\n",
       "      <th>Spider-Man: No Way Home</th>\n",
       "    </tr>\n",
       "  </thead>\n",
       "  <tbody>\n",
       "    <tr>\n",
       "      <th>0</th>\n",
       "      <td>True</td>\n",
       "      <td>True</td>\n",
       "      <td>True</td>\n",
       "      <td>True</td>\n",
       "      <td>True</td>\n",
       "      <td>True</td>\n",
       "      <td>True</td>\n",
       "      <td>True</td>\n",
       "      <td>False</td>\n",
       "      <td>True</td>\n",
       "      <td>...</td>\n",
       "      <td>True</td>\n",
       "      <td>True</td>\n",
       "      <td>True</td>\n",
       "      <td>True</td>\n",
       "      <td>False</td>\n",
       "      <td>True</td>\n",
       "      <td>True</td>\n",
       "      <td>True</td>\n",
       "      <td>True</td>\n",
       "      <td>True</td>\n",
       "    </tr>\n",
       "    <tr>\n",
       "      <th>1</th>\n",
       "      <td>False</td>\n",
       "      <td>True</td>\n",
       "      <td>True</td>\n",
       "      <td>True</td>\n",
       "      <td>False</td>\n",
       "      <td>False</td>\n",
       "      <td>True</td>\n",
       "      <td>True</td>\n",
       "      <td>True</td>\n",
       "      <td>True</td>\n",
       "      <td>...</td>\n",
       "      <td>True</td>\n",
       "      <td>True</td>\n",
       "      <td>False</td>\n",
       "      <td>True</td>\n",
       "      <td>True</td>\n",
       "      <td>True</td>\n",
       "      <td>True</td>\n",
       "      <td>True</td>\n",
       "      <td>True</td>\n",
       "      <td>True</td>\n",
       "    </tr>\n",
       "    <tr>\n",
       "      <th>2</th>\n",
       "      <td>True</td>\n",
       "      <td>False</td>\n",
       "      <td>True</td>\n",
       "      <td>False</td>\n",
       "      <td>False</td>\n",
       "      <td>True</td>\n",
       "      <td>True</td>\n",
       "      <td>False</td>\n",
       "      <td>False</td>\n",
       "      <td>True</td>\n",
       "      <td>...</td>\n",
       "      <td>True</td>\n",
       "      <td>True</td>\n",
       "      <td>True</td>\n",
       "      <td>True</td>\n",
       "      <td>True</td>\n",
       "      <td>True</td>\n",
       "      <td>False</td>\n",
       "      <td>True</td>\n",
       "      <td>False</td>\n",
       "      <td>True</td>\n",
       "    </tr>\n",
       "    <tr>\n",
       "      <th>3</th>\n",
       "      <td>True</td>\n",
       "      <td>True</td>\n",
       "      <td>True</td>\n",
       "      <td>False</td>\n",
       "      <td>False</td>\n",
       "      <td>True</td>\n",
       "      <td>False</td>\n",
       "      <td>True</td>\n",
       "      <td>True</td>\n",
       "      <td>True</td>\n",
       "      <td>...</td>\n",
       "      <td>True</td>\n",
       "      <td>True</td>\n",
       "      <td>True</td>\n",
       "      <td>False</td>\n",
       "      <td>True</td>\n",
       "      <td>True</td>\n",
       "      <td>False</td>\n",
       "      <td>True</td>\n",
       "      <td>False</td>\n",
       "      <td>True</td>\n",
       "    </tr>\n",
       "    <tr>\n",
       "      <th>4</th>\n",
       "      <td>True</td>\n",
       "      <td>True</td>\n",
       "      <td>True</td>\n",
       "      <td>True</td>\n",
       "      <td>True</td>\n",
       "      <td>True</td>\n",
       "      <td>True</td>\n",
       "      <td>True</td>\n",
       "      <td>True</td>\n",
       "      <td>True</td>\n",
       "      <td>...</td>\n",
       "      <td>False</td>\n",
       "      <td>True</td>\n",
       "      <td>False</td>\n",
       "      <td>True</td>\n",
       "      <td>True</td>\n",
       "      <td>True</td>\n",
       "      <td>True</td>\n",
       "      <td>True</td>\n",
       "      <td>True</td>\n",
       "      <td>True</td>\n",
       "    </tr>\n",
       "  </tbody>\n",
       "</table>\n",
       "<p>5 rows × 27 columns</p>\n",
       "</div>"
      ],
      "text/plain": [
       "   Iron Man  The Incredible Hulk  Iron Man 2   Thor  \\\n",
       "0      True                 True        True   True   \n",
       "1     False                 True        True   True   \n",
       "2      True                False        True  False   \n",
       "3      True                 True        True  False   \n",
       "4      True                 True        True   True   \n",
       "\n",
       "   Captain America: The First Avenger  The Avengers  Iron Man 3  \\\n",
       "0                                True          True        True   \n",
       "1                               False         False        True   \n",
       "2                               False          True        True   \n",
       "3                               False          True       False   \n",
       "4                                True          True        True   \n",
       "\n",
       "   Thor: The Dark World  Captain America: The Winter Soldier  \\\n",
       "0                  True                                False   \n",
       "1                  True                                 True   \n",
       "2                 False                                False   \n",
       "3                  True                                 True   \n",
       "4                  True                                 True   \n",
       "\n",
       "   Guardians of Galaxy  ...  Black Panther  Avengers: Infinity War  \\\n",
       "0                 True  ...           True                    True   \n",
       "1                 True  ...           True                    True   \n",
       "2                 True  ...           True                    True   \n",
       "3                 True  ...           True                    True   \n",
       "4                 True  ...          False                    True   \n",
       "\n",
       "   Ant-Man and the Wasp  Captain Marvel  Avengers: Endgame  \\\n",
       "0                  True            True              False   \n",
       "1                 False            True               True   \n",
       "2                  True            True               True   \n",
       "3                  True           False               True   \n",
       "4                 False            True               True   \n",
       "\n",
       "   Spider-Man: Far From Home  Black Widow  \\\n",
       "0                       True         True   \n",
       "1                       True         True   \n",
       "2                       True        False   \n",
       "3                       True        False   \n",
       "4                       True         True   \n",
       "\n",
       "   Shang-Chi and the Legend of the Ten Rings  Eternals  \\\n",
       "0                                       True      True   \n",
       "1                                       True      True   \n",
       "2                                       True     False   \n",
       "3                                       True     False   \n",
       "4                                       True      True   \n",
       "\n",
       "   Spider-Man: No Way Home  \n",
       "0                     True  \n",
       "1                     True  \n",
       "2                     True  \n",
       "3                     True  \n",
       "4                     True  \n",
       "\n",
       "[5 rows x 27 columns]"
      ]
     },
     "execution_count": 16,
     "metadata": {},
     "output_type": "execute_result"
    }
   ],
   "source": [
    "# Reemplazar NaN por False y cualquier otro valor por True\n",
    "data_apriori_bool = data_apriori.notna()\n",
    "print(data_apriori_bool.shape)\n",
    "data_apriori_bool.head(5)"
   ]
  },
  {
   "cell_type": "markdown",
   "metadata": {},
   "source": [
    "<div style=\"background-color: AliceBlue; padding: 10px;\">\n",
    "\n",
    "Los posibles valores de cada celda son: \n",
    "* True : la película se ha visto.\n",
    "* False : la película no se ha visto."
   ]
  },
  {
   "cell_type": "code",
   "execution_count": 17,
   "metadata": {},
   "outputs": [
    {
     "name": "stdout",
     "output_type": "stream",
     "text": [
      "data_apriori_bool.shape : (29128, 27)\n",
      "Execution Time for sample eclat_instance : 0.5023818016052246 seconds\n",
      "\n"
     ]
    }
   ],
   "source": [
    "from mlxtend.frequent_patterns import apriori\n",
    "import time\n",
    "\n",
    "start_time = time.time()\n",
    "\n",
    "# Frequent itemsets via the Apriori algorithm\n",
    "frequent_itemsets = apriori(data_apriori_bool, min_support=0.5, use_colnames=True)\n",
    "\n",
    "end_time = time.time()\n",
    "execution_time = end_time - start_time\n",
    "print(\"data_apriori_bool.shape :\", data_apriori_bool.shape)\n",
    "print(f\"Execution Time for sample eclat_instance : {execution_time} seconds\\n\")"
   ]
  },
  {
   "cell_type": "code",
   "execution_count": 18,
   "metadata": {},
   "outputs": [
    {
     "data": {
      "text/html": [
       "<div>\n",
       "<style scoped>\n",
       "    .dataframe tbody tr th:only-of-type {\n",
       "        vertical-align: middle;\n",
       "    }\n",
       "\n",
       "    .dataframe tbody tr th {\n",
       "        vertical-align: top;\n",
       "    }\n",
       "\n",
       "    .dataframe thead th {\n",
       "        text-align: right;\n",
       "    }\n",
       "</style>\n",
       "<table border=\"1\" class=\"dataframe\">\n",
       "  <thead>\n",
       "    <tr style=\"text-align: right;\">\n",
       "      <th></th>\n",
       "      <th>antecedents</th>\n",
       "      <th>consequents</th>\n",
       "      <th>antecedent support</th>\n",
       "      <th>consequent support</th>\n",
       "      <th>support</th>\n",
       "      <th>confidence</th>\n",
       "      <th>lift</th>\n",
       "      <th>leverage</th>\n",
       "      <th>conviction</th>\n",
       "      <th>zhangs_metric</th>\n",
       "      <th>antecedents_length</th>\n",
       "      <th>consequents_length</th>\n",
       "    </tr>\n",
       "  </thead>\n",
       "  <tbody>\n",
       "    <tr>\n",
       "      <th>469</th>\n",
       "      <td>(Iron Man 2, Iron Man 3)</td>\n",
       "      <td>(Iron Man)</td>\n",
       "      <td>0.638286</td>\n",
       "      <td>0.790065</td>\n",
       "      <td>0.540957</td>\n",
       "      <td>0.847515</td>\n",
       "      <td>1.072716</td>\n",
       "      <td>0.036670</td>\n",
       "      <td>1.376762</td>\n",
       "      <td>0.187405</td>\n",
       "      <td>2</td>\n",
       "      <td>1</td>\n",
       "    </tr>\n",
       "    <tr>\n",
       "      <th>472</th>\n",
       "      <td>(Iron Man)</td>\n",
       "      <td>(Iron Man 2, Iron Man 3)</td>\n",
       "      <td>0.790065</td>\n",
       "      <td>0.638286</td>\n",
       "      <td>0.540957</td>\n",
       "      <td>0.684700</td>\n",
       "      <td>1.072716</td>\n",
       "      <td>0.036670</td>\n",
       "      <td>1.147205</td>\n",
       "      <td>0.322895</td>\n",
       "      <td>1</td>\n",
       "      <td>2</td>\n",
       "    </tr>\n",
       "    <tr>\n",
       "      <th>468</th>\n",
       "      <td>(Iron Man 2, Iron Man)</td>\n",
       "      <td>(Iron Man 3)</td>\n",
       "      <td>0.644020</td>\n",
       "      <td>0.784572</td>\n",
       "      <td>0.540957</td>\n",
       "      <td>0.839970</td>\n",
       "      <td>1.070610</td>\n",
       "      <td>0.035678</td>\n",
       "      <td>1.346177</td>\n",
       "      <td>0.185272</td>\n",
       "      <td>2</td>\n",
       "      <td>1</td>\n",
       "    </tr>\n",
       "    <tr>\n",
       "      <th>473</th>\n",
       "      <td>(Iron Man 3)</td>\n",
       "      <td>(Iron Man 2, Iron Man)</td>\n",
       "      <td>0.784572</td>\n",
       "      <td>0.644020</td>\n",
       "      <td>0.540957</td>\n",
       "      <td>0.689494</td>\n",
       "      <td>1.070610</td>\n",
       "      <td>0.035678</td>\n",
       "      <td>1.146452</td>\n",
       "      <td>0.306148</td>\n",
       "      <td>1</td>\n",
       "      <td>2</td>\n",
       "    </tr>\n",
       "    <tr>\n",
       "      <th>471</th>\n",
       "      <td>(Iron Man 2)</td>\n",
       "      <td>(Iron Man, Iron Man 3)</td>\n",
       "      <td>0.787215</td>\n",
       "      <td>0.642028</td>\n",
       "      <td>0.540957</td>\n",
       "      <td>0.687178</td>\n",
       "      <td>1.070324</td>\n",
       "      <td>0.035543</td>\n",
       "      <td>1.144332</td>\n",
       "      <td>0.308779</td>\n",
       "      <td>1</td>\n",
       "      <td>2</td>\n",
       "    </tr>\n",
       "    <tr>\n",
       "      <th>...</th>\n",
       "      <td>...</td>\n",
       "      <td>...</td>\n",
       "      <td>...</td>\n",
       "      <td>...</td>\n",
       "      <td>...</td>\n",
       "      <td>...</td>\n",
       "      <td>...</td>\n",
       "      <td>...</td>\n",
       "      <td>...</td>\n",
       "      <td>...</td>\n",
       "      <td>...</td>\n",
       "      <td>...</td>\n",
       "    </tr>\n",
       "    <tr>\n",
       "      <th>219</th>\n",
       "      <td>(Iron Man 3)</td>\n",
       "      <td>(Spider-Man: Homecoming)</td>\n",
       "      <td>0.784572</td>\n",
       "      <td>0.736748</td>\n",
       "      <td>0.572199</td>\n",
       "      <td>0.729313</td>\n",
       "      <td>0.989909</td>\n",
       "      <td>-0.005833</td>\n",
       "      <td>0.972534</td>\n",
       "      <td>-0.045182</td>\n",
       "      <td>1</td>\n",
       "      <td>1</td>\n",
       "    </tr>\n",
       "    <tr>\n",
       "      <th>233</th>\n",
       "      <td>(Iron Man 3)</td>\n",
       "      <td>(Spider-Man: Far From Home)</td>\n",
       "      <td>0.784572</td>\n",
       "      <td>0.741589</td>\n",
       "      <td>0.574876</td>\n",
       "      <td>0.732727</td>\n",
       "      <td>0.988050</td>\n",
       "      <td>-0.006953</td>\n",
       "      <td>0.966842</td>\n",
       "      <td>-0.053159</td>\n",
       "      <td>1</td>\n",
       "      <td>1</td>\n",
       "    </tr>\n",
       "    <tr>\n",
       "      <th>232</th>\n",
       "      <td>(Spider-Man: Far From Home)</td>\n",
       "      <td>(Iron Man 3)</td>\n",
       "      <td>0.741589</td>\n",
       "      <td>0.784572</td>\n",
       "      <td>0.574876</td>\n",
       "      <td>0.775196</td>\n",
       "      <td>0.988050</td>\n",
       "      <td>-0.006953</td>\n",
       "      <td>0.958293</td>\n",
       "      <td>-0.044712</td>\n",
       "      <td>1</td>\n",
       "      <td>1</td>\n",
       "    </tr>\n",
       "    <tr>\n",
       "      <th>104</th>\n",
       "      <td>(Black Widow)</td>\n",
       "      <td>(Iron Man 2)</td>\n",
       "      <td>0.726277</td>\n",
       "      <td>0.787215</td>\n",
       "      <td>0.564714</td>\n",
       "      <td>0.777547</td>\n",
       "      <td>0.987718</td>\n",
       "      <td>-0.007022</td>\n",
       "      <td>0.956538</td>\n",
       "      <td>-0.043453</td>\n",
       "      <td>1</td>\n",
       "      <td>1</td>\n",
       "    </tr>\n",
       "    <tr>\n",
       "      <th>105</th>\n",
       "      <td>(Iron Man 2)</td>\n",
       "      <td>(Black Widow)</td>\n",
       "      <td>0.787215</td>\n",
       "      <td>0.726277</td>\n",
       "      <td>0.564714</td>\n",
       "      <td>0.717357</td>\n",
       "      <td>0.987718</td>\n",
       "      <td>-0.007022</td>\n",
       "      <td>0.968441</td>\n",
       "      <td>-0.055210</td>\n",
       "      <td>1</td>\n",
       "      <td>1</td>\n",
       "    </tr>\n",
       "  </tbody>\n",
       "</table>\n",
       "<p>474 rows × 12 columns</p>\n",
       "</div>"
      ],
      "text/plain": [
       "                     antecedents                  consequents  \\\n",
       "469     (Iron Man 2, Iron Man 3)                   (Iron Man)   \n",
       "472                   (Iron Man)     (Iron Man 2, Iron Man 3)   \n",
       "468       (Iron Man 2, Iron Man)                 (Iron Man 3)   \n",
       "473                 (Iron Man 3)       (Iron Man 2, Iron Man)   \n",
       "471                 (Iron Man 2)       (Iron Man, Iron Man 3)   \n",
       "..                           ...                          ...   \n",
       "219                 (Iron Man 3)     (Spider-Man: Homecoming)   \n",
       "233                 (Iron Man 3)  (Spider-Man: Far From Home)   \n",
       "232  (Spider-Man: Far From Home)                 (Iron Man 3)   \n",
       "104                (Black Widow)                 (Iron Man 2)   \n",
       "105                 (Iron Man 2)                (Black Widow)   \n",
       "\n",
       "     antecedent support  consequent support   support  confidence      lift  \\\n",
       "469            0.638286            0.790065  0.540957    0.847515  1.072716   \n",
       "472            0.790065            0.638286  0.540957    0.684700  1.072716   \n",
       "468            0.644020            0.784572  0.540957    0.839970  1.070610   \n",
       "473            0.784572            0.644020  0.540957    0.689494  1.070610   \n",
       "471            0.787215            0.642028  0.540957    0.687178  1.070324   \n",
       "..                  ...                 ...       ...         ...       ...   \n",
       "219            0.784572            0.736748  0.572199    0.729313  0.989909   \n",
       "233            0.784572            0.741589  0.574876    0.732727  0.988050   \n",
       "232            0.741589            0.784572  0.574876    0.775196  0.988050   \n",
       "104            0.726277            0.787215  0.564714    0.777547  0.987718   \n",
       "105            0.787215            0.726277  0.564714    0.717357  0.987718   \n",
       "\n",
       "     leverage  conviction  zhangs_metric  antecedents_length  \\\n",
       "469  0.036670    1.376762       0.187405                   2   \n",
       "472  0.036670    1.147205       0.322895                   1   \n",
       "468  0.035678    1.346177       0.185272                   2   \n",
       "473  0.035678    1.146452       0.306148                   1   \n",
       "471  0.035543    1.144332       0.308779                   1   \n",
       "..        ...         ...            ...                 ...   \n",
       "219 -0.005833    0.972534      -0.045182                   1   \n",
       "233 -0.006953    0.966842      -0.053159                   1   \n",
       "232 -0.006953    0.958293      -0.044712                   1   \n",
       "104 -0.007022    0.956538      -0.043453                   1   \n",
       "105 -0.007022    0.968441      -0.055210                   1   \n",
       "\n",
       "     consequents_length  \n",
       "469                   1  \n",
       "472                   2  \n",
       "468                   1  \n",
       "473                   2  \n",
       "471                   2  \n",
       "..                  ...  \n",
       "219                   1  \n",
       "233                   1  \n",
       "232                   1  \n",
       "104                   1  \n",
       "105                   1  \n",
       "\n",
       "[474 rows x 12 columns]"
      ]
     },
     "execution_count": 18,
     "metadata": {},
     "output_type": "execute_result"
    }
   ],
   "source": [
    "from mlxtend.frequent_patterns import association_rules\n",
    "\n",
    "#  We set our metric as \"Lift\" to define whether antecedents & consequents are dependent our not\n",
    "rules = association_rules(frequent_itemsets, metric=\"lift\", min_threshold=0.6)\n",
    "rules[\"antecedents_length\"] = rules[\"antecedents\"].apply(lambda x: len(x))\n",
    "rules[\"consequents_length\"] = rules[\"consequents\"].apply(lambda x: len(x))\n",
    "rules.sort_values(\"lift\",ascending=False)"
   ]
  },
  {
   "cell_type": "markdown",
   "metadata": {},
   "source": [
    "c) Comenta los resultados que has obtenido y explica los 5 primeros casos que te han salido, por ejemplo, si han visto la película X o las películas X, Y.. Z cuál sería la siguiente que ver. ¿Crees que ese algoritmo nos sería útil para nuestro caso de uso? ¿Por qué?"
   ]
  },
  {
   "cell_type": "markdown",
   "metadata": {},
   "source": [
    "<div style=\"background-color: AliceBlue; padding: 10px;\">\n",
    "\n",
    "Para aplicaciones en gran escala y personalizadas como las recomendaciones de películas en Disney Plus, sería más adecuado explorar algoritmos más avanzados como los sistemas de filtrado colaborativo, que pueden adaptarse mejor a las preferencias individuales y ofrecer recomendaciones más precisas y dinámicas. [4] [5]\n",
    "\n",
    "\n",
    "* **Antecedents**: Conjunto de películas que el usuario ha visto.\n",
    "* **Consequents**: Película(s) que el usuario tiende a ver después de haber visto las del antecedente.\n",
    "* **Support**: Proporción de transacciones que incluyen todos los ítems en el antecedente y el consecuente.\n",
    "* **Confidence**: es una medida directa de la probabilidad de que un usuario vea las películas en el conjunto consecuente, dado que ha visto las películas en el conjunto antecedente. Esta métrica es intuitivamente la más directa para predecir si un usuario verá la película recomendada, porque literalmente representa la proporción de veces que, cuando se han visto las películas antecedentes, también se han visto las películas consecuentes.\n",
    "* **Lift**: Aumento en la probabilidad de ver el consecuente dado el antecedente, sobre la probabilidad de ver el consecuente sin información sobre el antecedente. Un lift mayor que 1 indica que los ítems consecuentes son más propensos a ser vistos cuando se han visto los antecedentes, lo cual es un indicador fuerte de una asociación positiva.\n",
    "* **Leverage**: Diferencia entre la probabilidad observada de que aparezcan antecedente y consecuente juntos y lo que se esperaría si fueran independientes.\n",
    "* **Conviction**: Ratio que compara la probabilidad de que el antecedente ocurra sin el consecuente si fueran independientes respecto a la frecuencia observada del antecedente sin el consecuente.\n",
    "\n",
    "**Confidence** es excelente para predecir si se verá una película, pero puede ser engañosa si no se considera la popularidad del consecuente. **Lift** es probablemente la mejor métrica global porque equilibra la confianza con la popularidad de la película recomendada, asegurando que la recomendación no sea simplemente un reflejo de lo que es popular en general.\n",
    "\n",
    "**Análisis de los 5 primeros casos**:\n",
    "1. **(Avengers: Infinity War, The Avengers) -> (Avengers: Age of Ultron, Avengers: Endgame)**  : Si un usuario ha visto \"Infinity War\" y \"The Avengers\", hay un 52.97% de probabilidad de que también vea \"Age of Ultron\" y \"Endgame\". El lift superior a 1 sugiere que estas películas están más probablemente vistas juntas que de manera independiente.\n",
    "   * Support: 0.530349\n",
    "   * Confidence: 0.529662\n",
    "   * Lift: 1.102268\n",
    "\n",
    "2. **(Avengers: Age of Ultron, Avengers: Infinity War) -> (Avengers: Infinity War, The Avengers)** : Similar al caso anterior pero visto desde la perspectiva inversa.\n",
    "   * Support: 0.530349\n",
    "   * Confidence: 0.584586\n",
    "   * Lift: 1.102268\n",
    "\n",
    "3. **(Avengers: Infinity War, Avengers: Age of Ultron) -> (Avengers: Endgame, The Avengers)** : Viendo \"Infinity War\" y \"Age of Ultron\" lleva a una alta probabilidad de ver \"Endgame\" y \"The Avengers\".\n",
    "   * Support: 0.530452\n",
    "   * Confidence: 0.583716\n",
    "   * Lift: 1.097501\n",
    "\n",
    "4. **(Avengers: Infinity War, Avengers: Age of Ultron) -> (Avengers: The Avengers, Avengers: Endgame)** : Un patrón similar donde las películas de los Avengers tienden a ser vistas juntas.\n",
    "   * Support: 0.531859\n",
    "   * Confidence: 0.582171\n",
    "   * Lift: 1.097501\n",
    "\n",
    "5. **(Avengers: Age of Ultron, The Avengers) -> (Avengers: Infinity War, Avengers: Endgame)** : Si un usuario ha visto \"Age of Ultron\" y \"The Avengers\", probablemente verá \"Infinity War\" y \"Endgame\".\n",
    "   * Support: 0.532546\n",
    "   * Confidence: 0.581421\n",
    "   * Lift: 1.096512"
   ]
  },
  {
   "cell_type": "markdown",
   "metadata": {},
   "source": [
    "d) ¿Cuál es la principal diferencia entre el algoritmo Eclat y el Apriori? En función de qué característica, se escogería usar en un determinado caso de uso el Apriori o el Eclat?\n",
    "\n",
    "\n",
    "<div style=\"background-color: AliceBlue; padding: 10px;\">\n",
    "\n",
    "Por ejemplo en el método de búsqueda, el algoritmo apriori utiliza un enfoque de candidato-generación, donde en cada paso genera posibles conjuntos de ítems (candidatos) que podrían ser frecuentes y luego los verifica contra la base de datos para confirmar su frecuencia. Este proceso se repite iterativamente, extendiendo los conjuntos de ítems en cada paso. A diferencia de “apriori”, el algoritmo “eclat” se basa en un enfoque de búsqueda vertical, es decir, en lugar de contar la frecuencia de cada conjunto candidato explorando toda la base de datos, Eclat transforma la base de datos a un formato de lista de transacciones por ítem, y utiliza intersecciones de estas listas para calcular rápidamente la frecuencia de los conjuntos de ítems. [6]\n",
    "\n",
    "Además a nivel estructura de Datos, Apriori utiliza una estructura de datos horizontal, donde cada transacción es considerada una lista de ítems. Mientras que eclat utiliza una estructura de datos vertical, donde para cada ítem se mantiene una lista de las transacciones en las que aparece. [7]\n"
   ]
  },
  {
   "cell_type": "markdown",
   "metadata": {},
   "source": [
    "e) Ejecuta con los mismos datos (quizá el formato de ellos debe cambiar) el algoritmo Eclat. Se sugiere utilizar la librería pyECLAT pero se puede utilizar la que se quiera. Calcula el tiempo que ha tardado, realiza un print de las reglas de asociación resultantes y comenta los resultados obtenidos explicando los 5 primeros casos. En el caso que la ejecución te tarde mucho, puedes reducir también el dataframe. "
   ]
  },
  {
   "cell_type": "code",
   "execution_count": 19,
   "metadata": {},
   "outputs": [
    {
     "data": {
      "text/html": [
       "<div>\n",
       "<style scoped>\n",
       "    .dataframe tbody tr th:only-of-type {\n",
       "        vertical-align: middle;\n",
       "    }\n",
       "\n",
       "    .dataframe tbody tr th {\n",
       "        vertical-align: top;\n",
       "    }\n",
       "\n",
       "    .dataframe thead th {\n",
       "        text-align: right;\n",
       "    }\n",
       "</style>\n",
       "<table border=\"1\" class=\"dataframe\">\n",
       "  <thead>\n",
       "    <tr style=\"text-align: right;\">\n",
       "      <th></th>\n",
       "      <th>Iron Man</th>\n",
       "      <th>The Incredible Hulk</th>\n",
       "      <th>Iron Man 2</th>\n",
       "      <th>Thor</th>\n",
       "      <th>Captain America: The First Avenger</th>\n",
       "      <th>The Avengers</th>\n",
       "      <th>Iron Man 3</th>\n",
       "      <th>Thor: The Dark World</th>\n",
       "      <th>Captain America: The Winter Soldier</th>\n",
       "      <th>Guardians of Galaxy</th>\n",
       "      <th>...</th>\n",
       "      <th>Black Panther</th>\n",
       "      <th>Avengers: Infinity War</th>\n",
       "      <th>Ant-Man and the Wasp</th>\n",
       "      <th>Captain Marvel</th>\n",
       "      <th>Avengers: Endgame</th>\n",
       "      <th>Spider-Man: Far From Home</th>\n",
       "      <th>Black Widow</th>\n",
       "      <th>Shang-Chi and the Legend of the Ten Rings</th>\n",
       "      <th>Eternals</th>\n",
       "      <th>Spider-Man: No Way Home</th>\n",
       "    </tr>\n",
       "  </thead>\n",
       "  <tbody>\n",
       "    <tr>\n",
       "      <th>0</th>\n",
       "      <td>1</td>\n",
       "      <td>1</td>\n",
       "      <td>1</td>\n",
       "      <td>1</td>\n",
       "      <td>1</td>\n",
       "      <td>1</td>\n",
       "      <td>1</td>\n",
       "      <td>1</td>\n",
       "      <td>0</td>\n",
       "      <td>1</td>\n",
       "      <td>...</td>\n",
       "      <td>1</td>\n",
       "      <td>1</td>\n",
       "      <td>1</td>\n",
       "      <td>1</td>\n",
       "      <td>0</td>\n",
       "      <td>1</td>\n",
       "      <td>1</td>\n",
       "      <td>1</td>\n",
       "      <td>1</td>\n",
       "      <td>1</td>\n",
       "    </tr>\n",
       "    <tr>\n",
       "      <th>1</th>\n",
       "      <td>0</td>\n",
       "      <td>1</td>\n",
       "      <td>1</td>\n",
       "      <td>1</td>\n",
       "      <td>0</td>\n",
       "      <td>0</td>\n",
       "      <td>1</td>\n",
       "      <td>1</td>\n",
       "      <td>1</td>\n",
       "      <td>1</td>\n",
       "      <td>...</td>\n",
       "      <td>1</td>\n",
       "      <td>1</td>\n",
       "      <td>0</td>\n",
       "      <td>1</td>\n",
       "      <td>1</td>\n",
       "      <td>1</td>\n",
       "      <td>1</td>\n",
       "      <td>1</td>\n",
       "      <td>1</td>\n",
       "      <td>1</td>\n",
       "    </tr>\n",
       "    <tr>\n",
       "      <th>2</th>\n",
       "      <td>1</td>\n",
       "      <td>0</td>\n",
       "      <td>1</td>\n",
       "      <td>0</td>\n",
       "      <td>0</td>\n",
       "      <td>1</td>\n",
       "      <td>1</td>\n",
       "      <td>0</td>\n",
       "      <td>0</td>\n",
       "      <td>1</td>\n",
       "      <td>...</td>\n",
       "      <td>1</td>\n",
       "      <td>1</td>\n",
       "      <td>1</td>\n",
       "      <td>1</td>\n",
       "      <td>1</td>\n",
       "      <td>1</td>\n",
       "      <td>0</td>\n",
       "      <td>1</td>\n",
       "      <td>0</td>\n",
       "      <td>1</td>\n",
       "    </tr>\n",
       "    <tr>\n",
       "      <th>3</th>\n",
       "      <td>1</td>\n",
       "      <td>1</td>\n",
       "      <td>1</td>\n",
       "      <td>0</td>\n",
       "      <td>0</td>\n",
       "      <td>1</td>\n",
       "      <td>0</td>\n",
       "      <td>1</td>\n",
       "      <td>1</td>\n",
       "      <td>1</td>\n",
       "      <td>...</td>\n",
       "      <td>1</td>\n",
       "      <td>1</td>\n",
       "      <td>1</td>\n",
       "      <td>0</td>\n",
       "      <td>1</td>\n",
       "      <td>1</td>\n",
       "      <td>0</td>\n",
       "      <td>1</td>\n",
       "      <td>0</td>\n",
       "      <td>1</td>\n",
       "    </tr>\n",
       "    <tr>\n",
       "      <th>4</th>\n",
       "      <td>1</td>\n",
       "      <td>1</td>\n",
       "      <td>1</td>\n",
       "      <td>1</td>\n",
       "      <td>1</td>\n",
       "      <td>1</td>\n",
       "      <td>1</td>\n",
       "      <td>1</td>\n",
       "      <td>1</td>\n",
       "      <td>1</td>\n",
       "      <td>...</td>\n",
       "      <td>0</td>\n",
       "      <td>1</td>\n",
       "      <td>0</td>\n",
       "      <td>1</td>\n",
       "      <td>1</td>\n",
       "      <td>1</td>\n",
       "      <td>1</td>\n",
       "      <td>1</td>\n",
       "      <td>1</td>\n",
       "      <td>1</td>\n",
       "    </tr>\n",
       "  </tbody>\n",
       "</table>\n",
       "<p>5 rows × 27 columns</p>\n",
       "</div>"
      ],
      "text/plain": [
       "   Iron Man  The Incredible Hulk  Iron Man 2  Thor  \\\n",
       "0         1                    1           1     1   \n",
       "1         0                    1           1     1   \n",
       "2         1                    0           1     0   \n",
       "3         1                    1           1     0   \n",
       "4         1                    1           1     1   \n",
       "\n",
       "   Captain America: The First Avenger  The Avengers  Iron Man 3  \\\n",
       "0                                   1             1           1   \n",
       "1                                   0             0           1   \n",
       "2                                   0             1           1   \n",
       "3                                   0             1           0   \n",
       "4                                   1             1           1   \n",
       "\n",
       "   Thor: The Dark World  Captain America: The Winter Soldier  \\\n",
       "0                     1                                    0   \n",
       "1                     1                                    1   \n",
       "2                     0                                    0   \n",
       "3                     1                                    1   \n",
       "4                     1                                    1   \n",
       "\n",
       "   Guardians of Galaxy  ...  Black Panther  Avengers: Infinity War  \\\n",
       "0                    1  ...              1                       1   \n",
       "1                    1  ...              1                       1   \n",
       "2                    1  ...              1                       1   \n",
       "3                    1  ...              1                       1   \n",
       "4                    1  ...              0                       1   \n",
       "\n",
       "   Ant-Man and the Wasp  Captain Marvel  Avengers: Endgame  \\\n",
       "0                     1               1                  0   \n",
       "1                     0               1                  1   \n",
       "2                     1               1                  1   \n",
       "3                     1               0                  1   \n",
       "4                     0               1                  1   \n",
       "\n",
       "   Spider-Man: Far From Home  Black Widow  \\\n",
       "0                          1            1   \n",
       "1                          1            1   \n",
       "2                          1            0   \n",
       "3                          1            0   \n",
       "4                          1            1   \n",
       "\n",
       "   Shang-Chi and the Legend of the Ten Rings  Eternals  \\\n",
       "0                                          1         1   \n",
       "1                                          1         1   \n",
       "2                                          1         0   \n",
       "3                                          1         0   \n",
       "4                                          1         1   \n",
       "\n",
       "   Spider-Man: No Way Home  \n",
       "0                        1  \n",
       "1                        1  \n",
       "2                        1  \n",
       "3                        1  \n",
       "4                        1  \n",
       "\n",
       "[5 rows x 27 columns]"
      ]
     },
     "execution_count": 19,
     "metadata": {},
     "output_type": "execute_result"
    }
   ],
   "source": [
    "# Reemplazar NaN por False y cualquier otro valor por True\n",
    "data_eclat = data_apriori.notna().astype(int)\n",
    "data_eclat.head()"
   ]
  },
  {
   "cell_type": "code",
   "execution_count": 20,
   "metadata": {},
   "outputs": [],
   "source": [
    "from pyECLAT import ECLAT\n",
    "\n",
    "\n",
    "transactions = []\n",
    "for index, row in data_eclat.iterrows():\n",
    "    transaction = [col for col in data_eclat.columns if row[col] == 1]\n",
    "    transactions.append(transaction)\n",
    "\n",
    "# to DataFrame\n",
    "df_transactions = pd.DataFrame(transactions)"
   ]
  },
  {
   "cell_type": "code",
   "execution_count": 21,
   "metadata": {},
   "outputs": [
    {
     "name": "stdout",
     "output_type": "stream",
     "text": [
      "Combination 1 by 1\n"
     ]
    },
    {
     "name": "stderr",
     "output_type": "stream",
     "text": [
      "27it [00:00, 57.74it/s]\n"
     ]
    },
    {
     "name": "stdout",
     "output_type": "stream",
     "text": [
      "Combination 2 by 2\n"
     ]
    },
    {
     "name": "stderr",
     "output_type": "stream",
     "text": [
      "351it [00:05, 61.03it/s]\n"
     ]
    },
    {
     "name": "stdout",
     "output_type": "stream",
     "text": [
      "Combination 3 by 3\n"
     ]
    },
    {
     "name": "stderr",
     "output_type": "stream",
     "text": [
      "2925it [00:49, 59.46it/s]\n"
     ]
    }
   ],
   "source": [
    "# loading transactions DataFrame to ECLAT class\n",
    "eclat_instance = ECLAT(data=df_transactions)\n",
    "\n",
    "# the item shoud appear at least at 5% of transactions\n",
    "min_support = 5/100\n",
    "\n",
    "# Buscar ítems frecuentes\n",
    "indices, supports = eclat_instance.fit(min_support=min_support,\n",
    "                                       min_combination=1,\n",
    "                                       max_combination=3,\n",
    "                                       separator=' & ',\n",
    "                                       verbose=True)\n",
    "\n",
    "result = pd.DataFrame(supports.items(),columns=['Item', 'Support'])\n",
    "result = result.sort_values(by=['Support'], ascending=False).head(100)"
   ]
  },
  {
   "cell_type": "code",
   "execution_count": 22,
   "metadata": {},
   "outputs": [
    {
     "name": "stdout",
     "output_type": "stream",
     "text": [
      "5 primeros casos con 1 item\n"
     ]
    },
    {
     "name": "stderr",
     "output_type": "stream",
     "text": [
      "/var/folders/p5/jp6dx55n0tl16f0fwb0jj6t00000gn/T/ipykernel_91973/1985405901.py:5: DeprecationWarning:\n",
      "\n",
      "DataFrameGroupBy.apply operated on the grouping columns. This behavior is deprecated, and in a future version of pandas the grouping columns will be excluded from the operation. Either pass `include_groups=False` to exclude the groupings or explicitly select the grouping columns after groupby to silence this warning.\n",
      "\n"
     ]
    },
    {
     "data": {
      "text/html": [
       "<div>\n",
       "<style scoped>\n",
       "    .dataframe tbody tr th:only-of-type {\n",
       "        vertical-align: middle;\n",
       "    }\n",
       "\n",
       "    .dataframe tbody tr th {\n",
       "        vertical-align: top;\n",
       "    }\n",
       "\n",
       "    .dataframe thead th {\n",
       "        text-align: right;\n",
       "    }\n",
       "</style>\n",
       "<table border=\"1\" class=\"dataframe\">\n",
       "  <thead>\n",
       "    <tr style=\"text-align: right;\">\n",
       "      <th></th>\n",
       "      <th>Item</th>\n",
       "      <th>Support</th>\n",
       "      <th>Item_Count</th>\n",
       "    </tr>\n",
       "  </thead>\n",
       "  <tbody>\n",
       "    <tr>\n",
       "      <th>0</th>\n",
       "      <td>Iron Man</td>\n",
       "      <td>0.790065</td>\n",
       "      <td>1</td>\n",
       "    </tr>\n",
       "    <tr>\n",
       "      <th>1</th>\n",
       "      <td>Iron Man 2</td>\n",
       "      <td>0.787215</td>\n",
       "      <td>1</td>\n",
       "    </tr>\n",
       "    <tr>\n",
       "      <th>2</th>\n",
       "      <td>Iron Man 3</td>\n",
       "      <td>0.784572</td>\n",
       "      <td>1</td>\n",
       "    </tr>\n",
       "    <tr>\n",
       "      <th>3</th>\n",
       "      <td>Spider-Man: No Way Home</td>\n",
       "      <td>0.742550</td>\n",
       "      <td>1</td>\n",
       "    </tr>\n",
       "    <tr>\n",
       "      <th>4</th>\n",
       "      <td>Spider-Man: Far From Home</td>\n",
       "      <td>0.741589</td>\n",
       "      <td>1</td>\n",
       "    </tr>\n",
       "  </tbody>\n",
       "</table>\n",
       "</div>"
      ],
      "text/plain": [
       "                        Item   Support  Item_Count\n",
       "0                   Iron Man  0.790065           1\n",
       "1                 Iron Man 2  0.787215           1\n",
       "2                 Iron Man 3  0.784572           1\n",
       "3    Spider-Man: No Way Home  0.742550           1\n",
       "4  Spider-Man: Far From Home  0.741589           1"
      ]
     },
     "execution_count": 22,
     "metadata": {},
     "output_type": "execute_result"
    }
   ],
   "source": [
    "# Añadir una columna que cuente el número de ítems en cada entrada\n",
    "result['Item_Count'] = result['Item'].apply(lambda x: x.count('&') + 1)\n",
    "\n",
    "# Crear un grupo por el número de ítems y obtener los cinco primeros de cada grupo\n",
    "grouped = result.groupby('Item_Count').apply(lambda x: x.nlargest(5, 'Support')).reset_index(drop=True)\n",
    "\n",
    "# Imprimir los resultados organizados por grupo\n",
    "print(\"5 primeros casos con 1 item\")\n",
    "grouped[grouped['Item_Count']==1]"
   ]
  },
  {
   "cell_type": "code",
   "execution_count": 23,
   "metadata": {},
   "outputs": [
    {
     "name": "stdout",
     "output_type": "stream",
     "text": [
      "5 primeros casos con 2 items\n"
     ]
    },
    {
     "data": {
      "text/html": [
       "<div>\n",
       "<style scoped>\n",
       "    .dataframe tbody tr th:only-of-type {\n",
       "        vertical-align: middle;\n",
       "    }\n",
       "\n",
       "    .dataframe tbody tr th {\n",
       "        vertical-align: top;\n",
       "    }\n",
       "\n",
       "    .dataframe thead th {\n",
       "        text-align: right;\n",
       "    }\n",
       "</style>\n",
       "<table border=\"1\" class=\"dataframe\">\n",
       "  <thead>\n",
       "    <tr style=\"text-align: right;\">\n",
       "      <th></th>\n",
       "      <th>Item</th>\n",
       "      <th>Support</th>\n",
       "      <th>Item_Count</th>\n",
       "    </tr>\n",
       "  </thead>\n",
       "  <tbody>\n",
       "    <tr>\n",
       "      <th>5</th>\n",
       "      <td>Iron Man 2 &amp; Iron Man</td>\n",
       "      <td>0.644020</td>\n",
       "      <td>2</td>\n",
       "    </tr>\n",
       "    <tr>\n",
       "      <th>6</th>\n",
       "      <td>Iron Man &amp; Iron Man 3</td>\n",
       "      <td>0.642028</td>\n",
       "      <td>2</td>\n",
       "    </tr>\n",
       "    <tr>\n",
       "      <th>7</th>\n",
       "      <td>Iron Man 2 &amp; Iron Man 3</td>\n",
       "      <td>0.638286</td>\n",
       "      <td>2</td>\n",
       "    </tr>\n",
       "    <tr>\n",
       "      <th>8</th>\n",
       "      <td>Spider-Man: No Way Home &amp; Iron Man</td>\n",
       "      <td>0.582738</td>\n",
       "      <td>2</td>\n",
       "    </tr>\n",
       "    <tr>\n",
       "      <th>9</th>\n",
       "      <td>Spider-Man: No Way Home &amp; Iron Man 2</td>\n",
       "      <td>0.580438</td>\n",
       "      <td>2</td>\n",
       "    </tr>\n",
       "  </tbody>\n",
       "</table>\n",
       "</div>"
      ],
      "text/plain": [
       "                                   Item   Support  Item_Count\n",
       "5                 Iron Man 2 & Iron Man  0.644020           2\n",
       "6                 Iron Man & Iron Man 3  0.642028           2\n",
       "7               Iron Man 2 & Iron Man 3  0.638286           2\n",
       "8    Spider-Man: No Way Home & Iron Man  0.582738           2\n",
       "9  Spider-Man: No Way Home & Iron Man 2  0.580438           2"
      ]
     },
     "execution_count": 23,
     "metadata": {},
     "output_type": "execute_result"
    }
   ],
   "source": [
    "print(\"5 primeros casos con 2 items\")\n",
    "grouped[grouped['Item_Count']==2]"
   ]
  },
  {
   "cell_type": "code",
   "execution_count": 24,
   "metadata": {},
   "outputs": [
    {
     "name": "stdout",
     "output_type": "stream",
     "text": [
      "5 primeros casos con 3 items\n"
     ]
    },
    {
     "data": {
      "text/html": [
       "<div>\n",
       "<style scoped>\n",
       "    .dataframe tbody tr th:only-of-type {\n",
       "        vertical-align: middle;\n",
       "    }\n",
       "\n",
       "    .dataframe tbody tr th {\n",
       "        vertical-align: top;\n",
       "    }\n",
       "\n",
       "    .dataframe thead th {\n",
       "        text-align: right;\n",
       "    }\n",
       "</style>\n",
       "<table border=\"1\" class=\"dataframe\">\n",
       "  <thead>\n",
       "    <tr style=\"text-align: right;\">\n",
       "      <th></th>\n",
       "      <th>Item</th>\n",
       "      <th>Support</th>\n",
       "      <th>Item_Count</th>\n",
       "    </tr>\n",
       "  </thead>\n",
       "  <tbody>\n",
       "    <tr>\n",
       "      <th>10</th>\n",
       "      <td>Iron Man 2 &amp; Iron Man &amp; Iron Man 3</td>\n",
       "      <td>0.540957</td>\n",
       "      <td>3</td>\n",
       "    </tr>\n",
       "  </tbody>\n",
       "</table>\n",
       "</div>"
      ],
      "text/plain": [
       "                                  Item   Support  Item_Count\n",
       "10  Iron Man 2 & Iron Man & Iron Man 3  0.540957           3"
      ]
     },
     "execution_count": 24,
     "metadata": {},
     "output_type": "execute_result"
    }
   ],
   "source": [
    "print(\"5 primeros casos con 3 items\")\n",
    "grouped[grouped['Item_Count']==3]"
   ]
  },
  {
   "cell_type": "markdown",
   "metadata": {},
   "source": [
    "<div style=\"background-color: AliceBlue; padding: 10px;\">\n",
    "\n",
    "* **Grupo de 1 Película**: Si \"Iron Man\" tiene un soporte de 0.790065, esto significa que el 79.0065% de todas las transacciones incluyen la película \"Iron Man\". En términos prácticos, casi 8 de cada 10 personas que forman parte de tu conjunto de datos han visto \"Iron Man\".\n",
    "\n",
    "* **Grupo de 2 Películas**: Si el par \"Iron Man & Iron Man 2\" tiene un soporte de 0.644020, significa que el 64.4020% de todas las transacciones incluyen tanto \"Iron Man\" como \"Iron Man 2\". Esto sugiere una fuerte correlación en la visualización de ambas películas, indicando que la mayoría de las personas que ven una, probablemente verán la otra.\n",
    "\n",
    "* **Grupo de 3 Películas**: Supongamos que el trío \"Iron Man & Iron Man 2 & Iron Man 3\" tiene un soporte del 54%. Esto indica que el 54% de las transacciones (o sesiones de visualización) incluyen todas estas tres películas. Esto puede sugerir una preferencia por ver trilogías o series completas de películas."
   ]
  },
  {
   "cell_type": "markdown",
   "metadata": {},
   "source": [
    "### Actividad 3: Filtrado Colaborativo\n",
    "\n",
    "Después de los resultados observados en la actividad anterior, queremos ir más allá y tener en cuenta los rankings de las películas para poder determinar qué película, de las que el usuario todavía no ha visto, puede gustarle más en función del resto de usuarios. Para ello, entrenaremos un modelo de aprendizaje automático pero antes deberemos modificar el dataset.\n",
    "\n",
    "Recupera el dataset anterior, el de antes de aplicar los cambios para la actividad 2 y contesta a las siguientes preguntas.\n"
   ]
  },
  {
   "cell_type": "code",
   "execution_count": 103,
   "metadata": {},
   "outputs": [
    {
     "data": {
      "text/html": [
       "<div>\n",
       "<style scoped>\n",
       "    .dataframe tbody tr th:only-of-type {\n",
       "        vertical-align: middle;\n",
       "    }\n",
       "\n",
       "    .dataframe tbody tr th {\n",
       "        vertical-align: top;\n",
       "    }\n",
       "\n",
       "    .dataframe thead th {\n",
       "        text-align: right;\n",
       "    }\n",
       "</style>\n",
       "<table border=\"1\" class=\"dataframe\">\n",
       "  <thead>\n",
       "    <tr style=\"text-align: right;\">\n",
       "      <th></th>\n",
       "      <th>0</th>\n",
       "      <th>1</th>\n",
       "      <th>2</th>\n",
       "      <th>3</th>\n",
       "      <th>4</th>\n",
       "    </tr>\n",
       "  </thead>\n",
       "  <tbody>\n",
       "    <tr>\n",
       "      <th>ClientID</th>\n",
       "      <td>4WKQSBB</td>\n",
       "      <td>CP5S02H</td>\n",
       "      <td>2YKDILJ</td>\n",
       "      <td>2S9E81J</td>\n",
       "      <td>BHDYVFT</td>\n",
       "    </tr>\n",
       "    <tr>\n",
       "      <th>JoinDate</th>\n",
       "      <td>2019-02-01 00:00:00</td>\n",
       "      <td>2019-06-01 00:00:00</td>\n",
       "      <td>2013-06-01 00:00:00</td>\n",
       "      <td>2019-08-01 00:00:00</td>\n",
       "      <td>2019-08-01 00:00:00</td>\n",
       "    </tr>\n",
       "    <tr>\n",
       "      <th>Gender</th>\n",
       "      <td>F</td>\n",
       "      <td>F</td>\n",
       "      <td>M</td>\n",
       "      <td>M</td>\n",
       "      <td>M</td>\n",
       "    </tr>\n",
       "    <tr>\n",
       "      <th>Married</th>\n",
       "      <td>M</td>\n",
       "      <td>M</td>\n",
       "      <td>U</td>\n",
       "      <td>M</td>\n",
       "      <td>M</td>\n",
       "    </tr>\n",
       "    <tr>\n",
       "      <th>Birth</th>\n",
       "      <td>1987</td>\n",
       "      <td>1981</td>\n",
       "      <td>1991</td>\n",
       "      <td>1990</td>\n",
       "      <td>1990</td>\n",
       "    </tr>\n",
       "    <tr>\n",
       "      <th>MarvelFavoriteCharacter</th>\n",
       "      <td>MJ</td>\n",
       "      <td>Spider-Man</td>\n",
       "      <td>Iron Man</td>\n",
       "      <td>MJ</td>\n",
       "      <td>Iron Man</td>\n",
       "    </tr>\n",
       "    <tr>\n",
       "      <th>Occupation</th>\n",
       "      <td>politicians</td>\n",
       "      <td>politicians</td>\n",
       "      <td>hotel/restaurant</td>\n",
       "      <td>shopkeepers</td>\n",
       "      <td>politicians</td>\n",
       "    </tr>\n",
       "    <tr>\n",
       "      <th>Iron Man</th>\n",
       "      <td>4.0</td>\n",
       "      <td>&lt;NA&gt;</td>\n",
       "      <td>10.0</td>\n",
       "      <td>10.0</td>\n",
       "      <td>10.0</td>\n",
       "    </tr>\n",
       "    <tr>\n",
       "      <th>The Incredible Hulk</th>\n",
       "      <td>2.0</td>\n",
       "      <td>9.0</td>\n",
       "      <td>&lt;NA&gt;</td>\n",
       "      <td>5.0</td>\n",
       "      <td>2.0</td>\n",
       "    </tr>\n",
       "    <tr>\n",
       "      <th>Iron Man 2</th>\n",
       "      <td>10.0</td>\n",
       "      <td>0.0</td>\n",
       "      <td>10.0</td>\n",
       "      <td>7.0</td>\n",
       "      <td>10.0</td>\n",
       "    </tr>\n",
       "    <tr>\n",
       "      <th>Thor</th>\n",
       "      <td>0.0</td>\n",
       "      <td>10.0</td>\n",
       "      <td>&lt;NA&gt;</td>\n",
       "      <td>&lt;NA&gt;</td>\n",
       "      <td>2.0</td>\n",
       "    </tr>\n",
       "    <tr>\n",
       "      <th>Captain America: The First Avenger</th>\n",
       "      <td>6.0</td>\n",
       "      <td>&lt;NA&gt;</td>\n",
       "      <td>&lt;NA&gt;</td>\n",
       "      <td>&lt;NA&gt;</td>\n",
       "      <td>4.0</td>\n",
       "    </tr>\n",
       "    <tr>\n",
       "      <th>The Avengers</th>\n",
       "      <td>0.0</td>\n",
       "      <td>&lt;NA&gt;</td>\n",
       "      <td>4.0</td>\n",
       "      <td>0.0</td>\n",
       "      <td>1.0</td>\n",
       "    </tr>\n",
       "    <tr>\n",
       "      <th>Iron Man 3</th>\n",
       "      <td>2.0</td>\n",
       "      <td>1.0</td>\n",
       "      <td>10.0</td>\n",
       "      <td>&lt;NA&gt;</td>\n",
       "      <td>10.0</td>\n",
       "    </tr>\n",
       "    <tr>\n",
       "      <th>Thor: The Dark World</th>\n",
       "      <td>9.0</td>\n",
       "      <td>10.0</td>\n",
       "      <td>&lt;NA&gt;</td>\n",
       "      <td>9.0</td>\n",
       "      <td>0.0</td>\n",
       "    </tr>\n",
       "    <tr>\n",
       "      <th>Captain America: The Winter Soldier</th>\n",
       "      <td>&lt;NA&gt;</td>\n",
       "      <td>10.0</td>\n",
       "      <td>&lt;NA&gt;</td>\n",
       "      <td>10.0</td>\n",
       "      <td>1.0</td>\n",
       "    </tr>\n",
       "    <tr>\n",
       "      <th>Guardians of Galaxy</th>\n",
       "      <td>6.0</td>\n",
       "      <td>2.0</td>\n",
       "      <td>4.0</td>\n",
       "      <td>6.0</td>\n",
       "      <td>2.0</td>\n",
       "    </tr>\n",
       "    <tr>\n",
       "      <th>Avengers: Age of Ultron</th>\n",
       "      <td>8.0</td>\n",
       "      <td>&lt;NA&gt;</td>\n",
       "      <td>1.0</td>\n",
       "      <td>2.0</td>\n",
       "      <td>&lt;NA&gt;</td>\n",
       "    </tr>\n",
       "    <tr>\n",
       "      <th>Ant-Man</th>\n",
       "      <td>&lt;NA&gt;</td>\n",
       "      <td>6.0</td>\n",
       "      <td>2.0</td>\n",
       "      <td>&lt;NA&gt;</td>\n",
       "      <td>5.0</td>\n",
       "    </tr>\n",
       "    <tr>\n",
       "      <th>Captain America: Civil War</th>\n",
       "      <td>4.0</td>\n",
       "      <td>9.0</td>\n",
       "      <td>3.0</td>\n",
       "      <td>3.0</td>\n",
       "      <td>8.0</td>\n",
       "    </tr>\n",
       "    <tr>\n",
       "      <th>Doctor Strange</th>\n",
       "      <td>3.0</td>\n",
       "      <td>0.0</td>\n",
       "      <td>0.0</td>\n",
       "      <td>2.0</td>\n",
       "      <td>3.0</td>\n",
       "    </tr>\n",
       "    <tr>\n",
       "      <th>Guardians of Galaxy 2</th>\n",
       "      <td>9.0</td>\n",
       "      <td>5.0</td>\n",
       "      <td>9.0</td>\n",
       "      <td>3.0</td>\n",
       "      <td>8.0</td>\n",
       "    </tr>\n",
       "    <tr>\n",
       "      <th>Spider-Man: Homecoming</th>\n",
       "      <td>10.0</td>\n",
       "      <td>10.0</td>\n",
       "      <td>&lt;NA&gt;</td>\n",
       "      <td>10.0</td>\n",
       "      <td>3.0</td>\n",
       "    </tr>\n",
       "    <tr>\n",
       "      <th>Thor: Ragnarok</th>\n",
       "      <td>2.0</td>\n",
       "      <td>1.0</td>\n",
       "      <td>&lt;NA&gt;</td>\n",
       "      <td>5.0</td>\n",
       "      <td>&lt;NA&gt;</td>\n",
       "    </tr>\n",
       "    <tr>\n",
       "      <th>Black Panther</th>\n",
       "      <td>4.0</td>\n",
       "      <td>9.0</td>\n",
       "      <td>9.0</td>\n",
       "      <td>0.0</td>\n",
       "      <td>&lt;NA&gt;</td>\n",
       "    </tr>\n",
       "    <tr>\n",
       "      <th>Avengers: Infinity War</th>\n",
       "      <td>8.0</td>\n",
       "      <td>4.0</td>\n",
       "      <td>2.0</td>\n",
       "      <td>9.0</td>\n",
       "      <td>8.0</td>\n",
       "    </tr>\n",
       "    <tr>\n",
       "      <th>Ant-Man and the Wasp</th>\n",
       "      <td>9.0</td>\n",
       "      <td>&lt;NA&gt;</td>\n",
       "      <td>7.0</td>\n",
       "      <td>4.0</td>\n",
       "      <td>&lt;NA&gt;</td>\n",
       "    </tr>\n",
       "    <tr>\n",
       "      <th>Captain Marvel</th>\n",
       "      <td>9.0</td>\n",
       "      <td>9.0</td>\n",
       "      <td>4.0</td>\n",
       "      <td>&lt;NA&gt;</td>\n",
       "      <td>8.0</td>\n",
       "    </tr>\n",
       "    <tr>\n",
       "      <th>Avengers: Endgame</th>\n",
       "      <td>&lt;NA&gt;</td>\n",
       "      <td>9.0</td>\n",
       "      <td>8.0</td>\n",
       "      <td>9.0</td>\n",
       "      <td>2.0</td>\n",
       "    </tr>\n",
       "    <tr>\n",
       "      <th>Spider-Man: Far From Home</th>\n",
       "      <td>10.0</td>\n",
       "      <td>10.0</td>\n",
       "      <td>6.0</td>\n",
       "      <td>10.0</td>\n",
       "      <td>2.0</td>\n",
       "    </tr>\n",
       "    <tr>\n",
       "      <th>Black Widow</th>\n",
       "      <td>8.0</td>\n",
       "      <td>9.0</td>\n",
       "      <td>&lt;NA&gt;</td>\n",
       "      <td>&lt;NA&gt;</td>\n",
       "      <td>4.0</td>\n",
       "    </tr>\n",
       "    <tr>\n",
       "      <th>Shang-Chi and the Legend of the Ten Rings</th>\n",
       "      <td>10.0</td>\n",
       "      <td>10.0</td>\n",
       "      <td>4.0</td>\n",
       "      <td>9.0</td>\n",
       "      <td>1.0</td>\n",
       "    </tr>\n",
       "    <tr>\n",
       "      <th>Eternals</th>\n",
       "      <td>1.0</td>\n",
       "      <td>1.0</td>\n",
       "      <td>&lt;NA&gt;</td>\n",
       "      <td>&lt;NA&gt;</td>\n",
       "      <td>9.0</td>\n",
       "    </tr>\n",
       "    <tr>\n",
       "      <th>Spider-Man: No Way Home</th>\n",
       "      <td>10.0</td>\n",
       "      <td>10.0</td>\n",
       "      <td>2.0</td>\n",
       "      <td>10.0</td>\n",
       "      <td>7.0</td>\n",
       "    </tr>\n",
       "    <tr>\n",
       "      <th>Age</th>\n",
       "      <td>37</td>\n",
       "      <td>43</td>\n",
       "      <td>33</td>\n",
       "      <td>34</td>\n",
       "      <td>34</td>\n",
       "    </tr>\n",
       "    <tr>\n",
       "      <th>MonthsClient</th>\n",
       "      <td>62</td>\n",
       "      <td>58</td>\n",
       "      <td>130</td>\n",
       "      <td>56</td>\n",
       "      <td>56</td>\n",
       "    </tr>\n",
       "    <tr>\n",
       "      <th>MarvelFilmsPerc</th>\n",
       "      <td>0.888889</td>\n",
       "      <td>0.814815</td>\n",
       "      <td>0.666667</td>\n",
       "      <td>0.740741</td>\n",
       "      <td>0.851852</td>\n",
       "    </tr>\n",
       "  </tbody>\n",
       "</table>\n",
       "</div>"
      ],
      "text/plain": [
       "                                                             0  \\\n",
       "ClientID                                               4WKQSBB   \n",
       "JoinDate                                   2019-02-01 00:00:00   \n",
       "Gender                                                       F   \n",
       "Married                                                      M   \n",
       "Birth                                                     1987   \n",
       "MarvelFavoriteCharacter                                     MJ   \n",
       "Occupation                                         politicians   \n",
       "Iron Man                                                   4.0   \n",
       "The Incredible Hulk                                        2.0   \n",
       "Iron Man 2                                                10.0   \n",
       "Thor                                                       0.0   \n",
       "Captain America: The First Avenger                         6.0   \n",
       "The Avengers                                               0.0   \n",
       "Iron Man 3                                                 2.0   \n",
       "Thor: The Dark World                                       9.0   \n",
       "Captain America: The Winter Soldier                       <NA>   \n",
       "Guardians of Galaxy                                        6.0   \n",
       "Avengers: Age of Ultron                                    8.0   \n",
       "Ant-Man                                                   <NA>   \n",
       "Captain America: Civil War                                 4.0   \n",
       "Doctor Strange                                             3.0   \n",
       "Guardians of Galaxy 2                                      9.0   \n",
       "Spider-Man: Homecoming                                    10.0   \n",
       "Thor: Ragnarok                                             2.0   \n",
       "Black Panther                                              4.0   \n",
       "Avengers: Infinity War                                     8.0   \n",
       "Ant-Man and the Wasp                                       9.0   \n",
       "Captain Marvel                                             9.0   \n",
       "Avengers: Endgame                                         <NA>   \n",
       "Spider-Man: Far From Home                                 10.0   \n",
       "Black Widow                                                8.0   \n",
       "Shang-Chi and the Legend of the Ten Rings                 10.0   \n",
       "Eternals                                                   1.0   \n",
       "Spider-Man: No Way Home                                   10.0   \n",
       "Age                                                         37   \n",
       "MonthsClient                                                62   \n",
       "MarvelFilmsPerc                                       0.888889   \n",
       "\n",
       "                                                             1  \\\n",
       "ClientID                                               CP5S02H   \n",
       "JoinDate                                   2019-06-01 00:00:00   \n",
       "Gender                                                       F   \n",
       "Married                                                      M   \n",
       "Birth                                                     1981   \n",
       "MarvelFavoriteCharacter                             Spider-Man   \n",
       "Occupation                                         politicians   \n",
       "Iron Man                                                  <NA>   \n",
       "The Incredible Hulk                                        9.0   \n",
       "Iron Man 2                                                 0.0   \n",
       "Thor                                                      10.0   \n",
       "Captain America: The First Avenger                        <NA>   \n",
       "The Avengers                                              <NA>   \n",
       "Iron Man 3                                                 1.0   \n",
       "Thor: The Dark World                                      10.0   \n",
       "Captain America: The Winter Soldier                       10.0   \n",
       "Guardians of Galaxy                                        2.0   \n",
       "Avengers: Age of Ultron                                   <NA>   \n",
       "Ant-Man                                                    6.0   \n",
       "Captain America: Civil War                                 9.0   \n",
       "Doctor Strange                                             0.0   \n",
       "Guardians of Galaxy 2                                      5.0   \n",
       "Spider-Man: Homecoming                                    10.0   \n",
       "Thor: Ragnarok                                             1.0   \n",
       "Black Panther                                              9.0   \n",
       "Avengers: Infinity War                                     4.0   \n",
       "Ant-Man and the Wasp                                      <NA>   \n",
       "Captain Marvel                                             9.0   \n",
       "Avengers: Endgame                                          9.0   \n",
       "Spider-Man: Far From Home                                 10.0   \n",
       "Black Widow                                                9.0   \n",
       "Shang-Chi and the Legend of the Ten Rings                 10.0   \n",
       "Eternals                                                   1.0   \n",
       "Spider-Man: No Way Home                                   10.0   \n",
       "Age                                                         43   \n",
       "MonthsClient                                                58   \n",
       "MarvelFilmsPerc                                       0.814815   \n",
       "\n",
       "                                                             2  \\\n",
       "ClientID                                               2YKDILJ   \n",
       "JoinDate                                   2013-06-01 00:00:00   \n",
       "Gender                                                       M   \n",
       "Married                                                      U   \n",
       "Birth                                                     1991   \n",
       "MarvelFavoriteCharacter                               Iron Man   \n",
       "Occupation                                    hotel/restaurant   \n",
       "Iron Man                                                  10.0   \n",
       "The Incredible Hulk                                       <NA>   \n",
       "Iron Man 2                                                10.0   \n",
       "Thor                                                      <NA>   \n",
       "Captain America: The First Avenger                        <NA>   \n",
       "The Avengers                                               4.0   \n",
       "Iron Man 3                                                10.0   \n",
       "Thor: The Dark World                                      <NA>   \n",
       "Captain America: The Winter Soldier                       <NA>   \n",
       "Guardians of Galaxy                                        4.0   \n",
       "Avengers: Age of Ultron                                    1.0   \n",
       "Ant-Man                                                    2.0   \n",
       "Captain America: Civil War                                 3.0   \n",
       "Doctor Strange                                             0.0   \n",
       "Guardians of Galaxy 2                                      9.0   \n",
       "Spider-Man: Homecoming                                    <NA>   \n",
       "Thor: Ragnarok                                            <NA>   \n",
       "Black Panther                                              9.0   \n",
       "Avengers: Infinity War                                     2.0   \n",
       "Ant-Man and the Wasp                                       7.0   \n",
       "Captain Marvel                                             4.0   \n",
       "Avengers: Endgame                                          8.0   \n",
       "Spider-Man: Far From Home                                  6.0   \n",
       "Black Widow                                               <NA>   \n",
       "Shang-Chi and the Legend of the Ten Rings                  4.0   \n",
       "Eternals                                                  <NA>   \n",
       "Spider-Man: No Way Home                                    2.0   \n",
       "Age                                                         33   \n",
       "MonthsClient                                               130   \n",
       "MarvelFilmsPerc                                       0.666667   \n",
       "\n",
       "                                                             3  \\\n",
       "ClientID                                               2S9E81J   \n",
       "JoinDate                                   2019-08-01 00:00:00   \n",
       "Gender                                                       M   \n",
       "Married                                                      M   \n",
       "Birth                                                     1990   \n",
       "MarvelFavoriteCharacter                                     MJ   \n",
       "Occupation                                         shopkeepers   \n",
       "Iron Man                                                  10.0   \n",
       "The Incredible Hulk                                        5.0   \n",
       "Iron Man 2                                                 7.0   \n",
       "Thor                                                      <NA>   \n",
       "Captain America: The First Avenger                        <NA>   \n",
       "The Avengers                                               0.0   \n",
       "Iron Man 3                                                <NA>   \n",
       "Thor: The Dark World                                       9.0   \n",
       "Captain America: The Winter Soldier                       10.0   \n",
       "Guardians of Galaxy                                        6.0   \n",
       "Avengers: Age of Ultron                                    2.0   \n",
       "Ant-Man                                                   <NA>   \n",
       "Captain America: Civil War                                 3.0   \n",
       "Doctor Strange                                             2.0   \n",
       "Guardians of Galaxy 2                                      3.0   \n",
       "Spider-Man: Homecoming                                    10.0   \n",
       "Thor: Ragnarok                                             5.0   \n",
       "Black Panther                                              0.0   \n",
       "Avengers: Infinity War                                     9.0   \n",
       "Ant-Man and the Wasp                                       4.0   \n",
       "Captain Marvel                                            <NA>   \n",
       "Avengers: Endgame                                          9.0   \n",
       "Spider-Man: Far From Home                                 10.0   \n",
       "Black Widow                                               <NA>   \n",
       "Shang-Chi and the Legend of the Ten Rings                  9.0   \n",
       "Eternals                                                  <NA>   \n",
       "Spider-Man: No Way Home                                   10.0   \n",
       "Age                                                         34   \n",
       "MonthsClient                                                56   \n",
       "MarvelFilmsPerc                                       0.740741   \n",
       "\n",
       "                                                             4  \n",
       "ClientID                                               BHDYVFT  \n",
       "JoinDate                                   2019-08-01 00:00:00  \n",
       "Gender                                                       M  \n",
       "Married                                                      M  \n",
       "Birth                                                     1990  \n",
       "MarvelFavoriteCharacter                               Iron Man  \n",
       "Occupation                                         politicians  \n",
       "Iron Man                                                  10.0  \n",
       "The Incredible Hulk                                        2.0  \n",
       "Iron Man 2                                                10.0  \n",
       "Thor                                                       2.0  \n",
       "Captain America: The First Avenger                         4.0  \n",
       "The Avengers                                               1.0  \n",
       "Iron Man 3                                                10.0  \n",
       "Thor: The Dark World                                       0.0  \n",
       "Captain America: The Winter Soldier                        1.0  \n",
       "Guardians of Galaxy                                        2.0  \n",
       "Avengers: Age of Ultron                                   <NA>  \n",
       "Ant-Man                                                    5.0  \n",
       "Captain America: Civil War                                 8.0  \n",
       "Doctor Strange                                             3.0  \n",
       "Guardians of Galaxy 2                                      8.0  \n",
       "Spider-Man: Homecoming                                     3.0  \n",
       "Thor: Ragnarok                                            <NA>  \n",
       "Black Panther                                             <NA>  \n",
       "Avengers: Infinity War                                     8.0  \n",
       "Ant-Man and the Wasp                                      <NA>  \n",
       "Captain Marvel                                             8.0  \n",
       "Avengers: Endgame                                          2.0  \n",
       "Spider-Man: Far From Home                                  2.0  \n",
       "Black Widow                                                4.0  \n",
       "Shang-Chi and the Legend of the Ten Rings                  1.0  \n",
       "Eternals                                                   9.0  \n",
       "Spider-Man: No Way Home                                    7.0  \n",
       "Age                                                         34  \n",
       "MonthsClient                                                56  \n",
       "MarvelFilmsPerc                                       0.851852  "
      ]
     },
     "execution_count": 103,
     "metadata": {},
     "output_type": "execute_result"
    }
   ],
   "source": [
    "df.head(5).T"
   ]
  },
  {
   "cell_type": "markdown",
   "metadata": {},
   "source": [
    "a) Transforma el dataframe para que quede igual que el de la siguiente imagen, es decir, crea la columna MovieID con el nombre de cada película y una con el Rating asociado siendo una fila del dataframe para cada película que ha visto el cliente:"
   ]
  },
  {
   "cell_type": "code",
   "execution_count": 104,
   "metadata": {},
   "outputs": [
    {
     "data": {
      "text/html": [
       "<div>\n",
       "<style scoped>\n",
       "    .dataframe tbody tr th:only-of-type {\n",
       "        vertical-align: middle;\n",
       "    }\n",
       "\n",
       "    .dataframe tbody tr th {\n",
       "        vertical-align: top;\n",
       "    }\n",
       "\n",
       "    .dataframe thead th {\n",
       "        text-align: right;\n",
       "    }\n",
       "</style>\n",
       "<table border=\"1\" class=\"dataframe\">\n",
       "  <thead>\n",
       "    <tr style=\"text-align: right;\">\n",
       "      <th></th>\n",
       "      <th>ClientID</th>\n",
       "      <th>Gender</th>\n",
       "      <th>Age</th>\n",
       "      <th>MarvelChar</th>\n",
       "      <th>MovieID</th>\n",
       "      <th>Rating</th>\n",
       "    </tr>\n",
       "  </thead>\n",
       "  <tbody>\n",
       "    <tr>\n",
       "      <th>746778</th>\n",
       "      <td>001IIBS</td>\n",
       "      <td>F</td>\n",
       "      <td>41</td>\n",
       "      <td>Doctor Strange</td>\n",
       "      <td>Eternals</td>\n",
       "      <td>5.0</td>\n",
       "    </tr>\n",
       "    <tr>\n",
       "      <th>76834</th>\n",
       "      <td>001IIBS</td>\n",
       "      <td>F</td>\n",
       "      <td>41</td>\n",
       "      <td>Doctor Strange</td>\n",
       "      <td>Iron Man 2</td>\n",
       "      <td>8.0</td>\n",
       "    </tr>\n",
       "    <tr>\n",
       "      <th>630266</th>\n",
       "      <td>001IIBS</td>\n",
       "      <td>F</td>\n",
       "      <td>41</td>\n",
       "      <td>Doctor Strange</td>\n",
       "      <td>Avengers: Endgame</td>\n",
       "      <td>9.0</td>\n",
       "    </tr>\n",
       "    <tr>\n",
       "      <th>135090</th>\n",
       "      <td>001IIBS</td>\n",
       "      <td>F</td>\n",
       "      <td>41</td>\n",
       "      <td>Doctor Strange</td>\n",
       "      <td>Captain America: The First Avenger</td>\n",
       "      <td>8.0</td>\n",
       "    </tr>\n",
       "    <tr>\n",
       "      <th>397242</th>\n",
       "      <td>001IIBS</td>\n",
       "      <td>F</td>\n",
       "      <td>41</td>\n",
       "      <td>Doctor Strange</td>\n",
       "      <td>Doctor Strange</td>\n",
       "      <td>10.0</td>\n",
       "    </tr>\n",
       "    <tr>\n",
       "      <th>688522</th>\n",
       "      <td>001IIBS</td>\n",
       "      <td>F</td>\n",
       "      <td>41</td>\n",
       "      <td>Doctor Strange</td>\n",
       "      <td>Black Widow</td>\n",
       "      <td>8.0</td>\n",
       "    </tr>\n",
       "    <tr>\n",
       "      <th>222474</th>\n",
       "      <td>001IIBS</td>\n",
       "      <td>F</td>\n",
       "      <td>41</td>\n",
       "      <td>Doctor Strange</td>\n",
       "      <td>Thor: The Dark World</td>\n",
       "      <td>0.0</td>\n",
       "    </tr>\n",
       "    <tr>\n",
       "      <th>193346</th>\n",
       "      <td>001IIBS</td>\n",
       "      <td>F</td>\n",
       "      <td>41</td>\n",
       "      <td>Doctor Strange</td>\n",
       "      <td>Iron Man 3</td>\n",
       "      <td>10.0</td>\n",
       "    </tr>\n",
       "    <tr>\n",
       "      <th>18578</th>\n",
       "      <td>001IIBS</td>\n",
       "      <td>F</td>\n",
       "      <td>41</td>\n",
       "      <td>Doctor Strange</td>\n",
       "      <td>Iron Man</td>\n",
       "      <td>7.0</td>\n",
       "    </tr>\n",
       "    <tr>\n",
       "      <th>105962</th>\n",
       "      <td>001IIBS</td>\n",
       "      <td>F</td>\n",
       "      <td>41</td>\n",
       "      <td>Doctor Strange</td>\n",
       "      <td>Thor</td>\n",
       "      <td>0.0</td>\n",
       "    </tr>\n",
       "    <tr>\n",
       "      <th>717650</th>\n",
       "      <td>001IIBS</td>\n",
       "      <td>F</td>\n",
       "      <td>41</td>\n",
       "      <td>Doctor Strange</td>\n",
       "      <td>Shang-Chi and the Legend of the Ten Rings</td>\n",
       "      <td>10.0</td>\n",
       "    </tr>\n",
       "    <tr>\n",
       "      <th>455498</th>\n",
       "      <td>001IIBS</td>\n",
       "      <td>F</td>\n",
       "      <td>41</td>\n",
       "      <td>Doctor Strange</td>\n",
       "      <td>Spider-Man: Homecoming</td>\n",
       "      <td>1.0</td>\n",
       "    </tr>\n",
       "    <tr>\n",
       "      <th>251602</th>\n",
       "      <td>001IIBS</td>\n",
       "      <td>F</td>\n",
       "      <td>41</td>\n",
       "      <td>Doctor Strange</td>\n",
       "      <td>Captain America: The Winter Soldier</td>\n",
       "      <td>7.0</td>\n",
       "    </tr>\n",
       "    <tr>\n",
       "      <th>368114</th>\n",
       "      <td>001IIBS</td>\n",
       "      <td>F</td>\n",
       "      <td>41</td>\n",
       "      <td>Doctor Strange</td>\n",
       "      <td>Captain America: Civil War</td>\n",
       "      <td>4.0</td>\n",
       "    </tr>\n",
       "    <tr>\n",
       "      <th>542882</th>\n",
       "      <td>001IIBS</td>\n",
       "      <td>F</td>\n",
       "      <td>41</td>\n",
       "      <td>Doctor Strange</td>\n",
       "      <td>Avengers: Infinity War</td>\n",
       "      <td>0.0</td>\n",
       "    </tr>\n",
       "    <tr>\n",
       "      <th>164218</th>\n",
       "      <td>001IIBS</td>\n",
       "      <td>F</td>\n",
       "      <td>41</td>\n",
       "      <td>Doctor Strange</td>\n",
       "      <td>The Avengers</td>\n",
       "      <td>2.0</td>\n",
       "    </tr>\n",
       "  </tbody>\n",
       "</table>\n",
       "</div>"
      ],
      "text/plain": [
       "       ClientID Gender  Age      MarvelChar  \\\n",
       "746778  001IIBS      F   41  Doctor Strange   \n",
       "76834   001IIBS      F   41  Doctor Strange   \n",
       "630266  001IIBS      F   41  Doctor Strange   \n",
       "135090  001IIBS      F   41  Doctor Strange   \n",
       "397242  001IIBS      F   41  Doctor Strange   \n",
       "688522  001IIBS      F   41  Doctor Strange   \n",
       "222474  001IIBS      F   41  Doctor Strange   \n",
       "193346  001IIBS      F   41  Doctor Strange   \n",
       "18578   001IIBS      F   41  Doctor Strange   \n",
       "105962  001IIBS      F   41  Doctor Strange   \n",
       "717650  001IIBS      F   41  Doctor Strange   \n",
       "455498  001IIBS      F   41  Doctor Strange   \n",
       "251602  001IIBS      F   41  Doctor Strange   \n",
       "368114  001IIBS      F   41  Doctor Strange   \n",
       "542882  001IIBS      F   41  Doctor Strange   \n",
       "164218  001IIBS      F   41  Doctor Strange   \n",
       "\n",
       "                                          MovieID  Rating  \n",
       "746778                                   Eternals     5.0  \n",
       "76834                                  Iron Man 2     8.0  \n",
       "630266                          Avengers: Endgame     9.0  \n",
       "135090         Captain America: The First Avenger     8.0  \n",
       "397242                             Doctor Strange    10.0  \n",
       "688522                                Black Widow     8.0  \n",
       "222474                       Thor: The Dark World     0.0  \n",
       "193346                                 Iron Man 3    10.0  \n",
       "18578                                    Iron Man     7.0  \n",
       "105962                                       Thor     0.0  \n",
       "717650  Shang-Chi and the Legend of the Ten Rings    10.0  \n",
       "455498                     Spider-Man: Homecoming     1.0  \n",
       "251602        Captain America: The Winter Soldier     7.0  \n",
       "368114                 Captain America: Civil War     4.0  \n",
       "542882                     Avengers: Infinity War     0.0  \n",
       "164218                               The Avengers     2.0  "
      ]
     },
     "execution_count": 104,
     "metadata": {},
     "output_type": "execute_result"
    }
   ],
   "source": [
    "import pandas as pd\n",
    "\n",
    "# Asumiendo que 'df' es tu DataFrame original ya cargado correctamente\n",
    "# Manteniendo solo las columnas relevantes para la transformación\n",
    "id_vars = ['ClientID', 'Gender', 'Age', 'MarvelFavoriteCharacter']\n",
    "\n",
    "# Identificar correctamente las columnas de películas\n",
    "# Suponemos que todas las columnas de películas están después de 'MarvelFavoriteCharacter' y antes de 'Age'\n",
    "movie_columns = df.columns[df.columns.get_loc('Iron Man'):df.columns.get_loc('Spider-Man: No Way Home') + 1]\n",
    "\n",
    "# Usar melt para convertir las columnas de películas en filas, asegurándose de incluir solo columnas de películas\n",
    "df_melted = pd.melt(df, id_vars=id_vars, value_vars=movie_columns, var_name='MovieID', value_name='Rating')\n",
    "\n",
    "# Eliminar filas donde el rating es <NA>\n",
    "df_melted = df_melted.dropna(subset=['Rating'])\n",
    "\n",
    "# Cambiar el nombre de la columna si es necesario\n",
    "df_melted.rename(columns={'MarvelFavoriteCharacter': 'MarvelChar'}, inplace=True)\n",
    "\n",
    "# Opcionalmente filtrar donde el Rating no sea '-1', ordenar por ClientID\n",
    "df_melted = df_melted[df_melted['Rating'] != -1].sort_values(by='ClientID')\n",
    "\n",
    "# Mostrar los primeros registros para verificar\n",
    "df_melted.head(16)\n"
   ]
  },
  {
   "cell_type": "markdown",
   "metadata": {},
   "source": [
    "b) Mediante la librería Surprise, entrena un SVD con 50 epochs y CV 5. Lee la documentación (https://surprise.readthedocs.io/en/stable/index.html) ya que deben crearse los datasets específicos de Surprise para entrenar el algoritmo."
   ]
  },
  {
   "cell_type": "code",
   "execution_count": 105,
   "metadata": {},
   "outputs": [
    {
     "name": "stdout",
     "output_type": "stream",
     "text": [
      "Evaluating RMSE, MAE of algorithm SVD on 5 split(s).\n",
      "\n",
      "                  Fold 1  Fold 2  Fold 3  Fold 4  Fold 5  Mean    Std     \n",
      "RMSE (testset)    3.2007  3.2019  3.1995  3.2080  3.2072  3.2035  0.0035  \n",
      "MAE (testset)     2.7448  2.7440  2.7415  2.7488  2.7514  2.7461  0.0036  \n",
      "Fit time          11.58   12.01   11.48   12.43   11.95   11.89   0.34    \n",
      "Test time         10.87   0.64    2.11    1.04    3.75    3.68    3.75    \n"
     ]
    }
   ],
   "source": [
    "from surprise import SVD, Dataset, Reader\n",
    "from surprise.model_selection import train_test_split, cross_validate\n",
    "from surprise.accuracy import rmse\n",
    "\n",
    "\n",
    "# Creación del objeto Reader especificando la escala de calificación, en este caso de 0 a 10\n",
    "reader = Reader(rating_scale=(0, 10))\n",
    "\n",
    "# Carga del dataset desde el DataFrame de pandas\n",
    "data = Dataset.load_from_df(df_melted[['ClientID', 'MovieID', 'Rating']], reader)\n",
    "\n",
    "# Dividir los datos en conjunto de entrenamiento y de prueba\n",
    "trainset, testset = train_test_split(data, test_size=0.25)\n",
    "\n",
    "# Creación del objeto SVD\n",
    "algo = SVD(n_epochs=50)  \n",
    "algo.fit(trainset)\n",
    "\n",
    "# Ejecución de la validación cruzada con 5 particiones\n",
    "results = cross_validate(algo, data, measures=['RMSE', 'MAE'], cv=5, verbose=True)\n"
   ]
  },
  {
   "cell_type": "markdown",
   "metadata": {},
   "source": [
    "<div style=\"background-color: AliceBlue; padding: 10px;\">\n",
    "\n",
    "La baja desviación estándar en los valores de RMSE y MAE a través de las diferentes particiones indica que el modelo es consistente en su rendimiento a través de diferentes subconjuntos de datos. Pero por otra parte, los valores tanto de RMSE como de MAE son bastante altos, lo que puede indicar que el modelo podría estar enfrentando problemas para capturar adecuadamente las complejidades y patrones en los datos; o que La variabilidad en las calificaciones de los usuarios puede ser muy alta, lo que dificulta hacer predicciones precisas."
   ]
  },
  {
   "cell_type": "code",
   "execution_count": 106,
   "metadata": {},
   "outputs": [
    {
     "name": "stdout",
     "output_type": "stream",
     "text": [
      "Evaluating RMSE, MAE of algorithm SVD on 5 split(s).\n",
      "\n",
      "                  Fold 1  Fold 2  Fold 3  Fold 4  Fold 5  Mean    Std     \n",
      "RMSE (testset)    3.2087  3.2173  3.2188  3.2176  3.2170  3.2159  0.0036  \n",
      "MAE (testset)     2.7327  2.7395  2.7371  2.7385  2.7368  2.7369  0.0023  \n",
      "Fit time          10.31   8.93    9.01    9.76    8.80    9.36    0.58    \n",
      "Test time         0.80    4.32    1.18    4.63    0.68    2.32    1.77    \n"
     ]
    }
   ],
   "source": [
    "# Creación del objeto SVD con parámetros ajustados\n",
    "algo2 = SVD(n_epochs=50, lr_all=0.007, reg_all=0.01, n_factors=50)\n",
    "\n",
    "# Entrenar el algoritmo en el conjunto de entrenamiento completo\n",
    "algo2.fit(trainset)\n",
    "\n",
    "# Ejecución de la validación cruzada con 5 particiones\n",
    "results2 = cross_validate(algo2, data, measures=['RMSE', 'MAE'], cv=5, verbose=True)"
   ]
  },
  {
   "cell_type": "markdown",
   "metadata": {},
   "source": [
    "<div style=\"background-color: AliceBlue; padding: 10px;\">\n",
    "\n",
    "Después de ajustar parámetros no he logrado una mejora en el rendimiento del modelo. De hecho, tanto el RMSE como el MAE han aumentado ligeramente, lo que indica que las predicciones del modelo son menos precisas después de los ajustes. Esto podría deberse a una sobre-adaptación a ciertos aspectos del conjunto de entrenamiento o simplemente a una configuración de hiperparámetros que no es óptima para este conjunto de datos específico. Se debería seguir con la revisión de parámetros o una validación más robusta o explorar modelos alternativos."
   ]
  },
  {
   "cell_type": "markdown",
   "metadata": {},
   "source": [
    "c) Comprueba los resultados del algoritmo con el cliente “6ELSRDQ”. ¿Cuál sería la siguiente película a ver qué le recomendaría el sistema?"
   ]
  },
  {
   "cell_type": "code",
   "execution_count": 107,
   "metadata": {},
   "outputs": [
    {
     "data": {
      "text/plain": [
       "[Prediction(uid='6ELSRDQ', iid='Spider-Man: Homecoming', r_ui=5.705325488421211, est=9.844571539196611, details={'was_impossible': False}),\n",
       " Prediction(uid='6ELSRDQ', iid='Captain America: The Winter Soldier', r_ui=5.705325488421211, est=8.821848493913603, details={'was_impossible': False}),\n",
       " Prediction(uid='6ELSRDQ', iid='Black Panther', r_ui=5.705325488421211, est=7.827699381650158, details={'was_impossible': False}),\n",
       " Prediction(uid='6ELSRDQ', iid='Captain Marvel', r_ui=5.705325488421211, est=6.676382324385093, details={'was_impossible': False}),\n",
       " Prediction(uid='6ELSRDQ', iid='Captain America: Civil War', r_ui=5.705325488421211, est=6.599607533742294, details={'was_impossible': False})]"
      ]
     },
     "execution_count": 107,
     "metadata": {},
     "output_type": "execute_result"
    }
   ],
   "source": [
    "# Predecir todas las películas para el usuario \"6ELSRDQ\"\n",
    "testset = trainset.build_anti_testset()  # crea pares de usuarios-items que no tienen calificaciones\n",
    "predictions = algo.test(testset)\n",
    "\n",
    "# Filtrar predicciones para el cliente específico\n",
    "user_predictions = [pred for pred in predictions if pred.uid == '6ELSRDQ']\n",
    "\n",
    "# Ordenar las predicciones por las calificaciones estimadas más altas\n",
    "user_predictions.sort(key=lambda x: x.est, reverse=True)\n",
    "user_predictions[0:5]\n"
   ]
  },
  {
   "cell_type": "code",
   "execution_count": 108,
   "metadata": {},
   "outputs": [
    {
     "name": "stdout",
     "output_type": "stream",
     "text": [
      "La película más recomendada para el usuario '6ELSRDQ' es: Spider-Man: Homecoming\n",
      "Con una calificación estimada de: 9.84\n"
     ]
    }
   ],
   "source": [
    "if user_predictions:\n",
    "    print(f\"La película más recomendada para el usuario '6ELSRDQ' es: {user_predictions[0].iid}\")\n",
    "    print(f\"Con una calificación estimada de: {user_predictions[0].est:.2f}\")   \n",
    "else:\n",
    "    print(\"No hay recomendaciones disponibles para este usuario.\")"
   ]
  },
  {
   "cell_type": "markdown",
   "metadata": {},
   "source": [
    "d) Desde Disney, nos han comentado que disponen de la siguiente película de Marvel, Doctor Strange in the Multiverse of Madness, y la quieren regalar como primicia a 450 usuarios de la plataforma. Razona a qué usuarios recomendarías a Disney ofrecerle la película teniendo en cuenta que se priorizará a aquellos que más les guste."
   ]
  },
  {
   "cell_type": "markdown",
   "metadata": {},
   "source": [
    "<div style=\"background-color: AliceBlue; padding: 10px;\">\n",
    "\n",
    "La mejor estrategia a seguir será presentar un DataFrame donde los usuarios que más probablemente disfrutarán \"Doctor Strange in the Multiverse of Madness\" aparezcan primero. Esto se determina combinando el interés explícito de casa usuario por el personaje \"Doctor Strange\" y la calificación estimada más alta para \"Doctor Strange\" al predecir cuánto les gustará esta película específica."
   ]
  },
  {
   "cell_type": "code",
   "execution_count": 110,
   "metadata": {},
   "outputs": [
    {
     "data": {
      "text/html": [
       "<div>\n",
       "<style scoped>\n",
       "    .dataframe tbody tr th:only-of-type {\n",
       "        vertical-align: middle;\n",
       "    }\n",
       "\n",
       "    .dataframe tbody tr th {\n",
       "        vertical-align: top;\n",
       "    }\n",
       "\n",
       "    .dataframe thead th {\n",
       "        text-align: right;\n",
       "    }\n",
       "</style>\n",
       "<table border=\"1\" class=\"dataframe\">\n",
       "  <thead>\n",
       "    <tr style=\"text-align: right;\">\n",
       "      <th></th>\n",
       "      <th>ClientID</th>\n",
       "      <th>MovieID (iid)</th>\n",
       "      <th>(r_ui)</th>\n",
       "      <th>Est_Rating (est)</th>\n",
       "      <th>MarvelChar</th>\n",
       "    </tr>\n",
       "  </thead>\n",
       "  <tbody>\n",
       "    <tr>\n",
       "      <th>0</th>\n",
       "      <td>BHM1EM6</td>\n",
       "      <td>Doctor Strange</td>\n",
       "      <td>5.705325</td>\n",
       "      <td>9.931204</td>\n",
       "      <td>Doctor Strange</td>\n",
       "    </tr>\n",
       "    <tr>\n",
       "      <th>1</th>\n",
       "      <td>EIH7DIZ</td>\n",
       "      <td>Doctor Strange</td>\n",
       "      <td>5.705325</td>\n",
       "      <td>9.929628</td>\n",
       "      <td>Doctor Strange</td>\n",
       "    </tr>\n",
       "    <tr>\n",
       "      <th>2</th>\n",
       "      <td>GZDZQMI</td>\n",
       "      <td>Doctor Strange</td>\n",
       "      <td>5.705325</td>\n",
       "      <td>9.928918</td>\n",
       "      <td>Doctor Strange</td>\n",
       "    </tr>\n",
       "    <tr>\n",
       "      <th>3</th>\n",
       "      <td>5VMMVP3</td>\n",
       "      <td>Doctor Strange</td>\n",
       "      <td>5.705325</td>\n",
       "      <td>9.928742</td>\n",
       "      <td>Doctor Strange</td>\n",
       "    </tr>\n",
       "    <tr>\n",
       "      <th>4</th>\n",
       "      <td>DNELGK9</td>\n",
       "      <td>Doctor Strange</td>\n",
       "      <td>5.705325</td>\n",
       "      <td>9.922662</td>\n",
       "      <td>Doctor Strange</td>\n",
       "    </tr>\n",
       "    <tr>\n",
       "      <th>...</th>\n",
       "      <td>...</td>\n",
       "      <td>...</td>\n",
       "      <td>...</td>\n",
       "      <td>...</td>\n",
       "      <td>...</td>\n",
       "    </tr>\n",
       "    <tr>\n",
       "      <th>81</th>\n",
       "      <td>XQCAWIV</td>\n",
       "      <td>Doctor Strange</td>\n",
       "      <td>5.705325</td>\n",
       "      <td>9.718538</td>\n",
       "      <td>Doctor Strange</td>\n",
       "    </tr>\n",
       "    <tr>\n",
       "      <th>82</th>\n",
       "      <td>Y8WRKTU</td>\n",
       "      <td>Doctor Strange</td>\n",
       "      <td>5.705325</td>\n",
       "      <td>9.715759</td>\n",
       "      <td>Doctor Strange</td>\n",
       "    </tr>\n",
       "    <tr>\n",
       "      <th>83</th>\n",
       "      <td>SJMHY3V</td>\n",
       "      <td>Doctor Strange</td>\n",
       "      <td>5.705325</td>\n",
       "      <td>9.701047</td>\n",
       "      <td>Doctor Strange</td>\n",
       "    </tr>\n",
       "    <tr>\n",
       "      <th>84</th>\n",
       "      <td>RLVDZRZ</td>\n",
       "      <td>Doctor Strange</td>\n",
       "      <td>5.705325</td>\n",
       "      <td>9.690519</td>\n",
       "      <td>Doctor Strange</td>\n",
       "    </tr>\n",
       "    <tr>\n",
       "      <th>85</th>\n",
       "      <td>WNUIY36</td>\n",
       "      <td>Doctor Strange</td>\n",
       "      <td>5.705325</td>\n",
       "      <td>10.000000</td>\n",
       "      <td>Iron Man</td>\n",
       "    </tr>\n",
       "  </tbody>\n",
       "</table>\n",
       "<p>86 rows × 5 columns</p>\n",
       "</div>"
      ],
      "text/plain": [
       "   ClientID   MovieID (iid)    (r_ui)  Est_Rating (est)      MarvelChar\n",
       "0   BHM1EM6  Doctor Strange  5.705325          9.931204  Doctor Strange\n",
       "1   EIH7DIZ  Doctor Strange  5.705325          9.929628  Doctor Strange\n",
       "2   GZDZQMI  Doctor Strange  5.705325          9.928918  Doctor Strange\n",
       "3   5VMMVP3  Doctor Strange  5.705325          9.928742  Doctor Strange\n",
       "4   DNELGK9  Doctor Strange  5.705325          9.922662  Doctor Strange\n",
       "..      ...             ...       ...               ...             ...\n",
       "81  XQCAWIV  Doctor Strange  5.705325          9.718538  Doctor Strange\n",
       "82  Y8WRKTU  Doctor Strange  5.705325          9.715759  Doctor Strange\n",
       "83  SJMHY3V  Doctor Strange  5.705325          9.701047  Doctor Strange\n",
       "84  RLVDZRZ  Doctor Strange  5.705325          9.690519  Doctor Strange\n",
       "85  WNUIY36  Doctor Strange  5.705325         10.000000        Iron Man\n",
       "\n",
       "[86 rows x 5 columns]"
      ]
     },
     "execution_count": 110,
     "metadata": {},
     "output_type": "execute_result"
    }
   ],
   "source": [
    "# predictions es la lista de objetos Prediction\n",
    "all_pred_df = pd.DataFrame([(pred.uid, pred.iid, pred.r_ui, pred.est) for pred in predictions],\n",
    "                            columns=['ClientID', 'MovieID (iid)', '(r_ui)', 'Est_Rating (est)'])\n",
    "\n",
    "# Obtener las predicciones donde la película es \"Doctor Strange in the Multiverse of Madness\"\n",
    "strange_pred_df = all_pred_df[all_pred_df['MovieID (iid)'] == 'Doctor Strange'] \n",
    "\n",
    "# Filtrar para obtener las mayores calificaciones estimadas para esta película\n",
    "strange_pred_df = strange_pred_df.sort_values(by='Est_Rating (est)', ascending=False)\n",
    "top_strange_preds = strange_pred_df.drop_duplicates(subset='ClientID').head(450)\n",
    "\n",
    "# Filtrar df_melted para obtener solo las columnas necesarias\n",
    "marvel_char_df = df_melted[['ClientID', 'MarvelChar']].drop_duplicates()\n",
    "top_strange_preds = top_strange_preds.merge(marvel_char_df, on='ClientID', how='left')\n",
    "\n",
    "# Ordenar top_strange_preds de modo que Doctor Strange aparezca primero\n",
    "top_strange_preds['MarvelChar_priority'] = top_strange_preds['MarvelChar'].apply(lambda x: 0 if x == 'Doctor Strange' else 1)\n",
    "top_strange_preds.sort_values(by=['MarvelChar_priority', 'Est_Rating (est)'], ascending=[True, False], inplace=True)\n",
    "\n",
    "# Eliminar la columna auxiliar después de ordenar\n",
    "top_strange_preds.drop('MarvelChar_priority', axis=1, inplace=True)\n",
    "\n",
    "# reseteo index\n",
    "top_strange_preds.reset_index(drop=True, inplace=True)\n",
    "\n",
    "# Mostrar el DataFrame ordenado\n",
    "top_strange_preds = top_strange_preds.head(450)\n",
    "\n",
    "# hasta el cliente 86 MarvelChar == Doctor Strange\n",
    "top_strange_preds.head(86)"
   ]
  },
  {
   "cell_type": "code",
   "execution_count": 111,
   "metadata": {},
   "outputs": [
    {
     "data": {
      "text/html": [
       "<div>\n",
       "<style scoped>\n",
       "    .dataframe tbody tr th:only-of-type {\n",
       "        vertical-align: middle;\n",
       "    }\n",
       "\n",
       "    .dataframe tbody tr th {\n",
       "        vertical-align: top;\n",
       "    }\n",
       "\n",
       "    .dataframe thead th {\n",
       "        text-align: right;\n",
       "    }\n",
       "</style>\n",
       "<table border=\"1\" class=\"dataframe\">\n",
       "  <thead>\n",
       "    <tr style=\"text-align: right;\">\n",
       "      <th></th>\n",
       "      <th>ClientID</th>\n",
       "      <th>MovieID (iid)</th>\n",
       "      <th>(r_ui)</th>\n",
       "      <th>Est_Rating (est)</th>\n",
       "      <th>MarvelChar</th>\n",
       "    </tr>\n",
       "  </thead>\n",
       "  <tbody>\n",
       "    <tr>\n",
       "      <th>0</th>\n",
       "      <td>BHM1EM6</td>\n",
       "      <td>Doctor Strange</td>\n",
       "      <td>5.705325</td>\n",
       "      <td>9.931204</td>\n",
       "      <td>Doctor Strange</td>\n",
       "    </tr>\n",
       "    <tr>\n",
       "      <th>1</th>\n",
       "      <td>EIH7DIZ</td>\n",
       "      <td>Doctor Strange</td>\n",
       "      <td>5.705325</td>\n",
       "      <td>9.929628</td>\n",
       "      <td>Doctor Strange</td>\n",
       "    </tr>\n",
       "    <tr>\n",
       "      <th>2</th>\n",
       "      <td>GZDZQMI</td>\n",
       "      <td>Doctor Strange</td>\n",
       "      <td>5.705325</td>\n",
       "      <td>9.928918</td>\n",
       "      <td>Doctor Strange</td>\n",
       "    </tr>\n",
       "    <tr>\n",
       "      <th>3</th>\n",
       "      <td>5VMMVP3</td>\n",
       "      <td>Doctor Strange</td>\n",
       "      <td>5.705325</td>\n",
       "      <td>9.928742</td>\n",
       "      <td>Doctor Strange</td>\n",
       "    </tr>\n",
       "    <tr>\n",
       "      <th>4</th>\n",
       "      <td>DNELGK9</td>\n",
       "      <td>Doctor Strange</td>\n",
       "      <td>5.705325</td>\n",
       "      <td>9.922662</td>\n",
       "      <td>Doctor Strange</td>\n",
       "    </tr>\n",
       "    <tr>\n",
       "      <th>...</th>\n",
       "      <td>...</td>\n",
       "      <td>...</td>\n",
       "      <td>...</td>\n",
       "      <td>...</td>\n",
       "      <td>...</td>\n",
       "    </tr>\n",
       "    <tr>\n",
       "      <th>445</th>\n",
       "      <td>733UPQE</td>\n",
       "      <td>Doctor Strange</td>\n",
       "      <td>5.705325</td>\n",
       "      <td>9.035163</td>\n",
       "      <td>Groot</td>\n",
       "    </tr>\n",
       "    <tr>\n",
       "      <th>446</th>\n",
       "      <td>GDOXI67</td>\n",
       "      <td>Doctor Strange</td>\n",
       "      <td>5.705325</td>\n",
       "      <td>9.021571</td>\n",
       "      <td>Iron Man</td>\n",
       "    </tr>\n",
       "    <tr>\n",
       "      <th>447</th>\n",
       "      <td>NBNX4SW</td>\n",
       "      <td>Doctor Strange</td>\n",
       "      <td>5.705325</td>\n",
       "      <td>9.014415</td>\n",
       "      <td>Black Widow</td>\n",
       "    </tr>\n",
       "    <tr>\n",
       "      <th>448</th>\n",
       "      <td>VE64VJQ</td>\n",
       "      <td>Doctor Strange</td>\n",
       "      <td>5.705325</td>\n",
       "      <td>9.007720</td>\n",
       "      <td>Iron Man</td>\n",
       "    </tr>\n",
       "    <tr>\n",
       "      <th>449</th>\n",
       "      <td>PWNHMQ8</td>\n",
       "      <td>Doctor Strange</td>\n",
       "      <td>5.705325</td>\n",
       "      <td>9.005636</td>\n",
       "      <td>Groot</td>\n",
       "    </tr>\n",
       "  </tbody>\n",
       "</table>\n",
       "<p>450 rows × 5 columns</p>\n",
       "</div>"
      ],
      "text/plain": [
       "    ClientID   MovieID (iid)    (r_ui)  Est_Rating (est)      MarvelChar\n",
       "0    BHM1EM6  Doctor Strange  5.705325          9.931204  Doctor Strange\n",
       "1    EIH7DIZ  Doctor Strange  5.705325          9.929628  Doctor Strange\n",
       "2    GZDZQMI  Doctor Strange  5.705325          9.928918  Doctor Strange\n",
       "3    5VMMVP3  Doctor Strange  5.705325          9.928742  Doctor Strange\n",
       "4    DNELGK9  Doctor Strange  5.705325          9.922662  Doctor Strange\n",
       "..       ...             ...       ...               ...             ...\n",
       "445  733UPQE  Doctor Strange  5.705325          9.035163           Groot\n",
       "446  GDOXI67  Doctor Strange  5.705325          9.021571        Iron Man\n",
       "447  NBNX4SW  Doctor Strange  5.705325          9.014415     Black Widow\n",
       "448  VE64VJQ  Doctor Strange  5.705325          9.007720        Iron Man\n",
       "449  PWNHMQ8  Doctor Strange  5.705325          9.005636           Groot\n",
       "\n",
       "[450 rows x 5 columns]"
      ]
     },
     "execution_count": 111,
     "metadata": {},
     "output_type": "execute_result"
    }
   ],
   "source": [
    "# 450 clientes ordenados\n",
    "top_strange_preds"
   ]
  },
  {
   "cell_type": "markdown",
   "metadata": {},
   "source": [
    "<div style=\"background-color: AliceBlue; padding: 10px;\">\n",
    "\n",
    "Se utilizó un modelo de recomendación SVD (Descomposición de Valores Singulares), para predecir las calificaciones que los usuarios darían a la película \"Doctor Strange\". La columna Est_Rating refleja estas calificaciones estimadas ordenadas de forma decreciente hasta 450 que son los usuarios a los que hay que regalar la siguiente pelicula. Este enfoque asegura que estamos recomendando la película a usuarios que, según el modelo, tienen una alta probabilidad de disfrutarla y por ende que pueden disfrutar de la siguiente de la propia saga.  \n",
    "\n",
    "Además, la columna MarvelChar indica el personaje favorito de Marvel para cada usuario anterior. Hemos priorizado a los usuarios cuyo personaje favorito es \"Doctor Strange\", lo cual es lógico, ya que es más probable que estos usuarios disfruten de una película centrada en su personaje favorito.\n",
    "\n",
    "Se ha ordenado el DataFrame para que los usuarios que más probablemente disfrutarán \"Doctor Strange in the Multiverse of Madness\" aparezcan primero. Esto se determina combinando su interés explícito en el personaje (a través de MarvelChar) y la calificación estimada alta (columna Est_Rating), que predice cuánto les gustará esta película específica.\n"
   ]
  },
  {
   "cell_type": "markdown",
   "metadata": {},
   "source": [
    "**Referencias**"
   ]
  },
  {
   "cell_type": "markdown",
   "metadata": {},
   "source": [
    "<div style=\"background-color: AliceBlue; padding: 10px;\">\n",
    "\n",
    "[1]\t«Apriori Algorithm», GeeksforGeeks. Accedido: 1 de mayo de 2024. [En línea]. Disponible en: https://www.geeksforgeeks.org/apriori-algorithm/\n",
    "\n",
    "[2]\t«Discovering Patterns with the Apriori Algorithm - Speak Data Science». Accedido: 1 de mayo de 2024. [En línea]. Disponible en: https://speakdatascience.com/apriori-algorithm/\n",
    "\n",
    "[3]\tZ. Yu y D. Li, «A AprioriAll Sequence Mining Algorithm Based on Learner Behavior», en Intelligent Computing Theories and Application, D.-S. Huang, K.-H. Jo, y X.-L. Zhang, Eds., Cham: Springer International Publishing, 2018, pp. 560-569. doi: 10.1007/978-3-319-95933-7_65.\n",
    "\n",
    "[4]\t«A systematic literature review on educational recommender systems for teaching and learning: research trends, limitations and opportunities | Education and Information Technologies». Accedido: 2 de mayo de 2024. [En línea]. Disponible en: https://link.springer.com/article/10.1007/s10639-022-11341-9\n",
    "\n",
    "[5]\t«A systematic review and research perspective on recommender systems | Journal of Big Data | Full Text». Accedido: 2 de mayo de 2024. [En línea]. Disponible en: https://journalofbigdata.springeropen.com/articles/10.1186/s40537-022-00592-5\n",
    "\n",
    "[6]\tC. Borgelt, «Efﬁcient Implementations of Apriori and Eclat».\n",
    "\n",
    "[7]\tM. S. Krishnan, A. S. Nair, y J. Sebastian, «Comparative Analysis of Apriori and ECLAT Algorithm for Frequent Itemset Data Mining», en Ubiquitous Intelligent Systems, P. Karuppusamy, I. Perikos, y F. P. García Márquez, Eds., Singapore: Springer, 2022, pp. 489-497. doi: 10.1007/978-981-16-3675-2_37."
   ]
  },
  {
   "cell_type": "markdown",
   "metadata": {},
   "source": []
  }
 ],
 "metadata": {
  "kernelspec": {
   "display_name": "env_ML",
   "language": "python",
   "name": "python3"
  },
  "language_info": {
   "codemirror_mode": {
    "name": "ipython",
    "version": 3
   },
   "file_extension": ".py",
   "mimetype": "text/x-python",
   "name": "python",
   "nbconvert_exporter": "python",
   "pygments_lexer": "ipython3",
   "version": "3.9.19"
  }
 },
 "nbformat": 4,
 "nbformat_minor": 2
}
